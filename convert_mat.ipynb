{
 "cells": [
  {
   "cell_type": "code",
   "execution_count": 5,
   "id": "e400ffc6-67e6-4451-b4f3-7926f155a908",
   "metadata": {
    "tags": []
   },
   "outputs": [
    {
     "name": "stdout",
     "output_type": "stream",
     "text": [
      "Number of fields: 8\n",
      "Sizes of each field:\n",
      "__header__: 106 bytes\n",
      "__version__: 52 bytes\n",
      "__globals__: 56 bytes\n",
      "pred: 144 bytes\n",
      "data: 144 bytes\n",
      "p_max: 128 bytes\n",
      "sampleID: 128 bytes\n",
      "metadata: 128 bytes\n"
     ]
    }
   ],
   "source": [
    "import scipy.io\n",
    "import sys\n",
    "\n",
    "# Load the .mat file\n",
    "data = scipy.io.loadmat('save_data_AVG.mat')\n",
    "\n",
    "# Get the field names (keys of the dictionary)\n",
    "fields = data.keys()\n",
    "\n",
    "# Determine the number of fields\n",
    "num_fields = len(fields)\n",
    "\n",
    "# Display the number of fields\n",
    "print(f'Number of fields: {num_fields}')\n",
    "\n",
    "print('Sizes of each field:')\n",
    "for key, value in data.items():\n",
    "    size_bytes = sys.getsizeof(value)\n",
    "    print(f'{key}: {size_bytes} bytes')"
   ]
  },
  {
   "cell_type": "code",
   "execution_count": null,
   "id": "1430c1f4-d227-42ec-ac92-43d8f690a0a5",
   "metadata": {},
   "outputs": [],
   "source": []
  }
 ],
 "metadata": {
  "kernelspec": {
   "display_name": "Python 3 (ipykernel)",
   "language": "python",
   "name": "python3"
  },
  "language_info": {
   "codemirror_mode": {
    "name": "ipython",
    "version": 3
   },
   "file_extension": ".py",
   "mimetype": "text/x-python",
   "name": "python",
   "nbconvert_exporter": "python",
   "pygments_lexer": "ipython3",
   "version": "3.10.9"
  }
 },
 "nbformat": 4,
 "nbformat_minor": 5
}
