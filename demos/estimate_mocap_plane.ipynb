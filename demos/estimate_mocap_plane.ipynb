{
 "cells": [
  {
   "cell_type": "code",
   "execution_count": 1,
   "metadata": {},
   "outputs": [
    {
     "name": "stdout",
     "output_type": "stream",
     "text": [
      "kp_data shape (3600, 102)\n",
      "feetpts\n",
      "[[0.07909218 0.02146954 0.37473813]\n",
      " [0.10951491 0.023065   0.36979905]\n",
      " [0.07752494 0.01065001 0.44042069]\n",
      " [0.052271   0.01526332 0.41534567]]\n"
     ]
    }
   ],
   "source": [
    "%load_ext autoreload\n",
    "%autoreload 2\n",
    "\n",
    "import stac_mjx \n",
    "from pathlib import Path\n",
    "\n",
    "import numpy as np\n",
    "        \n",
    "# Choose parent directory as base path to make relative pathing easier \n",
    "base_path = Path.cwd().parent\n",
    "stac_config_path = base_path / \"configs/stac_mouse.yaml\"\n",
    "model_config_path = base_path / \"configs/mouse.yaml\"\n",
    "\n",
    "stac_cfg, model_cfg = stac_mjx.load_configs(stac_config_path, model_config_path)\n",
    "\n",
    "data_path = base_path / stac_cfg.data_path\n",
    "kp_data, sorted_kp_names = stac_mjx.load_data(data_path, model_cfg)\n",
    "print(\"kp_data shape\", kp_data.shape)\n",
    "\n",
    "def get_feet_pts(kp_data, frame):\n",
    "    feet = [\"Forepaw_R\", \"Forepaw_L\", \"Lisfranc_L\", \"Lisfranc_R\"]\n",
    "    feetPts = np.empty((0,3))\n",
    "\n",
    "    for foot in feet:\n",
    "        idx = 3*sorted_kp_names.index(foot)\n",
    "        #print(\"Foot:\", foot)\n",
    "        #print(\"idx: \", idx)\n",
    "        \n",
    "        #print(kp_data[frame, idx:idx+3])\n",
    "        feetPts = np.append(feetPts, [kp_data[frame, idx:idx+3]], axis = 0)\n",
    "\n",
    "    return feetPts\n",
    "\n",
    "feetpts = get_feet_pts(kp_data, 1)\n",
    "print(\"feetpts\")\n",
    "print(feetpts)"
   ]
  },
  {
   "cell_type": "code",
   "execution_count": 2,
   "metadata": {},
   "outputs": [
    {
     "name": "stdout",
     "output_type": "stream",
     "text": [
      "[ 0.02545142 -0.98648051 -0.16189018]\n"
     ]
    }
   ],
   "source": [
    "\n",
    "def plane_normal_and_height(points):\n",
    "    \"\"\"\n",
    "    Calculate the normal vector and the height of the plane at the barycenter.\n",
    "\n",
    "    Parameters:\n",
    "    points (numpy.ndarray): A (4, 3) array where each row is a 3D point.\n",
    "\n",
    "    Returns:\n",
    "    normal (numpy.ndarray): The normal vector of the plane.\n",
    "    height (float): The height of the plane at the barycenter.\n",
    "    barycenter (numpy.ndarray): The barycenter of the four points.\n",
    "    \"\"\"\n",
    "    assert points.shape == (4, 3), \"Input must be a (4, 3) array representing four 3D points.\"\n",
    "\n",
    "    # Calculate vectors from point 0 to point 1 and point 0 to point 2\n",
    "    v1 = points[1] - points[0]\n",
    "    v2 = points[2] - points[0]\n",
    "\n",
    "    # Calculate the normal vector using the cross product\n",
    "    normal = np.cross(v1, v2)\n",
    "    normal = normal / np.linalg.norm(normal)  # Normalize the normal vector\n",
    "\n",
    "    # Calculate the barycenter (centroid) of the four points\n",
    "    barycenter = np.mean(points, axis=0)\n",
    "\n",
    "    # Calculate the height of the plane at the barycenter\n",
    "    # Height is the distance from the origin to the plane along the normal vector\n",
    "    # The plane equation is: normal.dot(x) = d\n",
    "    # where x is any point on the plane\n",
    "    d = np.dot(normal, points[0])\n",
    "    height = np.dot(normal, barycenter) - d\n",
    "\n",
    "    return normal, height, barycenter\n",
    "\n",
    "norm0, _, _ = plane_normal_and_height(feetpts) \n",
    "print(norm0)\n",
    "\n"
   ]
  },
  {
   "cell_type": "code",
   "execution_count": 3,
   "metadata": {},
   "outputs": [
    {
     "name": "stdout",
     "output_type": "stream",
     "text": [
      "avg normal:  [ 0.00385561 -0.96136723 -0.16659539]\n"
     ]
    }
   ],
   "source": [
    "num_frames = kp_data.shape[0]\n",
    "normals = np.zeros((num_frames, 3))\n",
    "\n",
    "for i in range(num_frames):\n",
    "    feetPts = get_feet_pts(kp_data, i)\n",
    "    normal, _, _ = plane_normal_and_height(feetPts)\n",
    "    normals[i] = normal\n",
    "\n",
    "average_normal = np.mean(normals, axis=0)\n",
    "print(\"avg normal: \", average_normal)"
   ]
  },
  {
   "cell_type": "code",
   "execution_count": 4,
   "metadata": {},
   "outputs": [
    {
     "name": "stdout",
     "output_type": "stream",
     "text": [
      "normal: [-0.14091238 -0.85242854 -0.50349705]\n"
     ]
    }
   ],
   "source": [
    "def rotate_normal_to_z(normal):\n",
    "    \"\"\"\n",
    "    Rotate a normal vector to align with the z-axis.\n",
    "    \n",
    "    Parameters:\n",
    "    normal (numpy.ndarray): A 3D normal vector.\n",
    "    \n",
    "    Returns:\n",
    "    rotation_matrix (numpy.ndarray): The 3x3 rotation matrix that aligns the normal to the z-axis.\n",
    "    \"\"\"\n",
    "    # Normalize the normal vector\n",
    "    normal = normal / np.linalg.norm(normal)\n",
    "    \n",
    "    # Target vector (z-axis)\n",
    "    z_axis = np.array([0, 0, 1])\n",
    "    \n",
    "    # Calculate the rotation axis (cross product)\n",
    "    axis = np.cross(normal, z_axis)\n",
    "    \n",
    "    # Calculate the angle between the normal and the z-axis\n",
    "    angle = np.arccos(np.dot(normal, z_axis))\n",
    "    \n",
    "    # Special case: if the normal is already aligned with the z-axis\n",
    "    if np.allclose(angle, 0):\n",
    "        return np.eye(3)\n",
    "    \n",
    "    # Skew-symmetric matrix for the rotation axis\n",
    "    K = np.array([[0, -axis[2], axis[1]],\n",
    "                  [axis[2], 0, -axis[0]],\n",
    "                  [-axis[1], axis[0], 0]])\n",
    "    \n",
    "    # Rodrigues' rotation formula\n",
    "    rotation_matrix = np.eye(3) + np.sin(angle) * K + (1 - np.cos(angle)) * np.dot(K, K)\n",
    "    \n",
    "    return rotation_matrix\n",
    "\n",
    "def plane_normal_from_points(points):\n",
    "    \"\"\"\n",
    "    Calculate the normal vector of the plane defined by four points.\n",
    "    \n",
    "    Parameters:\n",
    "    points (numpy.ndarray): A (4, 3) array where each row is a 3D point.\n",
    "    \n",
    "    Returns:\n",
    "    normal (numpy.ndarray): The normal vector of the plane.\n",
    "    \"\"\"\n",
    "    v1 = points[1] - points[0]\n",
    "    v2 = points[2] - points[0]\n",
    "    normal = np.cross(v1, v2)\n",
    "    normal = normal / np.linalg.norm(normal)  # Normalize the normal vector\n",
    "    return normal\n",
    "\n",
    "def rotate_points(points, rotation_matrix):\n",
    "    \"\"\"\n",
    "    Rotate a set of points using the given rotation matrix.\n",
    "    \n",
    "    Parameters:\n",
    "    points (numpy.ndarray): A 2D array of shape (num_frames, num_points * 3).\n",
    "    rotation_matrix (numpy.ndarray): A 3x3 rotation matrix.\n",
    "    \n",
    "    Returns:\n",
    "    rotated_points (numpy.ndarray): The rotated points of shape (num_frames, num_points * 3).\n",
    "    \"\"\"\n",
    "    num_frames, num_points_3 = points.shape\n",
    "    num_points = num_points_3 // 3\n",
    "    \n",
    "    # Reshape to (num_frames, num_points, 3)\n",
    "    points_reshaped = points.reshape(num_frames, num_points, 3)\n",
    "    \n",
    "    # Rotate each point\n",
    "    rotated_points_reshaped = np.dot(points_reshaped, rotation_matrix.T)\n",
    "    \n",
    "    # Reshape back to (num_frames, num_points * 3)\n",
    "    rotated_points = rotated_points_reshaped.reshape(num_frames, num_points_3)\n",
    "    \n",
    "    return rotated_points\n",
    "\n",
    "normal = plane_normal_from_points(feetPts)\n",
    "print(\"normal:\", normal)\n",
    "\n",
    "# Calculate the rotation matrix to align the normal vector with the z-axis\n",
    "rotation_matrix = rotate_normal_to_z(normal)\n",
    "\n",
    "rotated_points = rotate_points(kp_data, rotation_matrix)"
   ]
  }
 ],
 "metadata": {
  "kernelspec": {
   "display_name": "stac-mjx-env",
   "language": "python",
   "name": "python3"
  },
  "language_info": {
   "codemirror_mode": {
    "name": "ipython",
    "version": 3
   },
   "file_extension": ".py",
   "mimetype": "text/x-python",
   "name": "python",
   "nbconvert_exporter": "python",
   "pygments_lexer": "ipython3",
   "version": "3.11.10"
  }
 },
 "nbformat": 4,
 "nbformat_minor": 2
}
