{
 "cells": [
  {
   "cell_type": "code",
   "execution_count": 4,
   "metadata": {},
   "outputs": [
    {
     "name": "stdout",
     "output_type": "stream",
     "text": [
      "The autoreload extension is already loaded. To reload it, use:\n",
      "  %reload_ext autoreload\n"
     ]
    }
   ],
   "source": [
    "%load_ext autoreload\n",
    "%autoreload 2\n",
    "\n",
    "from stac_mjx import main\n",
    "from stac_mjx import utils\n",
    "from pathlib import Path\n",
    "from jax.lib import xla_bridge\n",
    "import os\n",
    "\n",
    "# XLA flags for Nvidia GPU\n",
    "if xla_bridge.get_backend().platform == \"gpu\":\n",
    "    os.environ[\"XLA_FLAGS\"] = (\n",
    "        \"--xla_gpu_enable_triton_softmax_fusion=true \"\n",
    "        \"--xla_gpu_triton_gemm_any=True \"\n",
    "    )\n",
    "        \n",
    "# Choose parent directory as base path to make relative pathing easier \n",
    "base_path = Path.cwd().parent\n",
    "stac_config_path = base_path / \"demos/demo_stac.yaml\"\n",
    "model_config_path = base_path / \"configs/rodent.yaml\"\n"
   ]
  },
  {
   "cell_type": "markdown",
   "metadata": {},
   "source": [
    "### Load configs"
   ]
  },
  {
   "cell_type": "code",
   "execution_count": 5,
   "metadata": {},
   "outputs": [],
   "source": [
    "stac_cfg, model_cfg = main.load_configs(stac_config_path, model_config_path)"
   ]
  },
  {
   "cell_type": "markdown",
   "metadata": {},
   "source": [
    "### Prepare your data"
   ]
  },
  {
   "cell_type": "code",
   "execution_count": 6,
   "metadata": {},
   "outputs": [],
   "source": [
    "data_path = base_path / stac_cfg.data_path \n",
    "kp_data, sorted_kp_names = utils.load_data(data_path, model_cfg)"
   ]
  },
  {
   "cell_type": "markdown",
   "metadata": {},
   "source": [
    "### Run stac"
   ]
  },
  {
   "cell_type": "code",
   "execution_count": 7,
   "metadata": {},
   "outputs": [
    {
     "name": "stdout",
     "output_type": "stream",
     "text": [
      "Root Optimization:\n"
     ]
    },
    {
     "name": "stderr",
     "output_type": "stream",
     "text": [
      "2024-08-20 13:24:11.245062: E external/xla/xla/service/slow_operation_alarm.cc:65] \n",
      "********************************\n",
      "[Compiling module jit_q_opt] Very slow compile? If you want to file a bug, run with envvar XLA_FLAGS=--xla_dump_to=/tmp/foo and attach the results.\n",
      "********************************\n",
      "2024-08-20 13:31:01.391831: E external/xla/xla/service/slow_operation_alarm.cc:133] The operation took 8m50.151402s\n",
      "\n",
      "********************************\n",
      "[Compiling module jit_q_opt] Very slow compile? If you want to file a bug, run with envvar XLA_FLAGS=--xla_dump_to=/tmp/foo and attach the results.\n",
      "********************************\n"
     ]
    },
    {
     "name": "stdout",
     "output_type": "stream",
     "text": [
      "q_opt 1 finished in 589.0130879878998 with an error of 0.0009418877307325602\n",
      "Replace 1 finished in 47.6813850402832\n",
      "starting q_opt 2\n",
      "q_opt 1 finished in 0.008651971817016602 with an error of 0.00043054044363088906\n",
      "Replace 2 finished in 0.0010440349578857422\n",
      "Root optimization finished in 636.8033821582794\n",
      "Calibration iteration: 1/6\n",
      "Pose Optimization:\n",
      "Pose Optimization done in 0.39106202125549316\n",
      "Frame 1 done in 0.08550477027893066 with a final error of 0.00022027861268725246\n",
      "Frame 2 done in 0.028560161590576172 with a final error of 0.00020399077038746327\n",
      "Frame 3 done in 0.028565168380737305 with a final error of 0.00017977676179725677\n",
      "Frame 4 done in 0.03084397315979004 with a final error of 0.00016065427917055786\n",
      "Frame 5 done in 0.03477811813354492 with a final error of 0.00014390808064490557\n",
      "Frame 6 done in 0.028649330139160156 with a final error of 0.00013152378960512578\n",
      "Frame 7 done in 0.02843785285949707 with a final error of 0.00011810470459749922\n",
      "Frame 8 done in 0.028319120407104492 with a final error of 0.00010878008470172063\n",
      "Frame 9 done in 0.02884197235107422 with a final error of 6.461488374043256e-05\n",
      "Frame 10 done in 0.0326840877532959 with a final error of 5.360987415770069e-05\n",
      "Flattened array shape: (10,)\n",
      "Mean: 0.00013852420670446008\n",
      "Standard deviation: 5.216690624365583e-05\n",
      "starting offset optimization\n",
      "Begining offset optimization:\n"
     ]
    },
    {
     "name": "stderr",
     "output_type": "stream",
     "text": [
      "/Users/charleszhang/miniforge3/envs/stac-mjx/lib/python3.11/site-packages/jaxopt/_src/optax_wrapper.py:120: DeprecationWarning: jax.tree_map is deprecated: use jax.tree.map (jax v0.4.25 or newer) or jax.tree_util.tree_map (any JAX version).\n",
      "  return jax.tree_map(update_fun, params, updates)\n",
      "2024-08-20 13:35:03.766092: E external/xla/xla/service/slow_operation_alarm.cc:133] The operation took 2m47.214109s\n",
      "\n",
      "********************************\n",
      "[Compiling module jit_m_opt] Very slow compile? If you want to file a bug, run with envvar XLA_FLAGS=--xla_dump_to=/tmp/foo and attach the results.\n",
      "********************************\n"
     ]
    },
    {
     "name": "stdout",
     "output_type": "stream",
     "text": [
      "Final error of 0.0008226351346820593\n",
      "offset optimization finished in 193.51742315292358\n",
      "Calibration iteration: 2/6\n",
      "Pose Optimization:\n",
      "Pose Optimization done in 0.3176112174987793\n",
      "Frame 1 done in 0.039051055908203125 with a final error of 9.950976163963787e-06\n",
      "Frame 2 done in 0.03464007377624512 with a final error of 2.2347147023538128e-05\n",
      "Frame 3 done in 0.03115391731262207 with a final error of 1.9162021999363787e-05\n",
      "Frame 4 done in 0.029549121856689453 with a final error of 1.1733411156455986e-05\n",
      "Frame 5 done in 0.02749180793762207 with a final error of 2.1702069716411643e-05\n",
      "Frame 6 done in 0.03031611442565918 with a final error of 1.2554182831081562e-05\n",
      "Frame 7 done in 0.03376603126525879 with a final error of 1.670429810474161e-05\n",
      "Frame 8 done in 0.03285789489746094 with a final error of 7.20546995580662e-06\n",
      "Frame 9 done in 0.02910590171813965 with a final error of 5.412603513832437e-06\n",
      "Frame 10 done in 0.028966903686523438 with a final error of 5.62197192266467e-06\n",
      "Flattened array shape: (10,)\n",
      "Mean: 1.3239415238786023e-05\n",
      "Standard deviation: 6.090109309297986e-06\n",
      "starting offset optimization\n",
      "Begining offset optimization:\n",
      "Final error of 0.0007336745620705187\n",
      "offset optimization finished in 0.019212961196899414\n",
      "Calibration iteration: 3/6\n",
      "Pose Optimization:\n",
      "Pose Optimization done in 0.27241086959838867\n",
      "Frame 1 done in 0.02808690071105957 with a final error of 1.2003238225588575e-05\n",
      "Frame 2 done in 0.026419878005981445 with a final error of 1.5329676898545586e-05\n",
      "Frame 3 done in 0.026731014251708984 with a final error of 1.7489759557065554e-05\n",
      "Frame 4 done in 0.026716232299804688 with a final error of 1.1175976396771148e-05\n",
      "Frame 5 done in 0.026245832443237305 with a final error of 6.826944172644289e-06\n",
      "Frame 6 done in 0.0261538028717041 with a final error of 1.2216079085192177e-05\n",
      "Frame 7 done in 0.027312278747558594 with a final error of 7.69398502598051e-06\n",
      "Frame 8 done in 0.028258800506591797 with a final error of 7.301574896700913e-06\n",
      "Frame 9 done in 0.0270841121673584 with a final error of 5.6014955589489546e-06\n",
      "Frame 10 done in 0.02922797203063965 with a final error of 2.7267342375125736e-05\n",
      "Flattened array shape: (10,)\n",
      "Mean: 1.229060762852896e-05\n",
      "Standard deviation: 6.18478361502639e-06\n",
      "starting offset optimization\n",
      "Begining offset optimization:\n",
      "Final error of 0.0007421364425681531\n",
      "offset optimization finished in 0.020312070846557617\n",
      "Calibration iteration: 4/6\n",
      "Pose Optimization:\n",
      "Pose Optimization done in 0.3605532646179199\n",
      "Frame 1 done in 0.11366391181945801 with a final error of 1.4676579667138867e-05\n",
      "Frame 2 done in 0.03412485122680664 with a final error of 1.7831021978054196e-05\n",
      "Frame 3 done in 0.029430866241455078 with a final error of 1.9428118321229704e-05\n",
      "Frame 4 done in 0.030755043029785156 with a final error of 1.1141441973450128e-05\n",
      "Frame 5 done in 0.030556917190551758 with a final error of 6.7630180637934245e-06\n",
      "Frame 6 done in 0.029379844665527344 with a final error of 1.4292521882453002e-05\n",
      "Frame 7 done in 0.027543067932128906 with a final error of 8.748699656280223e-06\n",
      "Frame 8 done in 0.027652978897094727 with a final error of 4.2341243897681125e-06\n",
      "Frame 9 done in 0.009495019912719727 with a final error of 9.269551810575649e-06\n",
      "Frame 10 done in 0.027719974517822266 with a final error of 9.008348570205271e-06\n",
      "Flattened array shape: (10,)\n",
      "Mean: 1.1539343176991679e-05\n",
      "Standard deviation: 4.6359859879885335e-06\n",
      "starting offset optimization\n",
      "Begining offset optimization:\n",
      "Final error of 0.0008770215790718794\n",
      "offset optimization finished in 0.017756938934326172\n",
      "Calibration iteration: 5/6\n",
      "Pose Optimization:\n",
      "Pose Optimization done in 0.25384998321533203\n",
      "Frame 1 done in 0.02844977378845215 with a final error of 5.022814093535999e-06\n",
      "Frame 2 done in 0.027079105377197266 with a final error of 7.69640155340312e-06\n",
      "Frame 3 done in 0.0269620418548584 with a final error of 1.3738905181526206e-05\n",
      "Frame 4 done in 0.02633500099182129 with a final error of 5.258489636617014e-06\n",
      "Frame 5 done in 0.02645087242126465 with a final error of 2.1571764591499232e-05\n",
      "Frame 6 done in 0.02593708038330078 with a final error of 1.3146289347787388e-05\n",
      "Frame 7 done in 0.02795696258544922 with a final error of 1.0485430721018929e-05\n",
      "Frame 8 done in 0.028171062469482422 with a final error of 3.6301057662058156e-06\n",
      "Frame 9 done in 0.009633779525756836 with a final error of 1.0447500244481489e-05\n",
      "Frame 10 done in 0.026691913604736328 with a final error of 7.89838122727815e-06\n",
      "Flattened array shape: (10,)\n",
      "Mean: 9.88960891845636e-06\n",
      "Standard deviation: 5.0561998250486795e-06\n",
      "starting offset optimization\n",
      "Begining offset optimization:\n",
      "Final error of 0.0007168595911934972\n",
      "offset optimization finished in 0.01836419105529785\n",
      "Calibration iteration: 6/6\n",
      "Pose Optimization:\n",
      "Pose Optimization done in 0.34090495109558105\n",
      "Frame 1 done in 0.027666091918945312 with a final error of 1.0001729606301524e-05\n",
      "Frame 2 done in 0.027096033096313477 with a final error of 1.658911605773028e-05\n",
      "Frame 3 done in 0.0781409740447998 with a final error of 2.091000715154223e-05\n",
      "Frame 4 done in 0.030326128005981445 with a final error of 1.259989949176088e-05\n",
      "Frame 5 done in 0.028995037078857422 with a final error of 5.9551452977757435e-06\n",
      "Frame 6 done in 0.0302278995513916 with a final error of 1.4389400348591153e-05\n",
      "Frame 7 done in 0.029428958892822266 with a final error of 8.21574758447241e-06\n",
      "Frame 8 done in 0.027289867401123047 with a final error of 4.270910267223371e-06\n",
      "Frame 9 done in 0.029031038284301758 with a final error of 8.261525181296747e-06\n",
      "Frame 10 done in 0.032514095306396484 with a final error of 3.7863824218220543e-06\n",
      "Flattened array shape: (10,)\n",
      "Mean: 1.0497985385882203e-05\n",
      "Standard deviation: 5.291401976137422e-06\n",
      "starting offset optimization\n",
      "Begining offset optimization:\n",
      "Final error of 0.0008571766084060073\n",
      "offset optimization finished in 0.01980423927307129\n",
      "Final pose optimization\n",
      "Pose Optimization:\n",
      "Pose Optimization done in 0.29356813430786133\n",
      "Frame 1 done in 0.030137300491333008 with a final error of 5.052802862337558e-06\n",
      "Frame 2 done in 0.029300928115844727 with a final error of 4.058058038935997e-06\n",
      "Frame 3 done in 0.028831005096435547 with a final error of 1.442335906176595e-05\n",
      "Frame 4 done in 0.029787063598632812 with a final error of 1.314817291131476e-05\n",
      "Frame 5 done in 0.03093409538269043 with a final error of 1.4409161849471275e-05\n",
      "Frame 6 done in 0.029664039611816406 with a final error of 1.176641853817273e-05\n",
      "Frame 7 done in 0.02991485595703125 with a final error of 5.511240487976465e-06\n",
      "Frame 8 done in 0.02870011329650879 with a final error of 9.769672942638863e-06\n",
      "Frame 9 done in 0.028816938400268555 with a final error of 4.113383056392195e-06\n",
      "Frame 10 done in 0.02727985382080078 with a final error of 3.4304443943256047e-06\n",
      "Flattened array shape: (10,)\n",
      "Mean: 8.568272278353106e-06\n",
      "Standard deviation: 4.351256848167395e-06\n"
     ]
    }
   ],
   "source": [
    "fit_path, transform_path = main.run_stac(\n",
    "    stac_cfg, \n",
    "    model_cfg, \n",
    "    kp_data, \n",
    "    sorted_kp_names, \n",
    "    base_path=base_path\n",
    ")"
   ]
  },
  {
   "cell_type": "code",
   "execution_count": null,
   "metadata": {},
   "outputs": [],
   "source": []
  }
 ],
 "metadata": {
  "kernelspec": {
   "display_name": "stac-mjx",
   "language": "python",
   "name": "python3"
  },
  "language_info": {
   "codemirror_mode": {
    "name": "ipython",
    "version": 3
   },
   "file_extension": ".py",
   "mimetype": "text/x-python",
   "name": "python",
   "nbconvert_exporter": "python",
   "pygments_lexer": "ipython3",
   "version": "3.11.9"
  }
 },
 "nbformat": 4,
 "nbformat_minor": 2
}
