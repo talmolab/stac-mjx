{
 "cells": [
  {
   "cell_type": "code",
   "execution_count": 1,
   "metadata": {},
   "outputs": [],
   "source": [
    "import stac_mjx \n",
    "from pathlib import Path\n",
    "        \n",
    "# Choose parent directory as base path for data files\n",
    "base_path = Path.cwd().parent"
   ]
  },
  {
   "cell_type": "markdown",
   "metadata": {},
   "source": [
    "### Load configs"
   ]
  },
  {
   "cell_type": "code",
   "execution_count": 2,
   "metadata": {},
   "outputs": [
    {
     "name": "stdout",
     "output_type": "stream",
     "text": [
      "Config loaded and validated.\n"
     ]
    }
   ],
   "source": [
    "cfg = stac_mjx.load_configs(base_path / \"configs\")"
   ]
  },
  {
   "cell_type": "markdown",
   "metadata": {},
   "source": [
    "### Prepare your data"
   ]
  },
  {
   "cell_type": "code",
   "execution_count": 3,
   "metadata": {},
   "outputs": [],
   "source": [
    "# data_path = base_path / cfg.stac.data_path \n",
    "kp_data, sorted_kp_names = stac_mjx.load_mocap(cfg, base_path)"
   ]
  },
  {
   "cell_type": "markdown",
   "metadata": {},
   "source": [
    "### Run stac"
   ]
  },
  {
   "cell_type": "code",
   "execution_count": 4,
   "metadata": {},
   "outputs": [
    {
     "name": "stdout",
     "output_type": "stream",
     "text": [
      "Running fit. Mocap data shape: (10, 69)\n",
      "Root Optimization:\n"
     ]
    },
    {
     "name": "stderr",
     "output_type": "stream",
     "text": [
      "2025-01-21 12:12:22.448734: E external/xla/xla/service/slow_operation_alarm.cc:65] \n",
      "********************************\n",
      "[Compiling module jit_q_opt] Very slow compile? If you want to file a bug, run with envvar XLA_FLAGS=--xla_dump_to=/tmp/foo and attach the results.\n",
      "********************************\n",
      "2025-01-21 12:19:25.600521: E external/xla/xla/service/slow_operation_alarm.cc:133] The operation took 9m3.151955s\n",
      "\n",
      "********************************\n",
      "[Compiling module jit_q_opt] Very slow compile? If you want to file a bug, run with envvar XLA_FLAGS=--xla_dump_to=/tmp/foo and attach the results.\n",
      "********************************\n"
     ]
    },
    {
     "name": "stdout",
     "output_type": "stream",
     "text": [
      "q_opt 1 finished in 600.3033790588379 with an error of 0.0007917298935353756\n",
      "Replace 1 finished in 43.71312618255615\n",
      "starting q_opt 2\n",
      "q_opt 2 finished in 0.009201288223266602 with an error of 0.0002533210499677807\n",
      "Replace 2 finished in 0.0010128021240234375\n",
      "Root optimization finished in 644.099377155304\n",
      "Calibration iteration: 1/6\n",
      "Pose Optimization:\n",
      "Pose Optimization done in 0.3943150043487549\n",
      "Frame 1 done in 0.07509088516235352 with a final error of 0.00022817964782007039\n",
      "Frame 2 done in 0.030471086502075195 with a final error of 0.00021189496328588575\n",
      "Frame 3 done in 0.03375411033630371 with a final error of 0.00018307100981473923\n",
      "Frame 4 done in 0.04179215431213379 with a final error of 0.00016778688586782664\n",
      "Frame 5 done in 0.03121209144592285 with a final error of 0.00015038637502584606\n",
      "Frame 6 done in 0.029629230499267578 with a final error of 0.00013610375754069537\n",
      "Frame 7 done in 0.029728174209594727 with a final error of 0.00011947754683205858\n",
      "Frame 8 done in 0.02968311309814453 with a final error of 0.00010913755249930546\n",
      "Frame 9 done in 0.009750604629516602 with a final error of 0.00011153008381370455\n",
      "Frame 10 done in 0.029527902603149414 with a final error of 6.228189886314794e-05\n",
      "Mean: 0.00014798495976720005\n",
      "Standard deviation: 4.82509276480414e-05\n",
      "starting offset optimization\n",
      "Begining offset optimization:\n"
     ]
    },
    {
     "name": "stderr",
     "output_type": "stream",
     "text": [
      "/Users/charleszhang/miniforge3/envs/stac-mjx-env/lib/python3.11/site-packages/jaxopt/_src/optax_wrapper.py:120: DeprecationWarning: jax.tree_map is deprecated: use jax.tree.map (jax v0.4.25 or newer) or jax.tree_util.tree_map (any JAX version).\n",
      "  return jax.tree_map(update_fun, params, updates)\n",
      "2025-01-21 12:23:17.664146: E external/xla/xla/service/slow_operation_alarm.cc:133] The operation took 2m42.276952s\n",
      "\n",
      "********************************\n",
      "[Compiling module jit_m_opt] Very slow compile? If you want to file a bug, run with envvar XLA_FLAGS=--xla_dump_to=/tmp/foo and attach the results.\n",
      "********************************\n"
     ]
    },
    {
     "name": "stdout",
     "output_type": "stream",
     "text": [
      "Final error of 0.0008381153456866741\n",
      "offset optimization finished in 187.22699093818665\n",
      "Calibration iteration: 2/6\n",
      "Pose Optimization:\n",
      "Pose Optimization done in 0.3470799922943115\n",
      "Frame 1 done in 0.03971290588378906 with a final error of 1.8489063222659752e-05\n",
      "Frame 2 done in 0.030292987823486328 with a final error of 8.412503120780457e-06\n",
      "Frame 3 done in 0.029508113861083984 with a final error of 1.4498608834401239e-05\n",
      "Frame 4 done in 0.030488967895507812 with a final error of 1.8297345377504826e-05\n",
      "Frame 5 done in 0.036520957946777344 with a final error of 2.0114141079830006e-05\n",
      "Frame 6 done in 0.03715777397155762 with a final error of 2.3464357582270168e-05\n",
      "Frame 7 done in 0.03742814064025879 with a final error of 2.622792817419395e-05\n",
      "Frame 8 done in 0.037168025970458984 with a final error of 2.5109411581070162e-05\n",
      "Frame 9 done in 0.03244614601135254 with a final error of 2.496761408110615e-05\n",
      "Frame 10 done in 0.035540103912353516 with a final error of 2.4493152523064055e-05\n",
      "Mean: 2.0407413103384897e-05\n",
      "Standard deviation: 5.383596089814091e-06\n",
      "starting offset optimization\n",
      "Begining offset optimization:\n"
     ]
    },
    {
     "name": "stderr",
     "output_type": "stream",
     "text": [
      "/Users/charleszhang/miniforge3/envs/stac-mjx-env/lib/python3.11/site-packages/jaxopt/_src/optax_wrapper.py:120: DeprecationWarning: jax.tree_map is deprecated: use jax.tree.map (jax v0.4.25 or newer) or jax.tree_util.tree_map (any JAX version).\n",
      "  return jax.tree_map(update_fun, params, updates)\n",
      "2025-01-21 12:26:20.787193: E external/xla/xla/service/slow_operation_alarm.cc:133] The operation took 2m42.87288s\n",
      "\n",
      "********************************\n",
      "[Compiling module jit_m_opt] Very slow compile? If you want to file a bug, run with envvar XLA_FLAGS=--xla_dump_to=/tmp/foo and attach the results.\n",
      "********************************\n"
     ]
    },
    {
     "name": "stdout",
     "output_type": "stream",
     "text": [
      "Final error of 0.0003638921771198511\n",
      "offset optimization finished in 182.7594349384308\n",
      "Calibration iteration: 3/6\n",
      "Pose Optimization:\n",
      "Pose Optimization done in 0.31148314476013184\n",
      "Frame 1 done in 0.035028934478759766 with a final error of 5.651953415508615e-06\n",
      "Frame 2 done in 0.030744075775146484 with a final error of 2.3605778551427647e-05\n",
      "Frame 3 done in 0.029591798782348633 with a final error of 1.4427256246563047e-05\n",
      "Frame 4 done in 0.029436111450195312 with a final error of 2.0981360648875125e-05\n",
      "Frame 5 done in 0.03011608123779297 with a final error of 2.2473750505014323e-05\n",
      "Frame 6 done in 0.03125190734863281 with a final error of 1.6787349522928707e-05\n",
      "Frame 7 done in 0.03483009338378906 with a final error of 2.0490046154009178e-05\n",
      "Frame 8 done in 0.030441999435424805 with a final error of 1.9532839360181242e-05\n",
      "Frame 9 done in 0.029594898223876953 with a final error of 1.1927480954909697e-05\n",
      "Frame 10 done in 0.029818058013916016 with a final error of 2.053683238045778e-05\n",
      "Mean: 1.7641465092310682e-05\n",
      "Standard deviation: 5.2688942560052965e-06\n",
      "starting offset optimization\n",
      "Begining offset optimization:\n",
      "Final error of 0.0005686724907718599\n",
      "offset optimization finished in 0.01975870132446289\n",
      "Calibration iteration: 4/6\n",
      "Pose Optimization:\n",
      "Pose Optimization done in 0.3039121627807617\n",
      "Frame 1 done in 0.030603885650634766 with a final error of 1.6973264791886322e-05\n",
      "Frame 2 done in 0.02985978126525879 with a final error of 1.9147939383401535e-05\n",
      "Frame 3 done in 0.029998064041137695 with a final error of 3.0413304557441734e-05\n",
      "Frame 4 done in 0.0300900936126709 with a final error of 2.492667226761114e-05\n",
      "Frame 5 done in 0.032035112380981445 with a final error of 3.112461490673013e-05\n",
      "Frame 6 done in 0.030066967010498047 with a final error of 3.7849138607271016e-05\n",
      "Frame 7 done in 0.031434059143066406 with a final error of 2.8961560019524768e-05\n",
      "Frame 8 done in 0.029724836349487305 with a final error of 2.7559157388168387e-05\n",
      "Frame 9 done in 0.02956986427307129 with a final error of 2.813452920236159e-05\n",
      "Frame 10 done in 0.0303499698638916 with a final error of 2.826417585310992e-05\n",
      "Mean: 2.733543442445807e-05\n",
      "Standard deviation: 5.646028057526564e-06\n",
      "starting offset optimization\n",
      "Begining offset optimization:\n",
      "Final error of 0.0007929948042146862\n",
      "offset optimization finished in 0.012464046478271484\n",
      "Calibration iteration: 5/6\n",
      "Pose Optimization:\n",
      "Pose Optimization done in 0.29771900177001953\n",
      "Frame 1 done in 0.029976844787597656 with a final error of 4.632888249034295e-06\n",
      "Frame 2 done in 0.0307619571685791 with a final error of 2.0732853954541497e-05\n",
      "Frame 3 done in 0.03004312515258789 with a final error of 1.5977204384398647e-05\n",
      "Frame 4 done in 0.029278993606567383 with a final error of 2.3131788111641072e-05\n",
      "Frame 5 done in 0.029008865356445312 with a final error of 2.515753840270918e-05\n",
      "Frame 6 done in 0.030652999877929688 with a final error of 3.111202022409998e-05\n",
      "Frame 7 done in 0.030056238174438477 with a final error of 2.30431578529533e-05\n",
      "Frame 8 done in 0.029332876205444336 with a final error of 1.9096998585155234e-05\n",
      "Frame 9 done in 0.029062986373901367 with a final error of 2.019665225816425e-05\n",
      "Frame 10 done in 0.029377222061157227 with a final error of 1.9941780919907615e-05\n",
      "Mean: 2.030228824878577e-05\n",
      "Standard deviation: 6.495828529295977e-06\n",
      "starting offset optimization\n",
      "Begining offset optimization:\n",
      "Final error of 0.0008506739977747202\n",
      "offset optimization finished in 0.012855052947998047\n",
      "Calibration iteration: 6/6\n",
      "Pose Optimization:\n",
      "Pose Optimization done in 0.3005990982055664\n",
      "Frame 1 done in 0.03086709976196289 with a final error of 6.262538136070361e-06\n",
      "Frame 2 done in 0.029664993286132812 with a final error of 1.0066572031064425e-05\n",
      "Frame 3 done in 0.02981710433959961 with a final error of 1.5946101484587416e-05\n",
      "Frame 4 done in 0.02929520606994629 with a final error of 2.1604075300274417e-05\n",
      "Frame 5 done in 0.029325008392333984 with a final error of 2.0713419871754013e-05\n",
      "Frame 6 done in 0.02970290184020996 with a final error of 2.5484352590865456e-05\n",
      "Frame 7 done in 0.030360937118530273 with a final error of 1.7976428352994844e-05\n",
      "Frame 8 done in 0.029423952102661133 with a final error of 1.5556352082057856e-05\n",
      "Frame 9 done in 0.03175091743469238 with a final error of 1.7403011952410452e-05\n",
      "Frame 10 done in 0.030198097229003906 with a final error of 2.129802123818081e-05\n",
      "Mean: 1.723108653095551e-05\n",
      "Standard deviation: 5.409125151345506e-06\n",
      "starting offset optimization\n",
      "Begining offset optimization:\n",
      "Final error of 0.0009974294807761908\n",
      "offset optimization finished in 0.012287139892578125\n",
      "Final pose optimization\n",
      "Pose Optimization:\n",
      "Pose Optimization done in 0.30084896087646484\n",
      "Frame 1 done in 0.0303499698638916 with a final error of 2.4274822862935252e-05\n",
      "Frame 2 done in 0.030248165130615234 with a final error of 8.782473742030561e-06\n",
      "Frame 3 done in 0.02977275848388672 with a final error of 2.2038557290215977e-05\n",
      "Frame 4 done in 0.029536008834838867 with a final error of 2.777109511953313e-05\n",
      "Frame 5 done in 0.029475927352905273 with a final error of 1.653714571148157e-05\n",
      "Frame 6 done in 0.0303041934967041 with a final error of 2.0514546122285537e-05\n",
      "Frame 7 done in 0.03225398063659668 with a final error of 1.6867012163856998e-05\n",
      "Frame 8 done in 0.029831886291503906 with a final error of 2.8824142646044493e-05\n",
      "Frame 9 done in 0.029654979705810547 with a final error of 2.3343598513747565e-05\n",
      "Frame 10 done in 0.029227018356323242 with a final error of 2.357192715862766e-05\n",
      "Mean: 2.125253013218753e-05\n",
      "Standard deviation: 5.628852704830933e-06\n",
      "saving data to /Users/charleszhang/GitHub/stac-mjx/demo_fit_offsets.h5\n",
      "skipping ik_only()\n"
     ]
    }
   ],
   "source": [
    "fit_path, ik_only_path = stac_mjx.run_stac(\n",
    "    cfg,\n",
    "    kp_data, \n",
    "    sorted_kp_names, \n",
    "    base_path=base_path\n",
    ")"
   ]
  },
  {
   "cell_type": "code",
   "execution_count": null,
   "metadata": {},
   "outputs": [],
   "source": []
  }
 ],
 "metadata": {
  "kernelspec": {
   "display_name": "stac-mjx-env",
   "language": "python",
   "name": "python3"
  },
  "language_info": {
   "codemirror_mode": {
    "name": "ipython",
    "version": 3
   },
   "file_extension": ".py",
   "mimetype": "text/x-python",
   "name": "python",
   "nbconvert_exporter": "python",
   "pygments_lexer": "ipython3",
   "version": "3.11.9"
  }
 },
 "nbformat": 4,
 "nbformat_minor": 2
}
