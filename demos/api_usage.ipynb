{
 "cells": [
  {
   "cell_type": "code",
   "execution_count": 1,
   "metadata": {},
   "outputs": [],
   "source": [
    "%load_ext autoreload\n",
    "%autoreload 2\n",
    "\n",
    "from stac_mjx import main\n",
    "from stac_mjx import utils\n",
    "from pathlib import Path\n",
    "\n",
    "base_path = Path.cwd().parent\n",
    "stac_config_path = base_path / \"demos/demo_stac.yaml\"\n",
    "model_config_path = base_path / \"configs/rodent.yaml\"\n"
   ]
  },
  {
   "cell_type": "markdown",
   "metadata": {},
   "source": [
    "### Load configs"
   ]
  },
  {
   "cell_type": "code",
   "execution_count": 2,
   "metadata": {},
   "outputs": [],
   "source": [
    "stac_cfg, model_cfg = main.load_configs_NEW(stac_config_path, model_config_path)"
   ]
  },
  {
   "cell_type": "markdown",
   "metadata": {},
   "source": [
    "### Prepare your data"
   ]
  },
  {
   "cell_type": "code",
   "execution_count": 3,
   "metadata": {},
   "outputs": [
    {
     "name": "stdout",
     "output_type": "stream",
     "text": [
      "23 23\n"
     ]
    }
   ],
   "source": [
    "data_path = base_path / stac_cfg.paths.data_path \n",
    "kp_data = utils.load_data(data_path, model_cfg)"
   ]
  },
  {
   "cell_type": "code",
   "execution_count": 6,
   "metadata": {},
   "outputs": [
    {
     "data": {
      "text/plain": [
       "dict_keys(['N_FRAMES_PER_CLIP', 'FTOL', 'ROOT_FTOL', 'LIMB_FTOL', 'N_ITERS', 'KP_NAMES', 'KEYPOINT_MODEL_PAIRS', 'KEYPOINT_INITIAL_OFFSETS', 'TRUNK_OPTIMIZATION_KEYPOINTS', 'INDIVIDUAL_PART_OPTIMIZATION', 'KEYPOINT_COLOR_PAIRS', 'SCALE_FACTOR', 'MOCAP_SCALE_FACTOR', 'SITES_TO_REGULARIZE', 'RENDER_FPS', 'N_SAMPLE_FRAMES', 'M_REG_COEF', 'TIME_BINS', 'site_index_map', 'part_names', 'indiv_parts'])"
      ]
     },
     "execution_count": 6,
     "metadata": {},
     "output_type": "execute_result"
    }
   ],
   "source": [
    "model_cfg.keys()"
   ]
  },
  {
   "cell_type": "markdown",
   "metadata": {},
   "source": [
    "### Run stac"
   ]
  },
  {
   "cell_type": "code",
   "execution_count": 4,
   "metadata": {},
   "outputs": [
    {
     "name": "stdout",
     "output_type": "stream",
     "text": [
      "Root Optimization:\n"
     ]
    },
    {
     "name": "stderr",
     "output_type": "stream",
     "text": [
      "2024-08-15 17:19:23.229752: E external/xla/xla/service/slow_operation_alarm.cc:65] \n",
      "********************************\n",
      "[Compiling module jit_q_opt] Very slow compile? If you want to file a bug, run with envvar XLA_FLAGS=--xla_dump_to=/tmp/foo and attach the results.\n",
      "********************************\n",
      "2024-08-15 17:25:11.617827: E external/xla/xla/service/slow_operation_alarm.cc:133] The operation took 7m48.393212s\n",
      "\n",
      "********************************\n",
      "[Compiling module jit_q_opt] Very slow compile? If you want to file a bug, run with envvar XLA_FLAGS=--xla_dump_to=/tmp/foo and attach the results.\n",
      "********************************\n"
     ]
    },
    {
     "name": "stdout",
     "output_type": "stream",
     "text": [
      "q_opt 1 finished in 523.9371478557587 with an error of nan\n",
      "Replace 1 finished in 43.32116913795471\n",
      "starting q_opt 2\n",
      "q_opt 1 finished in 0.005403280258178711 with an error of nan\n",
      "Replace 2 finished in 0.0008409023284912109\n",
      "Root optimization finished in 567.3970398902893\n",
      "Calibration iteration: 1/6\n",
      "Pose Optimization:\n",
      "Pose Optimization done in 0.18053889274597168\n",
      "Frame 1 done in 0.05123400688171387 with a final error of nan\n",
      "Frame 2 done in 0.011552095413208008 with a final error of nan\n",
      "Frame 3 done in 0.01141214370727539 with a final error of nan\n",
      "Frame 4 done in 0.011741876602172852 with a final error of nan\n",
      "Frame 5 done in 0.011458158493041992 with a final error of nan\n",
      "Frame 6 done in 0.011433124542236328 with a final error of nan\n",
      "Frame 7 done in 0.011311769485473633 with a final error of nan\n",
      "Frame 8 done in 0.011560916900634766 with a final error of nan\n",
      "Frame 9 done in 0.011385917663574219 with a final error of nan\n",
      "Frame 10 done in 0.011792182922363281 with a final error of nan\n",
      "Flattened array shape: (10,)\n",
      "Mean: nan\n",
      "Standard deviation: nan\n",
      "starting offset optimization\n",
      "Begining offset optimization:\n"
     ]
    },
    {
     "ename": "TypeError",
     "evalue": "m_opt() takes 8 positional arguments but 9 were given",
     "output_type": "error",
     "traceback": [
      "\u001b[0;31m---------------------------------------------------------------------------\u001b[0m",
      "\u001b[0;31mTypeError\u001b[0m                                 Traceback (most recent call last)",
      "Cell \u001b[0;32mIn[4], line 1\u001b[0m\n\u001b[0;32m----> 1\u001b[0m fit_path, transform_path \u001b[38;5;241m=\u001b[39m \u001b[43mmain\u001b[49m\u001b[38;5;241;43m.\u001b[39;49m\u001b[43mrun_stac\u001b[49m\u001b[43m(\u001b[49m\u001b[43mcfg\u001b[49m\u001b[43m,\u001b[49m\u001b[43m \u001b[49m\u001b[43mkp_data\u001b[49m\u001b[43m,\u001b[49m\u001b[43m \u001b[49m\u001b[43mbase_path\u001b[49m\u001b[38;5;241;43m=\u001b[39;49m\u001b[43mbase_path\u001b[49m\u001b[43m)\u001b[49m\n",
      "File \u001b[0;32m~/miniforge3/envs/stac-mjx/lib/python3.11/site-packages/stac_mjx/main.py:82\u001b[0m, in \u001b[0;36mrun_stac\u001b[0;34m(cfg, kp_data, base_path)\u001b[0m\n\u001b[1;32m     77\u001b[0m fit_data \u001b[38;5;241m=\u001b[39m jax\u001b[38;5;241m.\u001b[39mrandom\u001b[38;5;241m.\u001b[39mchoice(\n\u001b[1;32m     78\u001b[0m     jax\u001b[38;5;241m.\u001b[39mrandom\u001b[38;5;241m.\u001b[39mPRNGKey(\u001b[38;5;241m0\u001b[39m), kp_data, (cfg\u001b[38;5;241m.\u001b[39mn_fit_frames,), replace\u001b[38;5;241m=\u001b[39m\u001b[38;5;28;01mFalse\u001b[39;00m\n\u001b[1;32m     79\u001b[0m )\n\u001b[1;32m     81\u001b[0m logging\u001b[38;5;241m.\u001b[39minfo(\u001b[38;5;124mf\u001b[39m\u001b[38;5;124m\"\u001b[39m\u001b[38;5;124mfit_data shape: \u001b[39m\u001b[38;5;132;01m{\u001b[39;00mfit_data\u001b[38;5;241m.\u001b[39mshape\u001b[38;5;132;01m}\u001b[39;00m\u001b[38;5;124m\"\u001b[39m)\n\u001b[0;32m---> 82\u001b[0m mjx_model, q, x, walker_body_sites, clip_data \u001b[38;5;241m=\u001b[39m \u001b[43mctrl\u001b[49m\u001b[38;5;241;43m.\u001b[39;49m\u001b[43mfit\u001b[49m\u001b[43m(\u001b[49m\u001b[43mmj_model\u001b[49m\u001b[43m,\u001b[49m\u001b[43m \u001b[49m\u001b[43mfit_data\u001b[49m\u001b[43m)\u001b[49m\n\u001b[1;32m     84\u001b[0m fit_data \u001b[38;5;241m=\u001b[39m ctrl\u001b[38;5;241m.\u001b[39mpackage_data(\n\u001b[1;32m     85\u001b[0m     mjx_model, physics, q, x, walker_body_sites, clip_data\n\u001b[1;32m     86\u001b[0m )\n\u001b[1;32m     88\u001b[0m logging\u001b[38;5;241m.\u001b[39minfo(\u001b[38;5;124mf\u001b[39m\u001b[38;5;124m\"\u001b[39m\u001b[38;5;124msaving data to \u001b[39m\u001b[38;5;132;01m{\u001b[39;00mfit_path\u001b[38;5;132;01m}\u001b[39;00m\u001b[38;5;124m\"\u001b[39m)\n",
      "File \u001b[0;32m~/miniforge3/envs/stac-mjx/lib/python3.11/site-packages/stac_mjx/controller.py:218\u001b[0m, in \u001b[0;36mfit\u001b[0;34m(mj_model, kp_data)\u001b[0m\n\u001b[1;32m    215\u001b[0m     \u001b[38;5;28mprint\u001b[39m(\u001b[38;5;124mf\u001b[39m\u001b[38;5;124m\"\u001b[39m\u001b[38;5;124mStandard deviation: \u001b[39m\u001b[38;5;132;01m{\u001b[39;00mstd\u001b[38;5;132;01m}\u001b[39;00m\u001b[38;5;124m\"\u001b[39m)\n\u001b[1;32m    217\u001b[0m     \u001b[38;5;28mprint\u001b[39m(\u001b[38;5;124m\"\u001b[39m\u001b[38;5;124mstarting offset optimization\u001b[39m\u001b[38;5;124m\"\u001b[39m)\n\u001b[0;32m--> 218\u001b[0m     mjx_model, mjx_data \u001b[38;5;241m=\u001b[39m \u001b[43mcompute_stac\u001b[49m\u001b[38;5;241;43m.\u001b[39;49m\u001b[43moffset_optimization\u001b[49m\u001b[43m(\u001b[49m\n\u001b[1;32m    219\u001b[0m \u001b[43m        \u001b[49m\u001b[43mmjx_model\u001b[49m\u001b[43m,\u001b[49m\u001b[43m \u001b[49m\u001b[43mmjx_data\u001b[49m\u001b[43m,\u001b[49m\u001b[43m \u001b[49m\u001b[43mkp_data\u001b[49m\u001b[43m,\u001b[49m\u001b[43m \u001b[49m\u001b[43moffsets\u001b[49m\u001b[43m,\u001b[49m\u001b[43m \u001b[49m\u001b[43mq\u001b[49m\n\u001b[1;32m    220\u001b[0m \u001b[43m    \u001b[49m\u001b[43m)\u001b[49m\n\u001b[1;32m    222\u001b[0m \u001b[38;5;66;03m# Optimize the pose for the whole sequence\u001b[39;00m\n\u001b[1;32m    223\u001b[0m \u001b[38;5;28mprint\u001b[39m(\u001b[38;5;124m\"\u001b[39m\u001b[38;5;124mFinal pose optimization\u001b[39m\u001b[38;5;124m\"\u001b[39m)\n",
      "File \u001b[0;32m~/miniforge3/envs/stac-mjx/lib/python3.11/site-packages/stac_mjx/compute_stac.py:145\u001b[0m, in \u001b[0;36moffset_optimization\u001b[0;34m(mjx_model, mjx_data, kp_data, offsets, q)\u001b[0m\n\u001b[1;32m    142\u001b[0m keypoints \u001b[38;5;241m=\u001b[39m jnp\u001b[38;5;241m.\u001b[39marray(kp_data[time_indices, :])\n\u001b[1;32m    143\u001b[0m q \u001b[38;5;241m=\u001b[39m jnp\u001b[38;5;241m.\u001b[39mtake(q, time_indices, axis\u001b[38;5;241m=\u001b[39m\u001b[38;5;241m0\u001b[39m)\n\u001b[0;32m--> 145\u001b[0m res \u001b[38;5;241m=\u001b[39m \u001b[43mstac_base\u001b[49m\u001b[38;5;241;43m.\u001b[39;49m\u001b[43mm_opt\u001b[49m\u001b[43m(\u001b[49m\n\u001b[1;32m    146\u001b[0m \u001b[43m    \u001b[49m\u001b[43moffset0\u001b[49m\u001b[43m,\u001b[49m\n\u001b[1;32m    147\u001b[0m \u001b[43m    \u001b[49m\u001b[43mmjx_model\u001b[49m\u001b[43m,\u001b[49m\n\u001b[1;32m    148\u001b[0m \u001b[43m    \u001b[49m\u001b[43mmjx_data\u001b[49m\u001b[43m,\u001b[49m\n\u001b[1;32m    149\u001b[0m \u001b[43m    \u001b[49m\u001b[43mkeypoints\u001b[49m\u001b[43m,\u001b[49m\n\u001b[1;32m    150\u001b[0m \u001b[43m    \u001b[49m\u001b[43mq\u001b[49m\u001b[43m,\u001b[49m\n\u001b[1;32m    151\u001b[0m \u001b[43m    \u001b[49m\u001b[43moffsets\u001b[49m\u001b[43m,\u001b[49m\n\u001b[1;32m    152\u001b[0m \u001b[43m    \u001b[49m\u001b[43mis_regularized\u001b[49m\u001b[43m,\u001b[49m\n\u001b[1;32m    153\u001b[0m \u001b[43m    \u001b[49m\u001b[43mutils\u001b[49m\u001b[38;5;241;43m.\u001b[39;49m\u001b[43mparams\u001b[49m\u001b[43m[\u001b[49m\u001b[38;5;124;43m\"\u001b[39;49m\u001b[38;5;124;43mM_REG_COEF\u001b[39;49m\u001b[38;5;124;43m\"\u001b[39;49m\u001b[43m]\u001b[49m\u001b[43m,\u001b[49m\n\u001b[1;32m    154\u001b[0m \u001b[43m    \u001b[49m\u001b[43mutils\u001b[49m\u001b[38;5;241;43m.\u001b[39;49m\u001b[43mparams\u001b[49m\u001b[43m[\u001b[49m\u001b[38;5;124;43m\"\u001b[39;49m\u001b[38;5;124;43mROOT_FTOL\u001b[39;49m\u001b[38;5;124;43m\"\u001b[39;49m\u001b[43m]\u001b[49m\u001b[43m,\u001b[49m\n\u001b[1;32m    155\u001b[0m \u001b[43m\u001b[49m\u001b[43m)\u001b[49m\n\u001b[1;32m    157\u001b[0m offset_opt_param \u001b[38;5;241m=\u001b[39m res\u001b[38;5;241m.\u001b[39mparams\n\u001b[1;32m    158\u001b[0m \u001b[38;5;28mprint\u001b[39m(\u001b[38;5;124mf\u001b[39m\u001b[38;5;124m\"\u001b[39m\u001b[38;5;124mFinal error of \u001b[39m\u001b[38;5;132;01m{\u001b[39;00mres\u001b[38;5;241m.\u001b[39mstate\u001b[38;5;241m.\u001b[39merror\u001b[38;5;132;01m}\u001b[39;00m\u001b[38;5;124m\"\u001b[39m)\n",
      "    \u001b[0;31m[... skipping hidden 10 frame]\u001b[0m\n",
      "File \u001b[0;32m~/miniforge3/envs/stac-mjx/lib/python3.11/site-packages/jax/_src/linear_util.py:192\u001b[0m, in \u001b[0;36mWrappedFun.call_wrapped\u001b[0;34m(self, *args, **kwargs)\u001b[0m\n\u001b[1;32m    189\u001b[0m gen \u001b[38;5;241m=\u001b[39m gen_static_args \u001b[38;5;241m=\u001b[39m out_store \u001b[38;5;241m=\u001b[39m \u001b[38;5;28;01mNone\u001b[39;00m\n\u001b[1;32m    191\u001b[0m \u001b[38;5;28;01mtry\u001b[39;00m:\n\u001b[0;32m--> 192\u001b[0m   ans \u001b[38;5;241m=\u001b[39m \u001b[38;5;28;43mself\u001b[39;49m\u001b[38;5;241;43m.\u001b[39;49m\u001b[43mf\u001b[49m\u001b[43m(\u001b[49m\u001b[38;5;241;43m*\u001b[39;49m\u001b[43margs\u001b[49m\u001b[43m,\u001b[49m\u001b[43m \u001b[49m\u001b[38;5;241;43m*\u001b[39;49m\u001b[38;5;241;43m*\u001b[39;49m\u001b[38;5;28;43mdict\u001b[39;49m\u001b[43m(\u001b[49m\u001b[38;5;28;43mself\u001b[39;49m\u001b[38;5;241;43m.\u001b[39;49m\u001b[43mparams\u001b[49m\u001b[43m,\u001b[49m\u001b[43m \u001b[49m\u001b[38;5;241;43m*\u001b[39;49m\u001b[38;5;241;43m*\u001b[39;49m\u001b[43mkwargs\u001b[49m\u001b[43m)\u001b[49m\u001b[43m)\u001b[49m\n\u001b[1;32m    193\u001b[0m \u001b[38;5;28;01mexcept\u001b[39;00m:\n\u001b[1;32m    194\u001b[0m   \u001b[38;5;66;03m# Some transformations yield from inside context managers, so we have to\u001b[39;00m\n\u001b[1;32m    195\u001b[0m   \u001b[38;5;66;03m# interrupt them before reraising the exception. Otherwise they will only\u001b[39;00m\n\u001b[1;32m    196\u001b[0m   \u001b[38;5;66;03m# get garbage-collected at some later time, running their cleanup tasks\u001b[39;00m\n\u001b[1;32m    197\u001b[0m   \u001b[38;5;66;03m# only after this exception is handled, which can corrupt the global\u001b[39;00m\n\u001b[1;32m    198\u001b[0m   \u001b[38;5;66;03m# state.\u001b[39;00m\n\u001b[1;32m    199\u001b[0m   \u001b[38;5;28;01mwhile\u001b[39;00m stack:\n",
      "\u001b[0;31mTypeError\u001b[0m: m_opt() takes 8 positional arguments but 9 were given"
     ]
    }
   ],
   "source": [
    "fit_path, transform_path = main.run_stac_NEW(stac_cfg, model_cfg, kp_data, base_path=base_path)"
   ]
  },
  {
   "cell_type": "code",
   "execution_count": null,
   "metadata": {},
   "outputs": [],
   "source": []
  }
 ],
 "metadata": {
  "kernelspec": {
   "display_name": "stac-mjx",
   "language": "python",
   "name": "python3"
  },
  "language_info": {
   "codemirror_mode": {
    "name": "ipython",
    "version": 3
   },
   "file_extension": ".py",
   "mimetype": "text/x-python",
   "name": "python",
   "nbconvert_exporter": "python",
   "pygments_lexer": "ipython3",
   "version": "3.11.9"
  }
 },
 "nbformat": 4,
 "nbformat_minor": 2
}
