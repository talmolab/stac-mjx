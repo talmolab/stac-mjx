{
 "cells": [
  {
   "cell_type": "code",
   "execution_count": 1,
   "metadata": {},
   "outputs": [],
   "source": [
    "%load_ext autoreload\n",
    "%autoreload 2\n",
    "\n",
    "import stac_mjx \n",
    "from pathlib import Path\n",
    "        \n",
    "# Choose parent directory as base path for data files\n",
    "base_path = Path.cwd().parent"
   ]
  },
  {
   "cell_type": "markdown",
   "metadata": {},
   "source": [
    "### Load configs"
   ]
  },
  {
   "cell_type": "code",
   "execution_count": 2,
   "metadata": {},
   "outputs": [],
   "source": [
    "cfg = stac_mjx.load_configs(base_path / \"configs\")"
   ]
  },
  {
   "cell_type": "markdown",
   "metadata": {},
   "source": [
    "### Prepare your data"
   ]
  },
  {
   "cell_type": "code",
   "execution_count": 3,
   "metadata": {},
   "outputs": [],
   "source": [
    "# data_path = base_path / cfg.stac.data_path \n",
    "kp_data, sorted_kp_names = stac_mjx.load_data(cfg, base_path)"
   ]
  },
  {
   "cell_type": "markdown",
   "metadata": {},
   "source": [
    "### Run stac"
   ]
  },
  {
   "cell_type": "code",
   "execution_count": 4,
   "metadata": {},
   "outputs": [
    {
     "name": "stdout",
     "output_type": "stream",
     "text": [
      "Root Optimization:\n"
     ]
    },
    {
     "name": "stderr",
     "output_type": "stream",
     "text": [
      "2024-09-06 00:02:51.141278: E external/xla/xla/service/slow_operation_alarm.cc:65] \n",
      "********************************\n",
      "[Compiling module jit_q_opt] Very slow compile? If you want to file a bug, run with envvar XLA_FLAGS=--xla_dump_to=/tmp/foo and attach the results.\n",
      "********************************\n",
      "2024-09-06 00:22:35.304764: E external/xla/xla/service/slow_operation_alarm.cc:133] The operation took 21m44.168786s\n",
      "\n",
      "********************************\n",
      "[Compiling module jit_q_opt] Very slow compile? If you want to file a bug, run with envvar XLA_FLAGS=--xla_dump_to=/tmp/foo and attach the results.\n",
      "********************************\n"
     ]
    },
    {
     "name": "stdout",
     "output_type": "stream",
     "text": [
      "q_opt 1 finished in 1368.0123829841614 with an error of 0.0008740306948311627\n",
      "Replace 1 finished in 41.61302089691162\n",
      "starting q_opt 2\n",
      "q_opt 1 finished in 0.020496129989624023 with an error of 0.0006967128720134497\n",
      "Replace 2 finished in 0.0011398792266845703\n",
      "Root optimization finished in 1409.7374441623688\n",
      "Calibration iteration: 1/6\n",
      "Pose Optimization:\n",
      "Pose Optimization done in 0.3304412364959717\n",
      "Frame 1 done in 0.07806992530822754 with a final error of 0.00022890132095199078\n",
      "Frame 2 done in 0.025510311126708984 with a final error of 0.00020981981651857495\n",
      "Frame 3 done in 0.02531576156616211 with a final error of 0.0001848320971475914\n",
      "Frame 4 done in 0.025770902633666992 with a final error of 0.00016470930131617934\n",
      "Frame 5 done in 0.027329206466674805 with a final error of 0.00014780914352741092\n",
      "Frame 6 done in 0.027764081954956055 with a final error of 0.00013331846275832504\n",
      "Frame 7 done in 0.027595043182373047 with a final error of 0.00012161406630184501\n",
      "Frame 8 done in 0.025384902954101562 with a final error of 0.00010930538701359183\n",
      "Frame 9 done in 0.009312152862548828 with a final error of 0.00010728859342634678\n",
      "Frame 10 done in 0.025027036666870117 with a final error of 5.7451619795756415e-05\n",
      "Flattened array shape: (10,)\n",
      "Mean: 0.00014650498633272946\n",
      "Standard deviation: 4.923989035887644e-05\n",
      "starting offset optimization\n",
      "Begining offset optimization:\n"
     ]
    },
    {
     "name": "stderr",
     "output_type": "stream",
     "text": [
      "/Users/charleszhang/miniforge3/envs/stac-mjx-env/lib/python3.11/site-packages/jaxopt/_src/optax_wrapper.py:120: DeprecationWarning: jax.tree_map is deprecated: use jax.tree.map (jax v0.4.25 or newer) or jax.tree_util.tree_map (any JAX version).\n",
      "  return jax.tree_map(update_fun, params, updates)\n",
      "2024-09-06 00:26:17.872189: E external/xla/xla/service/slow_operation_alarm.cc:133] The operation took 2m34.908153s\n",
      "\n",
      "********************************\n",
      "[Compiling module jit_m_opt] Very slow compile? If you want to file a bug, run with envvar XLA_FLAGS=--xla_dump_to=/tmp/foo and attach the results.\n",
      "********************************\n"
     ]
    },
    {
     "name": "stdout",
     "output_type": "stream",
     "text": [
      "Final error of 0.0008380845538340509\n",
      "offset optimization finished in 179.66254925727844\n",
      "Calibration iteration: 2/6\n",
      "Pose Optimization:\n",
      "Pose Optimization done in 0.28058481216430664\n",
      "Frame 1 done in 0.031497955322265625 with a final error of 1.1411078958190046e-05\n",
      "Frame 2 done in 0.027939796447753906 with a final error of 6.909502189955674e-06\n",
      "Frame 3 done in 0.027025222778320312 with a final error of 1.1457681466708891e-05\n",
      "Frame 4 done in 0.0266268253326416 with a final error of 6.175150247145211e-06\n",
      "Frame 5 done in 0.02672719955444336 with a final error of 1.9860350221279077e-05\n",
      "Frame 6 done in 0.026689767837524414 with a final error of 7.791326424921863e-06\n",
      "Frame 7 done in 0.027480125427246094 with a final error of 1.2964310371899046e-05\n",
      "Frame 8 done in 0.03257918357849121 with a final error of 5.7540546549716964e-06\n",
      "Frame 9 done in 0.0269320011138916 with a final error of 8.202971002901904e-06\n",
      "Frame 10 done in 0.026469945907592773 with a final error of 8.9601426225272e-06\n",
      "Flattened array shape: (10,)\n",
      "Mean: 9.948656952474266e-06\n",
      "Standard deviation: 4.018716481368756e-06\n",
      "starting offset optimization\n",
      "Begining offset optimization:\n",
      "Final error of 0.0006915951962582767\n",
      "offset optimization finished in 0.019406795501708984\n",
      "Calibration iteration: 3/6\n",
      "Pose Optimization:\n",
      "Pose Optimization done in 0.2873880863189697\n",
      "Frame 1 done in 0.029324769973754883 with a final error of 6.253591436689021e-06\n",
      "Frame 2 done in 0.02792811393737793 with a final error of 1.4736633602296934e-05\n",
      "Frame 3 done in 0.029765844345092773 with a final error of 1.872341636044439e-05\n",
      "Frame 4 done in 0.028580188751220703 with a final error of 8.329601769219153e-06\n",
      "Frame 5 done in 0.027714014053344727 with a final error of 3.0050676286919042e-05\n",
      "Frame 6 done in 0.027683019638061523 with a final error of 1.837674790294841e-05\n",
      "Frame 7 done in 0.02848505973815918 with a final error of 8.354975761903916e-06\n",
      "Frame 8 done in 0.027895212173461914 with a final error of 7.354761692113243e-06\n",
      "Frame 9 done in 0.029622793197631836 with a final error of 5.4347701734513976e-06\n",
      "Frame 10 done in 0.03020620346069336 with a final error of 3.1100214982870966e-05\n",
      "Flattened array shape: (10,)\n",
      "Mean: 1.4871539860905614e-05\n",
      "Standard deviation: 9.088475053431466e-06\n",
      "starting offset optimization\n",
      "Begining offset optimization:\n",
      "Final error of 0.0006523464107885957\n",
      "offset optimization finished in 0.018471956253051758\n",
      "Calibration iteration: 4/6\n",
      "Pose Optimization:\n",
      "Pose Optimization done in 0.2660050392150879\n",
      "Frame 1 done in 0.02883601188659668 with a final error of 2.205053715442773e-05\n",
      "Frame 2 done in 0.027754783630371094 with a final error of 2.3906379283289425e-05\n",
      "Frame 3 done in 0.02768397331237793 with a final error of 1.729781251924578e-05\n",
      "Frame 4 done in 0.027714967727661133 with a final error of 6.905936970724724e-06\n",
      "Frame 5 done in 0.029285907745361328 with a final error of 6.520999704662245e-06\n",
      "Frame 6 done in 0.02929997444152832 with a final error of 1.044065265887184e-05\n",
      "Frame 7 done in 0.02916407585144043 with a final error of 7.1059494075598195e-06\n",
      "Frame 8 done in 0.027601957321166992 with a final error of 4.01246506953612e-06\n",
      "Frame 9 done in 0.010566234588623047 with a final error of 8.094839358818717e-06\n",
      "Frame 10 done in 0.0279238224029541 with a final error of 5.843391136295395e-06\n",
      "Flattened array shape: (10,)\n",
      "Mean: 1.1217895917070564e-05\n",
      "Standard deviation: 6.81199071550509e-06\n",
      "starting offset optimization\n",
      "Begining offset optimization:\n",
      "Final error of 0.0008061480475589633\n",
      "offset optimization finished in 0.01714801788330078\n",
      "Calibration iteration: 5/6\n",
      "Pose Optimization:\n",
      "Pose Optimization done in 0.24892210960388184\n",
      "Frame 1 done in 0.026957988739013672 with a final error of 1.7644156287133228e-06\n",
      "Frame 2 done in 0.026444196701049805 with a final error of 2.948524706880562e-05\n",
      "Frame 3 done in 0.026600122451782227 with a final error of 2.8597663913387805e-05\n",
      "Frame 4 done in 0.026521921157836914 with a final error of 1.693754347797949e-05\n",
      "Frame 5 done in 0.026439189910888672 with a final error of 7.489315066777635e-06\n",
      "Frame 6 done in 0.026362895965576172 with a final error of 1.797505137801636e-05\n",
      "Frame 7 done in 0.026512861251831055 with a final error of 1.1738387001969386e-05\n",
      "Frame 8 done in 0.026935100555419922 with a final error of 3.4613351544976467e-06\n",
      "Frame 9 done in 0.00953221321105957 with a final error of 5.871419489267282e-06\n",
      "Frame 10 done in 0.026439905166625977 with a final error of 4.68022972199833e-06\n",
      "Flattened array shape: (10,)\n",
      "Mean: 1.2800061085727066e-05\n",
      "Standard deviation: 9.61314253800083e-06\n",
      "starting offset optimization\n",
      "Begining offset optimization:\n",
      "Final error of 0.0008939061663113534\n",
      "offset optimization finished in 0.016668081283569336\n",
      "Calibration iteration: 6/6\n",
      "Pose Optimization:\n",
      "Pose Optimization done in 0.2607898712158203\n",
      "Frame 1 done in 0.026535987854003906 with a final error of 4.91184482598328e-06\n",
      "Frame 2 done in 0.025732994079589844 with a final error of 4.213423380861059e-06\n",
      "Frame 3 done in 0.02575516700744629 with a final error of 1.410570530424593e-05\n",
      "Frame 4 done in 0.02573108673095703 with a final error of 1.2994731150683947e-05\n",
      "Frame 5 done in 0.02574896812438965 with a final error of 1.4421345440496225e-05\n",
      "Frame 6 done in 0.025803804397583008 with a final error of 1.1991121937171556e-05\n",
      "Frame 7 done in 0.02590203285217285 with a final error of 5.676869477611035e-06\n",
      "Frame 8 done in 0.026231050491333008 with a final error of 9.357620001537725e-06\n",
      "Frame 9 done in 0.025838136672973633 with a final error of 4.746553258883068e-06\n",
      "Frame 10 done in 0.027341842651367188 with a final error of 3.5478835798130604e-06\n",
      "Flattened array shape: (10,)\n",
      "Mean: 8.596710358688142e-06\n",
      "Standard deviation: 4.211297436995665e-06\n",
      "starting offset optimization\n",
      "Begining offset optimization:\n",
      "Final error of 0.0009413688676431775\n",
      "offset optimization finished in 0.017334699630737305\n",
      "Final pose optimization\n",
      "Pose Optimization:\n",
      "Pose Optimization done in 0.2668731212615967\n",
      "Frame 1 done in 0.027530908584594727 with a final error of 3.339833483551047e-06\n",
      "Frame 2 done in 0.026302099227905273 with a final error of 5.81361973672756e-06\n",
      "Frame 3 done in 0.026290178298950195 with a final error of 1.3134792425262276e-05\n",
      "Frame 4 done in 0.02638387680053711 with a final error of 1.295702259085374e-05\n",
      "Frame 5 done in 0.02702498435974121 with a final error of 1.4758122233615723e-05\n",
      "Frame 6 done in 0.027264118194580078 with a final error of 1.241929658135632e-05\n",
      "Frame 7 done in 0.02644801139831543 with a final error of 1.0499762538529467e-05\n",
      "Frame 8 done in 0.027077674865722656 with a final error of 4.285193426767364e-06\n",
      "Frame 9 done in 0.02621912956237793 with a final error of 7.278669727384113e-06\n",
      "Frame 10 done in 0.026165008544921875 with a final error of 4.782757969223894e-06\n",
      "Flattened array shape: (10,)\n",
      "Mean: 8.926907867135014e-06\n",
      "Standard deviation: 4.061600520799402e-06\n"
     ]
    }
   ],
   "source": [
    "fit_path, transform_path = stac_mjx.run_stac(\n",
    "    cfg,\n",
    "    kp_data, \n",
    "    sorted_kp_names, \n",
    "    base_path=base_path\n",
    ")"
   ]
  },
  {
   "cell_type": "code",
   "execution_count": null,
   "metadata": {},
   "outputs": [],
   "source": []
  }
 ],
 "metadata": {
  "kernelspec": {
   "display_name": "stac-mjx",
   "language": "python",
   "name": "python3"
  },
  "language_info": {
   "codemirror_mode": {
    "name": "ipython",
    "version": 3
   },
   "file_extension": ".py",
   "mimetype": "text/x-python",
   "name": "python",
   "nbconvert_exporter": "python",
   "pygments_lexer": "ipython3",
   "version": "3.11.9"
  }
 },
 "nbformat": 4,
 "nbformat_minor": 2
}
