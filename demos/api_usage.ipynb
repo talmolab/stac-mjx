{
 "cells": [
  {
   "cell_type": "code",
   "execution_count": 1,
   "metadata": {},
   "outputs": [],
   "source": [
    "%load_ext autoreload\n",
    "%autoreload 2\n",
    "\n",
    "from stac_mjx import main\n",
    "from stac_mjx import utils\n",
    "from pathlib import Path\n",
    "\n",
    "base_path = Path.cwd().parent\n",
    "stac_config_path = base_path / \"demos/demo_stac.yaml\"\n",
    "model_config_path = base_path / \"configs/rodent.yaml\"\n"
   ]
  },
  {
   "cell_type": "markdown",
   "metadata": {},
   "source": [
    "### Load configs"
   ]
  },
  {
   "cell_type": "code",
   "execution_count": 2,
   "metadata": {},
   "outputs": [],
   "source": [
    "cfg = main.load_configs(stac_config_path, model_config_path)"
   ]
  },
  {
   "cell_type": "markdown",
   "metadata": {},
   "source": [
    "### Prepare your data"
   ]
  },
  {
   "cell_type": "code",
   "execution_count": 3,
   "metadata": {},
   "outputs": [],
   "source": [
    "data_path = base_path / cfg.paths.data_path \n",
    "kp_data = utils.load_data(data_path, utils.params)"
   ]
  },
  {
   "cell_type": "markdown",
   "metadata": {},
   "source": [
    "### Run stac"
   ]
  },
  {
   "cell_type": "code",
   "execution_count": 4,
   "metadata": {},
   "outputs": [
    {
     "name": "stdout",
     "output_type": "stream",
     "text": [
      "Root Optimization:\n"
     ]
    },
    {
     "name": "stderr",
     "output_type": "stream",
     "text": [
      "2024-08-14 16:46:13.305054: E external/xla/xla/service/slow_operation_alarm.cc:65] \n",
      "********************************\n",
      "[Compiling module jit_q_opt] Very slow compile? If you want to file a bug, run with envvar XLA_FLAGS=--xla_dump_to=/tmp/foo and attach the results.\n",
      "********************************\n",
      "2024-08-14 16:52:19.330870: E external/xla/xla/service/slow_operation_alarm.cc:133] The operation took 8m6.030889s\n",
      "\n",
      "********************************\n",
      "[Compiling module jit_q_opt] Very slow compile? If you want to file a bug, run with envvar XLA_FLAGS=--xla_dump_to=/tmp/foo and attach the results.\n",
      "********************************\n"
     ]
    },
    {
     "name": "stdout",
     "output_type": "stream",
     "text": [
      "q_opt 1 finished in 539.2077369689941 with an error of 0.0008246786310337484\n",
      "Replace 1 finished in 48.59485483169556\n",
      "starting q_opt 2\n",
      "q_opt 1 finished in 0.009484052658081055 with an error of 0.0005692205741070211\n",
      "Replace 2 finished in 0.0011491775512695312\n",
      "Root optimization finished in 587.9132978916168\n",
      "Calibration iteration: 1/6\n",
      "Pose Optimization:\n",
      "Pose Optimization done in 0.38585686683654785\n",
      "Frame 1 done in 0.07697486877441406 with a final error of 0.00024204990768339485\n",
      "Frame 2 done in 0.030105113983154297 with a final error of 0.00023233129468280822\n",
      "Frame 3 done in 0.029673099517822266 with a final error of 0.00026723864721134305\n",
      "Frame 4 done in 0.03253793716430664 with a final error of 0.00014514046779368073\n",
      "Frame 5 done in 0.029859066009521484 with a final error of 0.00013594888150691986\n",
      "Frame 6 done in 0.030384063720703125 with a final error of 0.00014681622269563377\n",
      "Frame 7 done in 0.029237031936645508 with a final error of 0.00013630223111249506\n",
      "Frame 8 done in 0.02897810935974121 with a final error of 0.0001617780071683228\n",
      "Frame 9 done in 0.02902078628540039 with a final error of 0.00015235146565828472\n",
      "Frame 10 done in 0.02877187728881836 with a final error of 0.00010603768168948591\n",
      "Flattened array shape: (10,)\n",
      "Mean: 0.0001725994807202369\n",
      "Standard deviation: 5.1366248953854665e-05\n",
      "starting offset optimization\n",
      "Begining offset optimization:\n"
     ]
    },
    {
     "name": "stderr",
     "output_type": "stream",
     "text": [
      "/Users/charleszhang/miniforge3/envs/stac-mjx/lib/python3.11/site-packages/jaxopt/_src/optax_wrapper.py:120: DeprecationWarning: jax.tree_map is deprecated: use jax.tree.map (jax v0.4.25 or newer) or jax.tree_util.tree_map (any JAX version).\n",
      "  return jax.tree_map(update_fun, params, updates)\n",
      "2024-08-14 16:56:02.064235: E external/xla/xla/service/slow_operation_alarm.cc:133] The operation took 2m28.067773s\n",
      "\n",
      "********************************\n",
      "[Compiling module jit_m_opt] Very slow compile? If you want to file a bug, run with envvar XLA_FLAGS=--xla_dump_to=/tmp/foo and attach the results.\n",
      "********************************\n"
     ]
    },
    {
     "name": "stdout",
     "output_type": "stream",
     "text": [
      "Final error of 0.0008073332719504833\n",
      "offset optimization finished in 172.75874519348145\n",
      "Calibration iteration: 2/6\n",
      "Pose Optimization:\n",
      "Pose Optimization done in 0.2734508514404297\n",
      "Frame 1 done in 0.029141902923583984 with a final error of 8.987872570287436e-05\n",
      "Frame 2 done in 0.0265653133392334 with a final error of 4.986715066479519e-05\n",
      "Frame 3 done in 0.026950836181640625 with a final error of 9.77044619503431e-05\n",
      "Frame 4 done in 0.02613210678100586 with a final error of 7.726994954282418e-05\n",
      "Frame 5 done in 0.026131868362426758 with a final error of 5.6343920732615516e-05\n",
      "Frame 6 done in 0.027943134307861328 with a final error of 5.658056397805922e-05\n",
      "Frame 7 done in 0.0270230770111084 with a final error of 5.7678131270222366e-05\n",
      "Frame 8 done in 0.0287630558013916 with a final error of 0.00010599832603475079\n",
      "Frame 9 done in 0.027332067489624023 with a final error of 6.931358075235039e-05\n",
      "Frame 10 done in 0.026467084884643555 with a final error of 5.8056681154994294e-05\n",
      "Flattened array shape: (10,)\n",
      "Mean: 7.186914444901049e-05\n",
      "Standard deviation: 1.8823760910890996e-05\n",
      "starting offset optimization\n",
      "Begining offset optimization:\n",
      "Final error of 0.0006695317570120096\n",
      "offset optimization finished in 0.02135920524597168\n",
      "Calibration iteration: 3/6\n",
      "Pose Optimization:\n",
      "Pose Optimization done in 0.28418803215026855\n",
      "Frame 1 done in 0.029089689254760742 with a final error of 0.00010028159886132926\n",
      "Frame 2 done in 0.028522253036499023 with a final error of 3.633545929915272e-05\n",
      "Frame 3 done in 0.0279998779296875 with a final error of 0.00011476904182927683\n",
      "Frame 4 done in 0.02696704864501953 with a final error of 6.515115819638595e-05\n",
      "Frame 5 done in 0.027758121490478516 with a final error of 7.780649320920929e-05\n",
      "Frame 6 done in 0.026955842971801758 with a final error of 6.580089393537492e-05\n",
      "Frame 7 done in 0.028282880783081055 with a final error of 6.20657010586001e-05\n",
      "Frame 8 done in 0.030856847763061523 with a final error of 7.357270078500733e-05\n",
      "Frame 9 done in 0.029393911361694336 with a final error of 7.18897717888467e-05\n",
      "Frame 10 done in 0.027996063232421875 with a final error of 6.276715430431068e-05\n",
      "Flattened array shape: (10,)\n",
      "Mean: 7.30440006009303e-05\n",
      "Standard deviation: 2.048309579549823e-05\n",
      "starting offset optimization\n",
      "Begining offset optimization:\n",
      "Final error of 0.0007595376227982342\n",
      "offset optimization finished in 0.02064371109008789\n",
      "Calibration iteration: 4/6\n",
      "Pose Optimization:\n",
      "Pose Optimization done in 0.2738969326019287\n",
      "Frame 1 done in 0.02815723419189453 with a final error of 0.00013377191498875618\n",
      "Frame 2 done in 0.02645397186279297 with a final error of 9.011798829305917e-05\n",
      "Frame 3 done in 0.026546001434326172 with a final error of 0.00013154782936908305\n",
      "Frame 4 done in 0.02717900276184082 with a final error of 7.009183173067868e-05\n",
      "Frame 5 done in 0.027029991149902344 with a final error of 6.085399218136445e-05\n",
      "Frame 6 done in 0.026337146759033203 with a final error of 7.274281233549118e-05\n",
      "Frame 7 done in 0.026965856552124023 with a final error of 6.065889829187654e-05\n",
      "Frame 8 done in 0.027503013610839844 with a final error of 7.33159831725061e-05\n",
      "Frame 9 done in 0.029268980026245117 with a final error of 6.610254786210135e-05\n",
      "Frame 10 done in 0.028095006942749023 with a final error of 6.570856930920854e-05\n",
      "Flattened array shape: (10,)\n",
      "Mean: 8.249124221038073e-05\n",
      "Standard deviation: 2.6310559405828826e-05\n",
      "starting offset optimization\n",
      "Begining offset optimization:\n",
      "Final error of 0.0008740053744986653\n",
      "offset optimization finished in 0.020475149154663086\n",
      "Calibration iteration: 5/6\n",
      "Pose Optimization:\n",
      "Pose Optimization done in 0.272568941116333\n",
      "Frame 1 done in 0.028367042541503906 with a final error of 0.0001322175085078925\n",
      "Frame 2 done in 0.026757001876831055 with a final error of 9.111657709581777e-05\n",
      "Frame 3 done in 0.02673935890197754 with a final error of 0.00013988942373543978\n",
      "Frame 4 done in 0.02677464485168457 with a final error of 6.85249688103795e-05\n",
      "Frame 5 done in 0.027225017547607422 with a final error of 6.056066558812745e-05\n",
      "Frame 6 done in 0.02676701545715332 with a final error of 7.549954170826823e-05\n",
      "Frame 7 done in 0.027379989624023438 with a final error of 6.263637624215335e-05\n",
      "Frame 8 done in 0.027900218963623047 with a final error of 6.545853102579713e-05\n",
      "Frame 9 done in 0.027193784713745117 with a final error of 6.416544783860445e-05\n",
      "Frame 10 done in 0.027122020721435547 with a final error of 2.9703640393563546e-05\n",
      "Flattened array shape: (10,)\n",
      "Mean: 7.897727482486516e-05\n",
      "Standard deviation: 3.201523577445187e-05\n",
      "starting offset optimization\n",
      "Begining offset optimization:\n",
      "Final error of 0.0009584410581737757\n",
      "offset optimization finished in 0.01951313018798828\n",
      "Calibration iteration: 6/6\n",
      "Pose Optimization:\n",
      "Pose Optimization done in 0.27637791633605957\n",
      "Frame 1 done in 0.028521060943603516 with a final error of 0.00012999535829294473\n",
      "Frame 2 done in 0.027293920516967773 with a final error of 9.070735541172326e-05\n",
      "Frame 3 done in 0.027040958404541016 with a final error of 0.00014615965483244509\n",
      "Frame 4 done in 0.027213096618652344 with a final error of 6.852905062260106e-05\n",
      "Frame 5 done in 0.027936935424804688 with a final error of 6.266144919209182e-05\n",
      "Frame 6 done in 0.02707529067993164 with a final error of 0.0001065841133822687\n",
      "Frame 7 done in 0.027622699737548828 with a final error of 0.00010019194451160729\n",
      "Frame 8 done in 0.02858710289001465 with a final error of 6.0300244513200596e-05\n",
      "Frame 9 done in 0.027743101119995117 with a final error of 4.94182895636186e-05\n",
      "Frame 10 done in 0.026991844177246094 with a final error of 2.9128126698196866e-05\n",
      "Flattened array shape: (10,)\n",
      "Mean: 8.436755160801113e-05\n",
      "Standard deviation: 3.5012046282645315e-05\n",
      "starting offset optimization\n",
      "Begining offset optimization:\n",
      "Final error of 0.0009966982761397958\n",
      "offset optimization finished in 0.019862890243530273\n",
      "Final pose optimization\n",
      "Pose Optimization:\n",
      "Pose Optimization done in 0.2697470188140869\n",
      "Frame 1 done in 0.027475833892822266 with a final error of 0.00012941902969032526\n",
      "Frame 2 done in 0.0270841121673584 with a final error of 8.687625086167827e-05\n",
      "Frame 3 done in 0.02656412124633789 with a final error of 0.0001504241517977789\n",
      "Frame 4 done in 0.02660512924194336 with a final error of 6.946228677406907e-05\n",
      "Frame 5 done in 0.026578903198242188 with a final error of 6.188618135638535e-05\n",
      "Frame 6 done in 0.026880979537963867 with a final error of 0.00010818641021614894\n",
      "Frame 7 done in 0.027228116989135742 with a final error of 0.00010072170698549598\n",
      "Frame 8 done in 0.027671098709106445 with a final error of 5.895461072213948e-05\n",
      "Frame 9 done in 0.026927947998046875 with a final error of 6.0852231399621814e-05\n",
      "Frame 10 done in 0.026396989822387695 with a final error of 2.9008353521930985e-05\n",
      "Flattened array shape: (10,)\n",
      "Mean: 8.557912224205211e-05\n",
      "Standard deviation: 3.494356496958062e-05\n"
     ]
    }
   ],
   "source": [
    "fit_path, transform_path = main.run_stac(cfg, kp_data, base_path=base_path)"
   ]
  },
  {
   "cell_type": "code",
   "execution_count": null,
   "metadata": {},
   "outputs": [],
   "source": []
  }
 ],
 "metadata": {
  "kernelspec": {
   "display_name": "stac-mjx",
   "language": "python",
   "name": "python3"
  },
  "language_info": {
   "codemirror_mode": {
    "name": "ipython",
    "version": 3
   },
   "file_extension": ".py",
   "mimetype": "text/x-python",
   "name": "python",
   "nbconvert_exporter": "python",
   "pygments_lexer": "ipython3",
   "version": "3.11.9"
  }
 },
 "nbformat": 4,
 "nbformat_minor": 2
}
