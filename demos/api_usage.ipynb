{
 "cells": [
  {
   "cell_type": "code",
   "execution_count": 1,
   "metadata": {},
   "outputs": [],
   "source": [
    "%load_ext autoreload\n",
    "%autoreload 2\n",
    "\n",
    "import stac_mjx \n",
    "from pathlib import Path\n",
    "        \n",
    "# Choose parent directory as base path to make relative pathing easier \n",
    "base_path = Path.cwd().parent\n",
    "stac_config_path = base_path / \"demos/demo_stac.yaml\"\n",
    "model_config_path = base_path / \"configs/rodent.yaml\""
   ]
  },
  {
   "cell_type": "markdown",
   "metadata": {},
   "source": [
    "### Load configs"
   ]
  },
  {
   "cell_type": "code",
   "execution_count": 2,
   "metadata": {},
   "outputs": [],
   "source": [
    "stac_cfg, model_cfg = stac_mjx.load_configs(stac_config_path, model_config_path)"
   ]
  },
  {
   "cell_type": "markdown",
   "metadata": {},
   "source": [
    "### Prepare your data"
   ]
  },
  {
   "cell_type": "code",
   "execution_count": 3,
   "metadata": {},
   "outputs": [],
   "source": [
    "data_path = base_path / stac_cfg.data_path \n",
    "kp_data, sorted_kp_names = stac_mjx.load_data(data_path, model_cfg)"
   ]
  },
  {
   "cell_type": "markdown",
   "metadata": {},
   "source": [
    "### Run stac"
   ]
  },
  {
   "cell_type": "code",
   "execution_count": 4,
   "metadata": {},
   "outputs": [
    {
     "name": "stdout",
     "output_type": "stream",
     "text": [
      "Root Optimization:\n"
     ]
    },
    {
     "name": "stderr",
     "output_type": "stream",
     "text": [
      "2024-08-30 11:03:32.319626: E external/xla/xla/service/slow_operation_alarm.cc:65] \n",
      "********************************\n",
      "[Compiling module jit_q_opt] Very slow compile? If you want to file a bug, run with envvar XLA_FLAGS=--xla_dump_to=/tmp/foo and attach the results.\n",
      "********************************\n",
      "2024-08-30 11:09:27.041598: E external/xla/xla/service/slow_operation_alarm.cc:133] The operation took 7m54.725408s\n",
      "\n",
      "********************************\n",
      "[Compiling module jit_q_opt] Very slow compile? If you want to file a bug, run with envvar XLA_FLAGS=--xla_dump_to=/tmp/foo and attach the results.\n",
      "********************************\n"
     ]
    },
    {
     "name": "stdout",
     "output_type": "stream",
     "text": [
      "q_opt 1 finished in 537.9096128940582 with an error of 0.0008740306948311627\n",
      "Replace 1 finished in 43.293713092803955\n",
      "starting q_opt 2\n",
      "q_opt 1 finished in 0.009527206420898438 with an error of 0.0006967128720134497\n",
      "Replace 2 finished in 0.0012009143829345703\n",
      "Root optimization finished in 581.319226026535\n",
      "Calibration iteration: 1/6\n",
      "Pose Optimization:\n",
      "Pose Optimization done in 0.38927412033081055\n",
      "Frame 1 done in 0.0837550163269043 with a final error of 0.00022890132095199078\n",
      "Frame 2 done in 0.030086994171142578 with a final error of 0.00020981981651857495\n",
      "Frame 3 done in 0.03147006034851074 with a final error of 0.0001848320971475914\n",
      "Frame 4 done in 0.03068375587463379 with a final error of 0.00016470930131617934\n",
      "Frame 5 done in 0.03792881965637207 with a final error of 0.00014780914352741092\n",
      "Frame 6 done in 0.03120589256286621 with a final error of 0.00013331846275832504\n",
      "Frame 7 done in 0.030972003936767578 with a final error of 0.00012161406630184501\n",
      "Frame 8 done in 0.030621767044067383 with a final error of 0.00010930538701359183\n",
      "Frame 9 done in 0.011601924896240234 with a final error of 0.00010728859342634678\n",
      "Frame 10 done in 0.02984023094177246 with a final error of 5.7451619795756415e-05\n",
      "Flattened array shape: (10,)\n",
      "Mean: 0.00014650498633272946\n",
      "Standard deviation: 4.923989035887644e-05\n",
      "starting offset optimization\n",
      "Begining offset optimization:\n"
     ]
    },
    {
     "name": "stderr",
     "output_type": "stream",
     "text": [
      "/Users/charleszhang/miniforge3/envs/stac-mjx/lib/python3.11/site-packages/jaxopt/_src/optax_wrapper.py:120: DeprecationWarning: jax.tree_map is deprecated: use jax.tree.map (jax v0.4.25 or newer) or jax.tree_util.tree_map (any JAX version).\n",
      "  return jax.tree_map(update_fun, params, updates)\n",
      "2024-08-30 11:13:15.705373: E external/xla/xla/service/slow_operation_alarm.cc:133] The operation took 2m36.494428s\n",
      "\n",
      "********************************\n",
      "[Compiling module jit_m_opt] Very slow compile? If you want to file a bug, run with envvar XLA_FLAGS=--xla_dump_to=/tmp/foo and attach the results.\n",
      "********************************\n"
     ]
    },
    {
     "name": "stdout",
     "output_type": "stream",
     "text": [
      "Final error of 0.0008380845538340509\n",
      "offset optimization finished in 184.03985404968262\n",
      "Calibration iteration: 2/6\n",
      "Pose Optimization:\n",
      "Pose Optimization done in 0.2900989055633545\n",
      "Frame 1 done in 0.03162431716918945 with a final error of 1.1411078958190046e-05\n",
      "Frame 2 done in 0.02774977684020996 with a final error of 6.909502189955674e-06\n",
      "Frame 3 done in 0.02774786949157715 with a final error of 1.1457681466708891e-05\n",
      "Frame 4 done in 0.026777029037475586 with a final error of 6.175150247145211e-06\n",
      "Frame 5 done in 0.026341915130615234 with a final error of 1.9860350221279077e-05\n",
      "Frame 6 done in 0.0265352725982666 with a final error of 7.791326424921863e-06\n",
      "Frame 7 done in 0.027483701705932617 with a final error of 1.2964310371899046e-05\n",
      "Frame 8 done in 0.029125690460205078 with a final error of 5.7540546549716964e-06\n",
      "Frame 9 done in 0.03620123863220215 with a final error of 8.202971002901904e-06\n",
      "Frame 10 done in 0.02993917465209961 with a final error of 8.9601426225272e-06\n",
      "Flattened array shape: (10,)\n",
      "Mean: 9.948656952474266e-06\n",
      "Standard deviation: 4.018716481368756e-06\n",
      "starting offset optimization\n",
      "Begining offset optimization:\n",
      "Final error of 0.0006915951962582767\n",
      "offset optimization finished in 0.019496917724609375\n",
      "Calibration iteration: 3/6\n",
      "Pose Optimization:\n",
      "Pose Optimization done in 0.2704451084136963\n",
      "Frame 1 done in 0.027379989624023438 with a final error of 6.253591436689021e-06\n",
      "Frame 2 done in 0.02779698371887207 with a final error of 1.4736633602296934e-05\n",
      "Frame 3 done in 0.026546955108642578 with a final error of 1.872341636044439e-05\n",
      "Frame 4 done in 0.02735614776611328 with a final error of 8.329601769219153e-06\n",
      "Frame 5 done in 0.02629995346069336 with a final error of 3.0050676286919042e-05\n",
      "Frame 6 done in 0.026232242584228516 with a final error of 1.837674790294841e-05\n",
      "Frame 7 done in 0.027041912078857422 with a final error of 8.354975761903916e-06\n",
      "Frame 8 done in 0.02778005599975586 with a final error of 7.354761692113243e-06\n",
      "Frame 9 done in 0.027140140533447266 with a final error of 5.4347701734513976e-06\n",
      "Frame 10 done in 0.026683807373046875 with a final error of 3.1100214982870966e-05\n",
      "Flattened array shape: (10,)\n",
      "Mean: 1.4871539860905614e-05\n",
      "Standard deviation: 9.088475053431466e-06\n",
      "starting offset optimization\n",
      "Begining offset optimization:\n",
      "Final error of 0.0006523464107885957\n",
      "offset optimization finished in 0.018739938735961914\n",
      "Calibration iteration: 4/6\n",
      "Pose Optimization:\n",
      "Pose Optimization done in 0.25788283348083496\n",
      "Frame 1 done in 0.02761697769165039 with a final error of 2.205053715442773e-05\n",
      "Frame 2 done in 0.0261688232421875 with a final error of 2.3906379283289425e-05\n",
      "Frame 3 done in 0.026662111282348633 with a final error of 1.729781251924578e-05\n",
      "Frame 4 done in 0.026647090911865234 with a final error of 6.905936970724724e-06\n",
      "Frame 5 done in 0.02666306495666504 with a final error of 6.520999704662245e-06\n",
      "Frame 6 done in 0.026068925857543945 with a final error of 1.044065265887184e-05\n",
      "Frame 7 done in 0.028018951416015625 with a final error of 7.1059494075598195e-06\n",
      "Frame 8 done in 0.029552936553955078 with a final error of 4.01246506953612e-06\n",
      "Frame 9 done in 0.00927734375 with a final error of 8.094839358818717e-06\n",
      "Frame 10 done in 0.031033754348754883 with a final error of 5.843391136295395e-06\n",
      "Flattened array shape: (10,)\n",
      "Mean: 1.1217895917070564e-05\n",
      "Standard deviation: 6.81199071550509e-06\n",
      "starting offset optimization\n",
      "Begining offset optimization:\n",
      "Final error of 0.0008061480475589633\n",
      "offset optimization finished in 0.01944136619567871\n",
      "Calibration iteration: 5/6\n",
      "Pose Optimization:\n",
      "Pose Optimization done in 0.27549004554748535\n",
      "Frame 1 done in 0.028265953063964844 with a final error of 1.7644156287133228e-06\n",
      "Frame 2 done in 0.028943777084350586 with a final error of 2.948524706880562e-05\n",
      "Frame 3 done in 0.030536890029907227 with a final error of 2.8597663913387805e-05\n",
      "Frame 4 done in 0.030678987503051758 with a final error of 1.693754347797949e-05\n",
      "Frame 5 done in 0.02869105339050293 with a final error of 7.489315066777635e-06\n",
      "Frame 6 done in 0.02822089195251465 with a final error of 1.797505137801636e-05\n",
      "Frame 7 done in 0.029932022094726562 with a final error of 1.1738387001969386e-05\n",
      "Frame 8 done in 0.03010416030883789 with a final error of 3.4613351544976467e-06\n",
      "Frame 9 done in 0.010128974914550781 with a final error of 5.871419489267282e-06\n",
      "Frame 10 done in 0.02974390983581543 with a final error of 4.68022972199833e-06\n",
      "Flattened array shape: (10,)\n",
      "Mean: 1.2800061085727066e-05\n",
      "Standard deviation: 9.61314253800083e-06\n",
      "starting offset optimization\n",
      "Begining offset optimization:\n",
      "Final error of 0.0008939061663113534\n",
      "offset optimization finished in 0.020013093948364258\n",
      "Calibration iteration: 6/6\n",
      "Pose Optimization:\n",
      "Pose Optimization done in 0.2834749221801758\n",
      "Frame 1 done in 0.03154110908508301 with a final error of 4.91184482598328e-06\n",
      "Frame 2 done in 0.030118227005004883 with a final error of 4.213423380861059e-06\n",
      "Frame 3 done in 0.028731107711791992 with a final error of 1.410570530424593e-05\n",
      "Frame 4 done in 0.029465913772583008 with a final error of 1.2994731150683947e-05\n",
      "Frame 5 done in 0.0277559757232666 with a final error of 1.4421345440496225e-05\n",
      "Frame 6 done in 0.026679039001464844 with a final error of 1.1991121937171556e-05\n",
      "Frame 7 done in 0.02828192710876465 with a final error of 5.676869477611035e-06\n",
      "Frame 8 done in 0.027343034744262695 with a final error of 9.357620001537725e-06\n",
      "Frame 9 done in 0.02688121795654297 with a final error of 4.746553258883068e-06\n",
      "Frame 10 done in 0.02637171745300293 with a final error of 3.5478835798130604e-06\n",
      "Flattened array shape: (10,)\n",
      "Mean: 8.596710358688142e-06\n",
      "Standard deviation: 4.211297436995665e-06\n",
      "starting offset optimization\n",
      "Begining offset optimization:\n",
      "Final error of 0.0009413688676431775\n",
      "offset optimization finished in 0.01792311668395996\n",
      "Final pose optimization\n",
      "Pose Optimization:\n",
      "Pose Optimization done in 0.28704094886779785\n",
      "Frame 1 done in 0.02824997901916504 with a final error of 3.339833483551047e-06\n",
      "Frame 2 done in 0.028151750564575195 with a final error of 5.81361973672756e-06\n",
      "Frame 3 done in 0.028687238693237305 with a final error of 1.3134792425262276e-05\n",
      "Frame 4 done in 0.028594970703125 with a final error of 1.295702259085374e-05\n",
      "Frame 5 done in 0.028529882431030273 with a final error of 1.4758122233615723e-05\n",
      "Frame 6 done in 0.02926492691040039 with a final error of 1.241929658135632e-05\n",
      "Frame 7 done in 0.029896259307861328 with a final error of 1.0499762538529467e-05\n",
      "Frame 8 done in 0.027881145477294922 with a final error of 4.285193426767364e-06\n",
      "Frame 9 done in 0.02863931655883789 with a final error of 7.278669727384113e-06\n",
      "Frame 10 done in 0.02893519401550293 with a final error of 4.782757969223894e-06\n",
      "Flattened array shape: (10,)\n",
      "Mean: 8.926907867135014e-06\n",
      "Standard deviation: 4.061600520799402e-06\n"
     ]
    }
   ],
   "source": [
    "fit_path, transform_path = stac_mjx.run_stac(\n",
    "    stac_cfg, \n",
    "    model_cfg, \n",
    "    kp_data, \n",
    "    sorted_kp_names, \n",
    "    base_path=base_path\n",
    ")"
   ]
  },
  {
   "cell_type": "code",
   "execution_count": null,
   "metadata": {},
   "outputs": [],
   "source": []
  }
 ],
 "metadata": {
  "kernelspec": {
   "display_name": "stac-mjx",
   "language": "python",
   "name": "python3"
  },
  "language_info": {
   "codemirror_mode": {
    "name": "ipython",
    "version": 3
   },
   "file_extension": ".py",
   "mimetype": "text/x-python",
   "name": "python",
   "nbconvert_exporter": "python",
   "pygments_lexer": "ipython3",
   "version": "3.11.9"
  }
 },
 "nbformat": 4,
 "nbformat_minor": 2
}
