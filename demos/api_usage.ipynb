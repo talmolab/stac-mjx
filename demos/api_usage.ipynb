{
 "cells": [
  {
   "cell_type": "code",
   "execution_count": 1,
   "metadata": {},
   "outputs": [],
   "source": [
    "%load_ext autoreload\n",
    "%autoreload 2\n",
    "\n",
    "import stac_mjx \n",
    "from pathlib import Path\n",
    "        \n",
    "# Choose parent directory as base path to make relative pathing easier \n",
    "base_path = Path.cwd().parent\n",
    "stac_config_path = base_path / \"demos/demo_stac.yaml\"\n",
    "model_config_path = base_path / \"configs/rodent.yaml\""
   ]
  },
  {
   "cell_type": "markdown",
   "metadata": {},
   "source": [
    "### Load configs"
   ]
  },
  {
   "cell_type": "code",
   "execution_count": 2,
   "metadata": {},
   "outputs": [],
   "source": [
    "stac_cfg, model_cfg = stac_mjx.load_configs(stac_config_path, model_config_path)"
   ]
  },
  {
   "cell_type": "markdown",
   "metadata": {},
   "source": [
    "### Prepare your data"
   ]
  },
  {
   "cell_type": "code",
   "execution_count": 3,
   "metadata": {},
   "outputs": [],
   "source": [
    "data_path = base_path / stac_cfg.data_path \n",
    "kp_data, sorted_kp_names = stac_mjx.load_data(data_path, model_cfg)"
   ]
  },
  {
   "cell_type": "markdown",
   "metadata": {},
   "source": [
    "### Run stac"
   ]
  },
  {
   "cell_type": "code",
   "execution_count": 4,
   "metadata": {},
   "outputs": [
    {
     "name": "stdout",
     "output_type": "stream",
     "text": [
      "Root Optimization:\n",
      "q_opt 1 finished in 92.1444718837738 at iteration 843, Loss: 0.005214483477175236\n",
      "Replace 1 finished in 52.11357522010803\n",
      "Calibration iteration: 1/6\n",
      "Pose Optimization:\n",
      "Pose Optimization done in 1.1713647842407227\n",
      "Frame 1 done in 0.19501686096191406 with a final error of 0.00625859247520566 after 4734 total iterations\n",
      "Frame 2 done in 0.12440705299377441 with a final error of 0.006064415909349918 after 4257 total iterations\n",
      "Frame 3 done in 0.11017704010009766 with a final error of 0.005973858758807182 after 3792 total iterations\n",
      "Frame 4 done in 0.09849405288696289 with a final error of 0.005955846980214119 after 3380 total iterations\n",
      "Frame 5 done in 0.09748601913452148 with a final error of 0.0059442175552248955 after 3340 total iterations\n",
      "Frame 6 done in 0.09869027137756348 with a final error of 0.0059257629327476025 after 3296 total iterations\n",
      "Frame 7 done in 0.10578680038452148 with a final error of 0.0059039113111793995 after 3259 total iterations\n",
      "Frame 8 done in 0.10579299926757812 with a final error of 0.005897922441363335 after 3227 total iterations\n",
      "Frame 9 done in 0.10439395904541016 with a final error of 0.0058896420523524284 after 3188 total iterations\n",
      "Frame 10 done in 0.09837484359741211 with a final error of 0.005893457680940628 after 3104 total iterations\n",
      "Mean error: 0.005970762576907873\n",
      "Standard deviation of error: 0.00010812494292622432\n",
      "Mean total iters: 3557.699951171875\n",
      "Mean total iters: 511.48431396484375\n",
      "starting offset optimization\n",
      "Begining offset optimization:\n"
     ]
    },
    {
     "name": "stderr",
     "output_type": "stream",
     "text": [
      "/Users/charleszhang/miniforge3/envs/stac-mjx/lib/python3.11/site-packages/jaxopt/_src/optax_wrapper.py:120: DeprecationWarning: jax.tree_map is deprecated: use jax.tree.map (jax v0.4.25 or newer) or jax.tree_util.tree_map (any JAX version).\n",
      "  return jax.tree_map(update_fun, params, updates)\n",
      "2024-08-29 21:31:45.756888: E external/xla/xla/service/slow_operation_alarm.cc:65] \n",
      "********************************\n",
      "[Compiling module jit_m_opt] Very slow compile? If you want to file a bug, run with envvar XLA_FLAGS=--xla_dump_to=/tmp/foo and attach the results.\n",
      "********************************\n",
      "2024-08-29 21:32:25.782005: E external/xla/xla/service/slow_operation_alarm.cc:133] The operation took 2m40.025689s\n",
      "\n",
      "********************************\n",
      "[Compiling module jit_m_opt] Very slow compile? If you want to file a bug, run with envvar XLA_FLAGS=--xla_dump_to=/tmp/foo and attach the results.\n",
      "********************************\n"
     ]
    },
    {
     "name": "stdout",
     "output_type": "stream",
     "text": [
      "Final error of 0.0007296446128748357\n",
      "offset optimization finished in 185.3457841873169\n",
      "Calibration iteration: 2/6\n",
      "Pose Optimization:\n",
      "Pose Optimization done in 0.15817809104919434\n",
      "Frame 1 done in 0.013925313949584961 with a final error of 0.0009155222796835005 after 123 total iterations\n",
      "Frame 2 done in 0.017615079879760742 with a final error of 0.0007154613849706948 after 392 total iterations\n",
      "Frame 3 done in 0.016335248947143555 with a final error of 0.0007011599955148995 after 351 total iterations\n",
      "Frame 4 done in 0.016286849975585938 with a final error of 0.0006970766698941588 after 341 total iterations\n",
      "Frame 5 done in 0.015930891036987305 with a final error of 0.0006913683610036969 after 334 total iterations\n",
      "Frame 6 done in 0.015486955642700195 with a final error of 0.0006880005821585655 after 322 total iterations\n",
      "Frame 7 done in 0.015380144119262695 with a final error of 0.0006845549214631319 after 309 total iterations\n",
      "Frame 8 done in 0.01506185531616211 with a final error of 0.0006847705226391554 after 304 total iterations\n",
      "Frame 9 done in 0.014583110809326172 with a final error of 0.0006822302239015698 after 289 total iterations\n",
      "Frame 10 done in 0.014580011367797852 with a final error of 0.000680179800838232 after 284 total iterations\n",
      "Mean error: 0.000714032503310591\n",
      "Standard deviation of error: 6.79170698276721e-05\n",
      "Mean total iters: 304.8999938964844\n",
      "Mean total iters: 67.78561401367188\n",
      "starting offset optimization\n",
      "Begining offset optimization:\n",
      "Final error of 0.0008449497981928289\n",
      "offset optimization finished in 0.01914191246032715\n",
      "Calibration iteration: 3/6\n",
      "Pose Optimization:\n",
      "Pose Optimization done in 0.17794513702392578\n",
      "Frame 1 done in 0.02237677574157715 with a final error of 0.0005928044556640089 after 408 total iterations\n",
      "Frame 2 done in 0.02028203010559082 with a final error of 0.0005813868483528495 after 399 total iterations\n",
      "Frame 3 done in 0.02059316635131836 with a final error of 0.0005714537692256272 after 378 total iterations\n",
      "Frame 4 done in 0.017627954483032227 with a final error of 0.0005709715187549591 after 368 total iterations\n",
      "Frame 5 done in 0.016813993453979492 with a final error of 0.0005682525807060301 after 357 total iterations\n",
      "Frame 6 done in 0.016724109649658203 with a final error of 0.0005670061218552291 after 347 total iterations\n",
      "Frame 7 done in 0.01613473892211914 with a final error of 0.0005648410296998918 after 333 total iterations\n",
      "Frame 8 done in 0.015786170959472656 with a final error of 0.0005663040210492909 after 327 total iterations\n",
      "Frame 9 done in 0.01584005355834961 with a final error of 0.0005643570912070572 after 313 total iterations\n",
      "Frame 10 done in 0.015584945678710938 with a final error of 0.0005620404263027012 after 310 total iterations\n",
      "Mean error: 0.0005709418328478932\n",
      "Standard deviation of error: 8.89595685293898e-06\n",
      "Mean total iters: 354.0\n",
      "Mean total iters: 32.49307632446289\n",
      "starting offset optimization\n",
      "Begining offset optimization:\n",
      "Final error of 0.0008611984085291624\n",
      "offset optimization finished in 0.0186159610748291\n",
      "Calibration iteration: 4/6\n",
      "Pose Optimization:\n",
      "Pose Optimization done in 0.1607828140258789\n",
      "Frame 1 done in 0.0189058780670166 with a final error of 0.000522661255672574 after 383 total iterations\n",
      "Frame 2 done in 0.01793193817138672 with a final error of 0.0005135050741955638 after 366 total iterations\n",
      "Frame 3 done in 0.016732215881347656 with a final error of 0.0005046805017627776 after 346 total iterations\n",
      "Frame 4 done in 0.016103029251098633 with a final error of 0.000503747898619622 after 337 total iterations\n",
      "Frame 5 done in 0.015828847885131836 with a final error of 0.000501668662764132 after 327 total iterations\n",
      "Frame 6 done in 0.015500068664550781 with a final error of 0.0005009516607969999 after 316 total iterations\n",
      "Frame 7 done in 0.015170812606811523 with a final error of 0.0004992492031306028 after 304 total iterations\n",
      "Frame 8 done in 0.015057086944580078 with a final error of 0.0005006547435186803 after 297 total iterations\n",
      "Frame 9 done in 0.014881134033203125 with a final error of 0.0004989245790056884 after 287 total iterations\n",
      "Frame 10 done in 0.014518022537231445 with a final error of 0.0004968150751665235 after 282 total iterations\n",
      "Mean error: 0.0005042858538217843\n",
      "Standard deviation of error: 7.5111233854840975e-06\n",
      "Mean total iters: 324.5\n",
      "Mean total iters: 31.985153198242188\n",
      "starting offset optimization\n",
      "Begining offset optimization:\n",
      "Final error of 0.000732877291738987\n",
      "offset optimization finished in 0.01777505874633789\n",
      "Calibration iteration: 5/6\n",
      "Pose Optimization:\n",
      "Pose Optimization done in 0.1509380340576172\n",
      "Frame 1 done in 0.016996145248413086 with a final error of 0.0004666654276661575 after 356 total iterations\n",
      "Frame 2 done in 0.016072988510131836 with a final error of 0.0004578176885843277 after 338 total iterations\n",
      "Frame 3 done in 0.015819072723388672 with a final error of 0.0004495149478316307 after 321 total iterations\n",
      "Frame 4 done in 0.015313863754272461 with a final error of 0.0004485645331442356 after 311 total iterations\n",
      "Frame 5 done in 0.014924049377441406 with a final error of 0.0004467633552849293 after 299 total iterations\n",
      "Frame 6 done in 0.014853715896606445 with a final error of 0.0004461146309040487 after 292 total iterations\n",
      "Frame 7 done in 0.014408111572265625 with a final error of 0.00044453225564211607 after 278 total iterations\n",
      "Frame 8 done in 0.014304876327514648 with a final error of 0.0004457937029656023 after 269 total iterations\n",
      "Frame 9 done in 0.014071941375732422 with a final error of 0.0004441566998139024 after 262 total iterations\n",
      "Frame 10 done in 0.014022111892700195 with a final error of 0.0004421530175022781 after 254 total iterations\n",
      "Mean error: 0.0004492076113820076\n",
      "Standard deviation of error: 7.097537945810473e-06\n",
      "Mean total iters: 298.0\n",
      "Mean total iters: 31.893573760986328\n",
      "starting offset optimization\n",
      "Begining offset optimization:\n",
      "Final error of 0.0006351068150252104\n",
      "offset optimization finished in 0.01753091812133789\n",
      "Calibration iteration: 6/6\n",
      "Pose Optimization:\n",
      "Pose Optimization done in 0.14591622352600098\n",
      "Frame 1 done in 0.016750812530517578 with a final error of 0.0004190077306702733 after 334 total iterations\n",
      "Frame 2 done in 0.016167879104614258 with a final error of 0.0004110384325031191 after 313 total iterations\n",
      "Frame 3 done in 0.01528024673461914 with a final error of 0.0004032111319247633 after 295 total iterations\n",
      "Frame 4 done in 0.014737844467163086 with a final error of 0.0004023105138912797 after 286 total iterations\n",
      "Frame 5 done in 0.01452493667602539 with a final error of 0.00040069466922432184 after 276 total iterations\n",
      "Frame 6 done in 0.01415705680847168 with a final error of 0.00040008456562645733 after 264 total iterations\n",
      "Frame 7 done in 0.013932943344116211 with a final error of 0.00039858839591033757 after 256 total iterations\n",
      "Frame 8 done in 0.013506889343261719 with a final error of 0.00039968040073290467 after 243 total iterations\n",
      "Frame 9 done in 0.013415098190307617 with a final error of 0.00039723736699670553 after 239 total iterations\n",
      "Frame 10 done in 0.013291120529174805 with a final error of 0.00039628311060369015 after 233 total iterations\n",
      "Mean error: 0.0004028136027045548\n",
      "Standard deviation of error: 6.660760845988989e-06\n",
      "Mean total iters: 273.8999938964844\n",
      "Mean total iters: 31.62420082092285\n",
      "starting offset optimization\n",
      "Begining offset optimization:\n",
      "Final error of 0.0005606195772998035\n",
      "offset optimization finished in 0.017837047576904297\n",
      "Final pose optimization\n",
      "Pose Optimization:\n",
      "Pose Optimization done in 0.12298297882080078\n",
      "Frame 1 done in 0.015627145767211914 with a final error of 0.0003786953166127205 after 308 total iterations\n",
      "Frame 2 done in 0.014727115631103516 with a final error of 0.00037160387728363276 after 290 total iterations\n",
      "Frame 3 done in 0.014210939407348633 with a final error of 0.00036410766188055277 after 271 total iterations\n",
      "Frame 4 done in 0.014015913009643555 with a final error of 0.0003633418236859143 after 262 total iterations\n",
      "Frame 5 done in 0.013588905334472656 with a final error of 0.0003618634946178645 after 250 total iterations\n",
      "Frame 6 done in 0.013424158096313477 with a final error of 0.00036129611544311047 after 241 total iterations\n",
      "Frame 7 done in 0.013080120086669922 with a final error of 0.0003599071060307324 after 228 total iterations\n",
      "Frame 8 done in 0.008327960968017578 with a final error of 0.00044196011731401086 after 54 total iterations\n",
      "Frame 9 done in 0.008577108383178711 with a final error of 0.0004338758299127221 after 52 total iterations\n",
      "Frame 10 done in 0.007256746292114258 with a final error of 0.00042566400952637196 after 12 total iterations\n",
      "Mean error: 0.00038623152067884803\n",
      "Standard deviation of error: 3.181712236255407e-05\n",
      "Mean total iters: 196.8000030517578\n",
      "Mean total iters: 105.86576843261719\n"
     ]
    }
   ],
   "source": [
    "fit_path, transform_path = stac_mjx.run_stac(\n",
    "    stac_cfg, \n",
    "    model_cfg, \n",
    "    kp_data, \n",
    "    sorted_kp_names, \n",
    "    base_path=base_path\n",
    ")"
   ]
  },
  {
   "cell_type": "code",
   "execution_count": null,
   "metadata": {},
   "outputs": [],
   "source": []
  }
 ],
 "metadata": {
  "kernelspec": {
   "display_name": "stac-mjx",
   "language": "python",
   "name": "python3"
  },
  "language_info": {
   "codemirror_mode": {
    "name": "ipython",
    "version": 3
   },
   "file_extension": ".py",
   "mimetype": "text/x-python",
   "name": "python",
   "nbconvert_exporter": "python",
   "pygments_lexer": "ipython3",
   "version": "3.11.9"
  }
 },
 "nbformat": 4,
 "nbformat_minor": 2
}
