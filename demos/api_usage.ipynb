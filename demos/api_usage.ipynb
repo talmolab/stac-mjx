{
 "cells": [
  {
   "cell_type": "code",
   "execution_count": 1,
   "metadata": {},
   "outputs": [],
   "source": [
    "%load_ext autoreload\n",
    "%autoreload 2\n",
    "\n",
    "import stac_mjx \n",
    "from pathlib import Path\n",
    "        \n",
    "# Choose parent directory as base path to make relative pathing easier \n",
    "base_path = Path.cwd().parent\n",
    "stac_config_path = base_path / \"demos/demo_stac.yaml\"\n",
    "model_config_path = base_path / \"configs/rodent.yaml\""
   ]
  },
  {
   "cell_type": "markdown",
   "metadata": {},
   "source": [
    "### Load configs"
   ]
  },
  {
   "cell_type": "code",
   "execution_count": 2,
   "metadata": {},
   "outputs": [],
   "source": [
    "stac_cfg, model_cfg = stac_mjx.load_configs(stac_config_path, model_config_path)"
   ]
  },
  {
   "cell_type": "markdown",
   "metadata": {},
   "source": [
    "### Prepare your data"
   ]
  },
  {
   "cell_type": "code",
   "execution_count": 3,
   "metadata": {},
   "outputs": [],
   "source": [
    "data_path = base_path / stac_cfg.data_path \n",
    "kp_data, sorted_kp_names = stac_mjx.load_data(data_path, model_cfg)"
   ]
  },
  {
   "cell_type": "markdown",
   "metadata": {},
   "source": [
    "### Run stac"
   ]
  },
  {
   "cell_type": "code",
   "execution_count": 4,
   "metadata": {},
   "outputs": [
    {
     "name": "stdout",
     "output_type": "stream",
     "text": [
      "Root Optimization:\n"
     ]
    },
    {
     "name": "stderr",
     "output_type": "stream",
     "text": [
      "2024-08-23 17:19:06.655857: E external/xla/xla/service/slow_operation_alarm.cc:65] \n",
      "********************************\n",
      "[Compiling module jit_q_opt] Very slow compile? If you want to file a bug, run with envvar XLA_FLAGS=--xla_dump_to=/tmp/foo and attach the results.\n",
      "********************************\n",
      "2024-08-23 17:25:15.756443: E external/xla/xla/service/slow_operation_alarm.cc:133] The operation took 8m9.105418s\n",
      "\n",
      "********************************\n",
      "[Compiling module jit_q_opt] Very slow compile? If you want to file a bug, run with envvar XLA_FLAGS=--xla_dump_to=/tmp/foo and attach the results.\n",
      "********************************\n"
     ]
    },
    {
     "name": "stdout",
     "output_type": "stream",
     "text": [
      "q_opt 1 finished in 548.1392040252686 with an error of 0.0008740306948311627\n",
      "Replace 1 finished in 44.33492183685303\n",
      "starting q_opt 2\n",
      "q_opt 1 finished in 0.007889032363891602 with an error of 0.0006967128720134497\n",
      "Replace 2 finished in 0.0010821819305419922\n",
      "Root optimization finished in 592.6161849498749\n",
      "Calibration iteration: 1/6\n",
      "Pose Optimization:\n",
      "Pose Optimization done in 0.34265995025634766\n",
      "Frame 1 done in 0.07228279113769531 with a final error of 0.00022890132095199078\n",
      "Frame 2 done in 0.029991865158081055 with a final error of 0.00020981981651857495\n",
      "Frame 3 done in 0.03076004981994629 with a final error of 0.0001848320971475914\n",
      "Frame 4 done in 0.03228020668029785 with a final error of 0.00016470930131617934\n",
      "Frame 5 done in 0.030214786529541016 with a final error of 0.00014780914352741092\n",
      "Frame 6 done in 0.027774810791015625 with a final error of 0.00013331846275832504\n",
      "Frame 7 done in 0.02659296989440918 with a final error of 0.00012161406630184501\n",
      "Frame 8 done in 0.02663397789001465 with a final error of 0.00010930538701359183\n",
      "Frame 9 done in 0.009305953979492188 with a final error of 0.00010728859342634678\n",
      "Frame 10 done in 0.026525020599365234 with a final error of 5.7451619795756415e-05\n",
      "Flattened array shape: (10,)\n",
      "Mean: 0.00014650498633272946\n",
      "Standard deviation: 4.923989035887644e-05\n",
      "starting offset optimization\n",
      "Begining offset optimization:\n"
     ]
    },
    {
     "name": "stderr",
     "output_type": "stream",
     "text": [
      "/Users/charleszhang/miniforge3/envs/stac-mjx/lib/python3.11/site-packages/jaxopt/_src/optax_wrapper.py:120: DeprecationWarning: jax.tree_map is deprecated: use jax.tree.map (jax v0.4.25 or newer) or jax.tree_util.tree_map (any JAX version).\n",
      "  return jax.tree_map(update_fun, params, updates)\n",
      "2024-08-23 17:29:02.222480: E external/xla/xla/service/slow_operation_alarm.cc:133] The operation took 2m35.235899s\n",
      "\n",
      "********************************\n",
      "[Compiling module jit_m_opt] Very slow compile? If you want to file a bug, run with envvar XLA_FLAGS=--xla_dump_to=/tmp/foo and attach the results.\n",
      "********************************\n"
     ]
    },
    {
     "name": "stdout",
     "output_type": "stream",
     "text": [
      "Final error of 0.0008380845538340509\n",
      "offset optimization finished in 180.9957149028778\n",
      "Calibration iteration: 2/6\n",
      "Pose Optimization:\n",
      "Pose Optimization done in 0.2686617374420166\n",
      "Frame 1 done in 0.029412031173706055 with a final error of 1.1411078958190046e-05\n",
      "Frame 2 done in 0.02656698226928711 with a final error of 6.909502189955674e-06\n",
      "Frame 3 done in 0.02579522132873535 with a final error of 1.1457681466708891e-05\n",
      "Frame 4 done in 0.026431798934936523 with a final error of 6.175150247145211e-06\n",
      "Frame 5 done in 0.02626323699951172 with a final error of 1.9860350221279077e-05\n",
      "Frame 6 done in 0.025790929794311523 with a final error of 7.791326424921863e-06\n",
      "Frame 7 done in 0.026620864868164062 with a final error of 1.2964310371899046e-05\n",
      "Frame 8 done in 0.028164148330688477 with a final error of 5.7540546549716964e-06\n",
      "Frame 9 done in 0.02711200714111328 with a final error of 8.202971002901904e-06\n",
      "Frame 10 done in 0.025967836380004883 with a final error of 8.9601426225272e-06\n",
      "Flattened array shape: (10,)\n",
      "Mean: 9.948656952474266e-06\n",
      "Standard deviation: 4.018716481368756e-06\n",
      "starting offset optimization\n",
      "Begining offset optimization:\n",
      "Final error of 0.0006915951962582767\n",
      "offset optimization finished in 0.018205881118774414\n",
      "Calibration iteration: 3/6\n",
      "Pose Optimization:\n",
      "Pose Optimization done in 0.2906670570373535\n",
      "Frame 1 done in 0.03296804428100586 with a final error of 6.253591436689021e-06\n",
      "Frame 2 done in 0.030184030532836914 with a final error of 1.4736633602296934e-05\n",
      "Frame 3 done in 0.03064107894897461 with a final error of 1.872341636044439e-05\n",
      "Frame 4 done in 0.030033111572265625 with a final error of 8.329601769219153e-06\n",
      "Frame 5 done in 0.03081488609313965 with a final error of 3.0050676286919042e-05\n",
      "Frame 6 done in 0.029893159866333008 with a final error of 1.837674790294841e-05\n",
      "Frame 7 done in 0.026872873306274414 with a final error of 8.354975761903916e-06\n",
      "Frame 8 done in 0.02694392204284668 with a final error of 7.354761692113243e-06\n",
      "Frame 9 done in 0.026036977767944336 with a final error of 5.4347701734513976e-06\n",
      "Frame 10 done in 0.02608776092529297 with a final error of 3.1100214982870966e-05\n",
      "Flattened array shape: (10,)\n",
      "Mean: 1.4871539860905614e-05\n",
      "Standard deviation: 9.088475053431466e-06\n",
      "starting offset optimization\n",
      "Begining offset optimization:\n",
      "Final error of 0.0006523464107885957\n",
      "offset optimization finished in 0.018097877502441406\n",
      "Calibration iteration: 4/6\n",
      "Pose Optimization:\n",
      "Pose Optimization done in 0.2543199062347412\n",
      "Frame 1 done in 0.028143882751464844 with a final error of 2.205053715442773e-05\n",
      "Frame 2 done in 0.02649712562561035 with a final error of 2.3906379283289425e-05\n",
      "Frame 3 done in 0.026854991912841797 with a final error of 1.729781251924578e-05\n",
      "Frame 4 done in 0.026554107666015625 with a final error of 6.905936970724724e-06\n",
      "Frame 5 done in 0.02733898162841797 with a final error of 6.520999704662245e-06\n",
      "Frame 6 done in 0.0268857479095459 with a final error of 1.044065265887184e-05\n",
      "Frame 7 done in 0.026708126068115234 with a final error of 7.1059494075598195e-06\n",
      "Frame 8 done in 0.02847003936767578 with a final error of 4.01246506953612e-06\n",
      "Frame 9 done in 0.010090827941894531 with a final error of 8.094839358818717e-06\n",
      "Frame 10 done in 0.02659296989440918 with a final error of 5.843391136295395e-06\n",
      "Flattened array shape: (10,)\n",
      "Mean: 1.1217895917070564e-05\n",
      "Standard deviation: 6.81199071550509e-06\n",
      "starting offset optimization\n",
      "Begining offset optimization:\n",
      "Final error of 0.0008061480475589633\n",
      "offset optimization finished in 0.01864910125732422\n",
      "Calibration iteration: 5/6\n",
      "Pose Optimization:\n",
      "Pose Optimization done in 0.2832980155944824\n",
      "Frame 1 done in 0.030600786209106445 with a final error of 1.7644156287133228e-06\n",
      "Frame 2 done in 0.03033900260925293 with a final error of 2.948524706880562e-05\n",
      "Frame 3 done in 0.02984905242919922 with a final error of 2.8597663913387805e-05\n",
      "Frame 4 done in 0.029433012008666992 with a final error of 1.693754347797949e-05\n",
      "Frame 5 done in 0.02987384796142578 with a final error of 7.489315066777635e-06\n",
      "Frame 6 done in 0.02932596206665039 with a final error of 1.797505137801636e-05\n",
      "Frame 7 done in 0.030830860137939453 with a final error of 1.1738387001969386e-05\n",
      "Frame 8 done in 0.030356884002685547 with a final error of 3.4613351544976467e-06\n",
      "Frame 9 done in 0.01248788833618164 with a final error of 5.871419489267282e-06\n",
      "Frame 10 done in 0.030003786087036133 with a final error of 4.68022972199833e-06\n",
      "Flattened array shape: (10,)\n",
      "Mean: 1.2800061085727066e-05\n",
      "Standard deviation: 9.61314253800083e-06\n",
      "starting offset optimization\n",
      "Begining offset optimization:\n",
      "Final error of 0.0008939061663113534\n",
      "offset optimization finished in 0.017395973205566406\n",
      "Calibration iteration: 6/6\n",
      "Pose Optimization:\n",
      "Pose Optimization done in 0.27072691917419434\n",
      "Frame 1 done in 0.027429819107055664 with a final error of 4.91184482598328e-06\n",
      "Frame 2 done in 0.02712702751159668 with a final error of 4.213423380861059e-06\n",
      "Frame 3 done in 0.0265810489654541 with a final error of 1.410570530424593e-05\n",
      "Frame 4 done in 0.02679920196533203 with a final error of 1.2994731150683947e-05\n",
      "Frame 5 done in 0.026981830596923828 with a final error of 1.4421345440496225e-05\n",
      "Frame 6 done in 0.027511119842529297 with a final error of 1.1991121937171556e-05\n",
      "Frame 7 done in 0.0267789363861084 with a final error of 5.676869477611035e-06\n",
      "Frame 8 done in 0.027409076690673828 with a final error of 9.357620001537725e-06\n",
      "Frame 9 done in 0.02651190757751465 with a final error of 4.746553258883068e-06\n",
      "Frame 10 done in 0.027420997619628906 with a final error of 3.5478835798130604e-06\n",
      "Flattened array shape: (10,)\n",
      "Mean: 8.596710358688142e-06\n",
      "Standard deviation: 4.211297436995665e-06\n",
      "starting offset optimization\n",
      "Begining offset optimization:\n",
      "Final error of 0.0009413688676431775\n",
      "offset optimization finished in 0.016653060913085938\n",
      "Final pose optimization\n",
      "Pose Optimization:\n",
      "Pose Optimization done in 0.26404905319213867\n",
      "Frame 1 done in 0.026335954666137695 with a final error of 3.339833483551047e-06\n",
      "Frame 2 done in 0.025936126708984375 with a final error of 5.81361973672756e-06\n",
      "Frame 3 done in 0.026725292205810547 with a final error of 1.3134792425262276e-05\n",
      "Frame 4 done in 0.02603006362915039 with a final error of 1.295702259085374e-05\n",
      "Frame 5 done in 0.026234149932861328 with a final error of 1.4758122233615723e-05\n",
      "Frame 6 done in 0.026195049285888672 with a final error of 1.241929658135632e-05\n",
      "Frame 7 done in 0.027197837829589844 with a final error of 1.0499762538529467e-05\n",
      "Frame 8 done in 0.02710890769958496 with a final error of 4.285193426767364e-06\n",
      "Frame 9 done in 0.025992870330810547 with a final error of 7.278669727384113e-06\n",
      "Frame 10 done in 0.026121139526367188 with a final error of 4.782757969223894e-06\n",
      "Flattened array shape: (10,)\n",
      "Mean: 8.926907867135014e-06\n",
      "Standard deviation: 4.061600520799402e-06\n"
     ]
    }
   ],
   "source": [
    "fit_path, transform_path = stac_mjx.run_stac(\n",
    "    stac_cfg, \n",
    "    model_cfg, \n",
    "    kp_data, \n",
    "    sorted_kp_names, \n",
    "    base_path=base_path\n",
    ")"
   ]
  },
  {
   "cell_type": "code",
   "execution_count": null,
   "metadata": {},
   "outputs": [],
   "source": []
  }
 ],
 "metadata": {
  "kernelspec": {
   "display_name": "stac-mjx",
   "language": "python",
   "name": "python3"
  },
  "language_info": {
   "codemirror_mode": {
    "name": "ipython",
    "version": 3
   },
   "file_extension": ".py",
   "mimetype": "text/x-python",
   "name": "python",
   "nbconvert_exporter": "python",
   "pygments_lexer": "ipython3",
   "version": "3.11.9"
  }
 },
 "nbformat": 4,
 "nbformat_minor": 2
}
