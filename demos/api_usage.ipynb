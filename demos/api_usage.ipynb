{
 "cells": [
  {
   "cell_type": "code",
   "execution_count": 11,
   "metadata": {},
   "outputs": [
    {
     "name": "stdout",
     "output_type": "stream",
     "text": [
      "The autoreload extension is already loaded. To reload it, use:\n",
      "  %reload_ext autoreload\n"
     ]
    }
   ],
   "source": [
    "%load_ext autoreload\n",
    "%autoreload 2\n",
    "\n",
    "from stac_mjx import main\n",
    "from stac_mjx import utils\n",
    "from pathlib import Path\n",
    "\n",
    "base_path = Path.cwd().parent\n",
    "stac_config_path = base_path / \"demos/demo_stac.yaml\"\n",
    "model_config_path = base_path / \"configs/rodent.yaml\"\n"
   ]
  },
  {
   "cell_type": "markdown",
   "metadata": {},
   "source": [
    "### Load configs"
   ]
  },
  {
   "cell_type": "code",
   "execution_count": 12,
   "metadata": {},
   "outputs": [],
   "source": [
    "stac_cfg, model_cfg = main.load_configs_NEW(stac_config_path, model_config_path)"
   ]
  },
  {
   "cell_type": "markdown",
   "metadata": {},
   "source": [
    "### Prepare your data"
   ]
  },
  {
   "cell_type": "code",
   "execution_count": 13,
   "metadata": {},
   "outputs": [],
   "source": [
    "data_path = base_path / stac_cfg.paths.data_path \n",
    "kp_data, sorted_kp_names = utils.load_data(data_path, model_cfg)"
   ]
  },
  {
   "cell_type": "code",
   "execution_count": 14,
   "metadata": {},
   "outputs": [],
   "source": [
    "from stac_mjx.controller import STAC\n",
    "# Gettings paths\n",
    "fit_path = base_path / stac_cfg.paths.fit_path\n",
    "transform_path = base_path / stac_cfg.paths.transform_path\n",
    "\n",
    "xml_path = base_path / stac_cfg.paths.xml\n",
    "\n",
    "stac = STAC(xml_path, stac_cfg, model_cfg, sorted_kp_names)"
   ]
  },
  {
   "cell_type": "code",
   "execution_count": 15,
   "metadata": {},
   "outputs": [
    {
     "name": "stdout",
     "output_type": "stream",
     "text": [
      "Root Optimization:\n"
     ]
    },
    {
     "name": "stderr",
     "output_type": "stream",
     "text": [
      "2024-08-16 15:30:14.516264: E external/xla/xla/service/slow_operation_alarm.cc:133] The operation took 8m9.089475s\n",
      "\n",
      "********************************\n",
      "[Compiling module jit_q_opt] Very slow compile? If you want to file a bug, run with envvar XLA_FLAGS=--xla_dump_to=/tmp/foo and attach the results.\n",
      "********************************\n"
     ]
    },
    {
     "name": "stdout",
     "output_type": "stream",
     "text": [
      "q_opt 1 finished in 545.6352860927582 with an error of 0.0009418877307325602\n",
      "Replace 1 finished in 44.62345790863037\n",
      "starting q_opt 2\n",
      "q_opt 1 finished in 0.009785890579223633 with an error of 0.00043054044363088906\n",
      "Replace 2 finished in 0.0012230873107910156\n",
      "Root optimization finished in 590.2764430046082\n",
      "Calibration iteration: 1/6\n",
      "Pose Optimization:\n",
      "Pose Optimization done in 0.2951478958129883\n",
      "Frame 1 done in 0.03493690490722656 with a final error of 0.00022027861268725246\n",
      "Frame 2 done in 0.028675079345703125 with a final error of 0.00020399077038746327\n",
      "Frame 3 done in 0.02820301055908203 with a final error of 0.00017977676179725677\n",
      "Frame 4 done in 0.02798008918762207 with a final error of 0.00016065427917055786\n",
      "Frame 5 done in 0.02786397933959961 with a final error of 0.00014390808064490557\n",
      "Frame 6 done in 0.029127120971679688 with a final error of 0.00013152378960512578\n",
      "Frame 7 done in 0.029987096786499023 with a final error of 0.00011810470459749922\n",
      "Frame 8 done in 0.029323816299438477 with a final error of 0.00010878008470172063\n",
      "Frame 9 done in 0.027975797653198242 with a final error of 6.461488374043256e-05\n",
      "Frame 10 done in 0.027857065200805664 with a final error of 5.360987415770069e-05\n",
      "Flattened array shape: (10,)\n",
      "Mean: 0.00013852420670446008\n",
      "Standard deviation: 5.216690624365583e-05\n",
      "starting offset optimization\n",
      "Begining offset optimization:\n"
     ]
    },
    {
     "name": "stderr",
     "output_type": "stream",
     "text": [
      "/Users/charleszhang/miniforge3/envs/stac-mjx/lib/python3.11/site-packages/jaxopt/_src/optax_wrapper.py:120: DeprecationWarning: jax.tree_map is deprecated: use jax.tree.map (jax v0.4.25 or newer) or jax.tree_util.tree_map (any JAX version).\n",
      "  return jax.tree_map(update_fun, params, updates)\n",
      "2024-08-16 15:33:25.221390: E external/xla/xla/service/slow_operation_alarm.cc:65] \n",
      "********************************\n",
      "[Compiling module jit_m_opt] Very slow compile? If you want to file a bug, run with envvar XLA_FLAGS=--xla_dump_to=/tmp/foo and attach the results.\n",
      "********************************\n",
      "2024-08-16 15:33:52.748431: E external/xla/xla/service/slow_operation_alarm.cc:133] The operation took 2m27.531042s\n",
      "\n",
      "********************************\n",
      "[Compiling module jit_m_opt] Very slow compile? If you want to file a bug, run with envvar XLA_FLAGS=--xla_dump_to=/tmp/foo and attach the results.\n",
      "********************************\n"
     ]
    },
    {
     "name": "stdout",
     "output_type": "stream",
     "text": [
      "Final error of 0.0008226351346820593\n",
      "offset optimization finished in 172.7340750694275\n",
      "Calibration iteration: 2/6\n",
      "Pose Optimization:\n",
      "Pose Optimization done in 0.32615089416503906\n",
      "Frame 1 done in 0.03020501136779785 with a final error of 9.950976163963787e-06\n",
      "Frame 2 done in 0.03299307823181152 with a final error of 2.2347147023538128e-05\n",
      "Frame 3 done in 0.04362607002258301 with a final error of 1.9162021999363787e-05\n",
      "Frame 4 done in 0.03310894966125488 with a final error of 1.1733411156455986e-05\n",
      "Frame 5 done in 0.03604483604431152 with a final error of 2.1702069716411643e-05\n",
      "Frame 6 done in 0.03459501266479492 with a final error of 1.2554182831081562e-05\n",
      "Frame 7 done in 0.029725074768066406 with a final error of 1.670429810474161e-05\n",
      "Frame 8 done in 0.02826380729675293 with a final error of 7.20546995580662e-06\n",
      "Frame 9 done in 0.028295040130615234 with a final error of 5.412603513832437e-06\n",
      "Frame 10 done in 0.028590917587280273 with a final error of 5.62197192266467e-06\n",
      "Flattened array shape: (10,)\n",
      "Mean: 1.3239415238786023e-05\n",
      "Standard deviation: 6.090109309297986e-06\n",
      "starting offset optimization\n",
      "Begining offset optimization:\n",
      "Final error of 0.0007336745620705187\n",
      "offset optimization finished in 0.019795894622802734\n",
      "Calibration iteration: 3/6\n",
      "Pose Optimization:\n",
      "Pose Optimization done in 0.2748088836669922\n",
      "Frame 1 done in 0.027709007263183594 with a final error of 1.2003238225588575e-05\n",
      "Frame 2 done in 0.02640509605407715 with a final error of 1.5329676898545586e-05\n",
      "Frame 3 done in 0.026724815368652344 with a final error of 1.7489759557065554e-05\n",
      "Frame 4 done in 0.026248931884765625 with a final error of 1.1175976396771148e-05\n",
      "Frame 5 done in 0.026009082794189453 with a final error of 6.826944172644289e-06\n",
      "Frame 6 done in 0.026218891143798828 with a final error of 1.2216079085192177e-05\n",
      "Frame 7 done in 0.028847694396972656 with a final error of 7.69398502598051e-06\n",
      "Frame 8 done in 0.028985977172851562 with a final error of 7.301574896700913e-06\n",
      "Frame 9 done in 0.029098987579345703 with a final error of 5.6014955589489546e-06\n",
      "Frame 10 done in 0.028376102447509766 with a final error of 2.7267342375125736e-05\n",
      "Flattened array shape: (10,)\n",
      "Mean: 1.229060762852896e-05\n",
      "Standard deviation: 6.18478361502639e-06\n",
      "starting offset optimization\n",
      "Begining offset optimization:\n",
      "Final error of 0.0007421364425681531\n",
      "offset optimization finished in 0.0176239013671875\n",
      "Calibration iteration: 4/6\n",
      "Pose Optimization:\n",
      "Pose Optimization done in 0.2839498519897461\n",
      "Frame 1 done in 0.028636932373046875 with a final error of 1.4676579667138867e-05\n",
      "Frame 2 done in 0.029770851135253906 with a final error of 1.7831021978054196e-05\n",
      "Frame 3 done in 0.030135154724121094 with a final error of 1.9428118321229704e-05\n",
      "Frame 4 done in 0.029208898544311523 with a final error of 1.1141441973450128e-05\n",
      "Frame 5 done in 0.02849602699279785 with a final error of 6.7630180637934245e-06\n",
      "Frame 6 done in 0.029076099395751953 with a final error of 1.4292521882453002e-05\n",
      "Frame 7 done in 0.03159904479980469 with a final error of 8.748699656280223e-06\n",
      "Frame 8 done in 0.0299072265625 with a final error of 4.2341243897681125e-06\n",
      "Frame 9 done in 0.0196988582611084 with a final error of 9.269551810575649e-06\n",
      "Frame 10 done in 0.02722311019897461 with a final error of 9.008348570205271e-06\n",
      "Flattened array shape: (10,)\n",
      "Mean: 1.1539343176991679e-05\n",
      "Standard deviation: 4.6359859879885335e-06\n",
      "starting offset optimization\n",
      "Begining offset optimization:\n",
      "Final error of 0.0008770215790718794\n",
      "offset optimization finished in 0.017054080963134766\n",
      "Calibration iteration: 5/6\n",
      "Pose Optimization:\n",
      "Pose Optimization done in 0.25381994247436523\n",
      "Frame 1 done in 0.027238130569458008 with a final error of 5.022814093535999e-06\n",
      "Frame 2 done in 0.02652597427368164 with a final error of 7.69640155340312e-06\n",
      "Frame 3 done in 0.026833057403564453 with a final error of 1.3738905181526206e-05\n",
      "Frame 4 done in 0.026893138885498047 with a final error of 5.258489636617014e-06\n",
      "Frame 5 done in 0.026205778121948242 with a final error of 2.1571764591499232e-05\n",
      "Frame 6 done in 0.026207923889160156 with a final error of 1.3146289347787388e-05\n",
      "Frame 7 done in 0.027434110641479492 with a final error of 1.0485430721018929e-05\n",
      "Frame 8 done in 0.029191970825195312 with a final error of 3.6301057662058156e-06\n",
      "Frame 9 done in 0.009369850158691406 with a final error of 1.0447500244481489e-05\n",
      "Frame 10 done in 0.027739286422729492 with a final error of 7.89838122727815e-06\n",
      "Flattened array shape: (10,)\n",
      "Mean: 9.88960891845636e-06\n",
      "Standard deviation: 5.0561998250486795e-06\n",
      "starting offset optimization\n",
      "Begining offset optimization:\n",
      "Final error of 0.0007168595911934972\n",
      "offset optimization finished in 0.017932653427124023\n",
      "Calibration iteration: 6/6\n",
      "Pose Optimization:\n",
      "Pose Optimization done in 0.2864549160003662\n",
      "Frame 1 done in 0.029148101806640625 with a final error of 1.0001729606301524e-05\n",
      "Frame 2 done in 0.02899909019470215 with a final error of 1.658911605773028e-05\n",
      "Frame 3 done in 0.028995990753173828 with a final error of 2.091000715154223e-05\n",
      "Frame 4 done in 0.03192305564880371 with a final error of 1.259989949176088e-05\n",
      "Frame 5 done in 0.028873920440673828 with a final error of 5.9551452977757435e-06\n",
      "Frame 6 done in 0.02866363525390625 with a final error of 1.4389400348591153e-05\n",
      "Frame 7 done in 0.02924323081970215 with a final error of 8.21574758447241e-06\n",
      "Frame 8 done in 0.02731013298034668 with a final error of 4.270910267223371e-06\n",
      "Frame 9 done in 0.026751995086669922 with a final error of 8.261525181296747e-06\n",
      "Frame 10 done in 0.026326894760131836 with a final error of 3.7863824218220543e-06\n",
      "Flattened array shape: (10,)\n",
      "Mean: 1.0497985385882203e-05\n",
      "Standard deviation: 5.291401976137422e-06\n",
      "starting offset optimization\n",
      "Begining offset optimization:\n",
      "Final error of 0.0008571766084060073\n",
      "offset optimization finished in 0.016834735870361328\n",
      "Final pose optimization\n",
      "Pose Optimization:\n",
      "Pose Optimization done in 0.2664327621459961\n",
      "Frame 1 done in 0.027019023895263672 with a final error of 5.052802862337558e-06\n",
      "Frame 2 done in 0.026190996170043945 with a final error of 4.058058038935997e-06\n",
      "Frame 3 done in 0.026093006134033203 with a final error of 1.442335906176595e-05\n",
      "Frame 4 done in 0.02607583999633789 with a final error of 1.314817291131476e-05\n",
      "Frame 5 done in 0.026664018630981445 with a final error of 1.4409161849471275e-05\n",
      "Frame 6 done in 0.0259401798248291 with a final error of 1.176641853817273e-05\n",
      "Frame 7 done in 0.02672576904296875 with a final error of 5.511240487976465e-06\n",
      "Frame 8 done in 0.02811121940612793 with a final error of 9.769672942638863e-06\n",
      "Frame 9 done in 0.026585817337036133 with a final error of 4.113383056392195e-06\n",
      "Frame 10 done in 0.026823997497558594 with a final error of 3.4304443943256047e-06\n",
      "Flattened array shape: (10,)\n",
      "Mean: 8.568272278353106e-06\n",
      "Standard deviation: 4.351256848167395e-06\n"
     ]
    }
   ],
   "source": [
    "fit_data = kp_data[: stac_cfg.n_fit_frames]\n",
    "q, x, walker_body_sites, clip_data = stac.fit(fit_data)"
   ]
  },
  {
   "cell_type": "code",
   "execution_count": 17,
   "metadata": {},
   "outputs": [],
   "source": [
    "fit_data = stac.package_data(q, x, walker_body_sites, clip_data)"
   ]
  },
  {
   "cell_type": "code",
   "execution_count": 18,
   "metadata": {},
   "outputs": [],
   "source": [
    "utils.save(fit_data, fit_path)"
   ]
  },
  {
   "cell_type": "markdown",
   "metadata": {},
   "source": [
    "### Run stac"
   ]
  },
  {
   "cell_type": "code",
   "execution_count": 20,
   "metadata": {},
   "outputs": [
    {
     "ename": "AttributeError",
     "evalue": "module 'stac_mjx.utils' has no attribute 'params'",
     "output_type": "error",
     "traceback": [
      "\u001b[0;31m---------------------------------------------------------------------------\u001b[0m",
      "\u001b[0;31mAttributeError\u001b[0m                            Traceback (most recent call last)",
      "Cell \u001b[0;32mIn[20], line 1\u001b[0m\n\u001b[0;32m----> 1\u001b[0m fit_path, transform_path \u001b[38;5;241m=\u001b[39m \u001b[43mmain\u001b[49m\u001b[38;5;241;43m.\u001b[39;49m\u001b[43mrun_stac_NEW\u001b[49m\u001b[43m(\u001b[49m\u001b[43mstac_cfg\u001b[49m\u001b[43m,\u001b[49m\u001b[43m \u001b[49m\u001b[43mmodel_cfg\u001b[49m\u001b[43m,\u001b[49m\u001b[43m \u001b[49m\u001b[43mkp_data\u001b[49m\u001b[43m,\u001b[49m\u001b[43m \u001b[49m\u001b[43mbase_path\u001b[49m\u001b[38;5;241;43m=\u001b[39;49m\u001b[43mbase_path\u001b[49m\u001b[43m)\u001b[49m\n",
      "File \u001b[0;32m~/miniforge3/envs/stac-mjx/lib/python3.11/site-packages/stac_mjx/main.py:147\u001b[0m, in \u001b[0;36mrun_stac_NEW\u001b[0;34m(stac_cfg, model_cfg, kp_data, base_path)\u001b[0m\n\u001b[1;32m    143\u001b[0m transform_path \u001b[38;5;241m=\u001b[39m base_path \u001b[38;5;241m/\u001b[39m stac_cfg\u001b[38;5;241m.\u001b[39mpaths\u001b[38;5;241m.\u001b[39mtransform_path\n\u001b[1;32m    145\u001b[0m xml_path \u001b[38;5;241m=\u001b[39m base_path \u001b[38;5;241m/\u001b[39m stac_cfg\u001b[38;5;241m.\u001b[39mpaths\u001b[38;5;241m.\u001b[39mxml\n\u001b[0;32m--> 147\u001b[0m stac \u001b[38;5;241m=\u001b[39m \u001b[43mSTAC\u001b[49m\u001b[43m(\u001b[49m\u001b[43mxml_path\u001b[49m\u001b[43m,\u001b[49m\u001b[43m \u001b[49m\u001b[43mstac_cfg\u001b[49m\u001b[43m,\u001b[49m\u001b[43m \u001b[49m\u001b[43mmodel_cfg\u001b[49m\u001b[43m)\u001b[49m\n\u001b[1;32m    149\u001b[0m \u001b[38;5;66;03m# Run fit if not skipping\u001b[39;00m\n\u001b[1;32m    150\u001b[0m \u001b[38;5;28;01mif\u001b[39;00m stac_cfg\u001b[38;5;241m.\u001b[39mskip_fit \u001b[38;5;241m!=\u001b[39m \u001b[38;5;241m1\u001b[39m:\n",
      "File \u001b[0;32m~/miniforge3/envs/stac-mjx/lib/python3.11/site-packages/stac_mjx/controller.py:56\u001b[0m, in \u001b[0;36mSTAC.__init__\u001b[0;34m(self, xml_path, stac_cfg, model_cfg)\u001b[0m\n\u001b[1;32m     53\u001b[0m \u001b[38;5;28mself\u001b[39m\u001b[38;5;241m.\u001b[39mmjx_data \u001b[38;5;241m=\u001b[39m mjx\u001b[38;5;241m.\u001b[39mmake_data(\u001b[38;5;28mself\u001b[39m\u001b[38;5;241m.\u001b[39mmjx_model)\n\u001b[1;32m     55\u001b[0m \u001b[38;5;66;03m# Get and set the offsets of the markers\u001b[39;00m\n\u001b[0;32m---> 56\u001b[0m \u001b[38;5;28mself\u001b[39m\u001b[38;5;241m.\u001b[39m_offsets \u001b[38;5;241m=\u001b[39m jnp\u001b[38;5;241m.\u001b[39mcopy(\u001b[43mop\u001b[49m\u001b[38;5;241;43m.\u001b[39;49m\u001b[43mget_site_pos\u001b[49m\u001b[43m(\u001b[49m\u001b[38;5;28;43mself\u001b[39;49m\u001b[38;5;241;43m.\u001b[39;49m\u001b[43mmjx_model\u001b[49m\u001b[43m)\u001b[49m)\n\u001b[1;32m     57\u001b[0m \u001b[38;5;28mself\u001b[39m\u001b[38;5;241m.\u001b[39m_offsets \u001b[38;5;241m*\u001b[39m\u001b[38;5;241m=\u001b[39m \u001b[38;5;28mself\u001b[39m\u001b[38;5;241m.\u001b[39mmodel_cfg[\u001b[38;5;124m\"\u001b[39m\u001b[38;5;124mSCALE_FACTOR\u001b[39m\u001b[38;5;124m\"\u001b[39m]\n\u001b[1;32m     59\u001b[0m \u001b[38;5;28mself\u001b[39m\u001b[38;5;241m.\u001b[39mmjx_model \u001b[38;5;241m=\u001b[39m op\u001b[38;5;241m.\u001b[39mset_site_pos(\u001b[38;5;28mself\u001b[39m\u001b[38;5;241m.\u001b[39mmjx_model, \u001b[38;5;28mself\u001b[39m\u001b[38;5;241m.\u001b[39m_offsets)\n",
      "File \u001b[0;32m~/miniforge3/envs/stac-mjx/lib/python3.11/site-packages/stac_mjx/operations.py:62\u001b[0m, in \u001b[0;36mget_site_pos\u001b[0;34m(mjx_model)\u001b[0m\n\u001b[1;32m     52\u001b[0m \u001b[38;5;28;01mdef\u001b[39;00m \u001b[38;5;21mget_site_pos\u001b[39m(mjx_model: mjx\u001b[38;5;241m.\u001b[39mModel):\n\u001b[1;32m     53\u001b[0m \u001b[38;5;250m    \u001b[39m\u001b[38;5;124;03m\"\"\"Get MjxModel.site_pos of keypoint body sites.\u001b[39;00m\n\u001b[1;32m     54\u001b[0m \n\u001b[1;32m     55\u001b[0m \u001b[38;5;124;03m    Args:\u001b[39;00m\n\u001b[0;32m   (...)\u001b[0m\n\u001b[1;32m     60\u001b[0m \u001b[38;5;124;03m        local position offset rel. to body.\u001b[39;00m\n\u001b[1;32m     61\u001b[0m \u001b[38;5;124;03m    \"\"\"\u001b[39;00m\n\u001b[0;32m---> 62\u001b[0m     \u001b[38;5;28;01mreturn\u001b[39;00m mjx_model\u001b[38;5;241m.\u001b[39msite_pos[jp\u001b[38;5;241m.\u001b[39marray(\u001b[38;5;28mlist\u001b[39m(\u001b[43mutils\u001b[49m\u001b[38;5;241;43m.\u001b[39;49m\u001b[43mparams\u001b[49m[\u001b[38;5;124m\"\u001b[39m\u001b[38;5;124msite_index_map\u001b[39m\u001b[38;5;124m\"\u001b[39m]\u001b[38;5;241m.\u001b[39mvalues()))]\n",
      "\u001b[0;31mAttributeError\u001b[0m: module 'stac_mjx.utils' has no attribute 'params'"
     ]
    }
   ],
   "source": [
    "fit_path, transform_path = main.run_stac_NEW(stac_cfg, model_cfg, kp_data, kp_names, base_path=base_path)"
   ]
  },
  {
   "cell_type": "code",
   "execution_count": null,
   "metadata": {},
   "outputs": [],
   "source": []
  }
 ],
 "metadata": {
  "kernelspec": {
   "display_name": "stac-mjx",
   "language": "python",
   "name": "python3"
  },
  "language_info": {
   "codemirror_mode": {
    "name": "ipython",
    "version": 3
   },
   "file_extension": ".py",
   "mimetype": "text/x-python",
   "name": "python",
   "nbconvert_exporter": "python",
   "pygments_lexer": "ipython3",
   "version": "3.11.9"
  }
 },
 "nbformat": 4,
 "nbformat_minor": 2
}
