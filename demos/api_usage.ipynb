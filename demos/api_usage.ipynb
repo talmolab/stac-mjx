{
 "cells": [
  {
   "cell_type": "code",
   "execution_count": 4,
   "metadata": {},
   "outputs": [
    {
     "name": "stdout",
     "output_type": "stream",
     "text": [
      "The autoreload extension is already loaded. To reload it, use:\n",
      "  %reload_ext autoreload\n"
     ]
    }
   ],
   "source": [
    "%load_ext autoreload\n",
    "%autoreload 2\n",
    "\n",
    "from stac_mjx import main\n",
    "from stac_mjx import utils\n",
    "from pathlib import Path\n",
    "\n",
    "# Choose parent directory as base path to make relative pathing easier \n",
    "base_path = Path.cwd().parent\n",
    "stac_config_path = base_path / \"demos/demo_stac.yaml\"\n",
    "model_config_path = base_path / \"configs/rodent.yaml\"\n"
   ]
  },
  {
   "cell_type": "markdown",
   "metadata": {},
   "source": [
    "### Load configs"
   ]
  },
  {
   "cell_type": "code",
   "execution_count": 5,
   "metadata": {},
   "outputs": [],
   "source": [
    "stac_cfg, model_cfg = main.load_configs(stac_config_path, model_config_path)"
   ]
  },
  {
   "cell_type": "markdown",
   "metadata": {},
   "source": [
    "### Prepare your data"
   ]
  },
  {
   "cell_type": "code",
   "execution_count": 6,
   "metadata": {},
   "outputs": [],
   "source": [
    "data_path = base_path / stac_cfg.data_path \n",
    "kp_data, sorted_kp_names = utils.load_data(data_path, model_cfg)"
   ]
  },
  {
   "cell_type": "markdown",
   "metadata": {},
   "source": [
    "### Run stac"
   ]
  },
  {
   "cell_type": "code",
   "execution_count": 7,
   "metadata": {},
   "outputs": [
    {
     "name": "stdout",
     "output_type": "stream",
     "text": [
      "Root Optimization:\n"
     ]
    }
   ],
   "source": [
    "fit_path, transform_path = main.run_stac(\n",
    "    stac_cfg, \n",
    "    model_cfg, \n",
    "    kp_data, \n",
    "    sorted_kp_names, \n",
    "    base_path=base_path\n",
    ")"
   ]
  },
  {
   "cell_type": "code",
   "execution_count": null,
   "metadata": {},
   "outputs": [],
   "source": []
  }
 ],
 "metadata": {
  "kernelspec": {
   "display_name": "stac-mjx",
   "language": "python",
   "name": "python3"
  },
  "language_info": {
   "codemirror_mode": {
    "name": "ipython",
    "version": 3
   },
   "file_extension": ".py",
   "mimetype": "text/x-python",
   "name": "python",
   "nbconvert_exporter": "python",
   "pygments_lexer": "ipython3",
   "version": "3.11.9"
  }
 },
 "nbformat": 4,
 "nbformat_minor": 2
}
