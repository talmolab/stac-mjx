{
 "cells": [
  {
   "cell_type": "markdown",
   "metadata": {},
   "source": [
    "### Render stac outputs with mujoco"
   ]
  },
  {
   "cell_type": "code",
   "execution_count": 2,
   "metadata": {},
   "outputs": [
    {
     "name": "stdout",
     "output_type": "stream",
     "text": [
      "Sat Sep 21 21:42:56 2024       \n",
      "+---------------------------------------------------------------------------------------+\n",
      "| NVIDIA-SMI 535.183.01             Driver Version: 535.183.01   CUDA Version: 12.2     |\n",
      "|-----------------------------------------+----------------------+----------------------+\n",
      "| GPU  Name                 Persistence-M | Bus-Id        Disp.A | Volatile Uncorr. ECC |\n",
      "| Fan  Temp   Perf          Pwr:Usage/Cap |         Memory-Usage | GPU-Util  Compute M. |\n",
      "|                                         |                      |               MIG M. |\n",
      "|=========================================+======================+======================|\n",
      "|   0  NVIDIA TITAN RTX               Off | 00000000:1A:00.0 Off |                  N/A |\n",
      "| 40%   36C    P8              34W / 280W |      6MiB / 24576MiB |      0%      Default |\n",
      "|                                         |                      |                  N/A |\n",
      "+-----------------------------------------+----------------------+----------------------+\n",
      "|   1  NVIDIA TITAN RTX               Off | 00000000:68:00.0 Off |                  N/A |\n",
      "| 41%   39C    P8              28W / 280W |     67MiB / 24576MiB |      0%      Default |\n",
      "|                                         |                      |                  N/A |\n",
      "+-----------------------------------------+----------------------+----------------------+\n",
      "                                                                                         \n",
      "+---------------------------------------------------------------------------------------+\n",
      "| Processes:                                                                            |\n",
      "|  GPU   GI   CI        PID   Type   Process name                            GPU Memory |\n",
      "|        ID   ID                                                             Usage      |\n",
      "|=======================================================================================|\n",
      "|    0   N/A  N/A      1877      G   /usr/lib/xorg/Xorg                            4MiB |\n",
      "|    1   N/A  N/A      1877      G   /usr/lib/xorg/Xorg                           56MiB |\n",
      "|    1   N/A  N/A      2198      G   /usr/bin/gnome-shell                          9MiB |\n",
      "+---------------------------------------------------------------------------------------+\n",
      "Setting environment variable to use GPU rendering:\n",
      "Checking that the installation succeeded:\n",
      "Installation successful.\n"
     ]
    }
   ],
   "source": [
    "#@title Check if MuJoCo installation was successful\n",
    "import distutils.util\n",
    "import os\n",
    "import subprocess\n",
    "if subprocess.run('nvidia-smi').returncode:\n",
    "  raise RuntimeError(\n",
    "      'Cannot communicate with GPU. '\n",
    "      'Make sure you are using a GPU Colab runtime. '\n",
    "   'Go to the Runtime menu and select Choose runtime type.')\n",
    "\n",
    "# Add an ICD config so that glvnd can pick up the Nvidia EGL driver.\n",
    "# This is usually installed as part of an Nvidia driver package, but the Colab\n",
    "# kernel doesn't install its driver via APT, and as a result the ICD is missing.\n",
    "# (https://github.com/NVIDIA/libglvnd/blob/master/src/EGL/icd_enumeration.md)\n",
    "NVIDIA_ICD_CONFIG_PATH = '/usr/share/glvnd/egl_vendor.d/10_nvidia.json'\n",
    "if not os.path.exists(NVIDIA_ICD_CONFIG_PATH):\n",
    "  with open(NVIDIA_ICD_CONFIG_PATH, 'w') as f:\n",
    "    f.write(\"\"\"{\n",
    "    \"file_format_version\" : \"1.0.0\",\n",
    "    \"ICD\" : {\n",
    "        \"library_path\" : \"libEGL_nvidia.so.0\"\n",
    "    }\n",
    "}\n",
    "\"\"\")\n",
    "\n",
    "# Configure MuJoCo to use the EGL rendering backend (requires GPU)\n",
    "print('Setting environment variable to use GPU rendering:')\n",
    "# %env MUJOCO_GL=osmesa\n",
    "\n",
    "try:\n",
    "  print('Checking that the installation succeeded:')\n",
    "  import mujoco\n",
    "  mujoco.MjModel.from_xml_string('<mujoco/>')\n",
    "except Exception as e:\n",
    "  raise e from RuntimeError(\n",
    "      'Something went wrong during installation. Check the shell output above '\n",
    "      'for more information.\\n'\n",
    "      'If using a hosted Colab runtime, make sure you enable GPU acceleration '\n",
    "      'by going to the Runtime menu and selecting \"Choose runtime type\".')\n",
    "\n",
    "print('Installation successful.')\n",
    "\n",
    "# Tell XLA to use Triton GEMM, this improves steps/sec by ~30% on some GPUs\n",
    "xla_flags = os.environ.get('XLA_FLAGS', '')\n",
    "xla_flags += ' --xla_gpu_triton_gemm_any=True'\n",
    "os.environ['XLA_FLAGS'] = xla_flags\n"
   ]
  },
  {
   "cell_type": "code",
   "execution_count": 7,
   "metadata": {
    "tags": []
   },
   "outputs": [
    {
     "name": "stdout",
     "output_type": "stream",
     "text": [
      "The autoreload extension is already loaded. To reload it, use:\n",
      "  %reload_ext autoreload\n",
      "env: MUJOCO_GL=osmesa\n",
      "env: PYOPENGL_PLATFORM=osmesa\n"
     ]
    }
   ],
   "source": [
    "%load_ext autoreload\n",
    "%autoreload 2\n",
    "\n",
    "# glfw is faster, but use osmesa if glfw not available\n",
    "%env MUJOCO_GL=osmesa\n",
    "%env PYOPENGL_PLATFORM=osmesa\n",
    "\n",
    "import stac_mjx\n",
    "\n",
    "import mediapy as media\n",
    "from pathlib import Path\n",
    "import os\n",
    "\n",
    "\n",
    "# Disable jax's memory preallocation if you're running multiple notebooks using jax\n",
    "os.environ['XLA_PYTHON_CLIENT_PREALLOCATE'] = \"false\" \n",
    "\n",
    "base_path = Path.cwd().parent\n",
    "# stac_config_path = base_path / \"configs/stac_free.yaml\"\n",
    "# model_config_path = base_path / \"configs/flybody_free.yaml\"\n",
    "data_dir = Path('/data/users/eabe/biomech_model/Flybody/datasets/Tuthill_data/')\n",
    "stac_config_path = base_path / \"configs/stac.yaml\"\n",
    "model_config_path = base_path / \"configs/flybody.yaml\"\n",
    "\n",
    "cfg = stac_mjx.load_configs(base_path / \"configs\")"
   ]
  },
  {
   "cell_type": "code",
   "execution_count": 4,
   "metadata": {},
   "outputs": [],
   "source": [
    "import pandas as pd\n",
    "tredmill_data = pd.read_csv(data_dir / \"wt_berlin_linear_treadmill_dataset.csv\")\n",
    "kp_names = ['head', 'thorax', 'abdomen', 'r1', 'r2', 'r3', 'l1', 'l2', 'l3']\n",
    "coords = ['_x', '_y', '_z']\n",
    "df_names = [kp+coord for kp in kp_names for coord in coords]\n",
    "kp_data_all = tredmill_data[df_names].values\n",
    "sorted_kp_names = kp_names\n",
    "kp_data = model_cfg['MOCAP_SCALE_FACTOR']*kp_data_all.copy()\n"
   ]
  },
  {
   "cell_type": "code",
   "execution_count": null,
   "metadata": {},
   "outputs": [],
   "source": [
    "kp_data.shape[0]/1800"
   ]
  },
  {
   "cell_type": "code",
   "execution_count": null,
   "metadata": {
    "tags": []
   },
   "outputs": [],
   "source": [
    "# set args\n",
    "data_path = base_path / \"transform_free.p\" \n",
    "# data_path = base_path / \"transform_balljoint.p\" \n",
    "n_frames = 100\n",
    "camera=3\n",
    "# save_path = base_path / ('videos/fly_free_camera{}.mp4'.format(camera))\n",
    "save_path = base_path / ('videos/fly_camera{}.mp4'.format(camera))\n",
    "# [100800:102599,:].\n",
    "# Call mujoco_viz\n",
    "frames = stac_mjx.viz_stac(data_path, stac_cfg, model_cfg, n_frames, save_path, start_frame=0, camera=camera, base_path=Path.cwd().parent)\n",
    "\n",
    "# Show the video in the noteb ook (it is also saved to the save_path) \n",
    "media.show_video(frames, fps=50)  #model_cfg[\"RENDER_FPS\"]"
   ]
  },
  {
   "cell_type": "code",
   "execution_count": 8,
   "metadata": {},
   "outputs": [],
   "source": [
    "import pickle\n",
    "import stac_mjx.io_dict_to_hdf5 as ioh5\n",
    "import numpy as np\n",
    "from pathlib import Path\n",
    "from stac_mjx.controller import STAC\n",
    "from omegaconf import DictConfig\n",
    "from typing import Union, Dict\n"
   ]
  },
  {
   "cell_type": "code",
   "execution_count": 9,
   "metadata": {},
   "outputs": [
    {
     "data": {
      "text/plain": [
       "{'MJCF_PATH': 'models/fruitfly/fruitfly_freeforce.xml', 'N_FRAMES_PER_CLIP': 300, 'FTOL': 0.005, 'ROOT_FTOL': 1e-05, 'LIMB_FTOL': 1e-06, 'N_ITERS': 6, 'KP_NAMES': ['L1A', 'L1B', 'L1C', 'L1D', 'L1E', 'R1A', 'R1B', 'R1C', 'R1D', 'R1E', 'L2A', 'L2B', 'L2C', 'L2D', 'L2E', 'R2A', 'R2B', 'R2C', 'R2D', 'R2E', 'L3A', 'L3B', 'L3C', 'L3D', 'L3E', 'R3A', 'R3B', 'R3C', 'R3D', 'R3E'], 'KEYPOINT_MODEL_PAIRS': {'L1A': 'coxa_T1_left', 'L1B': 'femur_T1_left', 'L1C': 'tibia_T1_left', 'L1D': 'tarsus_T1_left', 'L1E': 'claw_T1_left', 'R1A': 'coxa_T1_right', 'R1B': 'femur_T1_right', 'R1C': 'tibia_T1_right', 'R1D': 'tarsus_T1_right', 'R1E': 'claw_T1_right', 'L2A': 'coxa_T2_left', 'L2B': 'femur_T2_left', 'L2C': 'tibia_T2_left', 'L2D': 'tarsus_T2_left', 'L2E': 'claw_T2_left', 'R2A': 'coxa_T2_right', 'R2B': 'femur_T2_right', 'R2C': 'tibia_T2_right', 'R2D': 'tarsus_T2_right', 'R2E': 'claw_T2_right', 'L3A': 'coxa_T3_left', 'L3B': 'femur_T3_left', 'L3C': 'tibia_T3_left', 'L3D': 'tarsus_T3_left', 'L3E': 'claw_T3_left', 'R3A': 'coxa_T3_right', 'R3B': 'femur_T3_right', 'R3C': 'tibia_T3_right', 'R3D': 'tarsus_T3_right', 'R3E': 'claw_T3_right'}, 'KEYPOINT_INITIAL_OFFSETS': {'L1A': '0. 0. 0.', 'L1B': '0. 0. 0.', 'L1C': '0. 0. 0.', 'L1D': '0. 0. 0.', 'L1E': '0. 0. 0.', 'R1A': '0. 0. 0.', 'R1B': '0. 0. 0.', 'R1C': '0. 0. 0.', 'R1D': '0. 0. 0.', 'R1E': '0. 0. 0.', 'L2A': '0. 0. 0.', 'L2B': '0. 0. 0.', 'L2C': '0. 0. 0.', 'L2D': '0. 0. 0.', 'L2E': '0. 0. 0.', 'R2A': '0. 0. 0.', 'R2B': '0. 0. 0.', 'R2C': '0. 0. 0.', 'R2D': '0. 0. 0.', 'R2E': '0. 0. 0.', 'L3A': '0. 0. 0.', 'L3B': '0. 0. 0.', 'L3C': '0. 0. 0.', 'L3D': '0. 0. 0.', 'L3E': '0. 0. 0.', 'R3A': '0. 0. 0.', 'R3B': '0. 0. 0.', 'R3C': '0. 0. 0.', 'R3D': '0. 0. 0.', 'R3E': '0. 0. 0.'}, 'TRUNK_OPTIMIZATION_KEYPOINTS': {}, 'INDIVIDUAL_PART_OPTIMIZATION': {'T1L': ['coxa_T1_left', 'femur_T1_left', 'tibia_T1_left', 'tarsus_T1_left', 'claw_T1_left'], 'T1R': ['coxa_T1_right', 'femur_T1_right', 'tibia_T1_right', 'tarsus_T1_right', 'claw_T1_right'], 'T2L': ['coxa_T2_left', 'femur_T2_left', 'tibia_T2_left', 'tarsus_T2_left', 'claw_T2_left'], 'T2R': ['coxa_T2_right', 'femur_T2_right', 'tibia_T2_right', 'tarsus_T2_right', 'claw_T2_right'], 'T3L': ['coxa_T3_left', 'femur_T3_left', 'tibia_T3_left', 'tarsus_T3_left', 'claw_T3_left'], 'T3R': ['coxa_T3_right', 'femur_T3_right', 'tibia_T3_right', 'tarsus_T3_right', 'claw_T3_right']}, 'KEYPOINT_COLOR_PAIRS': {'L1A': '0 0 .3 1', 'L1B': '0 0 .3 1', 'L1C': '0 0 .3 1', 'L1D': '0 0 .3 1', 'L1E': '0 0 .3 1', 'R1A': '0 0 .3 1', 'R1B': '0 0 .3 1', 'R1C': '0 0 .3 1', 'R1D': '0 0 .3 1', 'R1E': '0 0 .3 1', 'L2A': '0 0 .3 1', 'L2B': '0 0 .3 1', 'L2C': '0 0 .3 1', 'L2D': '0 0 .3 1', 'L2E': '0 0 .3 1', 'R2A': '0 0 .3 1', 'R2B': '0 0 .3 1', 'R2C': '0 0 .3 1', 'R2D': '0 0 .3 1', 'R2E': '0 0 .3 1', 'L3A': '0 0 .3 1', 'L3B': '0 0 .3 1', 'L3C': '0 0 .3 1', 'L3D': '0 0 .3 1', 'L3E': '0 0 .3 1', 'R3A': '0 0 .3 1', 'R3B': '0 0 .3 1', 'R3C': '0 0 .3 1', 'R3D': '0 0 .3 1', 'R3E': '0 0 .3 1'}, 'SCALE_FACTOR': 1, 'MOCAP_SCALE_FACTOR': 1, 'SITES_TO_REGULARIZE': {}, 'RENDER_FPS': 50, 'N_SAMPLE_FRAMES': 100, 'M_REG_COEF': 1, 'TIME_BINS': 0.02}"
      ]
     },
     "execution_count": 9,
     "metadata": {},
     "output_type": "execute_result"
    }
   ],
   "source": [
    "cfg.model"
   ]
  },
  {
   "cell_type": "code",
   "execution_count": 22,
   "metadata": {},
   "outputs": [],
   "source": [
    "# set args\n",
    "data_path = base_path / \"transform_mocap_fly.p\"\n",
    "data_path_h5 = data_path.parent / f'{data_path.stem}.h5'\n",
    "xml_path = base_path / cfg.model[\"MJCF_PATH\"]\n",
    "\n",
    "# Load data\n",
    "with open(data_path, \"rb\") as file:\n",
    "    d = pickle.load(file)\n",
    "    qposes = np.array(d[\"qpos\"])\n",
    "    kp_data = np.array(d[\"kp_data\"])\n",
    "    kp_names = d[\"kp_names\"]\n",
    "    offsets = d[\"offsets\"]\n",
    "\n",
    "import stac_mjx.io_dict_to_hdf5 as ioh5\n",
    "data = ioh5.load(data_path_h5)\n",
    "# initialize STAC to create mj_model with scaling and marker body sites according to config\n",
    "# Set the learned offsets for body sites manually\n",
    "# stac = STAC(xml_path, cfg.stac, cfg.model, kp_names)"
   ]
  },
  {
   "cell_type": "code",
   "execution_count": 23,
   "metadata": {},
   "outputs": [],
   "source": []
  },
  {
   "cell_type": "code",
   "execution_count": null,
   "metadata": {},
   "outputs": [],
   "source": []
  },
  {
   "cell_type": "code",
   "execution_count": 13,
   "metadata": {},
   "outputs": [],
   "source": [
    "for key, value in d.items():\n",
    "    if type(value) == type(d['qpos']):\n",
    "        d[key] = np.array(value)"
   ]
  },
  {
   "cell_type": "code",
   "execution_count": 18,
   "metadata": {},
   "outputs": [],
   "source": [
    "data_path = ioh5.save(data_dir /'transform_tethered.h5', {'qposes': np.array(qposes), 'kp_data': np.array(kp_data), 'kp_names': kp_names, 'offsets': np.array(offsets)}) "
   ]
  },
  {
   "cell_type": "code",
   "execution_count": 8,
   "metadata": {},
   "outputs": [],
   "source": [
    "from dm_control import mjcf\n",
    "from dm_control.mujoco.wrapper.mjbindings import enums\n",
    "import PIL.ImageDraw\n",
    "from tqdm.auto import tqdm"
   ]
  },
  {
   "cell_type": "code",
   "execution_count": 9,
   "metadata": {},
   "outputs": [],
   "source": [
    "render_mj_model, body_site_idxs, keypoint_site_idxs = (stac._create_keypoint_sites())\n",
    "render_mj_model.site_pos[body_site_idxs] = offsets\n"
   ]
  },
  {
   "cell_type": "code",
   "execution_count": 10,
   "metadata": {},
   "outputs": [],
   "source": [
    "# mjcf_model = mjcf.from_path(xml_path)\n",
    "\n",
    "# physics = mjcf.Physics.from_mjcf_model(mjcf_model)\n",
    "# render_mj_model = deepcopy(physics.model.ptr)\n",
    "mj_data = mujoco.MjData(render_mj_model)\n",
    "\n",
    "mujoco.mj_kinematics(render_mj_model, mj_data)\n",
    "renderer = mujoco.Renderer(render_mj_model, height=1200, width=1920)\n",
    "\n",
    "# slice kp_data to match qposes length\n",
    "kp_data = kp_data[: qposes.shape[1]]\n",
    "\n",
    "scene_option = mujoco.MjvOption()\n",
    "scene_option.geomgroup[2] = 1\n",
    "scene_option.sitegroup[2] = 1\n",
    "scene_option.sitegroup[0] = 0\n",
    "\n",
    "scene_option.sitegroup[3] = 1\n",
    "scene_option.flags[enums.mjtVisFlag.mjVIS_TRANSPARENT] = True\n",
    "scene_option.flags[enums.mjtVisFlag.mjVIS_JOINT] = True\n",
    "# scene_option.flags[enums.mjtVisFlag.mjVIS_LIGHT] = False\n",
    "# scene_option.flags[enums.mjtVisFlag.mjVIS_CONVEXHULL] = True\n",
    "scene_option.flags[enums.mjtRndFlag.mjRND_SHADOW] = False\n",
    "scene_option.flags[enums.mjtRndFlag.mjRND_REFLECTION] = False\n",
    "scene_option.flags[enums.mjtRndFlag.mjRND_SKYBOX] = False\n",
    "scene_option.flags[enums.mjtRndFlag.mjRND_FOG] = False\n"
   ]
  },
  {
   "cell_type": "code",
   "execution_count": 11,
   "metadata": {},
   "outputs": [],
   "source": [
    "kps = kp_data[0].reshape(-1,3).copy()\n",
    "kps_init = kps[1].copy()"
   ]
  },
  {
   "cell_type": "code",
   "execution_count": null,
   "metadata": {},
   "outputs": [],
   "source": [
    "n = 2\n",
    "scene_option.flags[enums.mjtVisFlag.mjVIS_TRANSPARENT] = True\n",
    "kps = kp_data[0].reshape(-1,3).copy()\n",
    "\n",
    "# kps[0,0] = .825\n",
    "# kps[0,1] = .17\n",
    "# kps[0,2] = -0.06\n",
    "# kps[1,2] = -0.055\n",
    "# kps[2,2] = -0.11\n",
    "\n",
    "# kps[0,:] =+ np.array([0, -.0010, 0])\n",
    "# kps[1,:] = [0, 0, 0.045]\n",
    "# kps[2,:] = [-.12, 0, 0.015]\n",
    "# kps[0,:] = [0, 0, 0.01]\n",
    "# kps[1,:] = [0, 0, 0.075]\n",
    "# kps[2,:] = [-.12, 0, 0.015]\n",
    "\n",
    "# kps[3,:] = [0, 0, 0.01]\n",
    "# kps[1,:] = [0, 0, 0.075]\n",
    "# kps[2,:] = [-.12, 0, 0.015]\n",
    "print(kps[n])\n",
    "frames = []\n",
    "# Set keypoints\n",
    "render_mj_model.site_pos[keypoint_site_idxs] = kps\n",
    "mj_data.qpos = qposes[0]\n",
    "mujoco.mj_forward(render_mj_model, mj_data)\n",
    "\n",
    "renderer.update_scene(mj_data, camera=5, scene_option=scene_option)\n",
    "pixels = renderer.render()\n",
    "PIL.Image.fromarray(pixels)"
   ]
  },
  {
   "cell_type": "code",
   "execution_count": null,
   "metadata": {},
   "outputs": [],
   "source": [
    "physics.named.data.qpos"
   ]
  },
  {
   "cell_type": "code",
   "execution_count": 13,
   "metadata": {},
   "outputs": [],
   "source": [
    "import matplotlib.pyplot as plt\n",
    "# plt.imshow(pixels)"
   ]
  },
  {
   "cell_type": "code",
   "execution_count": null,
   "metadata": {},
   "outputs": [],
   "source": [
    "# xml_path = task_path.parent / 'fruitfly_force.xml'\n",
    "mjcf_model = mjcf.from_path(xml_path)\n",
    "# Visualize fly as loaded.\n",
    "physics = mjcf.Physics.from_mjcf_model(mjcf_model)\n",
    "\n",
    "scene_option = mujoco.MjvOption()\n",
    "scene_option.geomgroup[2] = 1\n",
    "scene_option.sitegroup[2] = 1\n",
    "\n",
    "scene_option.sitegroup[3] = 1\n",
    "scene_option.flags[enums.mjtVisFlag.mjVIS_TRANSPARENT] = True\n",
    "# scene_option.flags[enums.mjtVisFlag.mjVIS_LIGHT] = False\n",
    "# scene_option.flags[enums.mjtVisFlag.mjVIS_CONVEXHULL] = True\n",
    "# scene_option.flags[enums.mjtRndFlag.mjRND_SHADOW] = False\n",
    "scene_option.flags[enums.mjtRndFlag.mjRND_REFLECTION] = False\n",
    "scene_option.flags[enums.mjtRndFlag.mjRND_SKYBOX] = False\n",
    "scene_option.flags[enums.mjtRndFlag.mjRND_FOG] = False\n",
    "# physics.model.geom('floor').pos = (0, 0, -.137)\n",
    "_ = physics.reset()\n",
    "# retract_wings(physics, prefix='')\n",
    "# physics.step()\n",
    "pixels = physics.render(camera_id=1, width=640, height=480,scene_option=scene_option)\n",
    "PIL.Image.fromarray(pixels)"
   ]
  },
  {
   "cell_type": "code",
   "execution_count": null,
   "metadata": {},
   "outputs": [],
   "source": [
    "joints_to_manipulate = ['coxa_abduct_T1_left',  'coxa_twist_T1_left',   'coxa_T1_left',   'femur_T1_left',  'femur_twist_T1_left',  'tibia_T1_left',    'tarsus_T1_left',\n",
    "                        'coxa_abduct_T1_right', 'coxa_twist_T1_right',  'coxa_T1_right',  'femur_T1_right', 'femur_twist_T1_right', 'tibia_T1_right',   'tarsus_T1_right',\n",
    "                        'coxa_abduct_T2_left',  'coxa_twist_T2_left',   'coxa_T2_left',   'femur_T2_left',  'femur_twist_T2_left',  'tibia_T2_left',    'tarsus_T2_left',\n",
    "                        'coxa_abduct_T2_right', 'coxa_twist_T2_right',  'coxa_T2_right',  'femur_T2_right', 'femur_twist_T2_right', 'tibia_T2_right',   'tarsus_T2_right',\n",
    "                        'coxa_abduct_T3_left',  'coxa_twist_T3_left',   'coxa_T3_left',   'femur_T3_left',  'femur_twist_T3_left',  'tibia_T3_left',    'tarsus_T3_left',\n",
    "                        'coxa_abduct_T3_right', 'coxa_twist_T3_right',  'coxa_T3_right',  'femur_T3_right', 'femur_twist_T3_right', 'tibia_T3_right',   'tarsus_T3_right',]"
   ]
  },
  {
   "cell_type": "code",
   "execution_count": null,
   "metadata": {},
   "outputs": [],
   "source": [
    "physics.data.qpos.shape"
   ]
  },
  {
   "cell_type": "code",
   "execution_count": null,
   "metadata": {},
   "outputs": [],
   "source": [
    "len(joints_to_manipulate), qposes.shape"
   ]
  },
  {
   "cell_type": "code",
   "execution_count": null,
   "metadata": {},
   "outputs": [],
   "source": [
    "# Generate video of fitted poses.\n",
    "\n",
    "camera_id = 1 # Side view.\n",
    "\n",
    "# Hide all sites.\n",
    "scene_option = mujoco.MjvOption()\n",
    "scene_option.sitegroup[:] = [1, 1, 1, 0, 0, 0]\n",
    "scene_option.flags[enums.mjtVisFlag.mjVIS_CONTACTPOINT] = True\n",
    "scene_option.flags[mujoco.mjtVisFlag.mjVIS_CONTACTFORCE] = True\n",
    "scene_option.flags[enums.mjtVisFlag.mjVIS_TRANSPARENT] = True\n",
    "scene_option.flags[enums.mjtVisFlag.mjVIS_LIGHT] = False\n",
    "scene_option.flags[enums.mjtVisFlag.mjVIS_CONVEXHULL] = True\n",
    "scene_option.flags[enums.mjtRndFlag.mjRND_SHADOW] = False\n",
    "scene_option.flags[enums.mjtRndFlag.mjRND_REFLECTION] = False\n",
    "scene_option.flags[enums.mjtRndFlag.mjRND_SKYBOX] = False\n",
    "scene_option.flags[enums.mjtRndFlag.mjRND_FOG] = False\n",
    "#retract_wings(physics)\n",
    "\n",
    "video_frames = []\n",
    "for q in tqdm(qposes[:100]):\n",
    "    with physics.reset_context():\n",
    "        physics.data.qpos = q.copy()\n",
    "    pixels = physics.render(camera_id=camera_id, width=640, height=480, scene_option=scene_option)\n",
    "    video_frames.append(pixels)"
   ]
  },
  {
   "cell_type": "code",
   "execution_count": null,
   "metadata": {},
   "outputs": [],
   "source": [
    "media.show_video(video_frames, fps=model_cfg[\"RENDER_FPS\"]) "
   ]
  },
  {
   "cell_type": "code",
   "execution_count": null,
   "metadata": {},
   "outputs": [],
   "source": []
  },
  {
   "cell_type": "code",
   "execution_count": 6,
   "metadata": {},
   "outputs": [],
   "source": [
    "qvel = np.diff(qposes[:,7:], axis=0, prepend=qposes[0:1,7:])\n"
   ]
  },
  {
   "cell_type": "code",
   "execution_count": null,
   "metadata": {},
   "outputs": [],
   "source": [
    "qvel.shape, qposes.shape, kp_data.shape"
   ]
  },
  {
   "cell_type": "code",
   "execution_count": null,
   "metadata": {},
   "outputs": [],
   "source": [
    "walking_bout_n=1\n",
    "root = mjcf.RootElement()\n",
    "root.keyframe.add('key', name=f'walk{walking_bout_n}_1', mpos=kp_data[0].flatten(),qpos=qposes[0,7:].flatten(),qvel=qvel[0].flatten())\n",
    "for n in range(2,kp_data.shape[0]):\n",
    "    root.keyframe.add('key', name=f'walk{walking_bout_n}_{n}', mpos=kp_data[n].flatten(),qpos=qposes[n,7:].flatten())\n",
    "    \n",
    "# save xml file\n",
    "keyframe_path = base_path/'models'/'fruitfly'\n",
    "mjcf.export_with_assets(root, keyframe_path,f'Fly_stac_free{walking_bout_n}.xml')\n",
    "keyframe_path/f'Fly_walk_pos{walking_bout_n}.xml'"
   ]
  },
  {
   "cell_type": "markdown",
   "metadata": {},
   "source": [
    "# Test joint ranges"
   ]
  },
  {
   "cell_type": "code",
   "execution_count": 5,
   "metadata": {},
   "outputs": [],
   "source": [
    "import matplotlib.pyplot as plt"
   ]
  },
  {
   "cell_type": "code",
   "execution_count": null,
   "metadata": {},
   "outputs": [],
   "source": [
    "# set args\n",
    "data_path = base_path / \"transform.p\"\n",
    "xml_path = base_path / model_cfg[\"MJCF_PATH\"]\n",
    "\n",
    "# Load data\n",
    "with open(data_path, \"rb\") as file:\n",
    "    d = pickle.load(file)\n",
    "    qposes = np.array(d[\"qpos\"])\n",
    "    kp_data = np.array(d[\"kp_data\"])\n",
    "    kp_names = d[\"kp_names\"]\n",
    "    offsets = d[\"offsets\"]\n",
    "\n",
    "# initialize STAC to create mj_model with scaling and marker body sites according to config\n",
    "# Set the learned offsets for body sites manually\n",
    "stac = STAC(xml_path, stac_cfg, model_cfg, kp_names)"
   ]
  },
  {
   "cell_type": "code",
   "execution_count": null,
   "metadata": {},
   "outputs": [],
   "source": [
    "\n",
    "with open(data_path, \"rb\") as file:\n",
    "    d = pickle.load(file)\n",
    "    qposes = np.array(d[\"qpos\"])\n",
    "    kp_data = np.array(d[\"kp_data\"])\n",
    "    kp_names = d[\"kp_names\"]\n",
    "    offsets = d[\"offsets\"]\n",
    "mjcf_model = mjcf.from_path(xml_path)\n",
    "physics = mjcf.Physics.from_mjcf_model(mjcf_model)\n",
    "joint_ranges = physics.named.model.jnt_range\n",
    "joints_to_manipulate = [j.name for j in mjcf_model.find_all('joint')]\n",
    "\n",
    "for n,(jointrange,minjnt,maxjnt) in enumerate(zip(joint_ranges, np.min(qposes[:,6:],axis=0),np.max(qposes[:,6:],axis=0))):\n",
    "    print('{},{}, xml_range: {}, min:{:.04f}, max:{:.04f}, Valid: {}'.format(n,joints_to_manipulate[n],jointrange,minjnt,maxjnt, (minjnt>=jointrange[0])&(maxjnt<=jointrange[1])))"
   ]
  },
  {
   "cell_type": "code",
   "execution_count": null,
   "metadata": {},
   "outputs": [],
   "source": [
    "lb = stac._lb\n",
    "ub = stac._ub\n",
    "# Calculate min and max for each dimension\n",
    "min_values = np.min(qposes, axis=0)\n",
    "max_values = np.max(qposes, axis=0)\n",
    "\n",
    "# Check if min and max violate bounds\n",
    "min_violates = min_values < stac._lb\n",
    "max_violates = max_values > stac._ub\n",
    "\n",
    "# Print results\n",
    "for i in range(stac._lb.shape[0]):\n",
    "    print(f\"Dimension {i}: \", end='')\n",
    "    print(f\"  Min: {min_values[i]:.4f} (Violates: {min_violates[i]})\", end='')\n",
    "    print(f\"  Max: {max_values[i]:.4f} (Violates: {max_violates[i]})\", end='')\n",
    "    print(f\"  Bounds: [{stac._lb[i]:.4f}, {stac._ub[i]:.4f}]\", end='')\n",
    "    print()\n",
    "\n",
    "# Summary\n",
    "print(\"Summary:\")\n",
    "print(f\"Dimensions with min violations: {np.sum(min_violates)}\")\n",
    "print(f\"Dimensions with max violations: {np.sum(max_violates)}\")"
   ]
  },
  {
   "cell_type": "code",
   "execution_count": 13,
   "metadata": {},
   "outputs": [],
   "source": [
    "mjcf_model = mjcf.from_path(xml_path)\n",
    "physics = mjcf.Physics.from_mjcf_model(mjcf_model)\n",
    "joint_ranges = physics.named.model.jnt_range\n",
    "joints_to_manipulate = [j.name for j in mjcf_model.find_all('joint')]\n"
   ]
  },
  {
   "cell_type": "code",
   "execution_count": null,
   "metadata": {},
   "outputs": [],
   "source": [
    "physics.named.data.qpos.shape"
   ]
  },
  {
   "cell_type": "code",
   "execution_count": null,
   "metadata": {},
   "outputs": [],
   "source": [
    "joints_to_manipulate = [j.name for j in mjcf_model.find_all('joint')]\n",
    "fig, axs = plt.subplots(7,6,figsize=(30, 30))\n",
    "for n,ax in enumerate(axs.flatten()):\n",
    "    ax.plot(qposes[:,n+7])\n",
    "    ax.hlines(joint_ranges[n+1][0],0,qposes[:,7:].shape[0],'b',linestyles='dashed')\n",
    "    ax.hlines(joint_ranges[n+1][1],0,qposes[:,7:].shape[0],'r',linestyles='dashed')\n",
    "    ax.set_title(joints_to_manipulate[n+1])"
   ]
  },
  {
   "cell_type": "code",
   "execution_count": null,
   "metadata": {},
   "outputs": [],
   "source": []
  },
  {
   "cell_type": "code",
   "execution_count": null,
   "metadata": {},
   "outputs": [],
   "source": []
  }
 ],
 "metadata": {
  "kernelspec": {
   "display_name": "stac-mjx",
   "language": "python",
   "name": "python3"
  },
  "language_info": {
   "codemirror_mode": {
    "name": "ipython",
    "version": 3
   },
   "file_extension": ".py",
   "mimetype": "text/x-python",
   "name": "python",
   "nbconvert_exporter": "python",
   "pygments_lexer": "ipython3",
   "version": "3.11.10"
  }
 },
 "nbformat": 4,
 "nbformat_minor": 4
}
