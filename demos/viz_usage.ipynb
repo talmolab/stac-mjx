{
 "cells": [
  {
   "cell_type": "markdown",
   "metadata": {},
   "source": [
    "### Render stac outputs with mujoco"
   ]
  },
  {
   "cell_type": "code",
   "execution_count": 1,
   "metadata": {
    "tags": []
   },
   "outputs": [
    {
     "name": "stdout",
     "output_type": "stream",
     "text": [
      "env: MUJOCO_GL=osmesa\n",
      "env: PYOPENGL_PLATFORM=osmesa\n"
     ]
    }
   ],
   "source": [
    "%load_ext autoreload\n",
    "%autoreload 2\n",
    "\n",
    "# glfw is faster, but use osmesa if glfw not available\n",
    "%env MUJOCO_GL=osmesa\n",
    "%env PYOPENGL_PLATFORM=osmesa\n",
    "\n",
    "import stac_mjx\n",
    "\n",
    "import mediapy as media\n",
    "from pathlib import Path\n",
    "import os\n",
    "\n",
    "\n",
    "# Disable jax's memory preallocation if you're running multiple notebooks using jax\n",
    "os.environ['XLA_PYTHON_CLIENT_PREALLOCATE'] = \"false\" \n",
    "\n",
    "base_path = Path.cwd().parent\n",
    "stac_config_path = base_path / \"configs/stac.yaml\"\n",
    "model_config_path = base_path / \"configs/rodent.yaml\"\n",
    "\n",
    "stac_cfg, model_cfg = stac_mjx.load_configs(stac_config_path, model_config_path)"
   ]
  },
  {
   "cell_type": "code",
   "execution_count": 2,
   "metadata": {
    "tags": []
   },
   "outputs": [
    {
     "name": "stderr",
     "output_type": "stream",
     "text": [
      "0it [00:00, ?it/s]/root/anaconda3/envs/stac-mjx-env/lib/python3.11/subprocess.py:1885: RuntimeWarning: os.fork() was called. os.fork() is incompatible with multithreaded code, and JAX is multithreaded, so this will likely lead to a deadlock.\n",
      "  self.pid = _fork_exec(\n",
      "1it [00:00,  3.09it/s]\n"
     ]
    },
    {
     "data": {
      "text/html": [
       "<table class=\"show_videos\" style=\"border-spacing:0px;\"><tr><td style=\"padding:1px;\"><video controls width=\"1920\" height=\"1200\" style=\"object-fit:cover;\" loop autoplay muted>\n",
       "      <source src=\"data:video/mp4;base64,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\" type=\"video/mp4\"/>\n",
       "      This browser does not support the video tag.\n",
       "      </video></td></tr></table>"
      ],
      "text/plain": [
       "<IPython.core.display.HTML object>"
      ]
     },
     "metadata": {},
     "output_type": "display_data"
    }
   ],
   "source": [
    "# set args\n",
    "data_path = base_path / \"fit_mouse_3600_newtail.p\"\n",
    "n_frames = 1\n",
    "save_path = base_path / \"videos/direct_render_skel_only_newtail.mp4\"\n",
    "\n",
    "# Call mujoco_viz\n",
    "frames = stac_mjx.viz_stac(data_path, stac_cfg, model_cfg, n_frames, save_path, start_frame=0, camera=\"center_of_mass\", base_path=Path.cwd().parent)\n",
    "\n",
    "# Show the video in the notebook (it is also saved to the save_path)\n",
    "media.show_video(frames, fps=model_cfg[\"RENDER_FPS\"])"
   ]
  }
 ],
 "metadata": {
  "kernelspec": {
   "display_name": "stac-mjx",
   "language": "python",
   "name": "python3"
  },
  "language_info": {
   "codemirror_mode": {
    "name": "ipython",
    "version": 3
   },
   "file_extension": ".py",
   "mimetype": "text/x-python",
   "name": "python",
   "nbconvert_exporter": "python",
   "pygments_lexer": "ipython3",
   "version": "3.11.9"
  }
 },
 "nbformat": 4,
 "nbformat_minor": 4
}
