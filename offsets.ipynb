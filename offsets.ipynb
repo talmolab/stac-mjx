{
 "cells": [
  {
   "cell_type": "code",
   "execution_count": 9,
   "metadata": {},
   "outputs": [
    {
     "name": "stdout",
     "output_type": "stream",
     "text": [
      "[Errno 2] No such file or directory: 'stac-mjx'\n",
      "/Users/charleszhang/GitHub/stac-mjx/stac-mjx\n"
     ]
    }
   ],
   "source": [
    "import pickle\n",
    "from IPython.display import Video\n",
    "import importlib\n",
    "import numpy as np\n",
    "%cd stac-mjx\n",
    "import viz\n",
    "import os\n",
    "# os.environ[\"IMAGEIO_FFMPEG_EXE\"] = \"/usr/bin/ffmpeg\"\n",
    "# viz = importlib.import_module(\"stac-mjx.viz\")\n",
    "\n",
    "param_path = \"../params/params.yaml\"\n",
    "offset_path = \"../offset.p\"\n",
    "n_frames = 500"
   ]
  },
  {
   "cell_type": "code",
   "execution_count": 10,
   "metadata": {},
   "outputs": [
    {
     "name": "stdout",
     "output_type": "stream",
     "text": [
      "(500, 74)\n",
      "walker: <walkers.Rat object at 0x3f65a3290>\n",
      "arena: <arenas.DannceArena object at 0x4132b0110>\n",
      "<dm_control.composer.environment.Environment object at 0x3f7751f40>\n"
     ]
    },
    {
     "data": {
      "text/html": [
       "<video src=\"../videos/mujoco_video.mp4\" controls  >\n",
       "      Your browser does not support the <code>video</code> element.\n",
       "    </video>"
      ],
      "text/plain": [
       "<IPython.core.display.Video object>"
      ]
     },
     "execution_count": 10,
     "metadata": {},
     "output_type": "execute_result"
    }
   ],
   "source": [
    "save_path = \"../videos/mujoco_video.mp4\"\n",
    "viz.render_mujoco(\n",
    "    param_path,\n",
    "    offset_path,\n",
    "    save_path,\n",
    "    frames = np.arange(n_frames),\n",
    ")\n",
    "Video(save_path)"
   ]
  },
  {
   "cell_type": "markdown",
   "metadata": {},
   "source": [
    "### rendering directly via mujoco"
   ]
  },
  {
   "cell_type": "code",
   "execution_count": 1,
   "metadata": {},
   "outputs": [
    {
     "name": "stdout",
     "output_type": "stream",
     "text": [
      "/home/charles/github/stac-mjx/stac-mjx\n"
     ]
    },
    {
     "name": "stderr",
     "output_type": "stream",
     "text": [
      "/home/charles/miniconda3/envs/stac-mjx/lib/python3.12/site-packages/IPython/core/magics/osm.py:417: UserWarning: using dhist requires you to install the `pickleshare` library.\n",
      "  self.shell.db['dhist'] = compress_dhist(dhist)[-100:]\n"
     ]
    }
   ],
   "source": [
    "import mediapy as media\n",
    "from dm_control import mjcf\n",
    "import mujoco\n",
    "from jax import numpy as jnp\n",
    "from mujoco import mjx\n",
    "import pickle\n",
    "import imageio\n",
    "import os\n",
    "%cd stac-mjx\n",
    "import controller\n",
    "import utils\n",
    "import stac_base\n",
    "os.environ[\"MUJOCO_GL\"] = \"osmesa\"\n",
    "offset_path = \"../LM_fit.p\"\n",
    "\n",
    "scene_option = mujoco.MjvOption()\n",
    "scene_option.flags[mujoco.mjtVisFlag.mjVIS_JOINT] = True\n",
    "scene_option.flags[mujoco.mjtVisFlag.mjVIS_LIGHT] = True\n",
    "scene_option.flags[mujoco.mjtVisFlag.mjVIS_CAMERA] = True"
   ]
  },
  {
   "cell_type": "code",
   "execution_count": 2,
   "metadata": {},
   "outputs": [],
   "source": [
    "utils.init_params(\"../params/params.yaml\")\n",
    "\n",
    "# load mjx_model and mjx_data and set marker sites\n",
    "rat_xml = \"../models/rodent_stac.xml\"\n",
    "root = mjcf.from_path(rat_xml)\n",
    "physics, mj_model = controller.create_body_sites(root)\n",
    "physics, mj_model, keypoint_sites = controller.create_keypoint_sites(root)\n",
    "\n",
    "_UPRIGHT_POS = (0.0, 0.0, 0.94)\n",
    "_UPRIGHT_QUAT = (0.859, 1.0, 1.0, 0.859)\n",
    "\n",
    "mj_model.opt.solver = mujoco.mjtSolver.mjSOL_NEWTON\n",
    "mj_model.opt.disableflags = mujoco.mjtDisableBit.mjDSBL_EULERDAMP\n",
    "mj_model.opt.iterations = 1\n",
    "mj_model.opt.ls_iterations = 4\n",
    "\n",
    "mjx_model = mjx.put_model(mj_model)\n",
    "mjx_data = mjx.make_data(mjx_model)\n",
    "\n",
    "# set starting pos and quat\n",
    "mjx_data = mjx_data.replace(xpos=_UPRIGHT_POS, xquat=_UPRIGHT_QUAT)"
   ]
  },
  {
   "cell_type": "code",
   "execution_count": 3,
   "metadata": {},
   "outputs": [],
   "source": [
    "mjx_data = stac_base.kinematics(mjx_model, mjx_data)"
   ]
  },
  {
   "cell_type": "code",
   "execution_count": 4,
   "metadata": {},
   "outputs": [],
   "source": [
    "# # set mjx_data.qpos\n",
    "# mjx_data = mjx_data.replace(qpos=jnp.array(qpos))\n",
    "# mjx_data = mjx._src.smooth.kinematics(mjx_model, mjx_data)\n",
    "# mjx_data = mjx._src.smooth.com_pos(mjx_model, mjx_data)\n",
    "\n",
    "# # render\n",
    "# renderer = mujoco.Renderer(mj_model)\n",
    "# mj_data = mjx.get_data(mj_model, mjx_data)\n",
    "# renderer.update_scene(mj_data, scene_option=scene_option)\n",
    "# pixels = renderer.render()\n",
    "\n",
    "# media.show_video([pixels], fps=1)"
   ]
  },
  {
   "cell_type": "markdown",
   "metadata": {},
   "source": [
    "### Full video rendering directly using mujoco"
   ]
  },
  {
   "cell_type": "code",
   "execution_count": 5,
   "metadata": {},
   "outputs": [
    {
     "name": "stderr",
     "output_type": "stream",
     "text": [
      "/home/charles/miniconda3/envs/stac-mjx/lib/python3.12/site-packages/imageio_ffmpeg/_utils.py:7: DeprecationWarning: pkg_resources is deprecated as an API. See https://setuptools.pypa.io/en/latest/pkg_resources.html\n",
      "  from pkg_resources import resource_filename\n"
     ]
    },
    {
     "name": "stdout",
     "output_type": "stream",
     "text": [
      "rendering frame 0\n"
     ]
    }
   ],
   "source": [
    "# open data file, loop through qpos blah blah\n",
    "# offset_path=\"../LM_fit.p\"\n",
    "with open(offset_path, \"rb\") as file:\n",
    "    d = pickle.load(file)\n",
    "    qposes = jnp.array(d[\"qpos\"])\n",
    "    kp_data = jnp.array(d[\"kp_data\"])\n",
    "\n",
    "renderer = mujoco.Renderer(mj_model, height=1200, width=1920)\n",
    "\n",
    "FPS=50\n",
    "n_frames = 500\n",
    "frames=[]\n",
    "save_path=\"../videos/direct_render.mp4\"\n",
    "\n",
    "# Make sure there are enough frames to render\n",
    "if qposes.shape[0] < n_frames-1:\n",
    "    raise Exception(f\"Trying to render {n_frames} frames when data['qpos'] only has {qposes.shape[0]}\")\n",
    "\n",
    "# slice kp_data to match qposes length\n",
    "kp_data = kp_data[:qposes.shape[0]]\n",
    "with imageio.get_writer(save_path, fps=FPS) as video:\n",
    "    for i, (qpos, kps) in enumerate(zip(qposes, kp_data)):\n",
    "        if i%100 == 0:\n",
    "            print(f\"rendering frame {i}\")\n",
    "        if i == n_frames:\n",
    "            break\n",
    "        \n",
    "        #set keypoints\n",
    "        physics, _ = controller.set_keypoint_sites(physics, keypoint_sites, kps)\n",
    "        mjx_model = mjx.put_model(mj_model)\n",
    "        \n",
    "        # set mjx_data.qpos\n",
    "        mjx_data = mjx_data.replace(qpos=jnp.array(qpos))\n",
    "        mjx_data = stac_base.kinematics(mjx_model, mjx_data)\n",
    "        # mjx_data = stac_base.com_pos(mjx_model, mjx_data)\n",
    "\n",
    "        # render\n",
    "        mj_data = mjx.get_data(mj_model, mjx_data)\n",
    "        renderer.update_scene(mj_data, scene_option=scene_option)\n",
    "        pixels = renderer.render()\n",
    "        video.append_data(pixels)\n",
    "        frames.append(pixels)\n",
    "\n",
    "media.show_video(frames, fps=FPS)"
   ]
  },
  {
   "cell_type": "code",
   "execution_count": 11,
   "metadata": {},
   "outputs": [
    {
     "data": {
      "text/plain": [
       "(23, 3)"
      ]
     },
     "execution_count": 11,
     "metadata": {},
     "output_type": "execute_result"
    }
   ],
   "source": [
    "x = jnp.reshape(kp_data[0].T, (-1, 3))\n",
    "x.shape"
   ]
  },
  {
   "cell_type": "code",
   "execution_count": null,
   "metadata": {},
   "outputs": [
    {
     "data": {
      "text/plain": [
       "Array([ 3.12635173e-01, -2.14071056e-03, -2.48040521e-03,  3.51357973e-01,\n",
       "       -2.22390872e-02, -3.40437055e-03,  3.86493085e-01,  8.84612340e-02,\n",
       "        9.14292293e-02,  3.86493085e-01,  8.84612340e-02,  9.14292293e-02,\n",
       "        3.54778418e-01,  7.22992018e-02,  4.19854925e-02,  3.89655146e-01,\n",
       "        5.41970604e-02,  4.11532984e-02,  3.15315077e-01,  1.77498472e-02,\n",
       "        8.21022999e-04,  3.66199973e-01, -8.66104732e-03, -3.93142284e-04,\n",
       "        3.56336734e-01,  1.03692915e-01,  2.44815935e-02,  4.13762718e-01,\n",
       "        7.38869851e-02,  2.31113512e-02,  3.16679625e-01, -1.47644321e-02,\n",
       "        4.87246209e-02,  3.40638594e-01, -2.71999059e-02,  4.81529355e-02,\n",
       "        3.19526877e-01,  1.91083317e-02,  2.50585532e-02,  3.65800034e-01,\n",
       "       -4.90892253e-03,  2.39544286e-02,  3.67115802e-01,  7.47686623e-02,\n",
       "        6.51602119e-02,  3.85452400e-01,  6.52513796e-02,  6.47226821e-02,\n",
       "        3.86493085e-01,  8.84612340e-02,  9.14292293e-02,  3.65866570e-01,\n",
       "        4.97214487e-02,  7.01752701e-02,  3.34682865e-01, -9.55700644e-03,\n",
       "        5.23668869e-02,  3.51205547e-01,  2.11287467e-02,  7.71876266e-02,\n",
       "        3.34682865e-01, -9.55700644e-03,  5.23668869e-02,  3.54778418e-01,\n",
       "        7.22992018e-02,  4.19854925e-02,  3.89655146e-01,  5.41970604e-02,\n",
       "        4.11532984e-02], dtype=float64)"
      ]
     },
     "execution_count": 8,
     "metadata": {},
     "output_type": "execute_result"
    }
   ],
   "source": [
    "import stac_base\n",
    "\n",
    "markers = stac_base.get_site_xpos(mjx_data).flatten() \n",
    "markers"
   ]
  },
  {
   "cell_type": "code",
   "execution_count": 36,
   "metadata": {},
   "outputs": [],
   "source": [
    "kps = data[\"kp_data\"][0]"
   ]
  },
  {
   "cell_type": "code",
   "execution_count": 37,
   "metadata": {},
   "outputs": [
    {
     "data": {
      "text/plain": [
       "Array(0.00552002, dtype=float64)"
      ]
     },
     "execution_count": 37,
     "metadata": {},
     "output_type": "execute_result"
    }
   ],
   "source": [
    "jnp.sum(jnp.square((kps - markers))) * 0.5"
   ]
  },
  {
   "cell_type": "code",
   "execution_count": 38,
   "metadata": {},
   "outputs": [
    {
     "data": {
      "text/plain": [
       "Array([0.00913613, 0.01027233, 0.0158153 , 0.00487711, 0.00987631,\n",
       "       0.01607085, 0.02204112, 0.00893821, 0.01925653, 0.00338292,\n",
       "       0.00760634, 0.01167895, 0.00932603, 0.0014955 , 0.00393766,\n",
       "       0.00415304, 0.00130805, 0.00473414, 0.01510866, 0.01028148,\n",
       "       0.00833713, 0.00058933, 0.00640033, 0.00911062, 0.00640427,\n",
       "       0.01681358, 0.01538146, 0.02596203, 0.00613267, 0.01428621,\n",
       "       0.0006225 , 0.01716347, 0.0004286 , 0.00539137, 0.01105097,\n",
       "       0.00054501, 0.00351097, 0.00871465, 0.01171861, 0.00117845,\n",
       "       0.00400179, 0.00961844, 0.01960247, 0.00800546, 0.0008335 ,\n",
       "       0.00742081, 0.01408536, 0.00039182, 0.02929329, 0.02612497,\n",
       "       0.0252084 , 0.0041715 , 0.00726707, 0.01161732, 0.01064545,\n",
       "       0.00734256, 0.00497375, 0.00731071, 0.00847428, 0.00788616,\n",
       "       0.01912909, 0.0136389 , 0.0296868 , 0.00690708, 0.00672485,\n",
       "       0.02139078, 0.00467721, 0.01570162, 0.02077338], dtype=float64)"
      ]
     },
     "execution_count": 38,
     "metadata": {},
     "output_type": "execute_result"
    }
   ],
   "source": [
    "jnp.abs(kps - markers)"
   ]
  },
  {
   "cell_type": "code",
   "execution_count": 39,
   "metadata": {},
   "outputs": [
    {
     "data": {
      "text/plain": [
       "Array([8.34688342e-05, 1.05520803e-04, 2.50123604e-04, 2.37861818e-05,\n",
       "       9.75414882e-05, 2.58272301e-04, 4.85810937e-04, 7.98916078e-05,\n",
       "       3.70813962e-04, 1.14441648e-05, 5.78563700e-05, 1.36397804e-04,\n",
       "       8.69747564e-05, 2.23651585e-06, 1.55051967e-05, 1.72477426e-05,\n",
       "       1.71099819e-06, 2.24120403e-05, 2.28271585e-04, 1.05708774e-04,\n",
       "       6.95076820e-05, 3.47314664e-07, 4.09642781e-05, 8.30034852e-05,\n",
       "       4.10146660e-05, 2.82696521e-04, 2.36589240e-04, 6.74026939e-04,\n",
       "       3.76096196e-05, 2.04095720e-04, 3.87501978e-07, 2.94584707e-04,\n",
       "       1.83701536e-07, 2.90669181e-05, 1.22123909e-04, 2.97034915e-07,\n",
       "       1.23268771e-05, 7.59451431e-05, 1.37325851e-04, 1.38874799e-06,\n",
       "       1.60143263e-05, 9.25143090e-05, 3.84256681e-04, 6.40873230e-05,\n",
       "       6.94724637e-07, 5.50684777e-05, 1.98397372e-04, 1.53522785e-07,\n",
       "       8.58096980e-04, 6.82514083e-04, 6.35463255e-04, 1.74014290e-05,\n",
       "       5.28102924e-05, 1.34962236e-04, 1.13325605e-04, 5.39131624e-05,\n",
       "       2.47381541e-05, 5.34464903e-05, 7.18134065e-05, 6.21914759e-05,\n",
       "       3.65922182e-04, 1.86019729e-04, 8.81305800e-04, 4.77077603e-05,\n",
       "       4.52235539e-05, 4.57565603e-04, 2.18762942e-05, 2.46540910e-04,\n",
       "       4.31533368e-04], dtype=float64)"
      ]
     },
     "execution_count": 39,
     "metadata": {},
     "output_type": "execute_result"
    }
   ],
   "source": [
    "jnp.square(kps - markers)"
   ]
  },
  {
   "cell_type": "markdown",
   "metadata": {},
   "source": [
    "### rendering single frame via dmcontrol"
   ]
  },
  {
   "cell_type": "code",
   "execution_count": 3,
   "metadata": {},
   "outputs": [
    {
     "name": "stderr",
     "output_type": "stream",
     "text": [
      "/Users/charleszhang/miniforge3/envs/stac-mjx/lib/python3.12/site-packages/IPython/core/magics/osm.py:393: UserWarning: using bookmarks requires you to install the `pickleshare` library.\n",
      "  bkms = self.shell.db.get('bookmarks', {})\n"
     ]
    },
    {
     "name": "stdout",
     "output_type": "stream",
     "text": [
      "[Errno 2] No such file or directory: 'stac-mjx'\n",
      "/Users/charleszhang/GitHub/stac-mjx/stac-mjx\n",
      "(6561, 74)\n",
      "walker: <walkers.Rat object at 0x16b0b5a60>\n",
      "arena: <arenas.DannceArena object at 0x2a669b920>\n",
      "<dm_control.composer.environment.Environment object at 0x16b06fbf0>\n",
      "2.0\n"
     ]
    }
   ],
   "source": [
    "%cd stac-mjx\n",
    "import numpy as np\n",
    "\n",
    "import viz\n",
    "from IPython.display import Video\n",
    "import matplotlib.pyplot as plt\n",
    "\n",
    "offset_path = \"root.p\"\n",
    "import pickle\n",
    "with open(offset_path, \"rb\") as file:\n",
    "    data = pickle.load(file)\n",
    "\n",
    "data[\"qpos\"] = np.array(data[\"qpos\"])\n",
    "data[\"xpos\"] = np.array(data[\"xpos\"])\n",
    "# data[\"walker_body_sites\"] = np.array(data[\"walker_body_sites\"])\n",
    "\n",
    "data[\"qpos\"] = np.tile(data[\"qpos\"], (3, 1))\n",
    "data[\"xpos\"] = np.tile(data[\"xpos\"], (3, 1, 1))\n",
    "# data[\"walker_body_sites\"] = np.tile(data[\"walker_body_sites\"], (3, 1, 1))\n",
    "\n",
    "with open(offset_path, \"wb\") as output_file:\n",
    "    pickle.dump(data, output_file, protocol=2)\n",
    "save_path = \"../videos/root.mp4\"\n",
    "frame = viz.render_first(\n",
    "    \"../params/params.yaml\",\n",
    "    offset_path,\n",
    "    save_path,\n",
    "    frames = np.arange(3),\n",
    ")"
   ]
  },
  {
   "cell_type": "code",
   "execution_count": null,
   "metadata": {},
   "outputs": [],
   "source": []
  }
 ],
 "metadata": {
  "kernelspec": {
   "display_name": "stac-mjx",
   "language": "python",
   "name": "python3"
  },
  "language_info": {
   "codemirror_mode": {
    "name": "ipython",
    "version": 3
   },
   "file_extension": ".py",
   "mimetype": "text/x-python",
   "name": "python",
   "nbconvert_exporter": "python",
   "pygments_lexer": "ipython3",
   "version": "3.12.0"
  }
 },
 "nbformat": 4,
 "nbformat_minor": 2
}
