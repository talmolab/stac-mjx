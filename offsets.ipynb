{
 "cells": [
  {
   "cell_type": "code",
   "execution_count": 1,
   "metadata": {},
   "outputs": [
    {
     "name": "stderr",
     "output_type": "stream",
     "text": [
      "/home/charles/miniconda3/envs/stac-mjx/lib/python3.12/site-packages/IPython/core/magics/osm.py:417: UserWarning: using dhist requires you to install the `pickleshare` library.\n",
      "  self.shell.db['dhist'] = compress_dhist(dhist)[-100:]\n"
     ]
    },
    {
     "name": "stdout",
     "output_type": "stream",
     "text": [
      "/home/charles/github/stac-mjx/stac-mjx\n"
     ]
    },
    {
     "name": "stderr",
     "output_type": "stream",
     "text": [
      "/home/charles/miniconda3/envs/stac-mjx/lib/python3.12/site-packages/trimesh/util.py:69: DeprecationWarning: 'pkgutil.find_loader' is deprecated and slated for removal in Python 3.14; use importlib.util.find_spec() instead\n",
      "  return pkgutil.find_loader(name) is not None\n"
     ]
    }
   ],
   "source": [
    "import pickle\n",
    "from IPython.display import Video\n",
    "import importlib\n",
    "import numpy as np\n",
    "%cd stac-mjx\n",
    "import viz\n",
    "import os\n",
    "os.environ[\"MUJOCO_GL\"] = \"osmesa\"\n",
    "# viz = importlib.import_module(\"stac-mjx.viz\")\n",
    "\n",
    "param_path = \"../params/params.yaml\"\n",
    "offset_path_single = \"../offset_sing_clip2.p\"\n",
    "d_offset_path = \"../diego_offset.p\"\n",
    "# post_pose_opt_path = \"pose_opt_qs.p\"\n",
    "n_frames = 5000"
   ]
  },
  {
   "cell_type": "code",
   "execution_count": 2,
   "metadata": {},
   "outputs": [
    {
     "name": "stdout",
     "output_type": "stream",
     "text": [
      "walker: <walkers.Rat object at 0x7f20371e8e60>\n",
      "arena: <arenas.DannceArena object at 0x7f201abe0470>\n",
      "<dm_control.composer.environment.Environment object at 0x7f201b37aa80>\n"
     ]
    },
    {
     "name": "stderr",
     "output_type": "stream",
     "text": [
      "/home/charles/miniconda3/envs/stac-mjx/lib/python3.12/site-packages/imageio_ffmpeg/_utils.py:7: DeprecationWarning: pkg_resources is deprecated as an API. See https://setuptools.pypa.io/en/latest/pkg_resources.html\n",
      "  from pkg_resources import resource_filename\n"
     ]
    },
    {
     "data": {
      "text/html": [
       "<video src=\"../videos/mujoco_video.mp4\" controls  >\n",
       "      Your browser does not support the <code>video</code> element.\n",
       "    </video>"
      ],
      "text/plain": [
       "<IPython.core.display.Video object>"
      ]
     },
     "execution_count": 2,
     "metadata": {},
     "output_type": "execute_result"
    }
   ],
   "source": [
    "save_path = \"../videos/mujoco_video.mp4\"\n",
    "viz.render_mujoco(\n",
    "    param_path,\n",
    "    d_offset_path,\n",
    "    save_path,\n",
    "    frames = np.arange(n_frames),\n",
    ")\n",
    "Video(save_path)"
   ]
  },
  {
   "cell_type": "code",
   "execution_count": 3,
   "metadata": {},
   "outputs": [
    {
     "ename": "NameError",
     "evalue": "name 'offset_path' is not defined",
     "output_type": "error",
     "traceback": [
      "\u001b[0;31m---------------------------------------------------------------------------\u001b[0m",
      "\u001b[0;31mNameError\u001b[0m                                 Traceback (most recent call last)",
      "\u001b[1;32m/home/charles/github/stac-mjx/offsets.ipynb Cell 3\u001b[0m line \u001b[0;36m4\n\u001b[1;32m      <a href='vscode-notebook-cell:/home/charles/github/stac-mjx/offsets.ipynb#W2sZmlsZQ%3D%3D?line=0'>1</a>\u001b[0m \u001b[39mwith\u001b[39;00m \u001b[39mopen\u001b[39m(d_offset_path, \u001b[39m\"\u001b[39m\u001b[39mrb\u001b[39m\u001b[39m\"\u001b[39m) \u001b[39mas\u001b[39;00m file:\n\u001b[1;32m      <a href='vscode-notebook-cell:/home/charles/github/stac-mjx/offsets.ipynb#W2sZmlsZQ%3D%3D?line=1'>2</a>\u001b[0m     d_data \u001b[39m=\u001b[39m pickle\u001b[39m.\u001b[39mload(file)\n\u001b[0;32m----> <a href='vscode-notebook-cell:/home/charles/github/stac-mjx/offsets.ipynb#W2sZmlsZQ%3D%3D?line=3'>4</a>\u001b[0m \u001b[39mwith\u001b[39;00m \u001b[39mopen\u001b[39m(offset_path, \u001b[39m\"\u001b[39m\u001b[39mrb\u001b[39m\u001b[39m\"\u001b[39m) \u001b[39mas\u001b[39;00m file:\n\u001b[1;32m      <a href='vscode-notebook-cell:/home/charles/github/stac-mjx/offsets.ipynb#W2sZmlsZQ%3D%3D?line=4'>5</a>\u001b[0m     data \u001b[39m=\u001b[39m pickle\u001b[39m.\u001b[39mload(file)\n",
      "\u001b[0;31mNameError\u001b[0m: name 'offset_path' is not defined"
     ]
    }
   ],
   "source": [
    "with open(d_offset_path, \"rb\") as file:\n",
    "    d_data = pickle.load(file)\n",
    "    \n",
    "with open(offset_path, \"rb\") as file:\n",
    "    data = pickle.load(file)"
   ]
  },
  {
   "cell_type": "code",
   "execution_count": null,
   "metadata": {},
   "outputs": [
    {
     "name": "stdout",
     "output_type": "stream",
     "text": [
      "(500, 74)\n",
      "(500, 74)\n"
     ]
    }
   ],
   "source": [
    "print(np.array(d_data[\"qpos\"]).shape)\n",
    "print(data[\"qpos\"].shape)"
   ]
  },
  {
   "cell_type": "code",
   "execution_count": null,
   "metadata": {},
   "outputs": [
    {
     "name": "stdout",
     "output_type": "stream",
     "text": [
      "(23, 3)\n",
      "(23, 3)\n"
     ]
    }
   ],
   "source": [
    "print(np.array(d_data[\"offsets\"]).shape)\n",
    "print(data[\"offsets\"].shape)"
   ]
  },
  {
   "cell_type": "code",
   "execution_count": null,
   "metadata": {},
   "outputs": [
    {
     "ename": "NameError",
     "evalue": "name 'offsets' is not defined",
     "output_type": "error",
     "traceback": [
      "\u001b[0;31m---------------------------------------------------------------------------\u001b[0m",
      "\u001b[0;31mNameError\u001b[0m                                 Traceback (most recent call last)",
      "\u001b[1;32m/home/charles/github/stac-mjx/offsets.ipynb Cell 6\u001b[0m line \u001b[0;36m1\n\u001b[0;32m----> <a href='vscode-notebook-cell:/home/charles/github/stac-mjx/offsets.ipynb#X10sZmlsZQ%3D%3D?line=0'>1</a>\u001b[0m a \u001b[39m=\u001b[39m offsets[:,\u001b[39m0\u001b[39m,:]\n\u001b[1;32m      <a href='vscode-notebook-cell:/home/charles/github/stac-mjx/offsets.ipynb#X10sZmlsZQ%3D%3D?line=1'>2</a>\u001b[0m a\u001b[39m.\u001b[39mshape\n",
      "\u001b[0;31mNameError\u001b[0m: name 'offsets' is not defined"
     ]
    }
   ],
   "source": [
    "a = offsets[:,0,:]\n",
    "a.shape"
   ]
  },
  {
   "cell_type": "code",
   "execution_count": null,
   "metadata": {},
   "outputs": [],
   "source": []
  }
 ],
 "metadata": {
  "kernelspec": {
   "display_name": "Python 3",
   "language": "python",
   "name": "python3"
  },
  "language_info": {
   "codemirror_mode": {
    "name": "ipython",
    "version": 3
   },
   "file_extension": ".py",
   "mimetype": "text/x-python",
   "name": "python",
   "nbconvert_exporter": "python",
   "pygments_lexer": "ipython3",
   "version": "3.8.8"
  }
 },
 "nbformat": 4,
 "nbformat_minor": 4
}
