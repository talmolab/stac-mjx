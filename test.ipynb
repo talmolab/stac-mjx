{
 "cells": [
  {
   "cell_type": "code",
   "execution_count": 2,
   "metadata": {},
   "outputs": [
    {
     "name": "stdout",
     "output_type": "stream",
     "text": [
      "Key: __header__\n",
      "73\n",
      "Key: __version__\n",
      "3\n",
      "Key: __globals__\n",
      "0\n",
      "Key: pred\n",
      "360000\n",
      "Key: data\n",
      "360000\n",
      "Key: p_max\n",
      "360000\n",
      "Key: sampleID\n",
      "1\n",
      "Key: metadata\n",
      "1\n"
     ]
    }
   ],
   "source": [
    "import scipy.io\n",
    "import numpy as np\n",
    "\n",
    "# Path to your .mat file\n",
    "mat_file_path = 'save_data_AVG.mat'\n",
    "#mat_file_path = '../dannce/demo/markerless_mouse_1/COM/predict_results/com3d.mat'\n",
    "\n",
    "# Load the .mat file\n",
    "mat_contents = scipy.io.loadmat(mat_file_path)\n",
    "\n",
    "# Display the contents\n",
    "for key, value in mat_contents.items():\n",
    "    #if not key.startswith('__'):\n",
    "    print(f\"Key: {key}\")\n",
    "    print(len(value))\n"
   ]
  },
  {
   "cell_type": "code",
   "execution_count": 4,
   "metadata": {},
   "outputs": [],
   "source": [
    "frames = mat_contents[\"pred\"][1:1000]\n",
    "data = {}\n",
    "data[\"pred\"] = frames\n",
    "\n",
    "scipy.io.savemat(\"test_pred_only.mat\", data)"
   ]
  },
  {
   "cell_type": "code",
   "execution_count": 14,
   "metadata": {},
   "outputs": [
    {
     "name": "stdout",
     "output_type": "stream",
     "text": [
      "94\n",
      "[[0]]\n",
      "[[0]]\n",
      "[[(array(['/n/holylfs02/LABS/olveczky_lab/Everyone/dannce_rig/dannce_ephys/art/2020_12_21_1/20201221_163226_Label3D_dannce.mat'],\n",
      "        dtype='<U115'),)                                                                                                         ]]\n",
      "['/n/holylfs02/LABS/olveczky_lab/Everyone/dannce_rig/dannce_ephys/art/2020_12_22_1/COM/predict00/com3d.mat']\n",
      "['./COM/predict00']\n",
      "['/n/holylfs02/LABS/olveczky_lab/Everyone/dannce_rig/dannce_ephys/art/2020_12_21_1/COM/train00/fullmodel_weights/fullmodel_end.hdf5']\n",
      "['./COM/train00']\n",
      "['./DANNCE/predict03/']\n",
      "['/n/holylfs02/LABS/olveczky_lab/Everyone/dannce_rig/dannce_ephys/bud/2021_06_21_1/DANNCE/train02/weights.178-2.65476.hdf5']\n",
      "['./DANNCE/train02/']\n",
      "[[array([[(array(['/n/holylfs02/LABS/olveczky_lab/Everyone/dannce_rig/test/2/COM/predict00/com3d.mat'],\n",
      "                dtype='<U81'), array(['/n/holylfs02/LABS/olveczky_lab/Everyone/dannce_rig/test/2/20201107_164529_Label3D_dannce.mat'],\n",
      "                dtype='<U92'))                                                                                                        ]],\n",
      "        dtype=[('com_file', 'O'), ('label3d_file', 'O')])\n",
      "  array([[(array(['/n/holylfs02/LABS/olveczky_lab/Everyone/dannce_rig/test/3/COM/predict00/com3d.mat'],\n",
      "                dtype='<U81'), array(['/n/holylfs02/LABS/olveczky_lab/Everyone/dannce_rig/test/3/total_dannce.mat'],\n",
      "                dtype='<U74'))                                                                                      ]],\n",
      "        dtype=[('com_file', 'O'), ('label3d_file', 'O')])\n",
      "  array([[(array(['/n/holylfs02/LABS/olveczky_lab/Everyone/dannce_rig/test/5/COM/predict00/com3d.mat'],\n",
      "                dtype='<U81'), array(['/n/holylfs02/LABS/olveczky_lab/Everyone/dannce_rig/test/5/total_dannce.mat'],\n",
      "                dtype='<U74'))                                                                                      ]],\n",
      "        dtype=[('com_file', 'O'), ('label3d_file', 'O')])\n",
      "  array([[(array(['/n/holylfs02/LABS/olveczky_lab/Everyone/dannce_rig/dannce_ephys/art/2020_12_21_1/COM/predict00/com3d.mat'],\n",
      "                dtype='<U104'), array(['/n/holylfs02/LABS/olveczky_lab/Everyone/dannce_rig/dannce_ephys/art/2020_12_21_1/20201223_152529_Label3D_dannce.mat'],\n",
      "                dtype='<U115'))                                                                                                                               ]],\n",
      "        dtype=[('com_file', 'O'), ('label3d_file', 'O')])\n",
      "  array([[(array(['/n/holylfs02/LABS/olveczky_lab/Everyone/dannce_rig/dannce_ephys/art/2020_12_26_1/COM/predict00/com3d.mat'],\n",
      "                dtype='<U104'), array(['/n/holylfs02/LABS/olveczky_lab/Everyone/dannce_rig/dannce_ephys/art/2020_12_26_1/20210122_154646_Label3D_dannce.mat'],\n",
      "                dtype='<U115'))                                                                                                                               ]],\n",
      "        dtype=[('com_file', 'O'), ('label3d_file', 'O')])                                                                                                        ]]\n",
      "[[ 1  7  8  9 10 15 16 17 18]]\n",
      "['mask_nan_l1_loss']\n",
      "[[1]]\n",
      "[[5]]\n",
      "[[ 2 11 12 13 14 19 20 21 22]]\n",
      "['io.yaml']\n",
      "[[   0 1200]]\n",
      "[[   0 1920]]\n",
      "[[3]]\n",
      "['0_Camera1' '0_Camera2' '0_Camera3' '0_Camera4' '0_Camera5' '0_Camera6']\n",
      "[[1]]\n",
      "[[6]]\n",
      "[[20]]\n",
      "[[23]]\n",
      "[[3 3 3]]\n",
      "[[2]]\n",
      "[[10]]\n",
      "[[250]]\n",
      "[[1]]\n",
      "['1e-3']\n",
      "['finetune_AVG']\n",
      "['/n/holylfs02/LABS/olveczky_lab/Diego/data/dannce/weights/ratAVG2/']\n",
      "['finetune']\n",
      "[[0]]\n",
      "['mse                  ' 'euclidean_distance_3D']\n",
      "['0']\n",
      "[[-120]]\n",
      "[[120]]\n",
      "[[80]]\n",
      "['nearest']\n",
      "[[0]]\n",
      "['vid']\n",
      "[[1]]\n",
      "[[1]]\n",
      "[[0]]\n",
      "[[0]]\n",
      "['median']\n",
      "[[10000000]]\n",
      "['None']\n",
      "['max']\n",
      "['torch']\n",
      "[[30]]\n",
      "[[1]]\n",
      "[[6]]\n",
      "[[0]]\n",
      "[[0]]\n",
      "[[0]]\n",
      "[[0]]\n",
      "['None']\n",
      "['None']\n",
      "['None']\n",
      "['None']\n",
      "['None']\n",
      "['None']\n",
      "[[0]]\n",
      "[[0]]\n",
      "[[0.01]]\n",
      "[[0]]\n",
      "[[0]]\n",
      "['videos']\n",
      "['.mp4']\n",
      "[[1]]\n",
      "['None']\n",
      "[[None]]\n",
      "['None']\n",
      "['None']\n",
      "[[0]]\n",
      "[[0.05]]\n",
      "[[0.05]]\n",
      "[[5]]\n",
      "['None']\n",
      "[[1200]]\n",
      "[[1920]]\n",
      "[[0]]\n",
      "[[1]]\n",
      "['None']\n",
      "[[0]]\n",
      "['None']\n",
      "['None']\n",
      "[[2500]]\n",
      "['./temp_dannce.mat']\n",
      "['.']\n",
      "[[3]]\n"
     ]
    }
   ],
   "source": [
    "print(len(mat_contents[\"metadata\"][0][0]))\n",
    "for d in mat_contents[\"metadata\"][0][0]:\n",
    "    print(d)"
   ]
  },
  {
   "cell_type": "code",
   "execution_count": null,
   "metadata": {},
   "outputs": [],
   "source": [
    "print(len(mat_contents[\"sampleID\"][0]))\n",
    "print(mat_contents[\"sampleID\"])"
   ]
  },
  {
   "cell_type": "code",
   "execution_count": 17,
   "metadata": {},
   "outputs": [
    {
     "name": "stdout",
     "output_type": "stream",
     "text": [
      "[[415.78637695 364.45196533 389.87600708 361.69506836 343.89483643\n",
      "  324.03741455 315.55377197 347.51333618 345.45239258 347.87133789\n",
      "  349.9324646  378.03158569 385.50210571 384.97793579 387.8006897\n",
      "  316.05712891 323.0378418  321.77130127 330.42373657 346.02996826\n",
      "  364.62158203 346.48086548 366.78930664]\n",
      " [114.58620453  97.39944458  80.85489655  56.98851776  12.65446758\n",
      "  -16.89956474 -23.19591141  66.76320648  70.80370331  79.02404785\n",
      "   86.8793335   51.16601944  55.50511169  69.89868164  80.01965332\n",
      "    2.39903808  27.82298279   8.13162136  28.03132439 -16.14893723\n",
      "   -0.90713215 -12.36277771  -2.2607131 ]\n",
      " [ 66.22083282  72.17269897  79.75028229  81.79259491  85.07378387\n",
      "   57.34063339  22.68009186  65.99371338  38.04782867  20.5947094\n",
      "    9.1001358   65.11450195  36.41916275  20.37991714   8.82514381\n",
      "   48.29601669  36.77716446  13.33489132   9.15814972  48.69794464\n",
      "   33.57286453  12.66648197   8.71748257]]\n"
     ]
    }
   ],
   "source": [
    "print((mat_contents[\"pred\"][0]))"
   ]
  }
 ],
 "metadata": {
  "kernelspec": {
   "display_name": "Python 3",
   "language": "python",
   "name": "python3"
  },
  "language_info": {
   "codemirror_mode": {
    "name": "ipython",
    "version": 3
   },
   "file_extension": ".py",
   "mimetype": "text/x-python",
   "name": "python",
   "nbconvert_exporter": "python",
   "pygments_lexer": "ipython3",
   "version": "undefined.undefined.undefined"
  }
 },
 "nbformat": 4,
 "nbformat_minor": 2
}
