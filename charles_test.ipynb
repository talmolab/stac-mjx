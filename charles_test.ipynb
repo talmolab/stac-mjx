{
 "cells": [
  {
   "cell_type": "code",
   "execution_count": 4,
   "metadata": {},
   "outputs": [],
   "source": [
    "import mujoco\n",
    "from mujoco import mjx\n",
    "import jax\n",
    "import jax.numpy as jnp\n",
    "from jax import grad, jit, vmap\n",
    "from jax import random\n",
    "from jax import device_put\n",
    "import numpy as np \n",
    "import yaml\n",
    "from typing import List, Dict, Text\n",
    "import mediapy as media\n",
    "\n",
    "def load_params(param_path: Text) -> Dict:\n",
    "    with open(param_path, \"rb\") as file:\n",
    "        params = yaml.safe_load(file)\n",
    "    return params\n",
    "\n",
    "params = load_params(\"params/params.yaml\")\n",
    "model = mujoco.MjModel.from_xml_path(params[\"XML_PATH\"])\n",
    "\n",
    "# minimal example code--this is supposed to work\n",
    "@jax.vmap\n",
    "def batched_step(vel):\n",
    "    mjx_data = mjx.make_data(mjx_model)\n",
    "    qvel = mjx_data.qvel.at[0].set(vel)\n",
    "    mjx_data = mjx_data.replace(qvel=qvel)\n",
    "    pos = mjx.step(mjx_model, mjx_data).qpos[0]\n",
    "    return pos\n",
    "\n",
    "def serial_step(vel):\n",
    "    data = mujoco.MjData(model)\n",
    "    print(data.qpos)\n",
    "    data.qvel[0] = 0\n",
    "    # qvel[0] = vel\n",
    "    # data = data.replace(qvel=qvel)\n",
    "    mujoco.mj_step(model, data)\n",
    "    \n",
    "    return data.qpos\n",
    "\n",
    "def serial_step_mjx(vel, mjx_data):\n",
    "    qvel = mjx_data.qvel.at[0].set(vel)\n",
    "    mjx_data = mjx_data.replace(qvel=qvel)\n",
    "    return mjx.step(mjx_model, mjx_data)\n",
    "    # mjx.forward(model, mjx_data)"
   ]
  },
  {
   "cell_type": "code",
   "execution_count": 7,
   "metadata": {},
   "outputs": [
    {
     "name": "stdout",
     "output_type": "stream",
     "text": [
      "[0.03094968 0.03104968 0.03114968 0.03124968 0.03134968]\n"
     ]
    }
   ],
   "source": [
    "vel = jax.numpy.linspace(0.0, 0.5, 5)\n",
    "mjx_model = mjx.device_put(model)\n",
    "pos = jax.jit(batched_step)(vel)\n",
    "\n",
    "print(pos)"
   ]
  },
  {
   "cell_type": "code",
   "execution_count": 8,
   "metadata": {},
   "outputs": [],
   "source": [
    "import time\n",
    "start_time = time.time()\n",
    "\n",
    "for i in np.arange(0,100, step=1):    \n",
    "    vel = jax.numpy.linspace(0.0, 0.2, 1000)\n",
    "    mjx_model = mjx.device_put(model)\n",
    "    pos = jax.jit(batched_step, backend=\"gpu\")(vel)\n",
    "\n",
    "\n",
    "end_time = time.time()\n",
    "print(\"Time to complete 100,000 steps: \" + str(end_time - start_time))\n"
   ]
  },
  {
   "cell_type": "code",
   "execution_count": null,
   "metadata": {},
   "outputs": [],
   "source": [
    "renderer = mujoco.Renderer(model)\n",
    "def get_image(mjx_model, mjx_data, camera: str) -> np.ndarray:\n",
    "  \"\"\"Renders the environment state.\"\"\"\n",
    "  d = mujoco.MjData(model)\n",
    "  # write the mjx.Data into an mjData object\n",
    "  mjx.device_get_into(d, mjx_data)\n",
    "  mujoco.mj_forward(model, d)\n",
    "  # use the mjData object to update the renderer\n",
    "  renderer.update_scene(d, camera=camera)\n",
    "  return renderer.render()"
   ]
  },
  {
   "cell_type": "code",
   "execution_count": null,
   "metadata": {},
   "outputs": [],
   "source": [
    "# initialize the state\n",
    "mjx_model = mjx.device_put(model)\n",
    "mjx_data = mjx.make_data(mjx_model)    \n",
    "\n",
    "rollout = [state]\n",
    "images = [get_image(mjx_model, mjx_data, camera='side')]\n",
    "\n",
    "# grab a trajectory\n",
    "for i in range(10):\n",
    "  ctrl = -0.1 * jp.ones(mjx_model.nu)\n",
    "  state = jit_step(state, ctrl)\n",
    "  rollout.append(state)\n",
    "  images.append(get_image(state, camera='side'))\n",
    "\n",
    "media.show_video(images, fps=1.0 / env.dt)"
   ]
  }
 ],
 "metadata": {
  "kernelspec": {
   "display_name": "stac-mjx",
   "language": "python",
   "name": "python3"
  },
  "language_info": {
   "codemirror_mode": {
    "name": "ipython",
    "version": 3
   },
   "file_extension": ".py",
   "mimetype": "text/x-python",
   "name": "python",
   "nbconvert_exporter": "python",
   "pygments_lexer": "ipython3",
   "version": "3.12.0"
  }
 },
 "nbformat": 4,
 "nbformat_minor": 2
}
