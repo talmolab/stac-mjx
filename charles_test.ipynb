{
 "cells": [
  {
   "cell_type": "code",
   "execution_count": 1,
   "metadata": {},
   "outputs": [],
   "source": [
    "import mujoco\n",
    "from mujoco import mjx\n",
    "import jax\n",
    "import jax.numpy as jnp\n",
    "from jax import grad, jit, vmap\n",
    "from jax import random\n",
    "from jax import device_put\n",
    "import numpy as np \n",
    "import yaml\n",
    "from typing import List, Dict, Text, Any, Sequence, Union, Optional\n",
    "import time\n",
    "import functools\n",
    "import copy\n",
    "from flax import struct\n",
    "import logging\n",
    "import os\n",
    "\n",
    "# os.environ[\"XLA_PYTHON_CLIENT_MEM_FRACTION\"] = \".5\"\n"
   ]
  },
  {
   "cell_type": "markdown",
   "metadata": {},
   "source": [
    "### Brax base and state classes"
   ]
  },
  {
   "cell_type": "code",
   "execution_count": 2,
   "metadata": {},
   "outputs": [],
   "source": [
    "from jax.tree_util import tree_map\n",
    "\n",
    "@struct.dataclass\n",
    "class Base:\n",
    "  \"\"\"Base functionality extending all brax types.\n",
    "\n",
    "  These methods allow for brax types to be operated like arrays/matrices.\n",
    "  \"\"\"\n",
    "\n",
    "  def __add__(self, o: Any) -> Any:\n",
    "    return tree_map(lambda x, y: x + y, self, o)\n",
    "\n",
    "  def __sub__(self, o: Any) -> Any:\n",
    "    return tree_map(lambda x, y: x - y, self, o)\n",
    "\n",
    "  def __mul__(self, o: Any) -> Any:\n",
    "    return tree_map(lambda x: x * o, self)\n",
    "\n",
    "  def __neg__(self) -> Any:\n",
    "    return tree_map(lambda x: -x, self)\n",
    "\n",
    "  def __truediv__(self, o: Any) -> Any:\n",
    "    return tree_map(lambda x: x / o, self)\n",
    "\n",
    "  def reshape(self, shape: Sequence[int]) -> Any:\n",
    "    return tree_map(lambda x: x.reshape(shape), self)\n",
    "\n",
    "  def select(self, o: Any, cond: jax.Array) -> Any:\n",
    "    return tree_map(lambda x, y: (x.T * cond + y.T * (1 - cond)).T, self, o)\n",
    "\n",
    "  def slice(self, beg: int, end: int) -> Any:\n",
    "    return tree_map(lambda x: x[beg:end], self)\n",
    "\n",
    "  def take(self, i, axis=0) -> Any:\n",
    "    return tree_map(lambda x: jnp.take(x, i, axis=axis, mode='wrap'), self)\n",
    "\n",
    "  def concatenate(self, *others: Any, axis: int = 0) -> Any:\n",
    "    return tree_map(lambda *x: jnp.concatenate(x, axis=axis), self, *others)\n",
    "\n",
    "  def index_set(\n",
    "      self, idx: Union[jax.Array, Sequence[jax.Array]], o: Any\n",
    "  ) -> Any:\n",
    "    return tree_map(lambda x, y: x.at[idx].set(y), self, o)\n",
    "\n",
    "  def index_sum(\n",
    "      self, idx: Union[jax.Array, Sequence[jax.Array]], o: Any\n",
    "  ) -> Any:\n",
    "    return tree_map(lambda x, y: x.at[idx].add(y), self, o)\n",
    "\n",
    "  def vmap(self, in_axes=0, out_axes=0):\n",
    "    \"\"\"Returns an object that vmaps each follow-on instance method call.\"\"\"\n",
    "\n",
    "    # TODO: i think this is kinda handy, but maybe too clever?\n",
    "\n",
    "    outer_self = self\n",
    "\n",
    "    class VmapField:\n",
    "      \"\"\"Returns instance method calls as vmapped.\"\"\"\n",
    "\n",
    "      def __init__(self, in_axes, out_axes):\n",
    "        self.in_axes = [in_axes]\n",
    "        self.out_axes = [out_axes]\n",
    "\n",
    "      def vmap(self, in_axes=0, out_axes=0):\n",
    "        self.in_axes.append(in_axes)\n",
    "        self.out_axes.append(out_axes)\n",
    "        return self\n",
    "\n",
    "      def __getattr__(self, attr):\n",
    "        fun = getattr(outer_self.__class__, attr)\n",
    "        # load the stack from the bottom up\n",
    "        vmap_order = reversed(list(zip(self.in_axes, self.out_axes)))\n",
    "        for in_axes, out_axes in vmap_order:\n",
    "          fun = vmap(fun, in_axes=in_axes, out_axes=out_axes)\n",
    "        fun = functools.partial(fun, outer_self)\n",
    "        return fun\n",
    "\n",
    "    return VmapField(in_axes, out_axes)\n",
    "\n",
    "  def tree_replace(\n",
    "      self, params: Dict[str, Optional[jax.typing.ArrayLike]]\n",
    "  ) -> 'Base':\n",
    "    \"\"\"Creates a new object with parameters set.\n",
    "\n",
    "    Args:\n",
    "      params: a dictionary of key value pairs to replace\n",
    "\n",
    "    Returns:\n",
    "      data clas with new values\n",
    "\n",
    "    Example:\n",
    "      If a system has 3 links, the following code replaces the mass\n",
    "      of each link in the System:\n",
    "      >>> sys = sys.tree_replace(\n",
    "      >>>     {'link.inertia.mass', jp.array([1.0, 1.2, 1.3])})\n",
    "    \"\"\"\n",
    "    new = self\n",
    "    for k, v in params.items():\n",
    "      new = _tree_replace(new, k.split('.'), v)\n",
    "    return new\n",
    "\n",
    "  @property\n",
    "  def T(self):  # pylint:disable=invalid-name\n",
    "    return tree_map(lambda x: x.T, self)\n",
    "\n",
    "def _tree_replace(\n",
    "    base: Base,\n",
    "    attr: Sequence[str],\n",
    "    val: Optional[jax.typing.ArrayLike],\n",
    ") -> Base:\n",
    "  \"\"\"Sets attributes in a struct.dataclass with values.\"\"\"\n",
    "  if not attr:\n",
    "    return base\n",
    "\n",
    "  # special case for List attribute\n",
    "  if len(attr) > 1 and isinstance(getattr(base, attr[0]), list):\n",
    "    lst = copy.deepcopy(getattr(base, attr[0]))\n",
    "\n",
    "    for i, g in enumerate(lst):\n",
    "      if not hasattr(g, attr[1]):\n",
    "        continue\n",
    "      v = val if not hasattr(val, '__iter__') else val[i]\n",
    "      lst[i] = _tree_replace(g, attr[1:], v)\n",
    "\n",
    "    return base.replace(**{attr[0]: lst})\n",
    "\n",
    "  if len(attr) == 1:\n",
    "    return base.replace(**{attr[0]: val})\n",
    "\n",
    "  return base.replace(\n",
    "      **{attr[0]: _tree_replace(getattr(base, attr[0]), attr[1:], val)}\n",
    "  )\n",
    "\n",
    "@struct.dataclass\n",
    "class State(Base):\n",
    "  \"\"\"A minimal state class (only containing mjx.Data).\n",
    "\n",
    "  Args:\n",
    "    pipeline_state: the physics state, mjx.Data\n",
    "  \"\"\"\n",
    "\n",
    "  data: mjx.Data"
   ]
  },
  {
   "cell_type": "code",
   "execution_count": 3,
   "metadata": {},
   "outputs": [],
   "source": [
    "def load_params(param_path: Text) -> Dict:\n",
    "    with open(param_path, \"rb\") as file:\n",
    "        params = yaml.safe_load(file)\n",
    "    return params\n",
    "\n",
    "params = load_params(\"params/params.yaml\")\n",
    "model = mujoco.MjModel.from_xml_path(params[\"XML_PATH\"])\n",
    "mjdata = mujoco.MjData(model)\n",
    "model.opt.solver = mujoco.mjtSolver.mjSOL_NEWTON\n",
    "model.opt.iterations = 1\n",
    "model.opt.ls_iterations = 1\n",
    "\n",
    "mjx_model = mjx.device_put(model)\n",
    "\n",
    "\"\"\"takes state class and ctrl (action) vector, returns next step's state\"\"\"\n",
    "def single_step(state, ctrl):\n",
    "    data0 = state.data\n",
    "    data0 = data0.replace(ctrl=ctrl)\n",
    "    data = mjx.step(mjx_model, data0)\n",
    "    state = state.replace(data=data)\n",
    "    return state\n",
    "\n",
    "def serial_step(vel):\n",
    "    data = mujoco.MjData(model)\n",
    "    print(data.qpos)\n",
    "    data.qvel[0] = 0\n",
    "    # qvel[0] = vel\n",
    "    # data = data.replace(qvel=qvel)\n",
    "    mujoco.mj_step(model, data)\n",
    "    \n",
    "    return data.qpos\n",
    "\n",
    "def serial_step_mjx(vel):\n",
    "    mjx_data = mjx.make_data(mjx_model)    \n",
    "    print(mjx_data.qpos)\n",
    "    qvel = mjx_data.qvel.at[0].set(vel)\n",
    "    mjx_data = mjx_data.replace(qvel=qvel)\n",
    "    mjx_data = mjx.step(mjx_model, mjx_data)\n",
    "    # mjx.forward(model, mjx_data)\n",
    "    \n",
    "    return mjx_data.qpos"
   ]
  },
  {
   "cell_type": "code",
   "execution_count": 4,
   "metadata": {},
   "outputs": [
    {
     "name": "stdout",
     "output_type": "stream",
     "text": [
      "Device count: 1, process count: 1 (id 0), local device count: 1, devices to be used count: 1\n"
     ]
    }
   ],
   "source": [
    "process_count = jax.process_count()\n",
    "process_id = jax.process_index()\n",
    "local_device_count = jax.local_device_count()\n",
    "local_devices_to_use = local_device_count\n",
    "print(\n",
    "    f\"Device count: {jax.device_count()}, process count: \"\n",
    "    f\"{process_count} (id {process_id}), local device count: \"\n",
    "    f\"{local_device_count}, devices to be used count: {local_devices_to_use}\")\n",
    "device_count = local_devices_to_use * process_count"
   ]
  },
  {
   "cell_type": "code",
   "execution_count": 13,
   "metadata": {},
   "outputs": [
    {
     "data": {
      "text/plain": [
       "(256, 30)"
      ]
     },
     "execution_count": 13,
     "metadata": {},
     "output_type": "execute_result"
    }
   ],
   "source": [
    "n_envs_small = 1\n",
    "n_envs_large = 256\n",
    "key = random.PRNGKey(0)\n",
    "small_ctrl = random.uniform(key, shape=(n_envs_small, mjx_model.nu))\n",
    "large_ctrl = random.uniform(key, shape=(n_envs_large, mjx_model.nu))\n",
    "blah = random.uniform(key, shape=(n_envs_large, 1))\n",
    "\n",
    "def reset(val: int) -> State:\n",
    "    \"\"\"Resets the environment to an initial state.\"\"\"\n",
    "    data = mjx.make_data(mjx_model)\n",
    "    # data = data.replace(qvel=jnp.zer(mjx_model.nv, x))\n",
    "    data = mjx.forward(mjx_model, data)\n",
    "    return State(data)\n",
    "\n",
    "large_ctrl.shape"
   ]
  },
  {
   "cell_type": "code",
   "execution_count": 14,
   "metadata": {},
   "outputs": [
    {
     "name": "stdout",
     "output_type": "stream",
     "text": [
      "(256, 74)\n"
     ]
    }
   ],
   "source": [
    "reset_fn = jax.jit(jax.vmap(reset))\n",
    "single_batch_step = jax.vmap(single_step)\n",
    "# returns the state object with a batch axis for each attribute in data (batch_size=n_envs_large)\n",
    "env_state = reset_fn(blah)\n",
    "print(env_state.data.qpos.shape)\n",
    "\n",
    "steps = 100"
   ]
  },
  {
   "cell_type": "markdown",
   "metadata": {},
   "source": [
    "### one step no scan inside step function"
   ]
  },
  {
   "cell_type": "code",
   "execution_count": 15,
   "metadata": {},
   "outputs": [],
   "source": [
    "jit_single_batch_step = jax.jit(single_batch_step)\n",
    "def f(state ,_):\n",
    "    return (jit_single_batch_step(state, large_ctrl), None)\n",
    "\n",
    "jit_f = jit(f)"
   ]
  },
  {
   "cell_type": "code",
   "execution_count": 19,
   "metadata": {},
   "outputs": [
    {
     "name": "stdout",
     "output_type": "stream",
     "text": [
      "25600 steps completed in 8.15187406539917 seconds\n"
     ]
    }
   ],
   "source": [
    "start_time = time.time()\n",
    "\n",
    "env_state, times = jax.lax.scan(jit_f, env_state, (), length=steps)\n",
    "    \n",
    "print(f\"{steps * n_envs_large} steps completed in {time.time()-start_time} seconds\")"
   ]
  },
  {
   "cell_type": "code",
   "execution_count": 17,
   "metadata": {},
   "outputs": [],
   "source": [
    "jit_single_batch_step = jax.jit(single_batch_step)"
   ]
  },
  {
   "cell_type": "code",
   "execution_count": 20,
   "metadata": {},
   "outputs": [
    {
     "name": "stdout",
     "output_type": "stream",
     "text": [
      "initial execution time: 0.08024907112121582\n",
      "0.08127737045288086\n",
      "0.08141756057739258\n",
      "0.08145451545715332\n",
      "0.08017158508300781\n",
      "0.08051609992980957\n",
      "0.08052468299865723\n",
      "0.0788581371307373\n",
      "0.0792696475982666\n",
      "0.08059453964233398\n",
      "0.08382916450500488\n",
      "0.0826718807220459\n",
      "0.08217501640319824\n",
      "0.08235883712768555\n",
      "0.08407402038574219\n",
      "0.08199644088745117\n",
      "0.08224773406982422\n",
      "0.0833585262298584\n",
      "0.08191037178039551\n",
      "0.08121228218078613\n",
      "0.08164596557617188\n",
      "0.08332228660583496\n",
      "0.08403611183166504\n",
      "0.08244514465332031\n",
      "0.08173274993896484\n",
      "0.08148002624511719\n",
      "0.08144259452819824\n",
      "0.08344054222106934\n",
      "0.0826103687286377\n",
      "0.08182072639465332\n",
      "0.08192324638366699\n",
      "0.08421158790588379\n",
      "0.08213257789611816\n",
      "0.0837864875793457\n",
      "0.08339691162109375\n",
      "0.08277511596679688\n",
      "0.08310174942016602\n",
      "0.08156156539916992\n",
      "0.08157515525817871\n",
      "0.08267092704772949\n",
      "0.08363771438598633\n",
      "0.09081363677978516\n",
      "0.08409976959228516\n",
      "0.08292675018310547\n",
      "0.0819239616394043\n",
      "0.08315372467041016\n",
      "0.08321428298950195\n",
      "0.08463025093078613\n",
      "0.08644795417785645\n",
      "0.08801913261413574\n",
      "0.08794522285461426\n",
      "0.08683943748474121\n",
      "0.08560562133789062\n",
      "0.08645319938659668\n",
      "0.0860435962677002\n",
      "0.0925283432006836\n",
      "0.09165263175964355\n",
      "0.09123778343200684\n",
      "0.08813285827636719\n",
      "0.08854365348815918\n",
      "0.08580732345581055\n",
      "0.0870976448059082\n",
      "0.08518099784851074\n",
      "0.08626437187194824\n",
      "0.08462667465209961\n",
      "0.0830841064453125\n",
      "0.0825490951538086\n",
      "0.08197259902954102\n",
      "0.08181548118591309\n",
      "0.08157873153686523\n",
      "0.08275985717773438\n",
      "0.08406996726989746\n",
      "0.08362197875976562\n",
      "0.0839836597442627\n",
      "0.0832221508026123\n",
      "0.0820009708404541\n",
      "0.08240222930908203\n",
      "0.08563494682312012\n",
      "0.0828244686126709\n",
      "0.08391213417053223\n",
      "0.08520126342773438\n",
      "0.08520627021789551\n",
      "0.08358907699584961\n",
      "0.08266878128051758\n",
      "0.08286333084106445\n",
      "0.08594775199890137\n",
      "0.08331894874572754\n",
      "0.08202338218688965\n",
      "0.08270597457885742\n",
      "0.0827023983001709\n",
      "0.08284831047058105\n",
      "0.08274340629577637\n",
      "0.08437061309814453\n",
      "0.08288097381591797\n",
      "0.08203625679016113\n",
      "0.0829765796661377\n",
      "0.08220100402832031\n",
      "0.08321809768676758\n",
      "0.0832681655883789\n",
      "0.08287525177001953\n",
      "0.08538937568664551\n",
      "25700 steps completed in 8.445946216583252 seconds\n"
     ]
    }
   ],
   "source": [
    "start_time = time.time()\n",
    "\n",
    "jit_single_batch_step(env_state, large_ctrl)\n",
    "prev = time.time()\n",
    "print(f\"initial execution time: {prev - start_time}\")\n",
    "for _ in range(steps):\n",
    "    env_state = jit_single_batch_step(env_state, large_ctrl)\n",
    "    print(f\"{time.time()-prev}\")\n",
    "    prev = time.time()\n",
    "    \n",
    "print(f\"{steps * n_envs_large + steps} steps completed in {time.time()-start_time} seconds\")"
   ]
  },
  {
   "cell_type": "code",
   "execution_count": null,
   "metadata": {},
   "outputs": [],
   "source": []
  },
  {
   "cell_type": "markdown",
   "metadata": {},
   "source": [
    "### In conclusion:\n",
    "\n",
    "1. Use the first method, scanning a jitted function that takes one batch step `length` times. \n",
    "2. mjxData is not first-order vectorizable (as in you cant have an array on mjxData objects), but it still is vectorizable in that it can be taken as an argument in a vmapped function, and its attributes (qpos, qvel, ctrl, etc.) will gain a leading \"batch\" dimension. "
   ]
  },
  {
   "cell_type": "markdown",
   "metadata": {},
   "source": [
    "### Testing mjData vmapping"
   ]
  },
  {
   "cell_type": "code",
   "execution_count": 19,
   "metadata": {},
   "outputs": [],
   "source": [
    "@vmap\n",
    "def twoargs(ctrl):\n",
    "    data = mjx.make_data(mjx_model)\n",
    "    return data.replace(ctrl=ctrl)\n",
    "\n",
    "@vmap\n",
    "def zeroctrl(mjx_data, ctrl):\n",
    "    return mjx_data.replace(ctrl=ctrl)"
   ]
  },
  {
   "cell_type": "code",
   "execution_count": 22,
   "metadata": {},
   "outputs": [],
   "source": [
    "jit_twoargs = jit(twoargs)\n",
    "jit_zeroctrl = jit(zeroctrl)\n",
    "zeros = jnp.zeros((n_envs_large, mjx_model.nu))\n"
   ]
  },
  {
   "cell_type": "code",
   "execution_count": 23,
   "metadata": {},
   "outputs": [
    {
     "data": {
      "text/plain": [
       "Array([[9.09454703e-01, 3.68365049e-01, 7.46057868e-01, ...,\n",
       "        7.32579350e-01, 3.80138040e-01, 5.04539847e-01],\n",
       "       [8.52779508e-01, 2.25239992e-02, 1.83701515e-04, ...,\n",
       "        5.84446311e-01, 4.56560373e-01, 3.11894655e-01],\n",
       "       [1.00612044e-01, 5.34569263e-01, 5.25110483e-01, ...,\n",
       "        8.11771512e-01, 7.01126814e-01, 1.95618153e-01],\n",
       "       ...,\n",
       "       [2.59530187e-01, 8.63910198e-01, 8.89778972e-01, ...,\n",
       "        8.04281712e-01, 2.51758814e-01, 9.61673498e-01],\n",
       "       [9.13880110e-01, 4.04026389e-01, 1.58157945e-01, ...,\n",
       "        5.03633142e-01, 5.00825763e-01, 2.66343951e-01],\n",
       "       [3.64324570e-01, 8.98343801e-01, 6.76937461e-01, ...,\n",
       "        3.46303225e-01, 3.63741875e-01, 8.23707700e-01]], dtype=float32)"
      ]
     },
     "execution_count": 23,
     "metadata": {},
     "output_type": "execute_result"
    }
   ],
   "source": [
    "data_1 = jit_twoargs(large_ctrl)\n",
    "data_1.ctrl"
   ]
  },
  {
   "cell_type": "code",
   "execution_count": 28,
   "metadata": {},
   "outputs": [
    {
     "name": "stdout",
     "output_type": "stream",
     "text": [
      "(128, 30)\n"
     ]
    },
    {
     "data": {
      "text/plain": [
       "Array([[0., 0., 0., ..., 0., 0., 0.],\n",
       "       [0., 0., 0., ..., 0., 0., 0.],\n",
       "       [0., 0., 0., ..., 0., 0., 0.],\n",
       "       ...,\n",
       "       [0., 0., 0., ..., 0., 0., 0.],\n",
       "       [0., 0., 0., ..., 0., 0., 0.],\n",
       "       [0., 0., 0., ..., 0., 0., 0.]], dtype=float32)"
      ]
     },
     "execution_count": 28,
     "metadata": {},
     "output_type": "execute_result"
    }
   ],
   "source": [
    "data_2 = jit_zeroctrl(data_1, zeros)\n",
    "print(data_2.ctrl.shape)\n",
    "data_2.ctrl"
   ]
  },
  {
   "cell_type": "code",
   "execution_count": null,
   "metadata": {},
   "outputs": [],
   "source": []
  }
 ],
 "metadata": {
  "kernelspec": {
   "display_name": "stac-mjx",
   "language": "python",
   "name": "python3"
  },
  "language_info": {
   "codemirror_mode": {
    "name": "ipython",
    "version": 3
   },
   "file_extension": ".py",
   "mimetype": "text/x-python",
   "name": "python",
   "nbconvert_exporter": "python",
   "pygments_lexer": "ipython3",
   "version": "3.12.0"
  }
 },
 "nbformat": 4,
 "nbformat_minor": 2
}
