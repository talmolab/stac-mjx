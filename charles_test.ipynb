{
 "cells": [
  {
   "cell_type": "code",
   "execution_count": 1,
   "metadata": {},
   "outputs": [],
   "source": [
    "import mujoco\n",
    "from mujoco import mjx\n",
    "import jax\n",
    "import jax.numpy as jnp\n",
    "from jax import grad, jit, vmap\n",
    "from jax import random\n",
    "from jax import device_put\n",
    "import numpy as np \n",
    "import yaml\n",
    "from typing import List, Dict, Text, Any, Sequence, Union, Optional\n",
    "import time\n",
    "import functools\n",
    "import copy\n",
    "from flax import struct\n",
    "import logging\n",
    "import os\n",
    "\n",
    "os.environ[\"XLA_PYTHON_CLIENT_MEM_FRACTION\"] = \".5\"\n"
   ]
  },
  {
   "cell_type": "markdown",
   "metadata": {},
   "source": [
    "### Brax base and state classes"
   ]
  },
  {
   "cell_type": "code",
   "execution_count": 2,
   "metadata": {},
   "outputs": [],
   "source": [
    "from jax.tree_util import tree_map\n",
    "\n",
    "@struct.dataclass\n",
    "class Base:\n",
    "  \"\"\"Base functionality extending all brax types.\n",
    "\n",
    "  These methods allow for brax types to be operated like arrays/matrices.\n",
    "  \"\"\"\n",
    "\n",
    "  def __add__(self, o: Any) -> Any:\n",
    "    return tree_map(lambda x, y: x + y, self, o)\n",
    "\n",
    "  def __sub__(self, o: Any) -> Any:\n",
    "    return tree_map(lambda x, y: x - y, self, o)\n",
    "\n",
    "  def __mul__(self, o: Any) -> Any:\n",
    "    return tree_map(lambda x: x * o, self)\n",
    "\n",
    "  def __neg__(self) -> Any:\n",
    "    return tree_map(lambda x: -x, self)\n",
    "\n",
    "  def __truediv__(self, o: Any) -> Any:\n",
    "    return tree_map(lambda x: x / o, self)\n",
    "\n",
    "  def reshape(self, shape: Sequence[int]) -> Any:\n",
    "    return tree_map(lambda x: x.reshape(shape), self)\n",
    "\n",
    "  def select(self, o: Any, cond: jax.Array) -> Any:\n",
    "    return tree_map(lambda x, y: (x.T * cond + y.T * (1 - cond)).T, self, o)\n",
    "\n",
    "  def slice(self, beg: int, end: int) -> Any:\n",
    "    return tree_map(lambda x: x[beg:end], self)\n",
    "\n",
    "  def take(self, i, axis=0) -> Any:\n",
    "    return tree_map(lambda x: jnp.take(x, i, axis=axis, mode='wrap'), self)\n",
    "\n",
    "  def concatenate(self, *others: Any, axis: int = 0) -> Any:\n",
    "    return tree_map(lambda *x: jnp.concatenate(x, axis=axis), self, *others)\n",
    "\n",
    "  def index_set(\n",
    "      self, idx: Union[jax.Array, Sequence[jax.Array]], o: Any\n",
    "  ) -> Any:\n",
    "    return tree_map(lambda x, y: x.at[idx].set(y), self, o)\n",
    "\n",
    "  def index_sum(\n",
    "      self, idx: Union[jax.Array, Sequence[jax.Array]], o: Any\n",
    "  ) -> Any:\n",
    "    return tree_map(lambda x, y: x.at[idx].add(y), self, o)\n",
    "\n",
    "  def vmap(self, in_axes=0, out_axes=0):\n",
    "    \"\"\"Returns an object that vmaps each follow-on instance method call.\"\"\"\n",
    "\n",
    "    # TODO: i think this is kinda handy, but maybe too clever?\n",
    "\n",
    "    outer_self = self\n",
    "\n",
    "    class VmapField:\n",
    "      \"\"\"Returns instance method calls as vmapped.\"\"\"\n",
    "\n",
    "      def __init__(self, in_axes, out_axes):\n",
    "        self.in_axes = [in_axes]\n",
    "        self.out_axes = [out_axes]\n",
    "\n",
    "      def vmap(self, in_axes=0, out_axes=0):\n",
    "        self.in_axes.append(in_axes)\n",
    "        self.out_axes.append(out_axes)\n",
    "        return self\n",
    "\n",
    "      def __getattr__(self, attr):\n",
    "        fun = getattr(outer_self.__class__, attr)\n",
    "        # load the stack from the bottom up\n",
    "        vmap_order = reversed(list(zip(self.in_axes, self.out_axes)))\n",
    "        for in_axes, out_axes in vmap_order:\n",
    "          fun = vmap(fun, in_axes=in_axes, out_axes=out_axes)\n",
    "        fun = functools.partial(fun, outer_self)\n",
    "        return fun\n",
    "\n",
    "    return VmapField(in_axes, out_axes)\n",
    "\n",
    "  def tree_replace(\n",
    "      self, params: Dict[str, Optional[jax.typing.ArrayLike]]\n",
    "  ) -> 'Base':\n",
    "    \"\"\"Creates a new object with parameters set.\n",
    "\n",
    "    Args:\n",
    "      params: a dictionary of key value pairs to replace\n",
    "\n",
    "    Returns:\n",
    "      data clas with new values\n",
    "\n",
    "    Example:\n",
    "      If a system has 3 links, the following code replaces the mass\n",
    "      of each link in the System:\n",
    "      >>> sys = sys.tree_replace(\n",
    "      >>>     {'link.inertia.mass', jp.array([1.0, 1.2, 1.3])})\n",
    "    \"\"\"\n",
    "    new = self\n",
    "    for k, v in params.items():\n",
    "      new = _tree_replace(new, k.split('.'), v)\n",
    "    return new\n",
    "\n",
    "  @property\n",
    "  def T(self):  # pylint:disable=invalid-name\n",
    "    return tree_map(lambda x: x.T, self)\n",
    "\n",
    "def _tree_replace(\n",
    "    base: Base,\n",
    "    attr: Sequence[str],\n",
    "    val: Optional[jax.typing.ArrayLike],\n",
    ") -> Base:\n",
    "  \"\"\"Sets attributes in a struct.dataclass with values.\"\"\"\n",
    "  if not attr:\n",
    "    return base\n",
    "\n",
    "  # special case for List attribute\n",
    "  if len(attr) > 1 and isinstance(getattr(base, attr[0]), list):\n",
    "    lst = copy.deepcopy(getattr(base, attr[0]))\n",
    "\n",
    "    for i, g in enumerate(lst):\n",
    "      if not hasattr(g, attr[1]):\n",
    "        continue\n",
    "      v = val if not hasattr(val, '__iter__') else val[i]\n",
    "      lst[i] = _tree_replace(g, attr[1:], v)\n",
    "\n",
    "    return base.replace(**{attr[0]: lst})\n",
    "\n",
    "  if len(attr) == 1:\n",
    "    return base.replace(**{attr[0]: val})\n",
    "\n",
    "  return base.replace(\n",
    "      **{attr[0]: _tree_replace(getattr(base, attr[0]), attr[1:], val)}\n",
    "  )\n",
    "\n",
    "@struct.dataclass\n",
    "class State(Base):\n",
    "  \"\"\"A minimal state class (only containing mjx.Data).\n",
    "\n",
    "  Args:\n",
    "    pipeline_state: the physics state, mjx.Data\n",
    "  \"\"\"\n",
    "\n",
    "  data: mjx.Data"
   ]
  },
  {
   "cell_type": "code",
   "execution_count": 10,
   "metadata": {},
   "outputs": [],
   "source": [
    "def load_params(param_path: Text) -> Dict:\n",
    "    with open(param_path, \"rb\") as file:\n",
    "        params = yaml.safe_load(file)\n",
    "    return params\n",
    "\n",
    "params = load_params(\"params/params.yaml\")\n",
    "model = mujoco.MjModel.from_xml_path(params[\"XML_PATH\"])\n",
    "mjdata = mujoco.MjData(model)\n",
    "model.opt.solver = mujoco.mjtSolver.mjSOL_NEWTON\n",
    "model.opt.iterations = 1\n",
    "model.opt.ls_iterations = 1\n",
    "\n",
    "mjx_model = mjx.device_put(model)\n",
    "\n",
    "\"\"\"takes state class and ctrl (action) vector, returns next step's state\"\"\"\n",
    "def single_step(state, ctrl):\n",
    "    data0 = state.data\n",
    "    data0 = data0.replace(ctrl=ctrl)\n",
    "    data = mjx.step(mjx_model, data0)\n",
    "    state = state.replace(data=data)\n",
    "    return state\n",
    "\n",
    "def serial_step(vel):\n",
    "    data = mujoco.MjData(model)\n",
    "    print(data.qpos)\n",
    "    data.qvel[0] = 0\n",
    "    # qvel[0] = vel\n",
    "    # data = data.replace(qvel=qvel)\n",
    "    mujoco.mj_step(model, data)\n",
    "    \n",
    "    return data.qpos\n",
    "\n",
    "def serial_step_mjx(vel):\n",
    "    mjx_data = mjx.make_data(mjx_model)    \n",
    "    print(mjx_data.qpos)\n",
    "    qvel = mjx_data.qvel.at[0].set(vel)\n",
    "    mjx_data = mjx_data.replace(qvel=qvel)\n",
    "    mjx_data = mjx.step(mjx_model, mjx_data)\n",
    "    # mjx.forward(model, mjx_data)\n",
    "    \n",
    "    return mjx_data.qpos"
   ]
  },
  {
   "cell_type": "code",
   "execution_count": 11,
   "metadata": {},
   "outputs": [
    {
     "name": "stdout",
     "output_type": "stream",
     "text": [
      "Device count: 1, process count: 1 (id 0), local device count: 1, devices to be used count: 1\n"
     ]
    }
   ],
   "source": [
    "process_count = jax.process_count()\n",
    "process_id = jax.process_index()\n",
    "local_device_count = jax.local_device_count()\n",
    "local_devices_to_use = local_device_count\n",
    "print(\n",
    "    f\"Device count: {jax.device_count()}, process count: \"\n",
    "    f\"{process_count} (id {process_id}), local device count: \"\n",
    "    f\"{local_device_count}, devices to be used count: {local_devices_to_use}\")\n",
    "device_count = local_devices_to_use * process_count"
   ]
  },
  {
   "cell_type": "code",
   "execution_count": 12,
   "metadata": {},
   "outputs": [
    {
     "data": {
      "text/plain": [
       "(128, 30)"
      ]
     },
     "execution_count": 12,
     "metadata": {},
     "output_type": "execute_result"
    }
   ],
   "source": [
    "n_envs_small = 1\n",
    "n_envs_large = 128\n",
    "key = random.PRNGKey(0)\n",
    "small_ctrl = random.uniform(key, shape=(n_envs_small, mjx_model.nu))\n",
    "large_ctrl = random.uniform(key, shape=(n_envs_large, mjx_model.nu))\n",
    "blah = random.uniform(key, shape=(n_envs_large, 1))\n",
    "\n",
    "def reset(val: int) -> State:\n",
    "    \"\"\"Resets the environment to an initial state.\"\"\"\n",
    "    data = mjx.make_data(mjx_model)\n",
    "    # data = data.replace(qvel=jnp.zer(mjx_model.nv, x))\n",
    "    data = mjx.forward(mjx_model, data)\n",
    "    return State(data)\n",
    "\n",
    "large_ctrl.shape"
   ]
  },
  {
   "cell_type": "code",
   "execution_count": 13,
   "metadata": {},
   "outputs": [
    {
     "name": "stdout",
     "output_type": "stream",
     "text": [
      "(128, 74)\n"
     ]
    }
   ],
   "source": [
    "reset_fn = jax.jit(jax.vmap(reset))\n",
    "single_batch_step = jax.vmap(single_step)\n",
    "# returns the state object with a batch axis for each attribute in data (batch_size=n_envs_large)\n",
    "env_state = reset_fn(blah)\n",
    "print(env_state.data.qpos.shape)\n"
   ]
  },
  {
   "cell_type": "code",
   "execution_count": 14,
   "metadata": {},
   "outputs": [],
   "source": [
    "jit_single_batch_step = jax.jit(single_batch_step)"
   ]
  },
  {
   "cell_type": "markdown",
   "metadata": {},
   "source": [
    "### one step no scan inside step function"
   ]
  },
  {
   "cell_type": "code",
   "execution_count": 19,
   "metadata": {},
   "outputs": [
    {
     "name": "stdout",
     "output_type": "stream",
     "text": [
      "12800 steps completed in 79.27197027206421 seconds\n"
     ]
    }
   ],
   "source": [
    "jit_single_batch_step = jax.jit(single_batch_step)\n",
    "start_time = time.time()\n",
    "steps = 100\n",
    "\n",
    "def f(state ,_):\n",
    "    return (jit_single_batch_step(state, large_ctrl), None)\n",
    "env_state, times = jax.lax.scan(f, env_state, (), length=steps)\n",
    "    \n",
    "print(f\"{steps * n_envs_large} steps completed in {time.time()-start_time} seconds\")"
   ]
  },
  {
   "cell_type": "code",
   "execution_count": 16,
   "metadata": {},
   "outputs": [
    {
     "name": "stdout",
     "output_type": "stream",
     "text": [
      "initial execution time: 91.26726293563843\n",
      "0.0034570693969726562\n",
      "0.009163141250610352\n",
      "0.008644819259643555\n",
      "0.008731603622436523\n",
      "0.023305654525756836\n",
      "0.05629110336303711\n",
      "0.05693387985229492\n",
      "0.0573270320892334\n",
      "0.044460296630859375\n",
      "0.04165077209472656\n",
      "0.041831254959106445\n",
      "0.041758060455322266\n",
      "0.04244422912597656\n",
      "0.0410006046295166\n",
      "0.04403114318847656\n",
      "0.04128384590148926\n",
      "0.04202413558959961\n",
      "0.04035043716430664\n",
      "0.03888559341430664\n",
      "0.04278683662414551\n",
      "0.04221296310424805\n",
      "0.04272723197937012\n",
      "0.04271364212036133\n",
      "0.041632652282714844\n",
      "0.042551279067993164\n",
      "0.04153704643249512\n",
      "0.042264699935913086\n",
      "0.04131150245666504\n",
      "0.04225468635559082\n",
      "0.041396379470825195\n",
      "0.0425872802734375\n",
      "0.041309356689453125\n",
      "0.04262661933898926\n",
      "0.04222512245178223\n",
      "0.04236650466918945\n",
      "0.04199695587158203\n",
      "0.041817426681518555\n",
      "0.04174232482910156\n",
      "0.0419614315032959\n",
      "0.0424344539642334\n",
      "0.04121255874633789\n",
      "0.04190230369567871\n",
      "0.04196596145629883\n",
      "0.04254007339477539\n",
      "0.04127049446105957\n",
      "0.042615413665771484\n",
      "0.04200601577758789\n",
      "0.0428164005279541\n",
      "0.04139208793640137\n",
      "0.042591094970703125\n",
      "0.04138016700744629\n",
      "0.04226970672607422\n",
      "0.04123401641845703\n",
      "0.042345285415649414\n",
      "0.041390180587768555\n",
      "0.04248833656311035\n",
      "0.04181361198425293\n",
      "0.04253077507019043\n",
      "0.04243898391723633\n",
      "0.04245615005493164\n",
      "0.042649269104003906\n",
      "0.04125189781188965\n",
      "0.041924238204956055\n",
      "0.042696237564086914\n",
      "0.04094338417053223\n",
      "0.04174685478210449\n",
      "0.042459964752197266\n",
      "0.04143404960632324\n",
      "0.042868852615356445\n",
      "0.04284191131591797\n",
      "0.042461395263671875\n",
      "0.04193544387817383\n",
      "0.04318118095397949\n",
      "0.04227805137634277\n",
      "0.04276108741760254\n",
      "0.042792558670043945\n",
      "0.04229259490966797\n",
      "0.04328298568725586\n",
      "0.0421147346496582\n",
      "0.04472661018371582\n",
      "0.042289018630981445\n",
      "0.04263424873352051\n",
      "0.04263043403625488\n",
      "0.04212522506713867\n",
      "0.04356217384338379\n",
      "0.04204750061035156\n",
      "0.04343008995056152\n",
      "0.04200243949890137\n",
      "0.04320549964904785\n",
      "0.04226565361022949\n",
      "0.0428318977355957\n",
      "0.0432891845703125\n",
      "0.04234027862548828\n",
      "0.04369926452636719\n",
      "0.0419621467590332\n",
      "0.04383087158203125\n",
      "0.042463064193725586\n",
      "0.04259324073791504\n",
      "0.04282784461975098\n",
      "0.04368281364440918\n",
      "12800 steps completed in 95.383633852005 seconds\n"
     ]
    }
   ],
   "source": [
    "start_time = time.time()\n",
    "\n",
    "jit_single_batch_step(env_state, large_ctrl)\n",
    "prev = time.time()\n",
    "print(f\"initial execution time: {prev - start_time}\")\n",
    "for _ in range(steps):\n",
    "    env_state = jit_single_batch_step(env_state, large_ctrl)\n",
    "    print(f\"{time.time()-prev}\")\n",
    "    prev = time.time()\n",
    "    \n",
    "print(f\"{steps * n_envs_large} steps completed in {time.time()-start_time} seconds\")"
   ]
  },
  {
   "cell_type": "markdown",
   "metadata": {},
   "source": [
    "blahlablahlahl"
   ]
  },
  {
   "cell_type": "code",
   "execution_count": 31,
   "metadata": {},
   "outputs": [
    {
     "name": "stdout",
     "output_type": "stream",
     "text": [
      "[[0.6169447  0.7502353  0.3459301  ... 0.51863337 0.58932376 0.55449045]\n",
      " [0.47548127 0.7241138  0.3235253  ... 0.24412751 0.3680569  0.7035271 ]\n",
      " [0.6749189  0.26419532 0.22431946 ... 0.65006864 0.8245549  0.13341737]\n",
      " ...\n",
      " [0.2089827  0.32239807 0.6633911  ... 0.35540724 0.5210892  0.6393193 ]\n",
      " [0.3341124  0.7145281  0.17795193 ... 0.37987053 0.28285062 0.5811237 ]\n",
      " [0.7939482  0.67065954 0.08375716 ... 0.11895394 0.99804735 0.4388287 ]]\n",
      "one: 46.03626227378845\n",
      "[[0.6169447  0.7502353  0.3459301  ... 0.51863337 0.58932376 0.55449045]\n",
      " [0.47548127 0.7241138  0.3235253  ... 0.24412751 0.3680569  0.7035271 ]\n",
      " [0.6749189  0.26419532 0.22431946 ... 0.65006864 0.8245549  0.13341737]\n",
      " ...\n",
      " [0.2089827  0.32239807 0.6633911  ... 0.35540724 0.5210892  0.6393193 ]\n",
      " [0.3341124  0.7145281  0.17795193 ... 0.37987053 0.28285062 0.5811237 ]\n",
      " [0.7939482  0.67065954 0.08375716 ... 0.11895394 0.99804735 0.4388287 ]]\n",
      "two: 0.006846427917480469\n"
     ]
    }
   ],
   "source": [
    "# this is not working properly..\n",
    "@jax.vmap\n",
    "def single_batch_step_for(ctrl):\n",
    "    mjx_data = mjx.make_data(mjx_model)\n",
    "    mjx_data = mjx_data.replace(ctrl=ctrl)\n",
    "    mjx.step(mjx_model, mjx_data)\n",
    "    return ctrl\n",
    "\n",
    "def loopfun(iters):\n",
    "    return jax.lax.fori_loop(0, iters, lambda i, x: single_batch_step_for(x), large_ctrl)\n",
    "    \n",
    "jit_loopfun = jit(loopfun)\n",
    "\n",
    "start = time.time()\n",
    "print(jit_loopfun(50))\n",
    "one = time.time()\n",
    "print(f\"one: {one-start}\")\n",
    "print(jit_loopfun(50))\n",
    "print(f\"two: {time.time()-one}\")\n"
   ]
  },
  {
   "cell_type": "markdown",
   "metadata": {},
   "source": [
    "# a different approach\n",
    "\n",
    "The vectorized function takes multiple sequential steps instead of just one"
   ]
  },
  {
   "cell_type": "code",
   "execution_count": 25,
   "metadata": {},
   "outputs": [],
   "source": [
    "def take_steps(ctrl, steps, mjx_model):\n",
    "    mjx_data = mjx.make_data(mjx_model)\n",
    "    mjx_data = mjx_data.replace(ctrl=ctrl)\n",
    "    def f(data, _):\n",
    "      return (\n",
    "          mjx.step(mjx_model, data),\n",
    "          None,\n",
    "      )\n",
    "      \n",
    "    mjx_data, _ = jax.lax.scan(f, mjx_data, (), steps)\n",
    "    return mjx_data.qpos"
   ]
  },
  {
   "cell_type": "code",
   "execution_count": 26,
   "metadata": {},
   "outputs": [
    {
     "name": "stdout",
     "output_type": "stream",
     "text": [
      "initial execution time: 97.75418162345886\n",
      "35.59422421455383\n",
      "0.0002770423889160156\n",
      "0.00016260147094726562\n",
      "0.000225067138671875\n",
      "0.00015163421630859375\n"
     ]
    }
   ],
   "source": [
    "start_time = time.time()\n",
    "n_envs_small = 1\n",
    "n_envs_large = 512\n",
    "steps = 10\n",
    "\n",
    "batched_steps = vmap(lambda ctrl: take_steps(ctrl, steps, mjx_model), in_axes=0)\n",
    "\n",
    "jit_batch_step = jit(batched_steps)\n",
    "\n",
    "batch_end_data = jit_batch_step(small_ctrl)\n",
    "prev = time.time()\n",
    "print(f\"initial execution time: {prev - start_time}\")\n",
    "def looper():\n",
    "    prev = time.time()\n",
    "    for _ in range(5):\n",
    "        batch_end_data = jit_batch_step(large_ctrl)\n",
    "        print(f\"{time.time()-prev}\")\n",
    "        prev = time.time()\n",
    "jit_looper = jit(looper)\n",
    "jit_looper()"
   ]
  },
  {
   "cell_type": "code",
   "execution_count": 32,
   "metadata": {},
   "outputs": [
    {
     "data": {
      "text/plain": [
       "34133333.333333336"
      ]
     },
     "execution_count": 32,
     "metadata": {},
     "output_type": "execute_result"
    }
   ],
   "source": [
    "5120/.00015"
   ]
  },
  {
   "cell_type": "code",
   "execution_count": null,
   "metadata": {},
   "outputs": [],
   "source": []
  }
 ],
 "metadata": {
  "kernelspec": {
   "display_name": "stac-mjx",
   "language": "python",
   "name": "python3"
  },
  "language_info": {
   "codemirror_mode": {
    "name": "ipython",
    "version": 3
   },
   "file_extension": ".py",
   "mimetype": "text/x-python",
   "name": "python",
   "nbconvert_exporter": "python",
   "pygments_lexer": "ipython3",
   "version": "3.12.0"
  }
 },
 "nbformat": 4,
 "nbformat_minor": 2
}
