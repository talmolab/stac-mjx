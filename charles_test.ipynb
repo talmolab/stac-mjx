{
 "cells": [
  {
   "cell_type": "code",
   "execution_count": 1,
   "metadata": {},
   "outputs": [],
   "source": [
    "import mujoco\n",
    "from mujoco import mjx\n",
    "import jax\n",
    "import jax.numpy as jnp\n",
    "from jax import grad, jit, vmap\n",
    "from jax import random\n",
    "from jax import device_put\n",
    "import numpy as np \n",
    "import yaml\n",
    "from typing import List, Dict, Text\n",
    "import time\n",
    "\n",
    "def load_params(param_path: Text) -> Dict:\n",
    "    with open(param_path, \"rb\") as file:\n",
    "        params = yaml.safe_load(file)\n",
    "    return params\n",
    "\n",
    "params = load_params(\"params/params.yaml\")\n",
    "model = mujoco.MjModel.from_xml_path(params[\"XML_PATH\"])\n",
    "model.opt.solver = mujoco.mjtSolver.mjSOL_NEWTON\n",
    "model.opt.iterations = 3\n",
    "model.opt.ls_iterations = 3\n",
    "\n",
    "mjx_model = mjx.device_put(model)\n",
    "\n",
    "# minimal example code--this is supposed to work\n",
    "@jax.vmap\n",
    "def single_batch_step(ctrl):\n",
    "    mjx_data = mjx.make_data(mjx_model)\n",
    "    mjx_data = mjx_data.replace(ctrl=ctrl)\n",
    "    qpos = mjx.step(mjx_model, mjx_data).qpos\n",
    "    return qpos\n",
    "\n",
    "def serial_step(vel):\n",
    "    data = mujoco.MjData(model)\n",
    "    print(data.qpos)\n",
    "    data.qvel[0] = 0\n",
    "    # qvel[0] = vel\n",
    "    # data = data.replace(qvel=qvel)\n",
    "    mujoco.mj_step(model, data)\n",
    "    \n",
    "    return data.qpos\n",
    "\n",
    "def serial_step_mjx(vel):\n",
    "    mjx_data = mjx.make_data(mjx_model)    \n",
    "    print(mjx_data.qpos)\n",
    "    qvel = mjx_data.qvel.at[0].set(vel)\n",
    "    mjx_data = mjx_data.replace(qvel=qvel)\n",
    "    mjx_data = mjx.step(mjx_model, mjx_data)\n",
    "    # mjx.forward(model, mjx_data)\n",
    "    \n",
    "    return mjx_data.qpos\n",
    "\n",
    "def take_steps(ctrl, steps, mjx_model):\n",
    "    # ctrl = network(obs)\n",
    "    mjx_data = mjx.make_data(mjx_model)\n",
    "    mjx_data = mjx_data.replace(ctrl=ctrl)\n",
    "    def f(data, _):\n",
    "      return (\n",
    "          mjx.step(mjx_model, data),\n",
    "          None,\n",
    "      )\n",
    "      \n",
    "    mjx_data, _ = jax.lax.scan(f, mjx_data, (), steps)\n",
    "    return mjx_data.qpos\n",
    "\n"
   ]
  },
  {
   "cell_type": "markdown",
   "metadata": {},
   "source": [
    "# time single steps multiple times"
   ]
  },
  {
   "cell_type": "code",
   "execution_count": 2,
   "metadata": {},
   "outputs": [],
   "source": [
    "start_time = time.time()\n",
    "\n",
    "n_envs_small = 1\n",
    "n_envs_large = 1300\n",
    "key = random.PRNGKey(0)\n",
    "small_ctrl = random.uniform(key, shape=(n_envs_small, mjx_model.nu))\n",
    "large_ctrl = random.uniform(key, shape=(n_envs_large, mjx_model.nu))\n",
    "\n"
   ]
  },
  {
   "cell_type": "code",
   "execution_count": null,
   "metadata": {},
   "outputs": [],
   "source": [
    "jit_single_batch_step = jit(single_batch_step)\n",
    "jit_single_batch_step(small_ctrl)\n",
    "prev = time.time()\n",
    "print(f\"initial execution time: {prev - start_time}\")\n",
    "for _ in range(5):\n",
    "    jit_single_batch_step(large_ctrl)\n",
    "    print(f\"{time.time()-prev}\")\n",
    "    prev = time.time()"
   ]
  },
  {
   "cell_type": "code",
   "execution_count": 5,
   "metadata": {},
   "outputs": [
    {
     "name": "stdout",
     "output_type": "stream",
     "text": [
      "initial execution time: 112.37875866889954\n"
     ]
    },
    {
     "name": "stderr",
     "output_type": "stream",
     "text": [
      "2023-11-28 16:50:11.024821: W external/tsl/tsl/framework/bfc_allocator.cc:296] Allocator (GPU_0_bfc) ran out of memory trying to allocate 6.88GiB with freed_by_count=0. The caller indicates that this is not a failure, but this may mean that there could be performance gains if more memory were available.\n"
     ]
    },
    {
     "ename": "XlaRuntimeError",
     "evalue": "RESOURCE_EXHAUSTED: Out of memory while trying to allocate 7391266416 bytes.",
     "output_type": "error",
     "traceback": [
      "\u001b[0;31m---------------------------------------------------------------------------\u001b[0m",
      "\u001b[0;31mXlaRuntimeError\u001b[0m                           Traceback (most recent call last)",
      "\u001b[1;32m/home/charles/github/stac-mjx/charles_test.ipynb Cell 5\u001b[0m line \u001b[0;36m1\n\u001b[1;32m     <a href='vscode-notebook-cell:/home/charles/github/stac-mjx/charles_test.ipynb#W5sZmlsZQ%3D%3D?line=11'>12</a>\u001b[0m \u001b[39mprint\u001b[39m(\u001b[39mf\u001b[39m\u001b[39m\"\u001b[39m\u001b[39minitial execution time: \u001b[39m\u001b[39m{\u001b[39;00mprev\u001b[39m \u001b[39m\u001b[39m-\u001b[39m\u001b[39m \u001b[39mstart_time\u001b[39m}\u001b[39;00m\u001b[39m\"\u001b[39m)\n\u001b[1;32m     <a href='vscode-notebook-cell:/home/charles/github/stac-mjx/charles_test.ipynb#W5sZmlsZQ%3D%3D?line=12'>13</a>\u001b[0m \u001b[39mfor\u001b[39;00m _ \u001b[39min\u001b[39;00m \u001b[39mrange\u001b[39m(\u001b[39m5\u001b[39m):\n\u001b[0;32m---> <a href='vscode-notebook-cell:/home/charles/github/stac-mjx/charles_test.ipynb#W5sZmlsZQ%3D%3D?line=13'>14</a>\u001b[0m     batch_end_data \u001b[39m=\u001b[39m jit_batch_step(large_ctrl)\n\u001b[1;32m     <a href='vscode-notebook-cell:/home/charles/github/stac-mjx/charles_test.ipynb#W5sZmlsZQ%3D%3D?line=14'>15</a>\u001b[0m     \u001b[39mprint\u001b[39m(\u001b[39mf\u001b[39m\u001b[39m\"\u001b[39m\u001b[39m{\u001b[39;00mtime\u001b[39m.\u001b[39mtime()\u001b[39m-\u001b[39mprev\u001b[39m}\u001b[39;00m\u001b[39m\"\u001b[39m)\n\u001b[1;32m     <a href='vscode-notebook-cell:/home/charles/github/stac-mjx/charles_test.ipynb#W5sZmlsZQ%3D%3D?line=15'>16</a>\u001b[0m     prev \u001b[39m=\u001b[39m time\u001b[39m.\u001b[39mtime()\n",
      "    \u001b[0;31m[... skipping hidden 14 frame]\u001b[0m\n",
      "File \u001b[0;32m~/miniconda3/envs/stac-mjx/lib/python3.12/site-packages/jax/_src/compiler.py:255\u001b[0m, in \u001b[0;36mbackend_compile\u001b[0;34m(backend, module, options, host_callbacks)\u001b[0m\n\u001b[1;32m    250\u001b[0m   \u001b[39mreturn\u001b[39;00m backend\u001b[39m.\u001b[39mcompile(built_c, compile_options\u001b[39m=\u001b[39moptions,\n\u001b[1;32m    251\u001b[0m                          host_callbacks\u001b[39m=\u001b[39mhost_callbacks)\n\u001b[1;32m    252\u001b[0m \u001b[39m# Some backends don't have `host_callbacks` option yet\u001b[39;00m\n\u001b[1;32m    253\u001b[0m \u001b[39m# TODO(sharadmv): remove this fallback when all backends allow `compile`\u001b[39;00m\n\u001b[1;32m    254\u001b[0m \u001b[39m# to take in `host_callbacks`\u001b[39;00m\n\u001b[0;32m--> 255\u001b[0m \u001b[39mreturn\u001b[39;00m backend\u001b[39m.\u001b[39;49mcompile(built_c, compile_options\u001b[39m=\u001b[39;49moptions)\n",
      "\u001b[0;31mXlaRuntimeError\u001b[0m: RESOURCE_EXHAUSTED: Out of memory while trying to allocate 7391266416 bytes."
     ]
    }
   ],
   "source": [
    "start_time = time.time()\n",
    "n_envs_small = 1\n",
    "n_envs_large = 128\n",
    "steps = 100\n",
    "\n",
    "batched_steps = vmap(lambda ctrl: take_steps(ctrl, steps, mjx_model), in_axes=0)\n",
    "\n",
    "jit_batch_step = jit(batched_steps)\n",
    "\n",
    "batch_end_data = jit_batch_step(small_ctrl)\n",
    "prev = time.time()\n",
    "print(f\"initial execution time: {prev - start_time}\")\n",
    "for _ in range(5):\n",
    "    batch_end_data = jit_batch_step(large_ctrl)\n",
    "    print(f\"{time.time()-prev}\")\n",
    "    prev = time.time()"
   ]
  },
  {
   "cell_type": "code",
   "execution_count": null,
   "metadata": {},
   "outputs": [],
   "source": []
  }
 ],
 "metadata": {
  "kernelspec": {
   "display_name": "stac-mjx",
   "language": "python",
   "name": "python3"
  },
  "language_info": {
   "codemirror_mode": {
    "name": "ipython",
    "version": 3
   },
   "file_extension": ".py",
   "mimetype": "text/x-python",
   "name": "python",
   "nbconvert_exporter": "python",
   "pygments_lexer": "ipython3",
   "version": "3.12.0"
  }
 },
 "nbformat": 4,
 "nbformat_minor": 2
}
