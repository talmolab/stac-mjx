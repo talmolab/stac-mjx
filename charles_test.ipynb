{
 "cells": [
  {
   "cell_type": "code",
   "execution_count": 1,
   "metadata": {},
   "outputs": [],
   "source": [
    "import mujoco\n",
    "from mujoco import mjx\n",
    "import jax\n",
    "import jax.numpy as jnp\n",
    "from jax import grad, jit, vmap\n",
    "from jax import random\n",
    "from jax import device_put\n",
    "import numpy as np \n",
    "import yaml\n",
    "from typing import List, Dict, Text\n",
    "import time\n",
    "\n",
    "def load_params(param_path: Text) -> Dict:\n",
    "    with open(param_path, \"rb\") as file:\n",
    "        params = yaml.safe_load(file)\n",
    "    return params\n",
    "\n",
    "params = load_params(\"params/params.yaml\")\n",
    "model = mujoco.MjModel.from_xml_path(params[\"XML_PATH\"])\n",
    "model.opt.solver = mujoco.mjtSolver.mjSOL_NEWTON\n",
    "model.opt.iterations = 1\n",
    "model.opt.ls_iterations = 1\n",
    "\n",
    "mjx_model = mjx.device_put(model)\n",
    "\n",
    "# minimal example code--this is supposed to work\n",
    "@jax.vmap\n",
    "def single_batch_step(ctrl):\n",
    "    mjx_data = mjx.make_data(mjx_model)\n",
    "    mjx_data = mjx_data.replace(ctrl=ctrl)\n",
    "    qpos = mjx.step(mjx_model, mjx_data).qpos\n",
    "    return qpos\n",
    "\n",
    "def serial_step(vel):\n",
    "    data = mujoco.MjData(model)\n",
    "    print(data.qpos)\n",
    "    data.qvel[0] = 0\n",
    "    # qvel[0] = vel\n",
    "    # data = data.replace(qvel=qvel)\n",
    "    mujoco.mj_step(model, data)\n",
    "    \n",
    "    return data.qpos\n",
    "\n",
    "def serial_step_mjx(vel):\n",
    "    mjx_data = mjx.make_data(mjx_model)    \n",
    "    print(mjx_data.qpos)\n",
    "    qvel = mjx_data.qvel.at[0].set(vel)\n",
    "    mjx_data = mjx_data.replace(qvel=qvel)\n",
    "    mjx_data = mjx.step(mjx_model, mjx_data)\n",
    "    # mjx.forward(model, mjx_data)\n",
    "    \n",
    "    return mjx_data.qpos\n",
    "\n",
    "def take_steps(ctrl, steps, mjx_model):\n",
    "    # ctrl = network(obs)\n",
    "    mjx_data = mjx.make_data(mjx_model)\n",
    "    mjx_data = mjx_data.replace(ctrl=ctrl)\n",
    "    def f(data, _):\n",
    "      return (\n",
    "          mjx.step(mjx_model, data),\n",
    "          None,\n",
    "      )\n",
    "      \n",
    "    mjx_data, _ = jax.lax.scan(f, mjx_data, (), steps)\n",
    "    return mjx_data.qpos\n",
    "\n"
   ]
  },
  {
   "cell_type": "markdown",
   "metadata": {},
   "source": [
    "# time single steps multiple times"
   ]
  },
  {
   "cell_type": "code",
   "execution_count": 5,
   "metadata": {},
   "outputs": [],
   "source": [
    "start_time = time.time()\n",
    "\n",
    "n_envs_small = 1\n",
    "n_envs_large = 1400\n",
    "key = random.PRNGKey(0)\n",
    "small_ctrl = random.uniform(key, shape=(n_envs_small, mjx_model.nu))\n",
    "large_ctrl = random.uniform(key, shape=(n_envs_large, mjx_model.nu))\n",
    "\n"
   ]
  },
  {
   "cell_type": "code",
   "execution_count": 6,
   "metadata": {},
   "outputs": [
    {
     "name": "stdout",
     "output_type": "stream",
     "text": [
      "initial execution time: 0.13068509101867676\n",
      "75.88655710220337\n",
      "0.002124786376953125\n",
      "0.0013523101806640625\n",
      "0.0010461807250976562\n",
      "0.004746913909912109\n",
      "0.1265885829925537\n",
      "0.11447930335998535\n",
      "0.11417794227600098\n",
      "0.11552143096923828\n",
      "0.11838054656982422\n",
      "0.1202096939086914\n",
      "0.11438846588134766\n",
      "0.1157233715057373\n",
      "0.11822628974914551\n",
      "0.11577534675598145\n",
      "0.11603307723999023\n",
      "0.11487078666687012\n",
      "0.11712050437927246\n",
      "0.11706089973449707\n",
      "0.11658263206481934\n",
      "0.11541748046875\n",
      "0.1166834831237793\n",
      "0.1181631088256836\n",
      "0.11561155319213867\n",
      "0.11559343338012695\n",
      "Steps completed: 32500\n"
     ]
    }
   ],
   "source": [
    "jit_single_batch_step = jit(single_batch_step)\n",
    "jit_single_batch_step(small_ctrl)\n",
    "prev = time.time()\n",
    "print(f\"initial execution time: {prev - start_time}\")\n",
    "iters = 25\n",
    "for _ in range(iters):\n",
    "    jit_single_batch_step(large_ctrl)\n",
    "    print(f\"{time.time()-prev}\")\n",
    "    prev = time.time()\n",
    "    \n",
    "print(f\"Steps completed: {iters * n_envs_large}\")"
   ]
  },
  {
   "cell_type": "code",
   "execution_count": null,
   "metadata": {},
   "outputs": [],
   "source": [
    "def loopfun():\n",
    "    jax.lax.fori_loop(0, iters, single_batch_step, )"
   ]
  },
  {
   "cell_type": "code",
   "execution_count": 11,
   "metadata": {},
   "outputs": [
    {
     "name": "stdout",
     "output_type": "stream",
     "text": [
      "initial execution time: 94.86681985855103\n",
      "34.524773836135864\n",
      "0.0002276897430419922\n",
      "0.00013828277587890625\n",
      "0.00015544891357421875\n",
      "0.00014090538024902344\n"
     ]
    }
   ],
   "source": [
    "start_time = time.time()\n",
    "n_envs_small = 1\n",
    "n_envs_large = 512\n",
    "steps = 10\n",
    "\n",
    "batched_steps = vmap(lambda ctrl: take_steps(ctrl, steps, mjx_model), in_axes=0)\n",
    "\n",
    "jit_batch_step = jit(batched_steps)\n",
    "\n",
    "batch_end_data = jit_batch_step(small_ctrl)\n",
    "prev = time.time()\n",
    "print(f\"initial execution time: {prev - start_time}\")\n",
    "def looper():\n",
    "    prev = time.time()\n",
    "    for _ in range(5):\n",
    "        batch_end_data = jit_batch_step(large_ctrl)\n",
    "        print(f\"{time.time()-prev}\")\n",
    "        prev = time.time()\n",
    "jit_looper = jit(looper)\n",
    "jit_looper()"
   ]
  },
  {
   "cell_type": "code",
   "execution_count": 12,
   "metadata": {},
   "outputs": [
    {
     "data": {
      "text/plain": [
       "34133333.333333336"
      ]
     },
     "execution_count": 12,
     "metadata": {},
     "output_type": "execute_result"
    }
   ],
   "source": [
    "5120/.00015"
   ]
  },
  {
   "cell_type": "code",
   "execution_count": null,
   "metadata": {},
   "outputs": [],
   "source": []
  }
 ],
 "metadata": {
  "kernelspec": {
   "display_name": "stac-mjx",
   "language": "python",
   "name": "python3"
  },
  "language_info": {
   "codemirror_mode": {
    "name": "ipython",
    "version": 3
   },
   "file_extension": ".py",
   "mimetype": "text/x-python",
   "name": "python",
   "nbconvert_exporter": "python",
   "pygments_lexer": "ipython3",
   "version": "3.12.0"
  }
 },
 "nbformat": 4,
 "nbformat_minor": 2
}
