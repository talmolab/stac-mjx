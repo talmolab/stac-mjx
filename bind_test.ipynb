{
 "cells": [
  {
   "cell_type": "code",
   "execution_count": 27,
   "metadata": {},
   "outputs": [],
   "source": [
    "import mujoco\n",
    "from mujoco import mjx\n",
    "import jax\n",
    "import dm_control\n",
    "from dm_control import mjcf\n",
    "from dm_control.locomotion.walkers import rescale\n",
    "import importlib\n",
    "utils = importlib.import_module(\"stac-mjx.utils\")\n"
   ]
  },
  {
   "cell_type": "code",
   "execution_count": 28,
   "metadata": {},
   "outputs": [],
   "source": [
    "params = utils.load_params(\"params/params.yaml\")\n",
    "mjmodel = mujoco.MjModel.from_xml_path(params[\"XML_PATH\"])\n",
    "mjdata = mujoco.MjData(mjmodel)\n",
    "mjx_model = mjx.device_put(mjmodel)\n",
    "mjx_data = mjx.make_data(mjx_model)"
   ]
  },
  {
   "cell_type": "code",
   "execution_count": 29,
   "metadata": {},
   "outputs": [],
   "source": [
    "mjcf_root = mjcf.from_path(params[\"XML_PATH\"])\n",
    "\n",
    "# Rescale\n",
    "rescale.rescale_subtree(\n",
    "        mjcf_root,\n",
    "        params[\"SCALE_FACTOR\"],\n",
    "        params[\"SCALE_FACTOR\"],\n",
    "    )"
   ]
  },
  {
   "cell_type": "code",
   "execution_count": 30,
   "metadata": {},
   "outputs": [],
   "source": [
    "# This function modifies mjcf in place so root should be passed in to make sure we're doing it right\n",
    "def set_body_sites(root, params):\n",
    "    # gets part names (but only )\n",
    "    # part_names = physics.named.data.qpos.axes.row.names\n",
    "    # for _ in range(6):\n",
    "    #     part_names.insert(0, part_names[0])\n",
    "    # print(part_names)\n",
    "    # mjcf_root = mjcf.from_path(params[\"XML_PATH\"])\n",
    "    body_sites = []\n",
    "    for key, v in params[\"KEYPOINT_MODEL_PAIRS\"].items():\n",
    "        parent = root.find(\"body\", v)\n",
    "        \n",
    "        pos = params[\"KEYPOINT_INITIAL_OFFSETS\"][key]\n",
    "        \n",
    "        site = parent.add(\n",
    "            \"site\",\n",
    "            name=key,\n",
    "            type=\"sphere\",\n",
    "            size=[0.005],\n",
    "            rgba=\"0 0 0 1\",\n",
    "            pos=pos,\n",
    "            group=3,\n",
    "        )\n",
    "        body_sites.append(site)\n",
    "    return body_sites"
   ]
  },
  {
   "cell_type": "code",
   "execution_count": 31,
   "metadata": {},
   "outputs": [],
   "source": [
    "root = mjcf_root.__copy__()\n",
    "body_sites = set_body_sites(root, params)"
   ]
  },
  {
   "cell_type": "code",
   "execution_count": 32,
   "metadata": {},
   "outputs": [],
   "source": [
    "physics = mjcf.Physics.from_mjcf_model(root)\n",
    "binding = physics.bind(body_sites)"
   ]
  },
  {
   "cell_type": "code",
   "execution_count": 33,
   "metadata": {},
   "outputs": [
    {
     "data": {
      "text/plain": [
       "SynchronizingArrayWrapper([[-0.03230154, -0.00472705, -0.02205959],\n",
       "                           [-0.03230154,  0.00472705, -0.02205959],\n",
       "                           [ 0.        ,  0.        ,  0.        ],\n",
       "                           [ 0.        ,  0.        ,  0.        ],\n",
       "                           [-0.01593121,  0.01035529, -0.02230369],\n",
       "                           [-0.01593121, -0.01035529, -0.02230369],\n",
       "                           [ 0.02109994,  0.00761433, -0.00275217],\n",
       "                           [ 0.02109994, -0.00761433, -0.00275217],\n",
       "                           [ 0.00303175,  0.00151587, -0.0083373 ],\n",
       "                           [ 0.00303175, -0.00151587, -0.0083373 ],\n",
       "                           [-0.015     ,  0.015     ,  0.        ],\n",
       "                           [-0.015     , -0.015     ,  0.        ],\n",
       "                           [ 0.01542265,  0.017479  , -0.02570441],\n",
       "                           [ 0.01542265, -0.017479  , -0.02570441],\n",
       "                           [ 0.0287    ,  0.00984   , -0.02542   ],\n",
       "                           [ 0.0287    , -0.00984   , -0.02542   ],\n",
       "                           [ 0.        ,  0.        ,  0.        ],\n",
       "                           [-0.015     ,  0.        ,  0.        ],\n",
       "                           [ 0.        ,  0.        ,  0.        ],\n",
       "                           [ 0.        ,  0.        ,  0.        ],\n",
       "                           [ 0.        ,  0.        ,  0.        ],\n",
       "                           [ 0.        ,  0.        ,  0.        ],\n",
       "                           [ 0.        ,  0.        ,  0.        ]])"
      ]
     },
     "execution_count": 33,
     "metadata": {},
     "output_type": "execute_result"
    }
   ],
   "source": [
    "binding.pos"
   ]
  },
  {
   "cell_type": "code",
   "execution_count": null,
   "metadata": {},
   "outputs": [],
   "source": []
  }
 ],
 "metadata": {
  "kernelspec": {
   "display_name": "stac-mjx",
   "language": "python",
   "name": "python3"
  },
  "language_info": {
   "codemirror_mode": {
    "name": "ipython",
    "version": 3
   },
   "file_extension": ".py",
   "mimetype": "text/x-python",
   "name": "python",
   "nbconvert_exporter": "python",
   "pygments_lexer": "ipython3",
   "version": "3.12.0"
  }
 },
 "nbformat": 4,
 "nbformat_minor": 2
}
