{
 "cells": [
  {
   "cell_type": "code",
   "execution_count": 1,
   "metadata": {},
   "outputs": [],
   "source": [
    "import mujoco\n",
    "from mujoco import mjx\n",
    "import jax\n",
    "import dm_control\n",
    "from dm_control import mjcf\n",
    "from dm_control.locomotion.walkers import rescale\n",
    "import importlib\n",
    "utils = importlib.import_module(\"stac-mjx.utils\")\n"
   ]
  },
  {
   "cell_type": "code",
   "execution_count": 2,
   "metadata": {},
   "outputs": [],
   "source": [
    "params = utils.load_params(\"params/params.yaml\")\n",
    "mjmodel = mujoco.MjModel.from_xml_path(params[\"XML_PATH\"])\n",
    "mjdata = mujoco.MjData(mjmodel)\n",
    "mjx_model = mjx.device_put(mjmodel)\n",
    "mjx_data = mjx.make_data(mjx_model)"
   ]
  },
  {
   "cell_type": "code",
   "execution_count": 3,
   "metadata": {},
   "outputs": [],
   "source": [
    "mjcf_root = mjcf.from_path(params[\"XML_PATH\"])\n",
    "\n",
    "# Rescale\n",
    "rescale.rescale_subtree(\n",
    "        mjcf_root,\n",
    "        params[\"SCALE_FACTOR\"],\n",
    "        params[\"SCALE_FACTOR\"],\n",
    "    )"
   ]
  },
  {
   "cell_type": "code",
   "execution_count": 4,
   "metadata": {},
   "outputs": [],
   "source": [
    "# This function modifies mjcf in place so root should be passed in to make sure we're doing it right\n",
    "def set_body_sites(root, params):\n",
    "    # gets part names (but only )\n",
    "    # part_names = physics.named.data.qpos.axes.row.names\n",
    "    # for _ in range(6):\n",
    "    #     part_names.insert(0, part_names[0])\n",
    "    # print(part_names)\n",
    "    # mjcf_root = mjcf.from_path(params[\"XML_PATH\"])\n",
    "    body_sites = []\n",
    "    for key, v in params[\"KEYPOINT_MODEL_PAIRS\"].items():\n",
    "        parent = root.find(\"body\", v)\n",
    "        \n",
    "        pos = params[\"KEYPOINT_INITIAL_OFFSETS\"][key]\n",
    "        \n",
    "        site = parent.add(\n",
    "            \"site\",\n",
    "            name=key,\n",
    "            type=\"sphere\",\n",
    "            size=[0.005],\n",
    "            rgba=\"0 0 0 1\",\n",
    "            pos=pos,\n",
    "            group=3,\n",
    "        )\n",
    "        body_sites.append(site)\n",
    "    return body_sites"
   ]
  },
  {
   "cell_type": "code",
   "execution_count": 5,
   "metadata": {},
   "outputs": [],
   "source": [
    "root = mjcf_root.__copy__()\n",
    "body_sites = set_body_sites(root, params)"
   ]
  },
  {
   "cell_type": "code",
   "execution_count": 6,
   "metadata": {},
   "outputs": [],
   "source": [
    "physics = mjcf.Physics.from_mjcf_model(root)\n",
    "binding = physics.bind(body_sites)"
   ]
  },
  {
   "cell_type": "code",
   "execution_count": 28,
   "metadata": {},
   "outputs": [
    {
     "data": {
      "text/plain": [
       "SynchronizingArrayWrapper([[-0.03230154, -0.00472705, -0.02205959],\n",
       "                           [-0.03230154,  0.00472705, -0.02205959],\n",
       "                           [ 0.        ,  0.        ,  0.        ],\n",
       "                           [ 0.        ,  0.        ,  0.        ],\n",
       "                           [-0.01593121,  0.01035529, -0.02230369],\n",
       "                           [-0.01593121, -0.01035529, -0.02230369],\n",
       "                           [ 0.02109994,  0.00761433, -0.00275217],\n",
       "                           [ 0.02109994, -0.00761433, -0.00275217],\n",
       "                           [ 0.00303175,  0.00151587, -0.0083373 ],\n",
       "                           [ 0.00303175, -0.00151587, -0.0083373 ],\n",
       "                           [-0.015     ,  0.015     ,  0.        ],\n",
       "                           [-0.015     , -0.015     ,  0.        ],\n",
       "                           [ 0.01542265,  0.017479  , -0.02570441],\n",
       "                           [ 0.01542265, -0.017479  , -0.02570441],\n",
       "                           [ 0.0287    ,  0.00984   , -0.02542   ],\n",
       "                           [ 0.0287    , -0.00984   , -0.02542   ],\n",
       "                           [ 0.        ,  0.        ,  0.        ],\n",
       "                           [-0.015     ,  0.        ,  0.        ],\n",
       "                           [ 0.        ,  0.        ,  0.        ],\n",
       "                           [ 0.        ,  0.        ,  0.        ],\n",
       "                           [ 0.        ,  0.        ,  0.        ],\n",
       "                           [ 0.        ,  0.        ,  0.        ],\n",
       "                           [ 0.        ,  0.        ,  0.        ]])"
      ]
     },
     "execution_count": 28,
     "metadata": {},
     "output_type": "execute_result"
    }
   ],
   "source": [
    "binding.pos"
   ]
  },
  {
   "cell_type": "code",
   "execution_count": 14,
   "metadata": {},
   "outputs": [
    {
     "data": {
      "text/plain": [
       "array([[ 2.78957345e-02,  1.85267244e-07,  5.85806154e-02],\n",
       "       [ 1.06342352e-02,  1.60370410e-08,  7.37424266e-02],\n",
       "       [ 1.06342352e-02,  1.60370410e-08,  7.37424266e-02],\n",
       "       [ 5.56749049e-03,  2.35136027e-06,  7.42213096e-02],\n",
       "       [-2.97959516e-04, -7.01820552e-06,  7.41361047e-02],\n",
       "       [-6.39789328e-03,  8.53285497e-07,  7.29667214e-02],\n",
       "       [-1.25989532e-02, -4.73061479e-06,  7.07184629e-02],\n",
       "       [-1.81657092e-02, -1.61687166e-09,  6.74414527e-02],\n",
       "       [-2.99299775e-02,  3.16028242e-06,  6.01325681e-02],\n",
       "       [-3.42592406e-02,  1.03452890e-02,  5.12335272e-02],\n",
       "       [-3.42592406e-02, -1.03389684e-02,  5.12335272e-02],\n",
       "       [-4.49299775e-02,  1.50031603e-02,  6.01325681e-02],\n",
       "       [-4.49299775e-02, -1.49968397e-02,  6.01325681e-02],\n",
       "       [-2.99299775e-02,  3.16028242e-06,  6.01325681e-02],\n",
       "       [-2.99299775e-02,  3.16028242e-06,  6.01325681e-02],\n",
       "       [-3.42592406e-02,  1.03452890e-02,  5.12335272e-02],\n",
       "       [-2.03788598e-02,  2.60763872e-02,  2.80995591e-02],\n",
       "       [-1.88365953e-02,  2.78242870e-02,  2.55291182e-02],\n",
       "       [-2.03788598e-02,  2.60763872e-02,  2.80995591e-02],\n",
       "       [-4.94502461e-02,  2.18220380e-02,  8.24592946e-03],\n",
       "       [-5.26804002e-02,  2.13493325e-02,  6.03997061e-03],\n",
       "       [-4.94502461e-02,  2.18220380e-02,  8.24592946e-03],\n",
       "       [-3.04602973e-02,  2.86749326e-02,  5.76897962e-03],\n",
       "       [-2.83503030e-02,  2.94363653e-02,  5.49376297e-03],\n",
       "       [-3.04602973e-02,  2.86749326e-02,  5.76897962e-03],\n",
       "       [-2.30802973e-02,  3.08889326e-02,  4.29297962e-03],\n",
       "       [-3.42592406e-02, -1.03389684e-02,  5.12335272e-02],\n",
       "       [-2.03788598e-02, -2.60700667e-02,  2.80995591e-02],\n",
       "       [-1.88365953e-02, -2.78179665e-02,  2.55291182e-02],\n",
       "       [-2.03788598e-02, -2.60700667e-02,  2.80995591e-02],\n",
       "       [-4.94502461e-02, -2.18157175e-02,  8.24592946e-03],\n",
       "       [-5.26804002e-02, -2.13430120e-02,  6.03997061e-03],\n",
       "       [-4.94502461e-02, -2.18157175e-02,  8.24592946e-03],\n",
       "       [-3.04602973e-02, -2.86686120e-02,  5.76897962e-03],\n",
       "       [-2.83503030e-02, -2.94300447e-02,  5.49376297e-03],\n",
       "       [-3.04602973e-02, -2.86686120e-02,  5.76897962e-03],\n",
       "       [-2.30802973e-02, -3.08826120e-02,  4.29297962e-03],\n",
       "       [-4.41408980e-02,  3.16028242e-06,  4.94391075e-02],\n",
       "       [-4.76302464e-02,  3.16028242e-06,  4.56353194e-02],\n",
       "       [-5.07118706e-02,  3.16028242e-06,  4.17985497e-02],\n",
       "       [-5.36565578e-02,  3.16028242e-06,  3.78233954e-02],\n",
       "       [-5.65149346e-02,  3.16028242e-06,  3.37109886e-02],\n",
       "       [-5.93222091e-02,  3.16028242e-06,  2.92997689e-02],\n",
       "       [-6.22164392e-02,  3.16028242e-06,  2.42198348e-02],\n",
       "       [-6.53177074e-02,  3.16028242e-06,  1.92534717e-02],\n",
       "       [-6.91743629e-02,  3.16028242e-06,  1.46499552e-02],\n",
       "       [-7.35497535e-02,  3.16028242e-06,  1.05439875e-02],\n",
       "       [-7.83870618e-02,  3.16028242e-06,  6.61620108e-03],\n",
       "       [-8.39080924e-02,  3.16028242e-06,  3.15884855e-03],\n",
       "       [-9.01157771e-02,  3.16028242e-06,  8.25663187e-04],\n",
       "       [-9.62583111e-02,  3.16028242e-06,  7.65328348e-06],\n",
       "       [-1.02131901e-01,  3.16028242e-06, -2.76144614e-04],\n",
       "       [-1.08156420e-01,  3.16028242e-06, -4.00784288e-04],\n",
       "       [-1.13993303e-01,  3.16028242e-06, -4.15818492e-04],\n",
       "       [-1.19579992e-01,  3.16028242e-06, -4.15818328e-04],\n",
       "       [-1.25163826e-01,  3.16028242e-06, -4.15819066e-04],\n",
       "       [-1.30769365e-01,  3.16028242e-06, -4.13554198e-04],\n",
       "       [-1.36275253e-01,  3.16028242e-06, -5.12251952e-04],\n",
       "       [-1.42132550e-01,  3.16028242e-06, -5.24059840e-04],\n",
       "       [-1.47884230e-01,  3.16028242e-06, -5.24058264e-04],\n",
       "       [-1.53446874e-01,  3.16028242e-06, -5.24059386e-04],\n",
       "       [-1.58818253e-01,  3.16028242e-06, -5.24059262e-04],\n",
       "       [-1.63884062e-01,  3.16028242e-06, -5.24060491e-04],\n",
       "       [-1.68557870e-01,  3.16028242e-06, -5.24059235e-04],\n",
       "       [-1.73090485e-01,  3.16028242e-06, -5.23602576e-04],\n",
       "       [-1.77386992e-01,  3.16028242e-06, -5.23602632e-04],\n",
       "       [-1.80991809e-01,  3.16028242e-06, -5.23980379e-04],\n",
       "       [ 5.28338930e-02,  1.08287967e-05,  5.76803319e-02],\n",
       "       [ 3.78338930e-02,  1.08287967e-05,  5.76803319e-02],\n",
       "       [ 5.50020295e-02,  1.53239916e-08,  5.84089512e-02],\n",
       "       [ 5.69372811e-02,  1.54327254e-08,  5.92563253e-02],\n",
       "       [ 5.86472452e-02,  1.55482836e-08,  6.00436112e-02],\n",
       "       [ 6.02470057e-02,  1.59552751e-08,  6.08851774e-02],\n",
       "       [ 6.19410907e-02, -1.56503016e-06,  6.24204519e-02],\n",
       "       [ 6.41480546e-02,  1.62565506e-08,  6.36530512e-02],\n",
       "       [ 8.75076168e-02,  2.00386695e-08,  6.52465101e-02],\n",
       "       [ 8.75076168e-02,  2.00386695e-08,  6.52465101e-02],\n",
       "       [ 8.75076168e-02,  2.00386695e-08,  6.52465101e-02],\n",
       "       [ 8.75076168e-02,  2.00386695e-08,  6.52465101e-02],\n",
       "       [ 8.75076168e-02,  2.00386695e-08,  6.52465101e-02],\n",
       "       [ 8.79152738e-02,  5.73948940e-09,  5.04865101e-02],\n",
       "       [ 3.37997345e-02,  1.47618527e-03,  6.89126154e-02],\n",
       "       [ 5.96297345e-02,  1.03321853e-02,  4.60346154e-02],\n",
       "       [ 6.24997345e-02,  1.13161853e-02,  4.34926154e-02],\n",
       "       [ 5.96297345e-02,  1.03321853e-02,  4.60346154e-02],\n",
       "       [ 4.52916470e-02,  1.96519422e-02,  2.59612928e-02],\n",
       "       [ 4.36985261e-02,  2.06874707e-02,  2.37309237e-02],\n",
       "       [ 4.52916470e-02,  1.96519422e-02,  2.59612928e-02],\n",
       "       [ 6.47340354e-02,  3.09933354e-02,  8.13910348e-03],\n",
       "       [ 4.52916470e-02,  1.96519422e-02,  2.59612928e-02],\n",
       "       [ 6.47340354e-02,  3.09933354e-02,  8.13910348e-03],\n",
       "       [ 6.74626076e-02,  3.23576215e-02,  6.35529860e-04],\n",
       "       [ 6.77657823e-02,  3.25092088e-02, -1.98200542e-04],\n",
       "       [ 6.74626076e-02,  3.23576215e-02,  6.35529860e-04],\n",
       "       [ 7.18906076e-02,  3.45716215e-02, -8.40470140e-04],\n",
       "       [ 3.37997345e-02, -1.47581473e-03,  6.89126154e-02],\n",
       "       [ 5.96297345e-02, -1.03318147e-02,  4.60346154e-02],\n",
       "       [ 6.24997345e-02, -1.13158147e-02,  4.34926154e-02],\n",
       "       [ 5.96297345e-02, -1.03318147e-02,  4.60346154e-02],\n",
       "       [ 4.52916470e-02, -1.96515716e-02,  2.59612928e-02],\n",
       "       [ 4.36985261e-02, -2.06871002e-02,  2.37309237e-02],\n",
       "       [ 4.52916470e-02, -1.96515716e-02,  2.59612928e-02],\n",
       "       [ 6.47340354e-02, -3.09929649e-02,  8.13910348e-03],\n",
       "       [ 4.52916470e-02, -1.96515716e-02,  2.59612928e-02],\n",
       "       [ 6.47340354e-02, -3.09929649e-02,  8.13910348e-03],\n",
       "       [ 6.74626076e-02, -3.23572510e-02,  6.35529860e-04],\n",
       "       [ 6.77657823e-02, -3.25088383e-02, -1.98200542e-04],\n",
       "       [ 7.18906076e-02, -3.45712510e-02, -8.40470140e-04],\n",
       "       [ 6.74626076e-02, -3.23572510e-02,  6.35529860e-04]])"
      ]
     },
     "execution_count": 14,
     "metadata": {},
     "output_type": "execute_result"
    }
   ],
   "source": [
    "physics.data.site_xpos"
   ]
  },
  {
   "cell_type": "code",
   "execution_count": null,
   "metadata": {},
   "outputs": [],
   "source": [
    "    "
   ]
  },
  {
   "cell_type": "code",
   "execution_count": 20,
   "metadata": {},
   "outputs": [
    {
     "data": {
      "text/plain": [
       "(86, 3)"
      ]
     },
     "execution_count": 20,
     "metadata": {},
     "output_type": "execute_result"
    }
   ],
   "source": [
    "params = utils.load_params(\"params/params.yaml\")\n",
    "mjmodel = mujoco.MjModel.from_xml_path(params[\"XML_PATH\"])\n",
    "mjdata = mujoco.MjData(mjmodel)\n",
    "mjdata.site_xpos.shape"
   ]
  },
  {
   "cell_type": "code",
   "execution_count": 36,
   "metadata": {},
   "outputs": [
    {
     "data": {
      "text/plain": [
       "FieldIndexer(xpos):\n",
       "                         x         y         z         \n",
       " 0               world [ 0         0         0       ]\n",
       " 1               torso [ 0.0279    1.85e-07  0.0586  ]\n",
       " 2          vertebra_1 [ 0.0106    1.6e-08   0.0737  ]\n",
       " 3          vertebra_2 [ 0.00557   2.35e-06  0.0742  ]\n",
       " 4          vertebra_3 [-0.000298 -7.02e-06  0.0741  ]\n",
       " 5          vertebra_4 [-0.0064    8.53e-07  0.073   ]\n",
       " 6          vertebra_5 [-0.0126   -4.73e-06  0.0707  ]\n",
       " 7          vertebra_6 [-0.0182   -1.62e-09  0.0674  ]\n",
       " 8              pelvis [-0.0299    3.16e-06  0.0601  ]\n",
       " 9         upper_leg_L [-0.0343    0.0103    0.0512  ]\n",
       "10         lower_leg_L [-0.0204    0.0261    0.0281  ]\n",
       "11              foot_L [-0.0495    0.0218    0.00825 ]\n",
       "12               toe_L [-0.0305    0.0287    0.00577 ]\n",
       "13         upper_leg_R [-0.0343   -0.0103    0.0512  ]\n",
       "14         lower_leg_R [-0.0204   -0.0261    0.0281  ]\n",
       "15              foot_R [-0.0495   -0.0218    0.00825 ]\n",
       "16               toe_R [-0.0305   -0.0287    0.00577 ]\n",
       "17         vertebra_C1 [-0.0441    3.16e-06  0.0494  ]\n",
       "18         vertebra_C2 [-0.0476    3.16e-06  0.0456  ]\n",
       "19         vertebra_C3 [-0.0507    3.16e-06  0.0418  ]\n",
       "20         vertebra_C4 [-0.0537    3.16e-06  0.0378  ]\n",
       "21         vertebra_C5 [-0.0565    3.16e-06  0.0337  ]\n",
       "22         vertebra_C6 [-0.0593    3.16e-06  0.0293  ]\n",
       "23         vertebra_C7 [-0.0622    3.16e-06  0.0242  ]\n",
       "24         vertebra_C8 [-0.0653    3.16e-06  0.0193  ]\n",
       "25         vertebra_C9 [-0.0692    3.16e-06  0.0146  ]\n",
       "26        vertebra_C10 [-0.0735    3.16e-06  0.0105  ]\n",
       "27        vertebra_C11 [-0.0784    3.16e-06  0.00662 ]\n",
       "28        vertebra_C12 [-0.0839    3.16e-06  0.00316 ]\n",
       "29        vertebra_C13 [-0.0901    3.16e-06  0.000826]\n",
       "30        vertebra_C14 [-0.0963    3.16e-06  7.65e-06]\n",
       "31        vertebra_C15 [-0.102     3.16e-06 -0.000276]\n",
       "32        vertebra_C16 [-0.108     3.16e-06 -0.000401]\n",
       "33        vertebra_C17 [-0.114     3.16e-06 -0.000416]\n",
       "34        vertebra_C18 [-0.12      3.16e-06 -0.000416]\n",
       "35        vertebra_C19 [-0.125     3.16e-06 -0.000416]\n",
       "36        vertebra_C20 [-0.131     3.16e-06 -0.000414]\n",
       "37        vertebra_C21 [-0.136     3.16e-06 -0.000512]\n",
       "38        vertebra_C22 [-0.142     3.16e-06 -0.000524]\n",
       "39        vertebra_C23 [-0.148     3.16e-06 -0.000524]\n",
       "40        vertebra_C24 [-0.153     3.16e-06 -0.000524]\n",
       "41        vertebra_C25 [-0.159     3.16e-06 -0.000524]\n",
       "42        vertebra_C26 [-0.164     3.16e-06 -0.000524]\n",
       "43        vertebra_C27 [-0.169     3.16e-06 -0.000524]\n",
       "44        vertebra_C28 [-0.173     3.16e-06 -0.000524]\n",
       "45        vertebra_C29 [-0.177     3.16e-06 -0.000524]\n",
       "46        vertebra_C30 [-0.181     3.16e-06 -0.000524]\n",
       "47 vertebra_cervical_5 [ 0.0528    1.08e-05  0.0577  ]\n",
       "48 vertebra_cervical_4 [ 0.055     1.53e-08  0.0584  ]\n",
       "49 vertebra_cervical_3 [ 0.0569    1.54e-08  0.0593  ]\n",
       "50 vertebra_cervical_2 [ 0.0586    1.55e-08  0.06    ]\n",
       "51 vertebra_cervical_1 [ 0.0602    1.6e-08   0.0609  ]\n",
       "52       vertebra_axis [ 0.0619   -1.57e-06  0.0624  ]\n",
       "53     vertebra_atlant [ 0.0641    1.63e-08  0.0637  ]\n",
       "54               skull [ 0.0875    2e-08     0.0652  ]\n",
       "55                 jaw [ 0.0879    5.74e-09  0.0505  ]\n",
       "56           scapula_L [ 0.0338    0.00148   0.0689  ]\n",
       "57         upper_arm_L [ 0.0596    0.0103    0.046   ]\n",
       "58         lower_arm_L [ 0.0453    0.0197    0.026   ]\n",
       "59              hand_L [ 0.0647    0.031     0.00814 ]\n",
       "60            finger_L [ 0.0675    0.0324    0.000636]\n",
       "61           scapula_R [ 0.0338   -0.00148   0.0689  ]\n",
       "62         upper_arm_R [ 0.0596   -0.0103    0.046   ]\n",
       "63         lower_arm_R [ 0.0453   -0.0197    0.026   ]\n",
       "64              hand_R [ 0.0647   -0.031     0.00814 ]\n",
       "65            finger_R [ 0.0675   -0.0324    0.000636]"
      ]
     },
     "execution_count": 36,
     "metadata": {},
     "output_type": "execute_result"
    }
   ],
   "source": [
    "physics.named.data.xpos"
   ]
  },
  {
   "cell_type": "code",
   "execution_count": 41,
   "metadata": {},
   "outputs": [
    {
     "ename": "AttributeError",
     "evalue": "'numpy.ndarray' object has no attribute '_attributes'",
     "output_type": "error",
     "traceback": [
      "\u001b[0;31m---------------------------------------------------------------------------\u001b[0m",
      "\u001b[0;31mAttributeError\u001b[0m                            Traceback (most recent call last)",
      "\u001b[1;32m/home/charles/github/stac-mjx/bind_test.ipynb Cell 12\u001b[0m line \u001b[0;36m1\n\u001b[0;32m----> <a href='vscode-notebook-cell:/home/charles/github/stac-mjx/bind_test.ipynb#X35sZmlsZQ%3D%3D?line=0'>1</a>\u001b[0m physics\u001b[39m.\u001b[39;49mnamed\u001b[39m.\u001b[39;49mdata\u001b[39m.\u001b[39;49mxpos\u001b[39m.\u001b[39;49m_attributes\n",
      "File \u001b[0;32m~/miniconda3/envs/stac-mjx/lib/python3.12/site-packages/dm_control/mujoco/index.py:474\u001b[0m, in \u001b[0;36mFieldIndexer.__getattr__\u001b[0;34m(self, name)\u001b[0m\n\u001b[1;32m    473\u001b[0m \u001b[39mdef\u001b[39;00m \u001b[39m__getattr__\u001b[39m(\u001b[39mself\u001b[39m, name):\n\u001b[0;32m--> 474\u001b[0m   \u001b[39mreturn\u001b[39;00m \u001b[39mgetattr\u001b[39;49m(\u001b[39mself\u001b[39;49m\u001b[39m.\u001b[39;49m_field, name)\n",
      "\u001b[0;31mAttributeError\u001b[0m: 'numpy.ndarray' object has no attribute '_attributes'"
     ]
    }
   ],
   "source": [
    "physics.named.data.xpos."
   ]
  },
  {
   "cell_type": "code",
   "execution_count": 52,
   "metadata": {},
   "outputs": [
    {
     "name": "stdout",
     "output_type": "stream",
     "text": [
      "0 [2.78957345e-02 1.85267244e-07 5.85806154e-02]\n",
      "1 [1.06342352e-02 1.60370410e-08 7.37424266e-02]\n",
      "2 [1.06342352e-02 1.60370410e-08 7.37424266e-02]\n",
      "3 [5.56749049e-03 2.35136027e-06 7.42213096e-02]\n",
      "4 [-2.97959516e-04 -7.01820552e-06  7.41361047e-02]\n",
      "5 [-6.39789328e-03  8.53285497e-07  7.29667214e-02]\n",
      "6 [-1.25989532e-02 -4.73061479e-06  7.07184629e-02]\n",
      "7 [-1.81657092e-02 -1.61687166e-09  6.74414527e-02]\n",
      "8 [-2.99299775e-02  3.16028242e-06  6.01325681e-02]\n",
      "9 [-0.03425924  0.01034529  0.05123353]\n",
      "10 [-0.03425924 -0.01033897  0.05123353]\n",
      "11 [-0.04492998  0.01500316  0.06013257]\n",
      "12 [-0.04492998 -0.01499684  0.06013257]\n",
      "13 [-2.99299775e-02  3.16028242e-06  6.01325681e-02]\n",
      "14 [-2.99299775e-02  3.16028242e-06  6.01325681e-02]\n",
      "15 [-0.03425924  0.01034529  0.05123353]\n",
      "16 [-0.02037886  0.02607639  0.02809956]\n",
      "17 [-0.0188366   0.02782429  0.02552912]\n",
      "18 [-0.02037886  0.02607639  0.02809956]\n",
      "19 [-0.04945025  0.02182204  0.00824593]\n",
      "20 [-0.0526804   0.02134933  0.00603997]\n",
      "21 [-0.04945025  0.02182204  0.00824593]\n",
      "22 [-0.0304603   0.02867493  0.00576898]\n",
      "23 [-0.0283503   0.02943637  0.00549376]\n",
      "24 [-0.0304603   0.02867493  0.00576898]\n",
      "25 [-0.0230803   0.03088893  0.00429298]\n",
      "26 [-0.03425924 -0.01033897  0.05123353]\n",
      "27 [-0.02037886 -0.02607007  0.02809956]\n",
      "28 [-0.0188366  -0.02781797  0.02552912]\n",
      "29 [-0.02037886 -0.02607007  0.02809956]\n",
      "30 [-0.04945025 -0.02181572  0.00824593]\n",
      "31 [-0.0526804  -0.02134301  0.00603997]\n",
      "32 [-0.04945025 -0.02181572  0.00824593]\n",
      "33 [-0.0304603  -0.02866861  0.00576898]\n",
      "34 [-0.0283503  -0.02943004  0.00549376]\n",
      "35 [-0.0304603  -0.02866861  0.00576898]\n",
      "36 [-0.0230803  -0.03088261  0.00429298]\n",
      "37 [-4.41408980e-02  3.16028242e-06  4.94391075e-02]\n",
      "38 [-4.76302464e-02  3.16028242e-06  4.56353194e-02]\n",
      "39 [-5.07118706e-02  3.16028242e-06  4.17985497e-02]\n",
      "40 [-5.36565578e-02  3.16028242e-06  3.78233954e-02]\n",
      "41 [-5.65149346e-02  3.16028242e-06  3.37109886e-02]\n",
      "42 [-5.93222091e-02  3.16028242e-06  2.92997689e-02]\n",
      "43 [-6.22164392e-02  3.16028242e-06  2.42198348e-02]\n",
      "44 [-6.53177074e-02  3.16028242e-06  1.92534717e-02]\n",
      "45 [-6.91743629e-02  3.16028242e-06  1.46499552e-02]\n",
      "46 [-7.35497535e-02  3.16028242e-06  1.05439875e-02]\n",
      "47 [-7.83870618e-02  3.16028242e-06  6.61620108e-03]\n",
      "48 [-8.39080924e-02  3.16028242e-06  3.15884855e-03]\n",
      "49 [-9.01157771e-02  3.16028242e-06  8.25663187e-04]\n",
      "50 [-9.62583111e-02  3.16028242e-06  7.65328348e-06]\n",
      "51 [-1.02131901e-01  3.16028242e-06 -2.76144614e-04]\n",
      "52 [-1.08156420e-01  3.16028242e-06 -4.00784288e-04]\n",
      "53 [-1.13993303e-01  3.16028242e-06 -4.15818492e-04]\n",
      "54 [-1.19579992e-01  3.16028242e-06 -4.15818328e-04]\n",
      "55 [-1.25163826e-01  3.16028242e-06 -4.15819066e-04]\n",
      "56 [-1.30769365e-01  3.16028242e-06 -4.13554198e-04]\n",
      "57 [-1.36275253e-01  3.16028242e-06 -5.12251952e-04]\n",
      "58 [-1.42132550e-01  3.16028242e-06 -5.24059840e-04]\n",
      "59 [-1.47884230e-01  3.16028242e-06 -5.24058264e-04]\n",
      "60 [-1.53446874e-01  3.16028242e-06 -5.24059386e-04]\n",
      "61 [-1.58818253e-01  3.16028242e-06 -5.24059262e-04]\n",
      "62 [-1.63884062e-01  3.16028242e-06 -5.24060491e-04]\n",
      "63 [-1.68557870e-01  3.16028242e-06 -5.24059235e-04]\n",
      "64 [-1.73090485e-01  3.16028242e-06 -5.23602576e-04]\n",
      "65 [-1.77386992e-01  3.16028242e-06 -5.23602632e-04]\n",
      "66 [-1.80991809e-01  3.16028242e-06 -5.23980379e-04]\n",
      "67 [5.28338930e-02 1.08287967e-05 5.76803319e-02]\n",
      "68 [3.78338930e-02 1.08287967e-05 5.76803319e-02]\n",
      "69 [5.50020295e-02 1.53239916e-08 5.84089512e-02]\n",
      "70 [5.69372811e-02 1.54327254e-08 5.92563253e-02]\n",
      "71 [5.86472452e-02 1.55482836e-08 6.00436112e-02]\n",
      "72 [6.02470057e-02 1.59552751e-08 6.08851774e-02]\n",
      "73 [ 6.19410907e-02 -1.56503016e-06  6.24204519e-02]\n",
      "74 [6.41480546e-02 1.62565506e-08 6.36530512e-02]\n",
      "75 [8.75076168e-02 2.00386695e-08 6.52465101e-02]\n",
      "76 [8.75076168e-02 2.00386695e-08 6.52465101e-02]\n",
      "77 [8.75076168e-02 2.00386695e-08 6.52465101e-02]\n",
      "78 [8.75076168e-02 2.00386695e-08 6.52465101e-02]\n",
      "79 [8.75076168e-02 2.00386695e-08 6.52465101e-02]\n",
      "80 [8.79152738e-02 5.73948940e-09 5.04865101e-02]\n",
      "81 [0.03379973 0.00147619 0.06891262]\n",
      "82 [0.05962973 0.01033219 0.04603462]\n",
      "83 [0.06249973 0.01131619 0.04349262]\n",
      "84 [0.05962973 0.01033219 0.04603462]\n",
      "85 [0.04529165 0.01965194 0.02596129]\n",
      "86 [0.04369853 0.02068747 0.02373092]\n",
      "87 [0.04529165 0.01965194 0.02596129]\n",
      "88 [0.06473404 0.03099334 0.0081391 ]\n",
      "89 [0.04529165 0.01965194 0.02596129]\n",
      "90 [0.06473404 0.03099334 0.0081391 ]\n",
      "91 [0.06746261 0.03235762 0.00063553]\n",
      "92 [ 0.06776578  0.03250921 -0.0001982 ]\n",
      "93 [0.06746261 0.03235762 0.00063553]\n",
      "94 [ 0.07189061  0.03457162 -0.00084047]\n",
      "95 [ 0.03379973 -0.00147581  0.06891262]\n",
      "96 [ 0.05962973 -0.01033181  0.04603462]\n",
      "97 [ 0.06249973 -0.01131581  0.04349262]\n",
      "98 [ 0.05962973 -0.01033181  0.04603462]\n",
      "99 [ 0.04529165 -0.01965157  0.02596129]\n",
      "100 [ 0.04369853 -0.0206871   0.02373092]\n",
      "101 [ 0.04529165 -0.01965157  0.02596129]\n",
      "102 [ 0.06473404 -0.03099296  0.0081391 ]\n",
      "103 [ 0.04529165 -0.01965157  0.02596129]\n",
      "104 [ 0.06473404 -0.03099296  0.0081391 ]\n",
      "105 [ 0.06746261 -0.03235725  0.00063553]\n",
      "106 [ 0.06776578 -0.03250884 -0.0001982 ]\n",
      "107 [ 0.07189061 -0.03457125 -0.00084047]\n",
      "108 [ 0.06746261 -0.03235725  0.00063553]\n"
     ]
    }
   ],
   "source": [
    "for i, x in enumerate(physics.named.data.site_xpos._field):\n",
    "    print(i, x)"
   ]
  },
  {
   "cell_type": "code",
   "execution_count": 53,
   "metadata": {},
   "outputs": [],
   "source": [
    "import numpy as np\n",
    "\n",
    "def get_name_arr_and_len(fi, dim_idx):\n",
    "      \"\"\"Returns a string array of element names and the max name length.\"\"\"\n",
    "      axis = fi._axes[dim_idx]\n",
    "      for name in axis.names:\n",
    "        axis.convert_key_item(name)\n",
    "      \n",
    "      size = fi._field.shape[dim_idx]\n",
    "      try:\n",
    "        name_arr = np.zeros(size, dtype='S{}'.format(name_len))\n",
    "        for name in axis.names:\n",
    "          if name:\n",
    "            # Use the `Axis` object to convert the name into a numpy index, then\n",
    "            # use this index to write into name_arr.\n",
    "            name_arr[axis.convert_key_item(name)] = name\n",
    "      except AttributeError:\n",
    "        name_arr = np.zeros(size, dtype='S0')  # An array of zero-length strings\n",
    "      return name_arr"
   ]
  },
  {
   "cell_type": "code",
   "execution_count": 55,
   "metadata": {},
   "outputs": [],
   "source": [
    "names, _ = get_name_arr_and_len(physics.named.data.site_xpos, 0)"
   ]
  },
  {
   "cell_type": "code",
   "execution_count": 58,
   "metadata": {},
   "outputs": [
    {
     "data": {
      "text/plain": [
       "array([b'tracking[torso]', b'tracking[vertebra_1]', b'SpineM',\n",
       "       b'tracking[vertebra_2]', b'tracking[vertebra_3]',\n",
       "       b'tracking[vertebra_4]', b'tracking[vertebra_5]',\n",
       "       b'tracking[vertebra_6]', b'tracking[pelvis]', b'hip_L', b'hip_R',\n",
       "       b'HipL', b'HipR', b'SpineL', b'TailBase', b'tracking[upper_leg_L]',\n",
       "       b'knee_L', b'KneeL', b'tracking[lower_leg_L]', b'ankle_L',\n",
       "       b'AnkleL', b'tracking[foot_L]', b'toe_L', b'FootL',\n",
       "       b'tracking[toe_L]', b'sole_L', b'tracking[upper_leg_R]', b'knee_R',\n",
       "       b'KneeR', b'tracking[lower_leg_R]', b'ankle_R', b'AnkleR',\n",
       "       b'tracking[foot_R]', b'toe_R', b'FootR', b'tracking[toe_R]',\n",
       "       b'sole_R', b'tracking[vertebra_C1]', b'tracking[vertebra_C2]',\n",
       "       b'tracking[vertebra_C3]', b'tracking[vertebra_C4]',\n",
       "       b'tracking[vertebra_C5]', b'tracking[vertebra_C6]',\n",
       "       b'tracking[vertebra_C7]', b'tracking[vertebra_C8]',\n",
       "       b'tracking[vertebra_C9]', b'tracking[vertebra_C10]',\n",
       "       b'tracking[vertebra_C11]', b'tracking[vertebra_C12]',\n",
       "       b'tracking[vertebra_C13]', b'tracking[vertebra_C14]',\n",
       "       b'tracking[vertebra_C15]', b'tracking[vertebra_C16]',\n",
       "       b'tracking[vertebra_C17]', b'tracking[vertebra_C18]',\n",
       "       b'tracking[vertebra_C19]', b'tracking[vertebra_C20]',\n",
       "       b'tracking[vertebra_C21]', b'tracking[vertebra_C22]',\n",
       "       b'tracking[vertebra_C23]', b'tracking[vertebra_C24]',\n",
       "       b'tracking[vertebra_C25]', b'tracking[vertebra_C26]',\n",
       "       b'tracking[vertebra_C27]', b'tracking[vertebra_C28]',\n",
       "       b'tracking[vertebra_C29]', b'tracking[vertebra_C30]',\n",
       "       b'tracking[vertebra_cervical_5]', b'SpineF',\n",
       "       b'tracking[vertebra_cervical_4]', b'tracking[vertebra_cervical_3]',\n",
       "       b'tracking[vertebra_cervical_2]', b'tracking[vertebra_cervical_1]',\n",
       "       b'tracking[vertebra_axis]', b'tracking[vertebra_atlant]',\n",
       "       b'tracking[skull]', b'head', b'EarL', b'EarR', b'Snout',\n",
       "       b'tracking[jaw]', b'tracking[scapula_L]', b'shoulder_L',\n",
       "       b'ShoulderL', b'tracking[upper_arm_L]', b'elbow_L', b'ElbowL',\n",
       "       b'tracking[lower_arm_L]', b'wrist_L', b'WristL',\n",
       "       b'tracking[hand_L]', b'finger_L', b'HandL', b'tracking[finger_L]',\n",
       "       b'palm_L', b'tracking[scapula_R]', b'shoulder_R', b'ShoulderR',\n",
       "       b'tracking[upper_arm_R]', b'elbow_R', b'ElbowR',\n",
       "       b'tracking[lower_arm_R]', b'wrist_R', b'WristR',\n",
       "       b'tracking[hand_R]', b'finger_R', b'HandR', b'palm_R',\n",
       "       b'tracking[finger_R]'], dtype='|S29')"
      ]
     },
     "execution_count": 58,
     "metadata": {},
     "output_type": "execute_result"
    }
   ],
   "source": [
    "names"
   ]
  },
  {
   "cell_type": "code",
   "execution_count": null,
   "metadata": {},
   "outputs": [],
   "source": [
    "def get_indices(body_sites, physics):\n",
    "    \"\"\"generates a mapping of site name to site_xpos mapping\n",
    "\n",
    "    Args:\n",
    "        body_sites (_type_): _description_\n",
    "        physics (_type_): _description_\n",
    "    \"\"\"\n",
    "    for key, v in params[\"KEYPOINT_MODEL_PAIRS\"].items():\n",
    "        parent = root.find(\"body\", v)\n",
    "        pos = params[\"KEYPOINT_INITIAL_OFFSETS\"][key]\n",
    "        site = parent.add(\n",
    "            \"site\",\n",
    "            name=key,\n",
    "            type=\"sphere\",\n",
    "            size=[0.005],\n",
    "            rgba=\"0 0 0 1\",\n",
    "            pos=pos,\n",
    "            group=3,\n",
    "        )\n",
    "        body_sites.append(site)"
   ]
  },
  {
   "cell_type": "code",
   "execution_count": 63,
   "metadata": {},
   "outputs": [
    {
     "data": {
      "text/plain": [
       "{'AnkleL': 20,\n",
       " 'AnkleR': 31,\n",
       " 'EarL': 77,\n",
       " 'EarR': 78,\n",
       " 'ElbowL': 86,\n",
       " 'ElbowR': 100,\n",
       " 'FootL': 23,\n",
       " 'FootR': 34,\n",
       " 'HandL': 92,\n",
       " 'HandR': 106,\n",
       " 'HipL': 11,\n",
       " 'HipR': 12,\n",
       " 'KneeL': 17,\n",
       " 'KneeR': 28,\n",
       " 'ShoulderL': 83,\n",
       " 'ShoulderR': 97,\n",
       " 'Snout': 79,\n",
       " 'SpineF': 68,\n",
       " 'SpineL': 13,\n",
       " 'SpineM': 2,\n",
       " 'TailBase': 14,\n",
       " 'WristL': 89,\n",
       " 'WristR': 103}"
      ]
     },
     "execution_count": 63,
     "metadata": {},
     "output_type": "execute_result"
    }
   ],
   "source": [
    "axis = physics.named.data.site_xpos._axes[0]\n",
    "site_index_map = {key: axis.convert_key_item(key) for key in params[\"KEYPOINT_MODEL_PAIRS\"].keys()}\n",
    "site_index_map"
   ]
  },
  {
   "cell_type": "code",
   "execution_count": null,
   "metadata": {},
   "outputs": [],
   "source": []
  }
 ],
 "metadata": {
  "kernelspec": {
   "display_name": "stac-mjx",
   "language": "python",
   "name": "python3"
  },
  "language_info": {
   "codemirror_mode": {
    "name": "ipython",
    "version": 3
   },
   "file_extension": ".py",
   "mimetype": "text/x-python",
   "name": "python",
   "nbconvert_exporter": "python",
   "pygments_lexer": "ipython3",
   "version": "3.12.0"
  }
 },
 "nbformat": 4,
 "nbformat_minor": 2
}
