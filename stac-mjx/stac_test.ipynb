{
 "cells": [
  {
   "cell_type": "code",
   "execution_count": 1,
   "metadata": {},
   "outputs": [],
   "source": [
    "import utils\n",
    "import mujoco\n",
    "import os\n",
    "import pickle\n",
    "from scipy.io import savemat \n",
    "from dm_control import mjcf\n",
    "import numpy as np\n",
    "import jax\n",
    "from jax import numpy as jnp\n"
   ]
  },
  {
   "cell_type": "code",
   "execution_count": 2,
   "metadata": {},
   "outputs": [],
   "source": [
    "# If youre machine is low on ram:\n",
    "# os.environ['XLA_PYTHON_CLIENT_MEM_FRACTION'] = '.5'"
   ]
  },
  {
   "cell_type": "code",
   "execution_count": 3,
   "metadata": {},
   "outputs": [],
   "source": [
    "def save(fit_data, save_path):\n",
    "    \"\"\"Save data.\n",
    "\n",
    "    Args:\n",
    "        save_path (Text): Path to save data. Defaults to None.\n",
    "    \"\"\"\n",
    "    if os.path.dirname(save_path) != \"\":\n",
    "        os.makedirs(os.path.dirname(save_path), exist_ok=True)\n",
    "    _, file_extension = os.path.splitext(save_path)\n",
    "    if file_extension == \".p\":\n",
    "        with open(save_path, \"wb\") as output_file:\n",
    "            pickle.dump(fit_data, output_file, protocol=2)\n",
    "    elif file_extension == \".mat\":\n",
    "        savemat(save_path, fit_data)"
   ]
  },
  {
   "cell_type": "code",
   "execution_count": 4,
   "metadata": {},
   "outputs": [],
   "source": [
    "from controller import *"
   ]
  },
  {
   "cell_type": "code",
   "execution_count": 5,
   "metadata": {},
   "outputs": [],
   "source": [
    "# relative pathing no working in notebook rn\n",
    "utils.init_params(\"/Users/charleszhang/github/stac-mjx/params/params.yaml\") # \"/home/charles/github/stac-mjx/params/params.yaml\"\n",
    "ratpath = \"/Users/charleszhang/GitHub/stac-mjx/models/rodent.xml\" # \"/home/charles/github/stac-mjx/models/rodent.xml\"\n",
    "rat23path = \"/Users/charleszhang/github/stac-mjx/models/rat23.mat\" # \"/home/charles/github/stac-mjx/models/rat23.mat\"\n",
    "model = mujoco.MjModel.from_xml_path(ratpath)\n",
    "model.opt.solver = mujoco.mjtSolver.mjSOL_NEWTON\n",
    "model.opt.iterations = 1\n",
    "model.opt.ls_iterations = 1\n",
    "\n",
    "# Need to download this data file and provide the path\n",
    "data_path = \"/Users/charleszhang/Research Projects/VNL/save_data_AVG.mat\" # \"/home/charles/Desktop/save_data_AVG.mat\"\n",
    "offset_path = \"offset.p\"\n",
    "\n",
    "root = mjcf.from_path(ratpath)\n",
    "\n",
    "# Default ordering of mj sites is alphabetical, so we reorder to match\n",
    "kp_names = utils.loadmat(rat23path)[\"joint_names\"]\n",
    "utils.params[\"kp_names\"] = kp_names\n",
    "\n",
    "# argsort returns the indices that would sort the array\n",
    "stac_keypoint_order = np.argsort(kp_names)\n",
    "# Load kp_data\n",
    "kp_data = utils.loadmat(data_path)[\"pred\"][:] / 1000\n"
   ]
  },
  {
   "cell_type": "code",
   "execution_count": 6,
   "metadata": {},
   "outputs": [],
   "source": [
    "# kp_data\n",
    "# TODO: store kp_data used in fit in another variable (small slice of kpdata)\n",
    "kp_data = prep_kp_data(kp_data, stac_keypoint_order)\n",
    "# chunk it to pass int vmapped functions\n",
    "kp_data, n_envs = chunk_kp_data(kp_data)"
   ]
  },
  {
   "cell_type": "code",
   "execution_count": 7,
   "metadata": {},
   "outputs": [
    {
     "data": {
      "text/plain": [
       "(1, 250, 69)"
      ]
     },
     "execution_count": 7,
     "metadata": {},
     "output_type": "execute_result"
    }
   ],
   "source": [
    "fit_kp_data = kp_data[:1]\n",
    "fit_kp_data.shape"
   ]
  },
  {
   "cell_type": "code",
   "execution_count": 8,
   "metadata": {},
   "outputs": [
    {
     "data": {
      "text/plain": [
       "(250, 69)"
      ]
     },
     "execution_count": 8,
     "metadata": {},
     "output_type": "execute_result"
    }
   ],
   "source": [
    "fit_kp_data[0].shape"
   ]
  },
  {
   "cell_type": "code",
   "execution_count": 9,
   "metadata": {},
   "outputs": [
    {
     "name": "stdout",
     "output_type": "stream",
     "text": [
      "Root Optimization:\n",
      "[ True  True  True  True  True  True  True False False False False False\n",
      " False False False False False False False False False False False False\n",
      " False False False False False False False False False False False False\n",
      " False False False False False False False False False False False False\n",
      " False False False False False False False False False False False False\n",
      " False False False False False False False False False False False False\n",
      " False False]\n",
      "q-phase:\n",
      "[-0.08807933  0.35345283  0.04053693  1.          0.          0.\n",
      "  0.        ]\n",
      "optimized params: [-0.08807933  0.35345283  0.04053693  1.          0.          0.\n",
      "  0.        ]\n",
      "last forward step\n",
      "[ True  True  True  True  True  True  True False False False False False\n",
      " False False False False False False False False False False False False\n",
      " False False False False False False False False False False False False\n",
      " False False False False False False False False False False False False\n",
      " False False False False False False False False False False False False\n",
      " False False False False False False False False False False False False\n",
      " False False]\n",
      "q-phase:\n",
      "[ 2.7034107e+24  2.7034107e+24  2.7034107e+24  1.6901314e+13\n",
      "  4.6245100e+22 -2.7318905e+22 -1.8926197e+22]\n",
      "optimized params: [ 2.7034107e+24  2.7034107e+24  2.7034107e+24  1.6901314e+13\n",
      "  4.6245100e+22 -2.7318905e+22 -1.8926197e+22]\n",
      "last forward step\n",
      "Calibration iteration: 1/3\n"
     ]
    },
    {
     "ename": "ValueError",
     "evalue": "vmap was requested to map its argument along axis 0, which implies that its rank should be at least 1, but is only 0 (its shape is ())",
     "output_type": "error",
     "traceback": [
      "\u001b[0;31m---------------------------------------------------------------------------\u001b[0m",
      "\u001b[0;31mIndexError\u001b[0m                                Traceback (most recent call last)",
      "File \u001b[0;32m~/miniforge3/envs/stac-mjx/lib/python3.12/site-packages/jax/_src/api.py:1269\u001b[0m, in \u001b[0;36m_mapped_axis_size.<locals>._get_axis_size\u001b[0;34m(name, shape, axis)\u001b[0m\n\u001b[1;32m   1268\u001b[0m \u001b[38;5;28;01mtry\u001b[39;00m:\n\u001b[0;32m-> 1269\u001b[0m   \u001b[38;5;28;01mreturn\u001b[39;00m \u001b[43mshape\u001b[49m\u001b[43m[\u001b[49m\u001b[43maxis\u001b[49m\u001b[43m]\u001b[49m\n\u001b[1;32m   1270\u001b[0m \u001b[38;5;28;01mexcept\u001b[39;00m (\u001b[38;5;167;01mIndexError\u001b[39;00m, \u001b[38;5;167;01mTypeError\u001b[39;00m) \u001b[38;5;28;01mas\u001b[39;00m e:\n",
      "\u001b[0;31mIndexError\u001b[0m: tuple index out of range",
      "\nThe above exception was the direct cause of the following exception:\n",
      "\u001b[0;31mValueError\u001b[0m                                Traceback (most recent call last)",
      "Cell \u001b[0;32mIn[9], line 2\u001b[0m\n\u001b[1;32m      1\u001b[0m \u001b[38;5;66;03m# fit\u001b[39;00m\n\u001b[0;32m----> 2\u001b[0m fit_data \u001b[38;5;241m=\u001b[39m \u001b[43mfit\u001b[49m\u001b[43m(\u001b[49m\u001b[43mroot\u001b[49m\u001b[43m,\u001b[49m\u001b[43m \u001b[49m\u001b[43mfit_kp_data\u001b[49m\u001b[43m[\u001b[49m\u001b[38;5;241;43m0\u001b[39;49m\u001b[43m]\u001b[49m\u001b[43m)\u001b[49m\n\u001b[1;32m      3\u001b[0m save(fit_data, offset_path)\n",
      "File \u001b[0;32m~/GitHub/stac-mjx/stac-mjx/controller.py:172\u001b[0m, in \u001b[0;36mfit\u001b[0;34m(root, kp_data)\u001b[0m\n\u001b[1;32m    170\u001b[0m \u001b[38;5;28;01mfor\u001b[39;00m n_iter \u001b[38;5;129;01min\u001b[39;00m \u001b[38;5;28mrange\u001b[39m(utils\u001b[38;5;241m.\u001b[39mparams[\u001b[38;5;124m'\u001b[39m\u001b[38;5;124mN_ITERS\u001b[39m\u001b[38;5;124m'\u001b[39m]):\n\u001b[1;32m    171\u001b[0m     \u001b[38;5;28mprint\u001b[39m(\u001b[38;5;124mf\u001b[39m\u001b[38;5;124m\"\u001b[39m\u001b[38;5;124mCalibration iteration: \u001b[39m\u001b[38;5;132;01m{\u001b[39;00mn_iter\u001b[38;5;250m \u001b[39m\u001b[38;5;241m+\u001b[39m\u001b[38;5;250m \u001b[39m\u001b[38;5;241m1\u001b[39m\u001b[38;5;132;01m}\u001b[39;00m\u001b[38;5;124m/\u001b[39m\u001b[38;5;132;01m{\u001b[39;00mutils\u001b[38;5;241m.\u001b[39mparams[\u001b[38;5;124m'\u001b[39m\u001b[38;5;124mN_ITERS\u001b[39m\u001b[38;5;124m'\u001b[39m]\u001b[38;5;132;01m}\u001b[39;00m\u001b[38;5;124m\"\u001b[39m)\n\u001b[0;32m--> 172\u001b[0m     q, walker_body_sites, x \u001b[38;5;241m=\u001b[39m \u001b[43mpose_optimization\u001b[49m\u001b[43m(\u001b[49m\u001b[43mmjx_model\u001b[49m\u001b[43m,\u001b[49m\u001b[43m \u001b[49m\u001b[43mmjx_data\u001b[49m\u001b[43m)\u001b[49m\n\u001b[1;32m    173\u001b[0m     offset_optimization(mjx_model, mjx_data, kp_data, offsets, q)\n\u001b[1;32m    175\u001b[0m \u001b[38;5;66;03m# Optimize the pose for the whole sequence\u001b[39;00m\n",
      "    \u001b[0;31m[... skipping hidden 5 frame]\u001b[0m\n",
      "File \u001b[0;32m~/miniforge3/envs/stac-mjx/lib/python3.12/site-packages/jax/_src/api.py:1273\u001b[0m, in \u001b[0;36m_mapped_axis_size.<locals>._get_axis_size\u001b[0;34m(name, shape, axis)\u001b[0m\n\u001b[1;32m   1271\u001b[0m min_rank \u001b[38;5;241m=\u001b[39m axis \u001b[38;5;241m+\u001b[39m \u001b[38;5;241m1\u001b[39m \u001b[38;5;28;01mif\u001b[39;00m axis \u001b[38;5;241m>\u001b[39m\u001b[38;5;241m=\u001b[39m \u001b[38;5;241m0\u001b[39m \u001b[38;5;28;01melse\u001b[39;00m \u001b[38;5;241m-\u001b[39maxis\n\u001b[1;32m   1272\u001b[0m \u001b[38;5;66;03m# TODO(mattjj): better error message here\u001b[39;00m\n\u001b[0;32m-> 1273\u001b[0m \u001b[38;5;28;01mraise\u001b[39;00m \u001b[38;5;167;01mValueError\u001b[39;00m(\n\u001b[1;32m   1274\u001b[0m     \u001b[38;5;124mf\u001b[39m\u001b[38;5;124m\"\u001b[39m\u001b[38;5;132;01m{\u001b[39;00mname\u001b[38;5;132;01m}\u001b[39;00m\u001b[38;5;124m was requested to map its argument along axis \u001b[39m\u001b[38;5;132;01m{\u001b[39;00maxis\u001b[38;5;132;01m}\u001b[39;00m\u001b[38;5;124m, \u001b[39m\u001b[38;5;124m\"\u001b[39m\n\u001b[1;32m   1275\u001b[0m     \u001b[38;5;124mf\u001b[39m\u001b[38;5;124m\"\u001b[39m\u001b[38;5;124mwhich implies that its rank should be at least \u001b[39m\u001b[38;5;132;01m{\u001b[39;00mmin_rank\u001b[38;5;132;01m}\u001b[39;00m\u001b[38;5;124m, \u001b[39m\u001b[38;5;124m\"\u001b[39m\n\u001b[1;32m   1276\u001b[0m     \u001b[38;5;124mf\u001b[39m\u001b[38;5;124m\"\u001b[39m\u001b[38;5;124mbut is only \u001b[39m\u001b[38;5;132;01m{\u001b[39;00m\u001b[38;5;28mlen\u001b[39m(shape)\u001b[38;5;132;01m}\u001b[39;00m\u001b[38;5;124m (its shape is \u001b[39m\u001b[38;5;132;01m{\u001b[39;00mshape\u001b[38;5;132;01m}\u001b[39;00m\u001b[38;5;124m)\u001b[39m\u001b[38;5;124m\"\u001b[39m) \u001b[38;5;28;01mfrom\u001b[39;00m \u001b[38;5;21;01me\u001b[39;00m\n",
      "\u001b[0;31mValueError\u001b[0m: vmap was requested to map its argument along axis 0, which implies that its rank should be at least 1, but is only 0 (its shape is ())"
     ]
    }
   ],
   "source": [
    "# fit\n",
    "fit_data = fit(root, fit_kp_data[0])\n",
    "save(fit_data, offset_path)"
   ]
  },
  {
   "cell_type": "code",
   "execution_count": null,
   "metadata": {},
   "outputs": [],
   "source": [
    "import jax\n",
    "from jax import numpy as jnp\n",
    "import mujoco\n",
    "from mujoco import mjx\n",
    "\n",
    "def get_site_xpos(mjx_data):\n",
    "    \"\"\"Returns MjxData.site_xpos of keypoint body sites\n",
    "\n",
    "    Args:\n",
    "        mjx_data (_type_): _description_\n",
    "        site_index_map (_type_): _description_\n",
    "\n",
    "    Returns:\n",
    "        jax.Array: _description_\n",
    "    \"\"\"\n",
    "    return jnp.array([mjx_data.site_xpos[i] for i in utils.params[\"site_index_map\"].values()])\n",
    "\n",
    "def q_loss(\n",
    "    q: jnp.ndarray,\n",
    "    mjx_model,\n",
    "    mjx_data,\n",
    "    kp_data: jnp.ndarray,\n",
    "    qs_to_opt: jnp.ndarray = None,\n",
    "    q_copy: jnp.ndarray = None,\n",
    "    kps_to_opt: jnp.ndarray = None,\n",
    ") -> float:\n",
    "    \"\"\"Compute the marker loss for q_phase optimization.\n",
    "\n",
    "    Args:\n",
    "        q (jnp.ndarray): Qpos for current frame.\n",
    "        env (TYPE): env of current environment.\n",
    "        kp_data (jnp.ndarray): Reference keypoint data.\n",
    "        sites (jnp.ndarray): sites of keypoints at frame_index\n",
    "        qs_to_opt (List, optional): Binary vector of qposes to optimize.\n",
    "        q_copy (jnp.ndarray, optional): Copy of current qpos, for use in optimization of subsets\n",
    "        kps_to_opt (List, optional): Vector denoting which keypoints to use in loss.\n",
    "\n",
    "    Returns:\n",
    "        float: loss value\n",
    "    \"\"\"\n",
    "    # If optimizing arbitrary sets of qpos, add the optimizer qpos to the copy.\n",
    "    if qs_to_opt is not None:\n",
    "        q_copy = q_copy.at[qs_to_opt].set(q.copy())\n",
    "        q = jnp.copy(q_copy)\n",
    "\n",
    "    # pred = q_joints_to_markers(q, mjx_model, mjx_data)\n",
    "    residual = kp_data - q_joints_to_markers(q, mjx_model, mjx_data)\n",
    "    if kps_to_opt is not None:\n",
    "        residual = residual[kps_to_opt]\n",
    "        \n",
    "    # residual = jnp.sum(residual)\n",
    "\n",
    "    return residual\n",
    "\n",
    "def q_joints_to_markers(q: jnp.ndarray, mjx_model, mjx_data) -> jnp.ndarray:\n",
    "    \"\"\"Convert site information to marker information.\n",
    "\n",
    "    Args:\n",
    "        q (jnp.ndarray): Postural state\n",
    "        env (TYPE): env of current environment\n",
    "        sites (jnp.ndarray): Sites of keypoint data.\n",
    "\n",
    "    Returns:\n",
    "        jnp.ndarray: Array of marker positions.\n",
    "    \"\"\"\n",
    "    mjx_data = mjx_data.replace(qpos=q.copy())\n",
    "    # Forward kinematics\n",
    "    mjx_data = mjx.forward(mjx_model, mjx_data)\n",
    "\n",
    "    return get_site_xpos(mjx_data).flatten()"
   ]
  },
  {
   "cell_type": "code",
   "execution_count": null,
   "metadata": {},
   "outputs": [],
   "source": [
    "from stac_base import q_loss\n",
    "\n",
    "jit_q_loss = jax.jit(q_loss)\n",
    "z = jnp.zeros(74)\n",
    "physics, model = set_body_sites(root)\n",
    "mjx_model = mjx.put_model(model)\n",
    "mjx_data = mjx.make_data(mjx_model)"
   ]
  },
  {
   "cell_type": "code",
   "execution_count": null,
   "metadata": {},
   "outputs": [
    {
     "name": "stdout",
     "output_type": "stream",
     "text": [
      "141.9522738456726\n"
     ]
    }
   ],
   "source": [
    "import time\n",
    "start = time.time()\n",
    "jit_q_loss(z, mjx_model, mjx_data, fit_kp_data[0])\n",
    "print(time.time() - start)"
   ]
  },
  {
   "cell_type": "code",
   "execution_count": null,
   "metadata": {},
   "outputs": [
    {
     "name": "stdout",
     "output_type": "stream",
     "text": [
      "636 µs ± 4.71 µs per loop (mean ± std. dev. of 7 runs, 1,000 loops each)\n"
     ]
    }
   ],
   "source": [
    "%timeit jit_q_loss(z, mjx_model, mjx_data, fit_kp_data[0])"
   ]
  },
  {
   "cell_type": "code",
   "execution_count": null,
   "metadata": {},
   "outputs": [],
   "source": []
  }
 ],
 "metadata": {
  "kernelspec": {
   "display_name": "stac-mjx",
   "language": "python",
   "name": "python3"
  },
  "language_info": {
   "codemirror_mode": {
    "name": "ipython",
    "version": 3
   },
   "file_extension": ".py",
   "mimetype": "text/x-python",
   "name": "python",
   "nbconvert_exporter": "python",
   "pygments_lexer": "ipython3",
   "version": "3.12.0"
  }
 },
 "nbformat": 4,
 "nbformat_minor": 2
}
