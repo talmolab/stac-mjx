{
 "cells": [
  {
   "cell_type": "code",
   "execution_count": 1,
   "metadata": {},
   "outputs": [],
   "source": [
    "import utils\n",
    "import mujoco\n",
    "import os\n",
    "import pickle\n",
    "from scipy.io import savemat \n",
    "from dm_control import mjcf\n",
    "import numpy as np\n",
    "import jax\n",
    "from jax import numpy as jnp\n"
   ]
  },
  {
   "cell_type": "code",
   "execution_count": 2,
   "metadata": {},
   "outputs": [],
   "source": [
    "def save(fit_data, save_path):\n",
    "    \"\"\"Save data.\n",
    "\n",
    "    Args:\n",
    "        save_path (Text): Path to save data. Defaults to None.\n",
    "    \"\"\"\n",
    "    if os.path.dirname(save_path) != \"\":\n",
    "        os.makedirs(os.path.dirname(save_path), exist_ok=True)\n",
    "    _, file_extension = os.path.splitext(save_path)\n",
    "    if file_extension == \".p\":\n",
    "        with open(save_path, \"wb\") as output_file:\n",
    "            pickle.dump(fit_data, output_file, protocol=2)\n",
    "    elif file_extension == \".mat\":\n",
    "        savemat(save_path, fit_data)"
   ]
  },
  {
   "cell_type": "code",
   "execution_count": 3,
   "metadata": {},
   "outputs": [
    {
     "name": "stderr",
     "output_type": "stream",
     "text": [
      "/home/charles/miniconda3/envs/stac-mjx/lib/python3.12/site-packages/flax/configurations.py:42: DeprecationWarning: jax.config.define_bool_state is deprecated. Please use other libraries for configuration instead.\n",
      "  return jax_config.define_bool_state('flax_' + name, default, help)\n",
      "/home/charles/miniconda3/envs/stac-mjx/lib/python3.12/site-packages/flax/configurations.py:42: DeprecationWarning: jax.config.define_bool_state is deprecated. Please use other libraries for configuration instead.\n",
      "  return jax_config.define_bool_state('flax_' + name, default, help)\n",
      "/home/charles/miniconda3/envs/stac-mjx/lib/python3.12/site-packages/flax/configurations.py:42: DeprecationWarning: jax.config.define_bool_state is deprecated. Please use other libraries for configuration instead.\n",
      "  return jax_config.define_bool_state('flax_' + name, default, help)\n",
      "/home/charles/miniconda3/envs/stac-mjx/lib/python3.12/site-packages/flax/configurations.py:42: DeprecationWarning: jax.config.define_bool_state is deprecated. Please use other libraries for configuration instead.\n",
      "  return jax_config.define_bool_state('flax_' + name, default, help)\n",
      "/home/charles/miniconda3/envs/stac-mjx/lib/python3.12/site-packages/flax/configurations.py:42: DeprecationWarning: jax.config.define_bool_state is deprecated. Please use other libraries for configuration instead.\n",
      "  return jax_config.define_bool_state('flax_' + name, default, help)\n",
      "/home/charles/miniconda3/envs/stac-mjx/lib/python3.12/site-packages/flax/configurations.py:42: DeprecationWarning: jax.config.define_bool_state is deprecated. Please use other libraries for configuration instead.\n",
      "  return jax_config.define_bool_state('flax_' + name, default, help)\n"
     ]
    }
   ],
   "source": [
    "from controller import *"
   ]
  },
  {
   "cell_type": "code",
   "execution_count": 4,
   "metadata": {},
   "outputs": [],
   "source": [
    "utils.init_params(\"/home/charles/github/stac-mjx/params/params.yaml\")\n",
    "ratpath = \"/home/charles/github/stac-mjx/models/rodent.xml\"\n",
    "rat23path = \"/home/charles/github/stac-mjx/models/rat23.mat\"\n",
    "model = mujoco.MjModel.from_xml_path(ratpath)\n",
    "model.opt.solver = mujoco.mjtSolver.mjSOL_NEWTON\n",
    "model.opt.iterations = 1\n",
    "model.opt.ls_iterations = 1\n",
    "\n",
    "data_path = \"/home/charles/Desktop/save_data_AVG.mat\"\n",
    "offset_path = \"offset.p\"\n",
    "\n",
    "root = mjcf.from_path(ratpath)\n",
    "\n",
    "# Default ordering of mj sites is alphabetical, so we reorder to match\n",
    "kp_names = utils.loadmat(rat23path)[\"joint_names\"]\n",
    "# argsort returns the indices that would sort the array\n",
    "stac_keypoint_order = np.argsort(kp_names)\n",
    "\n",
    "# Load kp_data\n",
    "kp_data = utils.loadmat(data_path)[\"pred\"][:] / 1000\n"
   ]
  },
  {
   "cell_type": "code",
   "execution_count": 5,
   "metadata": {},
   "outputs": [],
   "source": [
    "# kp_data\n",
    "# TODO: store kp_data used in fit in another variable (small slice of kpdata)\n",
    "kp_data = prep_kp_data(kp_data, stac_keypoint_order)\n",
    "# chunk it to pass int vmapped functions\n",
    "kp_data, n_envs = chunk_kp_data(kp_data)"
   ]
  },
  {
   "cell_type": "code",
   "execution_count": 6,
   "metadata": {},
   "outputs": [
    {
     "data": {
      "text/plain": [
       "(1, 250, 69)"
      ]
     },
     "execution_count": 6,
     "metadata": {},
     "output_type": "execute_result"
    }
   ],
   "source": [
    "fit_kp_data = kp_data[:1]\n",
    "fit_kp_data.shape"
   ]
  },
  {
   "cell_type": "code",
   "execution_count": 7,
   "metadata": {},
   "outputs": [
    {
     "name": "stdout",
     "output_type": "stream",
     "text": [
      "Root Optimization:\n",
      "q-phase:\n"
     ]
    },
    {
     "ename": "ConcretizationTypeError",
     "evalue": "Abstract tracer value encountered where concrete value is expected: traced array with shape int32[].\nThe size argument of jnp.nonzero must be statically specified to use jnp.nonzero within JAX transformations.\nThe error occurred while tracing the function q_loss at /home/charles/github/stac-mjx/stac-mjx/stac_base.py:60 for jit. This concrete value was not available in Python because it depends on the value of the argument q_copy.\n\nSee https://jax.readthedocs.io/en/latest/errors.html#jax.errors.ConcretizationTypeError",
     "output_type": "error",
     "traceback": [
      "\u001b[0;31m---------------------------------------------------------------------------\u001b[0m",
      "\u001b[0;31mConcretizationTypeError\u001b[0m                   Traceback (most recent call last)",
      "\u001b[1;32m/home/charles/github/stac-mjx/stac-mjx/stac_test.ipynb Cell 7\u001b[0m line \u001b[0;36m2\n\u001b[1;32m      <a href='vscode-notebook-cell:/home/charles/github/stac-mjx/stac-mjx/stac_test.ipynb#W5sZmlsZQ%3D%3D?line=0'>1</a>\u001b[0m \u001b[39m# fit\u001b[39;00m\n\u001b[0;32m----> <a href='vscode-notebook-cell:/home/charles/github/stac-mjx/stac-mjx/stac_test.ipynb#W5sZmlsZQ%3D%3D?line=1'>2</a>\u001b[0m fit_data \u001b[39m=\u001b[39m fit(root, kp_data[:\u001b[39m1\u001b[39;49m])\n\u001b[1;32m      <a href='vscode-notebook-cell:/home/charles/github/stac-mjx/stac-mjx/stac_test.ipynb#W5sZmlsZQ%3D%3D?line=2'>3</a>\u001b[0m save(fit_data, offset_path)\n",
      "File \u001b[0;32m~/github/stac-mjx/stac-mjx/controller.py:171\u001b[0m, in \u001b[0;36mfit\u001b[0;34m(root, kp_data)\u001b[0m\n\u001b[1;32m    162\u001b[0m mjx_model, mjx_data, offsets \u001b[39m=\u001b[39m mjx_setup(kp_data)\n\u001b[1;32m    163\u001b[0m \u001b[39m# for n_site, p in enumerate(physics.bind(body_sites).pos):\u001b[39;00m\n\u001b[1;32m    164\u001b[0m \u001b[39m#     body_sites[n_site].pos = p\u001b[39;00m\n\u001b[1;32m    165\u001b[0m \n\u001b[0;32m   (...)\u001b[0m\n\u001b[1;32m    168\u001b[0m \u001b[39m# put all the setup parts into their own functions\u001b[39;00m\n\u001b[1;32m    169\u001b[0m \u001b[39m# only vmap the computation part that really needs to be vmapped\u001b[39;00m\n\u001b[0;32m--> 171\u001b[0m mjx_data \u001b[39m=\u001b[39m root_optimization(mjx_model, mjx_data, kp_data)\n\u001b[1;32m    172\u001b[0m \u001b[39mfor\u001b[39;00m n_iter \u001b[39min\u001b[39;00m \u001b[39mrange\u001b[39m(utils\u001b[39m.\u001b[39mparams[\u001b[39m'\u001b[39m\u001b[39mN_ITERS\u001b[39m\u001b[39m'\u001b[39m]):\n\u001b[1;32m    173\u001b[0m     \u001b[39mprint\u001b[39m(\u001b[39mf\u001b[39m\u001b[39m\"\u001b[39m\u001b[39mCalibration iteration: \u001b[39m\u001b[39m{\u001b[39;00mn_iter\u001b[39m \u001b[39m\u001b[39m+\u001b[39m\u001b[39m \u001b[39m\u001b[39m1\u001b[39m\u001b[39m}\u001b[39;00m\u001b[39m/\u001b[39m\u001b[39m{\u001b[39;00mutils\u001b[39m.\u001b[39mparams[\u001b[39m'\u001b[39m\u001b[39mN_ITERS\u001b[39m\u001b[39m'\u001b[39m]\u001b[39m}\u001b[39;00m\u001b[39m\"\u001b[39m)\n",
      "    \u001b[0;31m[... skipping hidden 3 frame]\u001b[0m\n",
      "File \u001b[0;32m~/github/stac-mjx/stac-mjx/compute_stac.py:32\u001b[0m, in \u001b[0;36mroot_optimization\u001b[0;34m(mjx_model, mjx_data, kp_data, frame)\u001b[0m\n\u001b[1;32m     22\u001b[0m \u001b[39m\u001b[39m\u001b[39m\"\"\"Optimize only the root.\u001b[39;00m\n\u001b[1;32m     23\u001b[0m \n\u001b[1;32m     24\u001b[0m \u001b[39mArgs:\u001b[39;00m\n\u001b[0;32m   (...)\u001b[0m\n\u001b[1;32m     27\u001b[0m \u001b[39m    frame (int, optional): Frame to optimize\u001b[39;00m\n\u001b[1;32m     28\u001b[0m \u001b[39m\"\"\"\u001b[39;00m\n\u001b[1;32m     30\u001b[0m \u001b[39mprint\u001b[39m(\u001b[39m\"\u001b[39m\u001b[39mRoot Optimization:\u001b[39m\u001b[39m\"\u001b[39m)\n\u001b[0;32m---> 32\u001b[0m mjx_data \u001b[39m=\u001b[39m stac_base\u001b[39m.\u001b[39;49mq_phase(\n\u001b[1;32m     33\u001b[0m     mjx_model, \n\u001b[1;32m     34\u001b[0m     mjx_data,\n\u001b[1;32m     35\u001b[0m     kp_data[frame, :],\n\u001b[1;32m     36\u001b[0m     root_only\u001b[39m=\u001b[39;49m\u001b[39mTrue\u001b[39;49;00m,\n\u001b[1;32m     37\u001b[0m )\n\u001b[1;32m     39\u001b[0m \u001b[39m# First optimize over the trunk\u001b[39;00m\n\u001b[1;32m     40\u001b[0m trunk_kps \u001b[39m=\u001b[39m [\n\u001b[1;32m     41\u001b[0m     \u001b[39many\u001b[39m([n \u001b[39min\u001b[39;00m kp_name \u001b[39mfor\u001b[39;00m n \u001b[39min\u001b[39;00m utils\u001b[39m.\u001b[39mparams[\u001b[39m\"\u001b[39m\u001b[39mTRUNK_OPTIMIZATION_KEYPOINTS\u001b[39m\u001b[39m\"\u001b[39m]])\n\u001b[1;32m     42\u001b[0m     \u001b[39mfor\u001b[39;00m kp_name \u001b[39min\u001b[39;00m utils\u001b[39m.\u001b[39mparams[\u001b[39m\"\u001b[39m\u001b[39mkp_names\u001b[39m\u001b[39m\"\u001b[39m]\n\u001b[1;32m     43\u001b[0m ]\n",
      "File \u001b[0;32m~/github/stac-mjx/stac-mjx/stac_base.py:202\u001b[0m, in \u001b[0;36mq_phase\u001b[0;34m(mjx_model, mjx_data, marker_ref_arr, qs_to_opt, kps_to_opt, root_only, trunk_only, ftol)\u001b[0m\n\u001b[1;32m    200\u001b[0m \u001b[39m# Define the bounds\u001b[39;00m\n\u001b[1;32m    201\u001b[0m bounds\u001b[39m=\u001b[39m(lb, ub)\n\u001b[0;32m--> 202\u001b[0m state \u001b[39m=\u001b[39m solver\u001b[39m.\u001b[39;49minit_state(q0, bounds)\n\u001b[1;32m    203\u001b[0m \u001b[39m# Run the optimization\u001b[39;00m\n\u001b[1;32m    204\u001b[0m q_opt_param \u001b[39m=\u001b[39m solver\u001b[39m.\u001b[39mrun(q0, state\u001b[39m=\u001b[39mstate)\u001b[39m.\u001b[39mparams\n",
      "File \u001b[0;32m~/miniconda3/envs/stac-mjx/lib/python3.12/site-packages/jaxopt/_src/lbfgsb.py:361\u001b[0m, in \u001b[0;36mLBFGSB.init_state\u001b[0;34m(self, init_params, bounds, *args, **kwargs)\u001b[0m\n\u001b[1;32m    351\u001b[0m   dtype \u001b[39m=\u001b[39m tree_single_dtype(init_params)\n\u001b[1;32m    352\u001b[0m   state_kwargs \u001b[39m=\u001b[39m \u001b[39mdict\u001b[39m(\n\u001b[1;32m    353\u001b[0m       s_history\u001b[39m=\u001b[39minit_history(init_params, \u001b[39mself\u001b[39m\u001b[39m.\u001b[39mhistory_size),\n\u001b[1;32m    354\u001b[0m       y_history\u001b[39m=\u001b[39minit_history(init_params, \u001b[39mself\u001b[39m\u001b[39m.\u001b[39mhistory_size),\n\u001b[0;32m   (...)\u001b[0m\n\u001b[1;32m    358\u001b[0m       theta\u001b[39m=\u001b[39mjnp\u001b[39m.\u001b[39masarray(\u001b[39mself\u001b[39m\u001b[39m.\u001b[39mtheta, dtype\u001b[39m=\u001b[39mdtype),\n\u001b[1;32m    359\u001b[0m   )\n\u001b[0;32m--> 361\u001b[0m (value, aux), grad \u001b[39m=\u001b[39m \u001b[39mself\u001b[39;49m\u001b[39m.\u001b[39;49m_value_and_grad_with_aux(\n\u001b[1;32m    362\u001b[0m     init_params, \u001b[39m*\u001b[39;49margs, \u001b[39m*\u001b[39;49m\u001b[39m*\u001b[39;49mkwargs\n\u001b[1;32m    363\u001b[0m )\n\u001b[1;32m    364\u001b[0m \u001b[39mif\u001b[39;00m bounds \u001b[39mis\u001b[39;00m \u001b[39mNone\u001b[39;00m:\n\u001b[1;32m    365\u001b[0m   bounds \u001b[39m=\u001b[39m (tree_map(\u001b[39mlambda\u001b[39;00m x: \u001b[39m-\u001b[39mjnp\u001b[39m.\u001b[39minf \u001b[39m*\u001b[39m jnp\u001b[39m.\u001b[39mones_like(x), init_params),\n\u001b[1;32m    366\u001b[0m             tree_map(\u001b[39mlambda\u001b[39;00m x: jnp\u001b[39m.\u001b[39minf \u001b[39m*\u001b[39m jnp\u001b[39m.\u001b[39mones_like(x), init_params))\n",
      "    \u001b[0;31m[... skipping hidden 8 frame]\u001b[0m\n",
      "File \u001b[0;32m~/miniconda3/envs/stac-mjx/lib/python3.12/site-packages/jaxopt/_src/base.py:71\u001b[0m, in \u001b[0;36m_add_aux_to_fun.<locals>.fun_with_aux\u001b[0;34m(*a, **kw)\u001b[0m\n\u001b[1;32m     70\u001b[0m \u001b[39mdef\u001b[39;00m \u001b[39mfun_with_aux\u001b[39m(\u001b[39m*\u001b[39ma, \u001b[39m*\u001b[39m\u001b[39m*\u001b[39mkw):\n\u001b[0;32m---> 71\u001b[0m   \u001b[39mreturn\u001b[39;00m fun(\u001b[39m*\u001b[39;49ma, \u001b[39m*\u001b[39;49m\u001b[39m*\u001b[39;49mkw), \u001b[39mNone\u001b[39;00m\n",
      "File \u001b[0;32m~/github/stac-mjx/stac-mjx/stac_base.py:185\u001b[0m, in \u001b[0;36mq_phase.<locals>.<lambda>\u001b[0;34m(q)\u001b[0m\n\u001b[1;32m    181\u001b[0m \u001b[39mprint\u001b[39m(\u001b[39m\"\u001b[39m\u001b[39mq-phase:\u001b[39m\u001b[39m\"\u001b[39m)\n\u001b[1;32m    183\u001b[0m \u001b[39mtry\u001b[39;00m:\n\u001b[1;32m    184\u001b[0m     \u001b[39m# Create the optimizer\u001b[39;00m\n\u001b[0;32m--> 185\u001b[0m     solver \u001b[39m=\u001b[39m LBFGSB(fun\u001b[39m=\u001b[39m\u001b[39mlambda\u001b[39;00m q: q_loss(\n\u001b[1;32m    186\u001b[0m                                             q,\n\u001b[1;32m    187\u001b[0m                                             mjx_model,\n\u001b[1;32m    188\u001b[0m                                             mjx_data,\n\u001b[1;32m    189\u001b[0m                                             marker_ref_arr\u001b[39m.\u001b[39;49mT,\n\u001b[1;32m    190\u001b[0m                                             qs_to_opt\u001b[39m=\u001b[39;49mqs_to_opt,\n\u001b[1;32m    191\u001b[0m                                             q_copy\u001b[39m=\u001b[39;49mq_copy,\n\u001b[1;32m    192\u001b[0m                                             kps_to_opt\u001b[39m=\u001b[39;49mkps_to_opt,\n\u001b[1;32m    193\u001b[0m                                         ),\n\u001b[1;32m    194\u001b[0m                                         \u001b[39m# method=\"l-bfgs-b\",\u001b[39;00m\n\u001b[1;32m    195\u001b[0m                                         tol\u001b[39m=\u001b[39mftol,\n\u001b[1;32m    196\u001b[0m                                         \u001b[39m# jit=True,\u001b[39;00m\n\u001b[1;32m    197\u001b[0m                                         \u001b[39m# diff_step=diff_step,\u001b[39;00m\n\u001b[1;32m    198\u001b[0m                                         \u001b[39m# verbose=0,\u001b[39;00m\n\u001b[1;32m    199\u001b[0m                                     )\n\u001b[1;32m    200\u001b[0m     \u001b[39m# Define the bounds\u001b[39;00m\n\u001b[1;32m    201\u001b[0m     bounds\u001b[39m=\u001b[39m(lb, ub)\n",
      "    \u001b[0;31m[... skipping hidden 12 frame]\u001b[0m\n",
      "File \u001b[0;32m~/github/stac-mjx/stac-mjx/stac_base.py:88\u001b[0m, in \u001b[0;36mq_loss\u001b[0;34m(q, mjx_model, mjx_data, kp_data, qs_to_opt, q_copy, kps_to_opt)\u001b[0m\n\u001b[1;32m     84\u001b[0m \u001b[39m# If optimizing arbitrary sets of qpos, add the optimizer qpos to the copy.\u001b[39;00m\n\u001b[1;32m     85\u001b[0m \u001b[39m# TODO: The problem: qs_to_opt needs to be of static shape in order for this function\u001b[39;00m\n\u001b[1;32m     86\u001b[0m \u001b[39m# to be jittable. or it just \u001b[39;00m\n\u001b[1;32m     87\u001b[0m \u001b[39mif\u001b[39;00m qs_to_opt \u001b[39mis\u001b[39;00m \u001b[39mnot\u001b[39;00m \u001b[39mNone\u001b[39;00m:\n\u001b[0;32m---> 88\u001b[0m     true_indices \u001b[39m=\u001b[39m jnp\u001b[39m.\u001b[39;49mwhere(qs_to_opt)[\u001b[39m0\u001b[39m]\n\u001b[1;32m     89\u001b[0m     q_copy \u001b[39m=\u001b[39m q_copy\u001b[39m.\u001b[39mat[true_indices]\u001b[39m.\u001b[39mset(q)\n\u001b[1;32m     91\u001b[0m     \u001b[39m# expanded_q = jnp.pad(q, (0, len(qs_to_opt) - len(q)), constant_values=0)\u001b[39;00m\n\u001b[1;32m     92\u001b[0m     \u001b[39m# q = jnp.where(qs_to_opt, q_copy, expanded_q)\u001b[39;00m\n",
      "File \u001b[0;32m~/miniconda3/envs/stac-mjx/lib/python3.12/site-packages/jax/_src/numpy/lax_numpy.py:1105\u001b[0m, in \u001b[0;36mwhere\u001b[0;34m(condition, x, y, size, fill_value)\u001b[0m\n\u001b[1;32m   1103\u001b[0m \u001b[39mif\u001b[39;00m x \u001b[39mis\u001b[39;00m \u001b[39mNone\u001b[39;00m \u001b[39mand\u001b[39;00m y \u001b[39mis\u001b[39;00m \u001b[39mNone\u001b[39;00m:\n\u001b[1;32m   1104\u001b[0m   util\u001b[39m.\u001b[39mcheck_arraylike(\u001b[39m\"\u001b[39m\u001b[39mwhere\u001b[39m\u001b[39m\"\u001b[39m, condition)\n\u001b[0;32m-> 1105\u001b[0m   \u001b[39mreturn\u001b[39;00m nonzero(condition, size\u001b[39m=\u001b[39;49msize, fill_value\u001b[39m=\u001b[39;49mfill_value)\n\u001b[1;32m   1106\u001b[0m \u001b[39melse\u001b[39;00m:\n\u001b[1;32m   1107\u001b[0m   util\u001b[39m.\u001b[39mcheck_arraylike(\u001b[39m\"\u001b[39m\u001b[39mwhere\u001b[39m\u001b[39m\"\u001b[39m, condition, x, y)\n",
      "File \u001b[0;32m~/miniconda3/envs/stac-mjx/lib/python3.12/site-packages/jax/_src/numpy/lax_numpy.py:1375\u001b[0m, in \u001b[0;36mnonzero\u001b[0;34m(***failed resolving arguments***)\u001b[0m\n\u001b[1;32m   1373\u001b[0m \u001b[39mif\u001b[39;00m size \u001b[39mis\u001b[39;00m \u001b[39mNone\u001b[39;00m:\n\u001b[1;32m   1374\u001b[0m   size \u001b[39m=\u001b[39m mask\u001b[39m.\u001b[39msum()\n\u001b[0;32m-> 1375\u001b[0m size \u001b[39m=\u001b[39m core\u001b[39m.\u001b[39;49mconcrete_dim_or_error(size,\n\u001b[1;32m   1376\u001b[0m   \u001b[39m\"\u001b[39;49m\u001b[39mThe size argument of jnp.nonzero must be statically specified \u001b[39;49m\u001b[39m\"\u001b[39;49m\n\u001b[1;32m   1377\u001b[0m   \u001b[39m\"\u001b[39;49m\u001b[39mto use jnp.nonzero within JAX transformations.\u001b[39;49m\u001b[39m\"\u001b[39;49m)\n\u001b[1;32m   1378\u001b[0m \u001b[39mif\u001b[39;00m arr\u001b[39m.\u001b[39msize \u001b[39m==\u001b[39m \u001b[39m0\u001b[39m \u001b[39mor\u001b[39;00m size \u001b[39m==\u001b[39m \u001b[39m0\u001b[39m:\n\u001b[1;32m   1379\u001b[0m   \u001b[39mreturn\u001b[39;00m \u001b[39mtuple\u001b[39m(zeros(size, \u001b[39mint\u001b[39m) \u001b[39mfor\u001b[39;00m dim \u001b[39min\u001b[39;00m arr\u001b[39m.\u001b[39mshape)\n",
      "    \u001b[0;31m[... skipping hidden 1 frame]\u001b[0m\n",
      "File \u001b[0;32m~/miniconda3/envs/stac-mjx/lib/python3.12/site-packages/jax/_src/core.py:1460\u001b[0m, in \u001b[0;36mconcrete_or_error\u001b[0;34m(force, val, context)\u001b[0m\n\u001b[1;32m   1458\u001b[0m     \u001b[39mreturn\u001b[39;00m force(val\u001b[39m.\u001b[39maval\u001b[39m.\u001b[39mval)\n\u001b[1;32m   1459\u001b[0m   \u001b[39melse\u001b[39;00m:\n\u001b[0;32m-> 1460\u001b[0m     \u001b[39mraise\u001b[39;00m ConcretizationTypeError(val, context)\n\u001b[1;32m   1461\u001b[0m \u001b[39melse\u001b[39;00m:\n\u001b[1;32m   1462\u001b[0m   \u001b[39mreturn\u001b[39;00m force(val)\n",
      "\u001b[0;31mConcretizationTypeError\u001b[0m: Abstract tracer value encountered where concrete value is expected: traced array with shape int32[].\nThe size argument of jnp.nonzero must be statically specified to use jnp.nonzero within JAX transformations.\nThe error occurred while tracing the function q_loss at /home/charles/github/stac-mjx/stac-mjx/stac_base.py:60 for jit. This concrete value was not available in Python because it depends on the value of the argument q_copy.\n\nSee https://jax.readthedocs.io/en/latest/errors.html#jax.errors.ConcretizationTypeError"
     ]
    }
   ],
   "source": [
    "# fit\n",
    "fit_data = fit(root, kp_data[:1])\n",
    "save(fit_data, offset_path)"
   ]
  },
  {
   "cell_type": "code",
   "execution_count": null,
   "metadata": {},
   "outputs": [],
   "source": [
    "from jax import numpy as jnp\n",
    "a = jnp.array([False,True,True,True,False])\n",
    "b = jnp.array([1,2,3])\n",
    "c = jnp.array([10,20,30,40,50])\n",
    "# c[b] = a.copy()\n",
    "# c"
   ]
  },
  {
   "cell_type": "code",
   "execution_count": null,
   "metadata": {},
   "outputs": [
    {
     "name": "stdout",
     "output_type": "stream",
     "text": [
      "[1 2 3]\n"
     ]
    },
    {
     "data": {
      "text/plain": [
       "Array([10,  1,  2,  3, 50], dtype=int32)"
      ]
     },
     "execution_count": 5,
     "metadata": {},
     "output_type": "execute_result"
    }
   ],
   "source": [
    "# expanded_q = jnp.pad(b, (0, len(a) - len(b)), constant_values=0)\n",
    "true_indices = jnp.where(a)[0]\n",
    "# Use these indices to place elements from q into the result_array\n",
    "print(true_indices)\n",
    "c = c.at[true_indices].set(b)\n",
    "# c = jnp.where(a, b, c)\n",
    "c\n"
   ]
  },
  {
   "cell_type": "code",
   "execution_count": null,
   "metadata": {},
   "outputs": [],
   "source": []
  }
 ],
 "metadata": {
  "kernelspec": {
   "display_name": "stac-mjx",
   "language": "python",
   "name": "python3"
  },
  "language_info": {
   "codemirror_mode": {
    "name": "ipython",
    "version": 3
   },
   "file_extension": ".py",
   "mimetype": "text/x-python",
   "name": "python",
   "nbconvert_exporter": "python",
   "pygments_lexer": "ipython3",
   "version": "3.12.0"
  }
 },
 "nbformat": 4,
 "nbformat_minor": 2
}
