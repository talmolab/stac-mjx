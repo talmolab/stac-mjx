{
 "cells": [
  {
   "cell_type": "code",
   "execution_count": 1,
   "metadata": {},
   "outputs": [],
   "source": [
    "import utils\n",
    "import mujoco\n",
    "import os\n",
    "import pickle\n",
    "from scipy.io import savemat \n",
    "from dm_control import mjcf\n",
    "import numpy as np\n",
    "import jax\n",
    "from jax import numpy as jnp\n"
   ]
  },
  {
   "cell_type": "code",
   "execution_count": 2,
   "metadata": {},
   "outputs": [],
   "source": [
    "def save(fit_data, save_path):\n",
    "    \"\"\"Save data.\n",
    "\n",
    "    Args:\n",
    "        save_path (Text): Path to save data. Defaults to None.\n",
    "    \"\"\"\n",
    "    if os.path.dirname(save_path) != \"\":\n",
    "        os.makedirs(os.path.dirname(save_path), exist_ok=True)\n",
    "    _, file_extension = os.path.splitext(save_path)\n",
    "    if file_extension == \".p\":\n",
    "        with open(save_path, \"wb\") as output_file:\n",
    "            pickle.dump(fit_data, output_file, protocol=2)\n",
    "    elif file_extension == \".mat\":\n",
    "        savemat(save_path, fit_data)"
   ]
  },
  {
   "cell_type": "code",
   "execution_count": 3,
   "metadata": {},
   "outputs": [
    {
     "name": "stderr",
     "output_type": "stream",
     "text": [
      "/home/charles/miniconda3/envs/stac-mjx/lib/python3.12/site-packages/flax/configurations.py:42: DeprecationWarning: jax.config.define_bool_state is deprecated. Please use other libraries for configuration instead.\n",
      "  return jax_config.define_bool_state('flax_' + name, default, help)\n",
      "/home/charles/miniconda3/envs/stac-mjx/lib/python3.12/site-packages/flax/configurations.py:42: DeprecationWarning: jax.config.define_bool_state is deprecated. Please use other libraries for configuration instead.\n",
      "  return jax_config.define_bool_state('flax_' + name, default, help)\n",
      "/home/charles/miniconda3/envs/stac-mjx/lib/python3.12/site-packages/flax/configurations.py:42: DeprecationWarning: jax.config.define_bool_state is deprecated. Please use other libraries for configuration instead.\n",
      "  return jax_config.define_bool_state('flax_' + name, default, help)\n",
      "/home/charles/miniconda3/envs/stac-mjx/lib/python3.12/site-packages/flax/configurations.py:42: DeprecationWarning: jax.config.define_bool_state is deprecated. Please use other libraries for configuration instead.\n",
      "  return jax_config.define_bool_state('flax_' + name, default, help)\n",
      "/home/charles/miniconda3/envs/stac-mjx/lib/python3.12/site-packages/flax/configurations.py:42: DeprecationWarning: jax.config.define_bool_state is deprecated. Please use other libraries for configuration instead.\n",
      "  return jax_config.define_bool_state('flax_' + name, default, help)\n",
      "/home/charles/miniconda3/envs/stac-mjx/lib/python3.12/site-packages/flax/configurations.py:42: DeprecationWarning: jax.config.define_bool_state is deprecated. Please use other libraries for configuration instead.\n",
      "  return jax_config.define_bool_state('flax_' + name, default, help)\n"
     ]
    }
   ],
   "source": [
    "from controller import *"
   ]
  },
  {
   "cell_type": "code",
   "execution_count": 4,
   "metadata": {},
   "outputs": [],
   "source": [
    "params = utils.load_params(\"/home/charles/github/stac-mjx/params/params.yaml\")\n",
    "ratpath = \"/home/charles/github/stac-mjx/models/rodent.xml\"\n",
    "rat23path = \"/home/charles/github/stac-mjx/models/rat23.mat\"\n",
    "model = mujoco.MjModel.from_xml_path(ratpath)\n",
    "model.opt.solver = mujoco.mjtSolver.mjSOL_NEWTON\n",
    "model.opt.iterations = 1\n",
    "model.opt.ls_iterations = 1\n",
    "\n",
    "data_path = \"/home/charles/Desktop/save_data_AVG.mat\"\n",
    "offset_path = \"offset.p\"\n",
    "\n",
    "root = mjcf.from_path(ratpath)\n",
    "\n",
    "# Default ordering of mj sites is alphabetical, so we reorder to match\n",
    "kp_names = utils.loadmat(rat23path)[\"joint_names\"]\n",
    "# argsort returns the indices that would sort the array\n",
    "stac_keypoint_order = np.argsort(kp_names)\n",
    "\n",
    "# Load kp_data\n",
    "kp_data = utils.loadmat(data_path)[\"pred\"][:] / 1000\n"
   ]
  },
  {
   "cell_type": "code",
   "execution_count": 5,
   "metadata": {},
   "outputs": [],
   "source": [
    "# kp_data\n",
    "# TODO: store kp_data used in fit in another variable (small slice of kpdata)\n",
    "kp_data = prep_kp_data(kp_data, stac_keypoint_order, params)\n",
    "# chunk it to pass int vmapped functions\n",
    "kp_data, n_envs = chunk_kp_data(kp_data, params)"
   ]
  },
  {
   "cell_type": "code",
   "execution_count": 6,
   "metadata": {},
   "outputs": [
    {
     "data": {
      "text/plain": [
       "(1, 1000, 69)"
      ]
     },
     "execution_count": 6,
     "metadata": {},
     "output_type": "execute_result"
    }
   ],
   "source": [
    "fit_kp_data = kp_data[:1]\n",
    "fit_kp_data.shape"
   ]
  },
  {
   "cell_type": "code",
   "execution_count": 7,
   "metadata": {},
   "outputs": [
    {
     "name": "stdout",
     "output_type": "stream",
     "text": [
      "[ 20  31  77  78  86 100  23  34  92 106  11  12  17  28  83  97  79  68\n",
      "  13   2  14  89 103]\n",
      "Root Optimization:\n"
     ]
    },
    {
     "ename": "TypeError",
     "evalue": "Argument 'DannceArena' of type <class 'str'> is not a valid JAX type",
     "output_type": "error",
     "traceback": [
      "\u001b[0;31m---------------------------------------------------------------------------\u001b[0m",
      "\u001b[0;31mTypeError\u001b[0m                                 Traceback (most recent call last)",
      "\u001b[1;32m/home/charles/github/stac-mjx/stac-mjx/stac_test.ipynb Cell 7\u001b[0m line \u001b[0;36m2\n\u001b[1;32m      <a href='vscode-notebook-cell:/home/charles/github/stac-mjx/stac-mjx/stac_test.ipynb#W5sZmlsZQ%3D%3D?line=0'>1</a>\u001b[0m \u001b[39m# fit\u001b[39;00m\n\u001b[0;32m----> <a href='vscode-notebook-cell:/home/charles/github/stac-mjx/stac-mjx/stac_test.ipynb#W5sZmlsZQ%3D%3D?line=1'>2</a>\u001b[0m fit_data \u001b[39m=\u001b[39m fit(root, kp_data[:\u001b[39m1\u001b[39;49m], params)\n\u001b[1;32m      <a href='vscode-notebook-cell:/home/charles/github/stac-mjx/stac-mjx/stac_test.ipynb#W5sZmlsZQ%3D%3D?line=2'>3</a>\u001b[0m save(fit_data, offset_path)\n",
      "File \u001b[0;32m~/github/stac-mjx/stac-mjx/controller.py:147\u001b[0m, in \u001b[0;36mfit\u001b[0;34m(root, kp_data, params)\u001b[0m\n\u001b[1;32m    140\u001b[0m vmap_pose_opt \u001b[39m=\u001b[39m jax\u001b[39m.\u001b[39mvmap(functools\u001b[39m.\u001b[39mpartial(pose_optimization, \n\u001b[1;32m    141\u001b[0m                                            site_index_map\u001b[39m=\u001b[39msite_index_map, \n\u001b[1;32m    142\u001b[0m                                            params\u001b[39m=\u001b[39mparams))\n\u001b[1;32m    143\u001b[0m vmap_offset_opt \u001b[39m=\u001b[39m jax\u001b[39m.\u001b[39mvmap(functools\u001b[39m.\u001b[39mpartial(offset_optimization, \n\u001b[1;32m    144\u001b[0m                                            site_index_map\u001b[39m=\u001b[39msite_index_map, \n\u001b[1;32m    145\u001b[0m                                            params\u001b[39m=\u001b[39mparams))\n\u001b[0;32m--> 147\u001b[0m mjx_data \u001b[39m=\u001b[39m vmap_root_opt(mjx_model, mjx_data, kp_data)\n\u001b[1;32m    148\u001b[0m \u001b[39mfor\u001b[39;00m n_iter \u001b[39min\u001b[39;00m \u001b[39mrange\u001b[39m(params[\u001b[39m'\u001b[39m\u001b[39mN_ITERS\u001b[39m\u001b[39m'\u001b[39m]):\n\u001b[1;32m    149\u001b[0m     \u001b[39mprint\u001b[39m(\u001b[39mf\u001b[39m\u001b[39m\"\u001b[39m\u001b[39mCalibration iteration: \u001b[39m\u001b[39m{\u001b[39;00mn_iter\u001b[39m \u001b[39m\u001b[39m+\u001b[39m\u001b[39m \u001b[39m\u001b[39m1\u001b[39m\u001b[39m}\u001b[39;00m\u001b[39m/\u001b[39m\u001b[39m{\u001b[39;00mparams[\u001b[39m'\u001b[39m\u001b[39mN_ITERS\u001b[39m\u001b[39m'\u001b[39m]\u001b[39m}\u001b[39;00m\u001b[39m\"\u001b[39m)\n",
      "    \u001b[0;31m[... skipping hidden 3 frame]\u001b[0m\n",
      "File \u001b[0;32m~/github/stac-mjx/stac-mjx/compute_stac.py:31\u001b[0m, in \u001b[0;36mroot_optimization\u001b[0;34m(mjx_model, mjx_data, kp_data, site_index_map, params, frame)\u001b[0m\n\u001b[1;32m     21\u001b[0m \u001b[39m\u001b[39m\u001b[39m\"\"\"Optimize only the root.\u001b[39;00m\n\u001b[1;32m     22\u001b[0m \n\u001b[1;32m     23\u001b[0m \u001b[39mArgs:\u001b[39;00m\n\u001b[0;32m   (...)\u001b[0m\n\u001b[1;32m     26\u001b[0m \u001b[39m    frame (int, optional): Frame to optimize\u001b[39;00m\n\u001b[1;32m     27\u001b[0m \u001b[39m\"\"\"\u001b[39;00m\n\u001b[1;32m     29\u001b[0m \u001b[39mprint\u001b[39m(\u001b[39m\"\u001b[39m\u001b[39mRoot Optimization:\u001b[39m\u001b[39m\"\u001b[39m)\n\u001b[0;32m---> 31\u001b[0m mjx_data \u001b[39m=\u001b[39m stac_base\u001b[39m.\u001b[39;49mq_phase(\n\u001b[1;32m     32\u001b[0m     mjx_model, \n\u001b[1;32m     33\u001b[0m     mjx_data,\n\u001b[1;32m     34\u001b[0m     kp_data[frame, :],\n\u001b[1;32m     35\u001b[0m     site_index_map,\n\u001b[1;32m     36\u001b[0m     params,\n\u001b[1;32m     37\u001b[0m     root_only\u001b[39m=\u001b[39;49m\u001b[39mTrue\u001b[39;49;00m,\n\u001b[1;32m     38\u001b[0m )\n\u001b[1;32m     40\u001b[0m \u001b[39m# First optimize over the trunk\u001b[39;00m\n\u001b[1;32m     41\u001b[0m trunk_kps \u001b[39m=\u001b[39m [\n\u001b[1;32m     42\u001b[0m     \u001b[39many\u001b[39m([n \u001b[39min\u001b[39;00m kp_name \u001b[39mfor\u001b[39;00m n \u001b[39min\u001b[39;00m params[\u001b[39m\"\u001b[39m\u001b[39mTRUNK_OPTIMIZATION_KEYPOINTS\u001b[39m\u001b[39m\"\u001b[39m]])\n\u001b[1;32m     43\u001b[0m     \u001b[39mfor\u001b[39;00m kp_name \u001b[39min\u001b[39;00m params[\u001b[39m\"\u001b[39m\u001b[39mkp_names\u001b[39m\u001b[39m\"\u001b[39m]\n\u001b[1;32m     44\u001b[0m ]\n",
      "    \u001b[0;31m[... skipping hidden 6 frame]\u001b[0m\n",
      "File \u001b[0;32m~/miniconda3/envs/stac-mjx/lib/python3.12/site-packages/jax/_src/api_util.py:590\u001b[0m, in \u001b[0;36m_str_abstractify\u001b[0;34m(x)\u001b[0m\n\u001b[1;32m    589\u001b[0m \u001b[39mdef\u001b[39;00m \u001b[39m_str_abstractify\u001b[39m(x):\n\u001b[0;32m--> 590\u001b[0m   \u001b[39mraise\u001b[39;00m \u001b[39mTypeError\u001b[39;00m(\u001b[39mf\u001b[39m\u001b[39m\"\u001b[39m\u001b[39mArgument \u001b[39m\u001b[39m'\u001b[39m\u001b[39m{\u001b[39;00mx\u001b[39m}\u001b[39;00m\u001b[39m'\u001b[39m\u001b[39m of type \u001b[39m\u001b[39m{\u001b[39;00m\u001b[39mtype\u001b[39m(x)\u001b[39m}\u001b[39;00m\u001b[39m is not a valid JAX type\u001b[39m\u001b[39m\"\u001b[39m)\n",
      "\u001b[0;31mTypeError\u001b[0m: Argument 'DannceArena' of type <class 'str'> is not a valid JAX type"
     ]
    }
   ],
   "source": [
    "# fit\n",
    "fit_data = fit(root, kp_data[:1], params)\n",
    "save(fit_data, offset_path)"
   ]
  },
  {
   "cell_type": "code",
   "execution_count": null,
   "metadata": {},
   "outputs": [],
   "source": []
  }
 ],
 "metadata": {
  "kernelspec": {
   "display_name": "stac-mjx",
   "language": "python",
   "name": "python3"
  },
  "language_info": {
   "codemirror_mode": {
    "name": "ipython",
    "version": 3
   },
   "file_extension": ".py",
   "mimetype": "text/x-python",
   "name": "python",
   "nbconvert_exporter": "python",
   "pygments_lexer": "ipython3",
   "version": "3.12.0"
  }
 },
 "nbformat": 4,
 "nbformat_minor": 2
}
