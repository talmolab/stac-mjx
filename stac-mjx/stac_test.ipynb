{
 "cells": [
  {
   "cell_type": "code",
   "execution_count": 1,
   "metadata": {},
   "outputs": [],
   "source": [
    "import utils\n",
    "import mujoco\n",
    "import os\n",
    "import pickle\n",
    "from scipy.io import savemat \n",
    "from dm_control import mjcf\n",
    "import numpy as np\n",
    "import jax\n",
    "from jax import numpy as jnp\n"
   ]
  },
  {
   "cell_type": "code",
   "execution_count": 3,
   "metadata": {},
   "outputs": [],
   "source": [
    "# If youre machine is low on ram:\n",
    "# os.environ['XLA_PYTHON_CLIENT_MEM_FRACTION'] = '.5'\n",
    "os.environ['XLA_PYTHON_CLIENT_PREALLOCATE'] = \"false\""
   ]
  },
  {
   "cell_type": "code",
   "execution_count": 4,
   "metadata": {},
   "outputs": [],
   "source": [
    "def save(fit_data, save_path):\n",
    "    \"\"\"Save data.\n",
    "\n",
    "    Args:\n",
    "        save_path (Text): Path to save data. Defaults to None.\n",
    "    \"\"\"\n",
    "    if os.path.dirname(save_path) != \"\":\n",
    "        os.makedirs(os.path.dirname(save_path), exist_ok=True)\n",
    "    _, file_extension = os.path.splitext(save_path)\n",
    "    if file_extension == \".p\":\n",
    "        with open(save_path, \"wb\") as output_file:\n",
    "            pickle.dump(fit_data, output_file, protocol=2)\n",
    "    elif file_extension == \".mat\":\n",
    "        savemat(save_path, fit_data)"
   ]
  },
  {
   "cell_type": "code",
   "execution_count": 9,
   "metadata": {},
   "outputs": [],
   "source": [
    "from controller import *\n",
    "import stac_base"
   ]
  },
  {
   "cell_type": "code",
   "execution_count": 6,
   "metadata": {},
   "outputs": [],
   "source": [
    "# relative pathing no working in notebook rn\n",
    "utils.init_params(\"/home/charles/github/stac-mjx/params/params.yaml\")\n",
    "ratpath = \"/home/charles/github/stac-mjx/models/rodent.xml\"\n",
    "rat23path = \"/home/charles/github/stac-mjx/models/rat23.mat\"\n",
    "model = mujoco.MjModel.from_xml_path(ratpath)\n",
    "model.opt.solver = mujoco.mjtSolver.mjSOL_NEWTON\n",
    "model.opt.disableflags = mujoco.mjtDisableBit.mjDSBL_EULERDAMP\n",
    "model.opt.iterations = 1\n",
    "model.opt.ls_iterations = 1\n",
    "\n",
    "# Need to download this data file and provide the path\n",
    "data_path = \"/home/charles/Desktop/save_data_AVG.mat\"\n",
    "offset_path = \"offset.p\"\n",
    "\n",
    "root = mjcf.from_path(ratpath)\n",
    "\n",
    "# Default ordering of mj sites is alphabetical, so we reorder to match\n",
    "kp_names = utils.loadmat(rat23path)[\"joint_names\"]\n",
    "utils.params[\"kp_names\"] = kp_names\n",
    "\n",
    "# argsort returns the indices that would sort the array\n",
    "stac_keypoint_order = np.argsort(kp_names)\n",
    "# Load kp_data\n",
    "kp_data = utils.loadmat(data_path)[\"pred\"][:] / 1000\n"
   ]
  },
  {
   "cell_type": "code",
   "execution_count": 7,
   "metadata": {},
   "outputs": [],
   "source": [
    "# kp_data\n",
    "# TODO: store kp_data used in fit in another variable (small slice of kpdata)\n",
    "kp_data = prep_kp_data(kp_data, stac_keypoint_order)\n",
    "# chunk it to pass int vmapped functions\n",
    "kp_data, n_envs = chunk_kp_data(kp_data)"
   ]
  },
  {
   "cell_type": "code",
   "execution_count": 8,
   "metadata": {},
   "outputs": [
    {
     "data": {
      "text/plain": [
       "(100, 150, 69)"
      ]
     },
     "execution_count": 8,
     "metadata": {},
     "output_type": "execute_result"
    }
   ],
   "source": [
    "fit_kp_data = kp_data[:100]\n",
    "fit_kp_data.shape"
   ]
  },
  {
   "cell_type": "code",
   "execution_count": 8,
   "metadata": {},
   "outputs": [
    {
     "name": "stdout",
     "output_type": "stream",
     "text": [
      "first forward step done in 23.4201557636261\n",
      "Root Optimization:\n",
      "useless forward step done  in 47.260462522506714\n",
      "next useless forward step done in 0.007994890213012695\n",
      "begin optimizing:\n"
     ]
    }
   ],
   "source": [
    "# fit\n",
    "fit_data = test_opt(root, fit_kp_data)\n",
    "save(fit_data, offset_path)"
   ]
  },
  {
   "cell_type": "markdown",
   "metadata": {},
   "source": [
    "testing one opt by looping over a jitted solver.update() function and graphing. this will also help tune hyper params"
   ]
  },
  {
   "cell_type": "code",
   "execution_count": null,
   "metadata": {},
   "outputs": [],
   "source": [
    "\"\"\"Benchmark LBFGS implementation.\"\"\"\n",
    "\n",
    "import time\n",
    "import jaxopt\n",
    "\n",
    "import numpy as onp\n",
    "\n",
    "import matplotlib.pyplot as plt\n",
    "\n",
    "maxiters = 25\n",
    "def benchmark_jaxopt(linesearch):\n",
    "  \n",
    "  fun = stac_base.q_loss\n",
    "  init = jnp.zeros((X.shape[1], 5))\n",
    "  lbfgs = jaxopt.LBFGSB(fun=fun, linesearch=linesearch)\n",
    "  state = lbfgs.init_state(init, data=data)\n",
    "  errors = onp.zeros(maxiters)\n",
    "  params = init\n",
    "\n",
    "  jit_update = jax.jit(lbfgs.update)\n",
    "  for it in range(maxiters):\n",
    "    params, state = jit_update(params, state, data=data)\n",
    "    errors[it] = state.error\n",
    "\n",
    "  return errors\n",
    "\n",
    "errors_backtracking = benchmark_jaxopt(\"backtracking\")\n",
    "errors_zoom = benchmark_jaxopt(\"linesearch\")\n",
    "\n",
    "plt.figure()\n",
    "plt.plot(jnp.arange(30), errors_backtracking, label=\"backtracking\")\n",
    "plt.plot(jnp.arange(30), errors_zoom, label=\"zoom\")\n",
    "plt.xlabel(\"Iterations\")\n",
    "plt.ylabel(\"Gradient error\")\n",
    "plt.yscale(\"log\")\n",
    "plt.legend(loc=\"best\")\n",
    "plt.show()\n"
   ]
  }
 ],
 "metadata": {
  "kernelspec": {
   "display_name": "stac-mjx",
   "language": "python",
   "name": "python3"
  },
  "language_info": {
   "codemirror_mode": {
    "name": "ipython",
    "version": 3
   },
   "file_extension": ".py",
   "mimetype": "text/x-python",
   "name": "python",
   "nbconvert_exporter": "python",
   "pygments_lexer": "ipython3",
   "version": "3.12.0"
  }
 },
 "nbformat": 4,
 "nbformat_minor": 2
}
