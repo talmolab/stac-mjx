{
 "cells": [
  {
   "cell_type": "code",
   "execution_count": 1,
   "metadata": {},
   "outputs": [],
   "source": [
    "import utils\n",
    "import mujoco\n",
    "import os\n",
    "import pickle\n",
    "from scipy.io import savemat \n",
    "from dm_control import mjcf\n",
    "import numpy as np\n",
    "import jax\n",
    "from jax import numpy as jnp\n",
    "import time\n",
    "from controller import *\n",
    "\n"
   ]
  },
  {
   "cell_type": "code",
   "execution_count": 2,
   "metadata": {},
   "outputs": [],
   "source": [
    "\n",
    "# If your machine is low on ram:\n",
    "# os.environ['XLA_PYTHON_CLIENT_MEM_FRACTION'] = '.6'\n",
    "# os.environ['XLA_PYTHON_CLIENT_PREALLOCATE'] = \"false\"\n",
    "\n",
    "def get_clip(kp_data, n_frames):\n",
    "    import random\n",
    "    max_index = kp_data.shape[0] - n_frames + 1\n",
    "    rand_start = random.randint(0, max_index)\n",
    "    return kp_data[rand_start:rand_start+n_frames,:]\n",
    "\n"
   ]
  },
  {
   "cell_type": "markdown",
   "metadata": {},
   "source": [
    "### initialize parameters"
   ]
  },
  {
   "cell_type": "code",
   "execution_count": 3,
   "metadata": {
    "tags": []
   },
   "outputs": [],
   "source": [
    "utils.init_params(\"../params/params.yaml\")"
   ]
  },
  {
   "cell_type": "markdown",
   "metadata": {},
   "source": [
    "### Define data paths and parameters"
   ]
  },
  {
   "cell_type": "code",
   "execution_count": 4,
   "metadata": {},
   "outputs": [],
   "source": [
    "rat_xml = \"../models/rodent_stac.xml\"\n",
    "rat23 = \"../models/rat23.mat\"\n",
    "# data_path = \"save_data_AVG.mat\"\n",
    "data_path = \"/n/holylabs/LABS/olveczky_lab/holylfs02/Everyone/dannce_rig/dannce_ephys/art/2020_12_22_1/DANNCE/predict03/save_data_AVG.mat\" \n",
    "\n",
    "fit_path = \"floating_fit.p\"\n",
    "transform_path = \"floating_transform.p\"\n",
    "utils.params['FTOL'] = 1e-05\n",
    "utils.params['n_fit_frames'] = 500\n",
    "utils.params['N_ITERS'] = 1\n",
    "skip_transform = True"
   ]
  },
  {
   "cell_type": "markdown",
   "metadata": {},
   "source": [
    "### Set up mujoco model"
   ]
  },
  {
   "cell_type": "code",
   "execution_count": 5,
   "metadata": {},
   "outputs": [],
   "source": [
    "model = mujoco.MjModel.from_xml_path(rat_xml)\n",
    "model.opt.solver = mujoco.mjtSolver.mjSOL_NEWTON\n",
    "model.opt.disableflags = mujoco.mjtDisableBit.mjDSBL_EULERDAMP\n",
    "model.opt.iterations = 1\n",
    "model.opt.ls_iterations = 4"
   ]
  },
  {
   "cell_type": "markdown",
   "metadata": {},
   "source": [
    "### Run stac"
   ]
  },
  {
   "cell_type": "code",
   "execution_count": null,
   "metadata": {},
   "outputs": [],
   "source": [
    "start_time = time.time()\n",
    "\n",
    "root = mjcf.from_path(rat_xml)\n",
    "\n",
    "# Default ordering of mj sites is alphabetical, so we reorder to match\n",
    "kp_names = utils.loadmat(rat23)[\"joint_names\"]\n",
    "utils.params[\"kp_names\"] = kp_names\n",
    "\n",
    "# argsort returns the indices that would sort the array\n",
    "stac_keypoint_order = np.argsort(kp_names)\n",
    "# Load kp_data, /1000 to scale data (from mm to meters i think?)\n",
    "kp_data = utils.loadmat(data_path)[\"pred\"][:] / 1000\n",
    "\n",
    "kp_data = prep_kp_data(kp_data, stac_keypoint_order)\n",
    "\n",
    "# setup for fit\n",
    "physics, mj_model = set_body_sites(root)\n",
    "part_opt_setup(physics)\n",
    "\n",
    "# Running fit then transform\n",
    "print(f\"kp_data shape: {kp_data.shape}\")\n",
    "print(f\"Running fit() on {utils.params['n_fit_frames']}\")\n",
    "clip = get_clip(kp_data, utils.params['n_fit_frames'])\n",
    "print(f\"clip shape: {clip.shape}\")\n",
    "mjx_model, q, x, walker_body_sites, kp_data = fit(mj_model, clip)\n",
    "\n",
    "fit_data = package_data(\n",
    "    mjx_model, physics, q, x, walker_body_sites, kp_data\n",
    ")\n",
    "\n",
    "print(f\"saving data to {fit_path}\")\n",
    "save(fit_data, fit_path)\n",
    "\n",
    "if skip_transform:\n",
    "    print(\"skipping transform()\")\n",
    "    return\n",
    "\n",
    "print(\"Running transform()\")\n",
    "with open(fit_path, \"rb\") as file:\n",
    "    fit_data = pickle.load(file)\n",
    "\n",
    "offsets = fit_data[\"offsets\"] \n",
    "kp_data, n_envs = chunk_kp_data(kp_data)\n",
    "mjx_model, q, x, walker_body_sites, kp_data = transform(mj_model, kp_data, offsets)\n",
    "\n",
    "transform_data = package_data(\n",
    "    mjx_model, physics, q, x, walker_body_sites, kp_data, batched=True\n",
    ")\n",
    "\n",
    "print(f\"saving data to {transform_path}\")\n",
    "save(transform_data, transform_path)\n",
    "\n",
    "print(f\"Job complete in {time.time()-start_time}\")\n"
   ]
  },
  {
   "cell_type": "code",
   "execution_count": null,
   "metadata": {},
   "outputs": [],
   "source": []
  }
 ],
 "metadata": {
  "kernelspec": {
   "display_name": "Python [conda env:.conda-stac-mjx]",
   "language": "python",
   "name": "conda-env-.conda-stac-mjx-py"
  },
  "language_info": {
   "codemirror_mode": {
    "name": "ipython",
    "version": 3
   },
   "file_extension": ".py",
   "mimetype": "text/x-python",
   "name": "python",
   "nbconvert_exporter": "python",
   "pygments_lexer": "ipython3",
   "version": "3.12.0"
  }
 },
 "nbformat": 4,
 "nbformat_minor": 4
}
