{
 "cells": [
  {
   "cell_type": "code",
   "execution_count": 1,
   "metadata": {},
   "outputs": [],
   "source": [
    "import utils\n",
    "import mujoco\n",
    "import os\n",
    "import pickle\n",
    "from scipy.io import savemat \n",
    "from dm_control import mjcf\n",
    "import numpy as np\n",
    "import jax\n",
    "from jax import numpy as jnp\n"
   ]
  },
  {
   "cell_type": "code",
   "execution_count": 2,
   "metadata": {},
   "outputs": [],
   "source": [
    "# If youre machine is low on ram:\n",
    "# os.environ['XLA_PYTHON_CLIENT_MEM_FRACTION'] = '.5'"
   ]
  },
  {
   "cell_type": "code",
   "execution_count": 3,
   "metadata": {},
   "outputs": [],
   "source": [
    "def save(fit_data, save_path):\n",
    "    \"\"\"Save data.\n",
    "\n",
    "    Args:\n",
    "        save_path (Text): Path to save data. Defaults to None.\n",
    "    \"\"\"\n",
    "    if os.path.dirname(save_path) != \"\":\n",
    "        os.makedirs(os.path.dirname(save_path), exist_ok=True)\n",
    "    _, file_extension = os.path.splitext(save_path)\n",
    "    if file_extension == \".p\":\n",
    "        with open(save_path, \"wb\") as output_file:\n",
    "            pickle.dump(fit_data, output_file, protocol=2)\n",
    "    elif file_extension == \".mat\":\n",
    "        savemat(save_path, fit_data)"
   ]
  },
  {
   "cell_type": "code",
   "execution_count": 4,
   "metadata": {},
   "outputs": [],
   "source": [
    "from controller import *"
   ]
  },
  {
   "cell_type": "code",
   "execution_count": 5,
   "metadata": {},
   "outputs": [],
   "source": [
    "# relative pathing no working in notebook rn\n",
    "utils.init_params(\"/home/charles/github/stac-mjx/params/params.yaml\")\n",
    "ratpath = \"/home/charles/github/stac-mjx/models/rodent.xml\"\n",
    "rat23path = \"/home/charles/github/stac-mjx/models/rat23.mat\"\n",
    "model = mujoco.MjModel.from_xml_path(ratpath)\n",
    "model.opt.solver = mujoco.mjtSolver.mjSOL_NEWTON\n",
    "model.opt.disableflags = mujoco.mjtDisableBit.mjDSBL_EULERDAMP\n",
    "model.opt.iterations = 1\n",
    "model.opt.ls_iterations = 1\n",
    "\n",
    "# Need to download this data file and provide the path\n",
    "data_path = \"/home/charles/Desktop/save_data_AVG.mat\"\n",
    "offset_path = \"offset.p\"\n",
    "\n",
    "root = mjcf.from_path(ratpath)\n",
    "\n",
    "# Default ordering of mj sites is alphabetical, so we reorder to match\n",
    "kp_names = utils.loadmat(rat23path)[\"joint_names\"]\n",
    "utils.params[\"kp_names\"] = kp_names\n",
    "\n",
    "# argsort returns the indices that would sort the array\n",
    "stac_keypoint_order = np.argsort(kp_names)\n",
    "# Load kp_data\n",
    "kp_data = utils.loadmat(data_path)[\"pred\"][:] / 1000\n"
   ]
  },
  {
   "cell_type": "code",
   "execution_count": 6,
   "metadata": {},
   "outputs": [],
   "source": [
    "# kp_data\n",
    "# TODO: store kp_data used in fit in another variable (small slice of kpdata)\n",
    "kp_data = prep_kp_data(kp_data, stac_keypoint_order)\n",
    "# chunk it to pass int vmapped functions\n",
    "kp_data, n_envs = chunk_kp_data(kp_data)"
   ]
  },
  {
   "cell_type": "code",
   "execution_count": 7,
   "metadata": {},
   "outputs": [
    {
     "data": {
      "text/plain": [
       "(100, 150, 69)"
      ]
     },
     "execution_count": 7,
     "metadata": {},
     "output_type": "execute_result"
    }
   ],
   "source": [
    "fit_kp_data = kp_data[:100]\n",
    "fit_kp_data.shape"
   ]
  },
  {
   "cell_type": "code",
   "execution_count": 8,
   "metadata": {},
   "outputs": [
    {
     "name": "stdout",
     "output_type": "stream",
     "text": [
      "Root Optimization:\n",
      "begin optimizing:\n",
      "<class 'jax._src.interpreters.partial_eval.DynamicJaxprTracer'> Traced<ShapedArray(bool[74])>with<DynamicJaxprTrace(level=2/0)>\n"
     ]
    },
    {
     "ename": "NonConcreteBooleanIndexError",
     "evalue": "Array boolean indices must be concrete; got ShapedArray(bool[74])\n\nSee https://jax.readthedocs.io/en/latest/errors.html#jax.errors.NonConcreteBooleanIndexError",
     "output_type": "error",
     "traceback": [
      "\u001b[0;31m---------------------------------------------------------------------------\u001b[0m",
      "\u001b[0;31mNonConcreteBooleanIndexError\u001b[0m              Traceback (most recent call last)",
      "\u001b[1;32m/home/charles/github/stac-mjx/stac-mjx/stac_test.ipynb Cell 8\u001b[0m line \u001b[0;36m2\n\u001b[1;32m      <a href='vscode-notebook-cell:/home/charles/github/stac-mjx/stac-mjx/stac_test.ipynb#X10sZmlsZQ%3D%3D?line=0'>1</a>\u001b[0m \u001b[39m# fit\u001b[39;00m\n\u001b[0;32m----> <a href='vscode-notebook-cell:/home/charles/github/stac-mjx/stac-mjx/stac_test.ipynb#X10sZmlsZQ%3D%3D?line=1'>2</a>\u001b[0m fit_data \u001b[39m=\u001b[39m test_opt(root, fit_kp_data)\n\u001b[1;32m      <a href='vscode-notebook-cell:/home/charles/github/stac-mjx/stac-mjx/stac_test.ipynb#X10sZmlsZQ%3D%3D?line=2'>3</a>\u001b[0m save(fit_data, offset_path)\n",
      "File \u001b[0;32m~/github/stac-mjx/stac-mjx/controller.py:229\u001b[0m, in \u001b[0;36mtest_opt\u001b[0;34m(root, kp_data)\u001b[0m\n\u001b[1;32m    222\u001b[0m mjx_model, mjx_data, offsets \u001b[39m=\u001b[39m mjx_setup(kp_data)\n\u001b[1;32m    223\u001b[0m \u001b[39m# This used to set the walker body sites based on the body site positions in 'physics'. \u001b[39;00m\n\u001b[1;32m    224\u001b[0m \u001b[39m# Do we still need to do this? \u001b[39;00m\n\u001b[1;32m    225\u001b[0m \u001b[39m# for n_site, p in enumerate(physics.bind(body_sites).pos):\u001b[39;00m\n\u001b[1;32m    226\u001b[0m \u001b[39m#     body_sites[n_site].pos = p\u001b[39;00m\n\u001b[1;32m    227\u001b[0m \n\u001b[1;32m    228\u001b[0m \u001b[39m# Optimize\u001b[39;00m\n\u001b[0;32m--> 229\u001b[0m mjx_data \u001b[39m=\u001b[39m root_optimization(mjx_model, mjx_data, kp_data)\n\u001b[1;32m    230\u001b[0m mjx_data, q, walker_body_sites, x \u001b[39m=\u001b[39m pose_optimization(mjx_model, mjx_data, kp_data)\n\u001b[1;32m    232\u001b[0m data \u001b[39m=\u001b[39m package_data(\n\u001b[1;32m    233\u001b[0m     mjx_model, physics, q, x, walker_body_sites, kp_data\n\u001b[1;32m    234\u001b[0m )\n",
      "    \u001b[0;31m[... skipping hidden 3 frame]\u001b[0m\n",
      "File \u001b[0;32m~/github/stac-mjx/stac-mjx/compute_stac.py:54\u001b[0m, in \u001b[0;36mroot_optimization\u001b[0;34m(mjx_model, mjx_data, kp_data, frame)\u001b[0m\n\u001b[1;32m     50\u001b[0m q0 \u001b[39m=\u001b[39m q0[qs_to_opt]\n\u001b[1;32m     52\u001b[0m loss_fn \u001b[39m=\u001b[39m Partial(stac_base\u001b[39m.\u001b[39mq_loss, qs_to_opt\u001b[39m=\u001b[39mqs_to_opt)\n\u001b[0;32m---> 54\u001b[0m mjx_data, q_opt_param \u001b[39m=\u001b[39m stac_base\u001b[39m.\u001b[39;49mq_opt(\n\u001b[1;32m     55\u001b[0m     mjx_model, \n\u001b[1;32m     56\u001b[0m     mjx_data,\n\u001b[1;32m     57\u001b[0m     kp_data[frame, :],\n\u001b[1;32m     58\u001b[0m     q0,\n\u001b[1;32m     59\u001b[0m     q_copy,\n\u001b[1;32m     60\u001b[0m     loss_fn\u001b[39m=\u001b[39;49mloss_fn,\n\u001b[1;32m     61\u001b[0m     bounds\u001b[39m=\u001b[39;49mbounds,\n\u001b[1;32m     62\u001b[0m     ftol\u001b[39m=\u001b[39;49mftol,\n\u001b[1;32m     63\u001b[0m )\n\u001b[1;32m     65\u001b[0m mjx_data \u001b[39m=\u001b[39m replace_qs(mjx_model, mjx_data, q_copy, q_opt_param, qs_to_opt\u001b[39m=\u001b[39mqs_to_opt)\n\u001b[1;32m     67\u001b[0m \u001b[39m# First optimize over the trunk\u001b[39;00m\n",
      "    \u001b[0;31m[... skipping hidden 12 frame]\u001b[0m\n",
      "File \u001b[0;32m~/github/stac-mjx/stac-mjx/stac_base.py:151\u001b[0m, in \u001b[0;36mq_opt\u001b[0;34m(mjx_model, mjx_data, marker_ref_arr, q0, q_copy, loss_fn, bounds, ftol, kps_to_opt)\u001b[0m\n\u001b[1;32m    142\u001b[0m solver \u001b[39m=\u001b[39m LBFGSB(fun\u001b[39m=\u001b[39mloss_fn, \n\u001b[1;32m    143\u001b[0m                 tol\u001b[39m=\u001b[39mftol,\n\u001b[1;32m    144\u001b[0m                 maxiter\u001b[39m=\u001b[39m\u001b[39m25\u001b[39m,\n\u001b[1;32m    145\u001b[0m                 jit\u001b[39m=\u001b[39m\u001b[39mTrue\u001b[39;00m,\n\u001b[1;32m    146\u001b[0m                 verbose\u001b[39m=\u001b[39m\u001b[39mFalse\u001b[39;00m\n\u001b[1;32m    147\u001b[0m                 )\n\u001b[1;32m    148\u001b[0m \u001b[39m# Define the bounds\u001b[39;00m\n\u001b[1;32m    149\u001b[0m \u001b[39m# bounds = get_q_bounds(mjx_model)\u001b[39;00m\n\u001b[0;32m--> 151\u001b[0m res \u001b[39m=\u001b[39m solver\u001b[39m.\u001b[39;49mrun(q0, bounds, mjx_model\u001b[39m=\u001b[39;49mmjx_model, \n\u001b[1;32m    152\u001b[0m                                 mjx_data\u001b[39m=\u001b[39;49mmjx_data, \n\u001b[1;32m    153\u001b[0m                                 kp_data\u001b[39m=\u001b[39;49mmarker_ref_arr\u001b[39m.\u001b[39;49mT,\n\u001b[1;32m    154\u001b[0m                                 q_copy\u001b[39m=\u001b[39;49mq_copy, \n\u001b[1;32m    155\u001b[0m                                 kps_to_opt\u001b[39m=\u001b[39;49mkps_to_opt)\n\u001b[1;32m    156\u001b[0m q_opt_param \u001b[39m=\u001b[39m res\u001b[39m.\u001b[39mparams\n\u001b[1;32m    158\u001b[0m \u001b[39mreturn\u001b[39;00m mjx_data, q_opt_param\n",
      "File \u001b[0;32m~/miniconda3/envs/stac-mjx/lib/python3.12/site-packages/jaxopt/_src/base.py:359\u001b[0m, in \u001b[0;36mIterativeSolver.run\u001b[0;34m(self, init_params, *args, **kwargs)\u001b[0m\n\u001b[1;32m    352\u001b[0m   decorator \u001b[39m=\u001b[39m idf\u001b[39m.\u001b[39mcustom_root(\n\u001b[1;32m    353\u001b[0m       \u001b[39mself\u001b[39m\u001b[39m.\u001b[39moptimality_fun,\n\u001b[1;32m    354\u001b[0m       has_aux\u001b[39m=\u001b[39m\u001b[39mTrue\u001b[39;00m,\n\u001b[1;32m    355\u001b[0m       solve\u001b[39m=\u001b[39m\u001b[39mself\u001b[39m\u001b[39m.\u001b[39mimplicit_diff_solve,\n\u001b[1;32m    356\u001b[0m       reference_signature\u001b[39m=\u001b[39mreference_signature)\n\u001b[1;32m    357\u001b[0m   run \u001b[39m=\u001b[39m decorator(run)\n\u001b[0;32m--> 359\u001b[0m \u001b[39mreturn\u001b[39;00m run(init_params, \u001b[39m*\u001b[39;49margs, \u001b[39m*\u001b[39;49m\u001b[39m*\u001b[39;49mkwargs)\n",
      "File \u001b[0;32m~/miniconda3/envs/stac-mjx/lib/python3.12/site-packages/jaxopt/_src/implicit_diff.py:251\u001b[0m, in \u001b[0;36m_custom_root.<locals>.wrapped_solver_fun\u001b[0;34m(*args, **kwargs)\u001b[0m\n\u001b[1;32m    249\u001b[0m args, kwargs \u001b[39m=\u001b[39m _signature_bind(solver_fun_signature, \u001b[39m*\u001b[39margs, \u001b[39m*\u001b[39m\u001b[39m*\u001b[39mkwargs)\n\u001b[1;32m    250\u001b[0m keys, vals \u001b[39m=\u001b[39m \u001b[39mlist\u001b[39m(kwargs\u001b[39m.\u001b[39mkeys()), \u001b[39mlist\u001b[39m(kwargs\u001b[39m.\u001b[39mvalues())\n\u001b[0;32m--> 251\u001b[0m \u001b[39mreturn\u001b[39;00m make_custom_vjp_solver_fun(solver_fun, keys)(\u001b[39m*\u001b[39;49margs, \u001b[39m*\u001b[39;49mvals)\n",
      "    \u001b[0;31m[... skipping hidden 6 frame]\u001b[0m\n",
      "File \u001b[0;32m~/miniconda3/envs/stac-mjx/lib/python3.12/site-packages/jaxopt/_src/implicit_diff.py:207\u001b[0m, in \u001b[0;36m_custom_root.<locals>.make_custom_vjp_solver_fun.<locals>.solver_fun_flat\u001b[0;34m(*flat_args)\u001b[0m\n\u001b[1;32m    204\u001b[0m \u001b[39m@jax\u001b[39m\u001b[39m.\u001b[39mcustom_vjp\n\u001b[1;32m    205\u001b[0m \u001b[39mdef\u001b[39;00m \u001b[39msolver_fun_flat\u001b[39m(\u001b[39m*\u001b[39mflat_args):\n\u001b[1;32m    206\u001b[0m   args, kwargs \u001b[39m=\u001b[39m _extract_kwargs(kwarg_keys, flat_args)\n\u001b[0;32m--> 207\u001b[0m   \u001b[39mreturn\u001b[39;00m solver_fun(\u001b[39m*\u001b[39;49margs, \u001b[39m*\u001b[39;49m\u001b[39m*\u001b[39;49mkwargs)\n",
      "File \u001b[0;32m~/miniconda3/envs/stac-mjx/lib/python3.12/site-packages/jaxopt/_src/base.py:301\u001b[0m, in \u001b[0;36mIterativeSolver._run\u001b[0;34m(self, init_params, *args, **kwargs)\u001b[0m\n\u001b[1;32m    297\u001b[0m \u001b[39mdef\u001b[39;00m \u001b[39m_run\u001b[39m(\u001b[39mself\u001b[39m,\n\u001b[1;32m    298\u001b[0m          init_params: Any,\n\u001b[1;32m    299\u001b[0m          \u001b[39m*\u001b[39margs,\n\u001b[1;32m    300\u001b[0m          \u001b[39m*\u001b[39m\u001b[39m*\u001b[39mkwargs) \u001b[39m-\u001b[39m\u001b[39m>\u001b[39m OptStep:\n\u001b[0;32m--> 301\u001b[0m   state \u001b[39m=\u001b[39m \u001b[39mself\u001b[39;49m\u001b[39m.\u001b[39;49minit_state(init_params, \u001b[39m*\u001b[39;49margs, \u001b[39m*\u001b[39;49m\u001b[39m*\u001b[39;49mkwargs)\n\u001b[1;32m    303\u001b[0m   \u001b[39m# We unroll the very first iteration. This allows `init_val` and `body_fun`\u001b[39;00m\n\u001b[1;32m    304\u001b[0m   \u001b[39m# below to have the same output type, which is a requirement of\u001b[39;00m\n\u001b[1;32m    305\u001b[0m   \u001b[39m# lax.while_loop and lax.scan.\u001b[39;00m\n\u001b[0;32m   (...)\u001b[0m\n\u001b[1;32m    316\u001b[0m   \u001b[39m# of a `lax.cond` for now in order to avoid staging the initial\u001b[39;00m\n\u001b[1;32m    317\u001b[0m   \u001b[39m# update and the run loop. They might not be staging compatible.\u001b[39;00m\n\u001b[1;32m    319\u001b[0m   zero_step \u001b[39m=\u001b[39m \u001b[39mself\u001b[39m\u001b[39m.\u001b[39m_make_zero_step(init_params, state)\n",
      "File \u001b[0;32m~/miniconda3/envs/stac-mjx/lib/python3.12/site-packages/jaxopt/_src/lbfgsb.py:359\u001b[0m, in \u001b[0;36mLBFGSB.init_state\u001b[0;34m(self, init_params, bounds, *args, **kwargs)\u001b[0m\n\u001b[1;32m    349\u001b[0m   dtype \u001b[39m=\u001b[39m tree_single_dtype(init_params)\n\u001b[1;32m    350\u001b[0m   state_kwargs \u001b[39m=\u001b[39m \u001b[39mdict\u001b[39m(\n\u001b[1;32m    351\u001b[0m       s_history\u001b[39m=\u001b[39minit_history(init_params, \u001b[39mself\u001b[39m\u001b[39m.\u001b[39mhistory_size),\n\u001b[1;32m    352\u001b[0m       y_history\u001b[39m=\u001b[39minit_history(init_params, \u001b[39mself\u001b[39m\u001b[39m.\u001b[39mhistory_size),\n\u001b[0;32m   (...)\u001b[0m\n\u001b[1;32m    356\u001b[0m       theta\u001b[39m=\u001b[39mjnp\u001b[39m.\u001b[39masarray(\u001b[39mself\u001b[39m\u001b[39m.\u001b[39mtheta, dtype\u001b[39m=\u001b[39mdtype),\n\u001b[1;32m    357\u001b[0m   )\n\u001b[0;32m--> 359\u001b[0m (value, aux), grad \u001b[39m=\u001b[39m \u001b[39mself\u001b[39;49m\u001b[39m.\u001b[39;49m_value_and_grad_with_aux(\n\u001b[1;32m    360\u001b[0m     init_params, \u001b[39m*\u001b[39;49margs, \u001b[39m*\u001b[39;49m\u001b[39m*\u001b[39;49mkwargs\n\u001b[1;32m    361\u001b[0m )\n\u001b[1;32m    362\u001b[0m \u001b[39mif\u001b[39;00m bounds \u001b[39mis\u001b[39;00m \u001b[39mNone\u001b[39;00m:\n\u001b[1;32m    363\u001b[0m   bounds \u001b[39m=\u001b[39m (tree_map(\u001b[39mlambda\u001b[39;00m x: \u001b[39m-\u001b[39mjnp\u001b[39m.\u001b[39minf \u001b[39m*\u001b[39m jnp\u001b[39m.\u001b[39mones_like(x), init_params),\n\u001b[1;32m    364\u001b[0m             tree_map(\u001b[39mlambda\u001b[39;00m x: jnp\u001b[39m.\u001b[39minf \u001b[39m*\u001b[39m jnp\u001b[39m.\u001b[39mones_like(x), init_params))\n",
      "    \u001b[0;31m[... skipping hidden 8 frame]\u001b[0m\n",
      "File \u001b[0;32m~/miniconda3/envs/stac-mjx/lib/python3.12/site-packages/jaxopt/_src/base.py:71\u001b[0m, in \u001b[0;36m_add_aux_to_fun.<locals>.fun_with_aux\u001b[0;34m(*a, **kw)\u001b[0m\n\u001b[1;32m     70\u001b[0m \u001b[39mdef\u001b[39;00m \u001b[39mfun_with_aux\u001b[39m(\u001b[39m*\u001b[39ma, \u001b[39m*\u001b[39m\u001b[39m*\u001b[39mkw):\n\u001b[0;32m---> 71\u001b[0m   \u001b[39mreturn\u001b[39;00m fun(\u001b[39m*\u001b[39;49ma, \u001b[39m*\u001b[39;49m\u001b[39m*\u001b[39;49mkw), \u001b[39mNone\u001b[39;00m\n",
      "File \u001b[0;32m~/github/stac-mjx/stac-mjx/stac_base.py:87\u001b[0m, in \u001b[0;36mq_loss\u001b[0;34m(q, mjx_model, mjx_data, kp_data, q_copy, qs_to_opt, kps_to_opt)\u001b[0m\n\u001b[1;32m     85\u001b[0m \u001b[39m# TODO: reimplement so qs_to_opt plays nice with dynamic arrays (dont index)\u001b[39;00m\n\u001b[1;32m     86\u001b[0m \u001b[39mif\u001b[39;00m qs_to_opt \u001b[39mis\u001b[39;00m \u001b[39mnot\u001b[39;00m \u001b[39mNone\u001b[39;00m:\n\u001b[0;32m---> 87\u001b[0m     q_copy \u001b[39m=\u001b[39m q_copy\u001b[39m.\u001b[39;49mat[qs_to_opt]\u001b[39m.\u001b[39;49mset(q)\n\u001b[1;32m     88\u001b[0m     q \u001b[39m=\u001b[39m jnp\u001b[39m.\u001b[39mcopy(q_copy)\n\u001b[1;32m     89\u001b[0m     \u001b[39m# q = jnp.copy((1 - qs_to_opt) * q_copy + qs_to_opt * q)\u001b[39;00m\n",
      "File \u001b[0;32m~/miniconda3/envs/stac-mjx/lib/python3.12/site-packages/jax/_src/numpy/array_methods.py:482\u001b[0m, in \u001b[0;36m_IndexUpdateRef.set\u001b[0;34m(self, values, indices_are_sorted, unique_indices, mode)\u001b[0m\n\u001b[1;32m    473\u001b[0m \u001b[39mdef\u001b[39;00m \u001b[39mset\u001b[39m(\u001b[39mself\u001b[39m, values, \u001b[39m*\u001b[39m, indices_are_sorted\u001b[39m=\u001b[39m\u001b[39mFalse\u001b[39;00m, unique_indices\u001b[39m=\u001b[39m\u001b[39mFalse\u001b[39;00m,\n\u001b[1;32m    474\u001b[0m         mode\u001b[39m=\u001b[39m\u001b[39mNone\u001b[39;00m):\n\u001b[1;32m    475\u001b[0m \u001b[39m  \u001b[39m\u001b[39m\"\"\"Pure equivalent of ``x[idx] = y``.\u001b[39;00m\n\u001b[1;32m    476\u001b[0m \n\u001b[1;32m    477\u001b[0m \u001b[39m  Returns the value of ``x`` that would result from the NumPy-style\u001b[39;00m\n\u001b[0;32m   (...)\u001b[0m\n\u001b[1;32m    480\u001b[0m \u001b[39m  See :mod:`jax.ops` for details.\u001b[39;00m\n\u001b[1;32m    481\u001b[0m \u001b[39m  \"\"\"\u001b[39;00m\n\u001b[0;32m--> 482\u001b[0m   \u001b[39mreturn\u001b[39;00m scatter\u001b[39m.\u001b[39;49m_scatter_update(\u001b[39mself\u001b[39;49m\u001b[39m.\u001b[39;49marray, \u001b[39mself\u001b[39;49m\u001b[39m.\u001b[39;49mindex, values, lax\u001b[39m.\u001b[39;49mscatter,\n\u001b[1;32m    483\u001b[0m                                  indices_are_sorted\u001b[39m=\u001b[39;49mindices_are_sorted,\n\u001b[1;32m    484\u001b[0m                                  unique_indices\u001b[39m=\u001b[39;49munique_indices, mode\u001b[39m=\u001b[39;49mmode)\n",
      "File \u001b[0;32m~/miniconda3/envs/stac-mjx/lib/python3.12/site-packages/jax/_src/ops/scatter.py:77\u001b[0m, in \u001b[0;36m_scatter_update\u001b[0;34m(x, idx, y, scatter_op, indices_are_sorted, unique_indices, mode, normalize_indices)\u001b[0m\n\u001b[1;32m     73\u001b[0m   y \u001b[39m=\u001b[39m jnp\u001b[39m.\u001b[39masarray(y)\n\u001b[1;32m     75\u001b[0m \u001b[39m# XLA gathers and scatters are very similar in structure; the scatter logic\u001b[39;00m\n\u001b[1;32m     76\u001b[0m \u001b[39m# is more or less a transpose of the gather equivalent.\u001b[39;00m\n\u001b[0;32m---> 77\u001b[0m treedef, static_idx, dynamic_idx \u001b[39m=\u001b[39m jnp\u001b[39m.\u001b[39;49m_split_index_for_jit(idx, x\u001b[39m.\u001b[39;49mshape)\n\u001b[1;32m     78\u001b[0m \u001b[39mreturn\u001b[39;00m _scatter_impl(x, y, scatter_op, treedef, static_idx, dynamic_idx,\n\u001b[1;32m     79\u001b[0m                      indices_are_sorted, unique_indices, mode,\n\u001b[1;32m     80\u001b[0m                      normalize_indices)\n",
      "File \u001b[0;32m~/miniconda3/envs/stac-mjx/lib/python3.12/site-packages/jax/_src/numpy/lax_numpy.py:4440\u001b[0m, in \u001b[0;36m_split_index_for_jit\u001b[0;34m(idx, shape)\u001b[0m\n\u001b[1;32m   4436\u001b[0m   \u001b[39mraise\u001b[39;00m \u001b[39mTypeError\u001b[39;00m(\u001b[39mf\u001b[39m\u001b[39m\"\u001b[39m\u001b[39mJAX does not support string indexing; got \u001b[39m\u001b[39m{\u001b[39;00midx\u001b[39m=}\u001b[39;00m\u001b[39m\"\u001b[39m)\n\u001b[1;32m   4438\u001b[0m \u001b[39m# Expand any (concrete) boolean indices. We can then use advanced integer\u001b[39;00m\n\u001b[1;32m   4439\u001b[0m \u001b[39m# indexing logic to handle them.\u001b[39;00m\n\u001b[0;32m-> 4440\u001b[0m idx \u001b[39m=\u001b[39m _expand_bool_indices(idx, shape)\n\u001b[1;32m   4442\u001b[0m leaves, treedef \u001b[39m=\u001b[39m tree_flatten(idx)\n\u001b[1;32m   4443\u001b[0m dynamic \u001b[39m=\u001b[39m [\u001b[39mNone\u001b[39;00m] \u001b[39m*\u001b[39m \u001b[39mlen\u001b[39m(leaves)\n",
      "File \u001b[0;32m~/miniconda3/envs/stac-mjx/lib/python3.12/site-packages/jax/_src/numpy/lax_numpy.py:4754\u001b[0m, in \u001b[0;36m_expand_bool_indices\u001b[0;34m(idx, shape)\u001b[0m\n\u001b[1;32m   4750\u001b[0m   abstract_i \u001b[39m=\u001b[39m core\u001b[39m.\u001b[39mget_aval(i)\n\u001b[1;32m   4752\u001b[0m \u001b[39mif\u001b[39;00m \u001b[39mnot\u001b[39;00m \u001b[39mtype\u001b[39m(abstract_i) \u001b[39mis\u001b[39;00m ConcreteArray:\n\u001b[1;32m   4753\u001b[0m   \u001b[39m# TODO(mattjj): improve this error by tracking _why_ the indices are not concrete\u001b[39;00m\n\u001b[0;32m-> 4754\u001b[0m   \u001b[39mraise\u001b[39;00m errors\u001b[39m.\u001b[39mNonConcreteBooleanIndexError(abstract_i)\n\u001b[1;32m   4755\u001b[0m \u001b[39melif\u001b[39;00m _ndim(i) \u001b[39m==\u001b[39m \u001b[39m0\u001b[39m:\n\u001b[1;32m   4756\u001b[0m   \u001b[39mraise\u001b[39;00m \u001b[39mTypeError\u001b[39;00m(\u001b[39m\"\u001b[39m\u001b[39mJAX arrays do not support boolean scalar indices\u001b[39m\u001b[39m\"\u001b[39m)\n",
      "\u001b[0;31mNonConcreteBooleanIndexError\u001b[0m: Array boolean indices must be concrete; got ShapedArray(bool[74])\n\nSee https://jax.readthedocs.io/en/latest/errors.html#jax.errors.NonConcreteBooleanIndexError"
     ]
    }
   ],
   "source": [
    "# fit\n",
    "fit_data = test_opt(root, fit_kp_data)\n",
    "save(fit_data, offset_path)"
   ]
  },
  {
   "cell_type": "code",
   "execution_count": null,
   "metadata": {},
   "outputs": [],
   "source": []
  }
 ],
 "metadata": {
  "kernelspec": {
   "display_name": "stac-mjx",
   "language": "python",
   "name": "python3"
  },
  "language_info": {
   "codemirror_mode": {
    "name": "ipython",
    "version": 3
   },
   "file_extension": ".py",
   "mimetype": "text/x-python",
   "name": "python",
   "nbconvert_exporter": "python",
   "pygments_lexer": "ipython3",
   "version": "3.12.0"
  }
 },
 "nbformat": 4,
 "nbformat_minor": 2
}
