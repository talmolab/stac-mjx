{
 "cells": [
  {
   "cell_type": "code",
   "execution_count": 1,
   "metadata": {},
   "outputs": [],
   "source": [
    "import utils\n",
    "import mujoco\n",
    "import os\n",
    "import pickle\n",
    "from scipy.io import savemat \n",
    "from dm_control import mjcf\n",
    "import numpy as np\n",
    "import jax\n",
    "from jax import numpy as jnp\n"
   ]
  },
  {
   "cell_type": "code",
   "execution_count": 2,
   "metadata": {},
   "outputs": [],
   "source": [
    "def save(fit_data, save_path):\n",
    "    \"\"\"Save data.\n",
    "\n",
    "    Args:\n",
    "        save_path (Text): Path to save data. Defaults to None.\n",
    "    \"\"\"\n",
    "    if os.path.dirname(save_path) != \"\":\n",
    "        os.makedirs(os.path.dirname(save_path), exist_ok=True)\n",
    "    _, file_extension = os.path.splitext(save_path)\n",
    "    if file_extension == \".p\":\n",
    "        with open(save_path, \"wb\") as output_file:\n",
    "            pickle.dump(fit_data, output_file, protocol=2)\n",
    "    elif file_extension == \".mat\":\n",
    "        savemat(save_path, fit_data)"
   ]
  },
  {
   "cell_type": "code",
   "execution_count": 3,
   "metadata": {},
   "outputs": [
    {
     "name": "stderr",
     "output_type": "stream",
     "text": [
      "/home/charles/miniconda3/envs/stac-mjx/lib/python3.12/site-packages/flax/configurations.py:42: DeprecationWarning: jax.config.define_bool_state is deprecated. Please use other libraries for configuration instead.\n",
      "  return jax_config.define_bool_state('flax_' + name, default, help)\n",
      "/home/charles/miniconda3/envs/stac-mjx/lib/python3.12/site-packages/flax/configurations.py:42: DeprecationWarning: jax.config.define_bool_state is deprecated. Please use other libraries for configuration instead.\n",
      "  return jax_config.define_bool_state('flax_' + name, default, help)\n",
      "/home/charles/miniconda3/envs/stac-mjx/lib/python3.12/site-packages/flax/configurations.py:42: DeprecationWarning: jax.config.define_bool_state is deprecated. Please use other libraries for configuration instead.\n",
      "  return jax_config.define_bool_state('flax_' + name, default, help)\n",
      "/home/charles/miniconda3/envs/stac-mjx/lib/python3.12/site-packages/flax/configurations.py:42: DeprecationWarning: jax.config.define_bool_state is deprecated. Please use other libraries for configuration instead.\n",
      "  return jax_config.define_bool_state('flax_' + name, default, help)\n",
      "/home/charles/miniconda3/envs/stac-mjx/lib/python3.12/site-packages/flax/configurations.py:42: DeprecationWarning: jax.config.define_bool_state is deprecated. Please use other libraries for configuration instead.\n",
      "  return jax_config.define_bool_state('flax_' + name, default, help)\n",
      "/home/charles/miniconda3/envs/stac-mjx/lib/python3.12/site-packages/flax/configurations.py:42: DeprecationWarning: jax.config.define_bool_state is deprecated. Please use other libraries for configuration instead.\n",
      "  return jax_config.define_bool_state('flax_' + name, default, help)\n"
     ]
    }
   ],
   "source": [
    "from controller import *"
   ]
  },
  {
   "cell_type": "code",
   "execution_count": 4,
   "metadata": {},
   "outputs": [],
   "source": [
    "params = utils.load_params(\"/home/charles/github/stac-mjx/params/params.yaml\")\n",
    "ratpath = \"/home/charles/github/stac-mjx/models/rodent.xml\"\n",
    "rat23path = \"/home/charles/github/stac-mjx/models/rat23.mat\"\n",
    "model = mujoco.MjModel.from_xml_path(ratpath)\n",
    "model.opt.solver = mujoco.mjtSolver.mjSOL_NEWTON\n",
    "model.opt.iterations = 1\n",
    "model.opt.ls_iterations = 1\n",
    "\n",
    "data_path = \"/home/charles/Desktop/save_data_AVG.mat\"\n",
    "offset_path = \"offset.p\"\n",
    "\n",
    "root = mjcf.from_path(ratpath)\n",
    "\n",
    "# Default ordering of mj sites is alphabetical, so we reorder to match\n",
    "kp_names = utils.loadmat(rat23path)[\"joint_names\"]\n",
    "# argsort returns the indices that would sort the array\n",
    "stac_keypoint_order = np.argsort(kp_names)\n",
    "\n",
    "# Load kp_data\n",
    "kp_data = utils.loadmat(data_path)[\"pred\"][:] / 1000\n"
   ]
  },
  {
   "cell_type": "code",
   "execution_count": 5,
   "metadata": {},
   "outputs": [],
   "source": [
    "# kp_data\n",
    "# TODO: store kp_data used in fit in another variable (small slice of kpdata)\n",
    "kp_data = prep_kp_data(kp_data, stac_keypoint_order, params)\n",
    "# chunk it to pass int vmapped functions\n",
    "kp_data, n_envs = chunk_kp_data(kp_data, params)"
   ]
  },
  {
   "cell_type": "code",
   "execution_count": 6,
   "metadata": {},
   "outputs": [
    {
     "data": {
      "text/plain": [
       "(1, 1000, 69)"
      ]
     },
     "execution_count": 6,
     "metadata": {},
     "output_type": "execute_result"
    }
   ],
   "source": [
    "kp_data[:1].shape"
   ]
  },
  {
   "cell_type": "code",
   "execution_count": 7,
   "metadata": {},
   "outputs": [
    {
     "ename": "AttributeError",
     "evalue": "'Model' object has no attribute 'sites_pos'",
     "output_type": "error",
     "traceback": [
      "\u001b[0;31m---------------------------------------------------------------------------\u001b[0m",
      "\u001b[0;31mAttributeError\u001b[0m                            Traceback (most recent call last)",
      "\u001b[1;32m/home/charles/github/stac-mjx/stac-mjx/stac_test.ipynb Cell 7\u001b[0m line \u001b[0;36m2\n\u001b[1;32m      <a href='vscode-notebook-cell:/home/charles/github/stac-mjx/stac-mjx/stac_test.ipynb#W5sZmlsZQ%3D%3D?line=0'>1</a>\u001b[0m \u001b[39m# fit\u001b[39;00m\n\u001b[0;32m----> <a href='vscode-notebook-cell:/home/charles/github/stac-mjx/stac-mjx/stac_test.ipynb#W5sZmlsZQ%3D%3D?line=1'>2</a>\u001b[0m fit_data \u001b[39m=\u001b[39m fit(root, kp_data[:\u001b[39m1\u001b[39;49m], params)\n\u001b[1;32m      <a href='vscode-notebook-cell:/home/charles/github/stac-mjx/stac-mjx/stac_test.ipynb#W5sZmlsZQ%3D%3D?line=2'>3</a>\u001b[0m save(fit_data, offset_path)\n",
      "File \u001b[0;32m~/github/stac-mjx/stac-mjx/controller.py:125\u001b[0m, in \u001b[0;36mfit\u001b[0;34m(root, kp_data, params)\u001b[0m\n\u001b[1;32m    122\u001b[0m offsets \u001b[39m=\u001b[39m np\u001b[39m.\u001b[39mcopy(stac_base\u001b[39m.\u001b[39mget_sites_pos(mj_model, site_index_map))\n\u001b[1;32m    123\u001b[0m offsets \u001b[39m*\u001b[39m\u001b[39m=\u001b[39m params[\u001b[39m'\u001b[39m\u001b[39mSCALE_FACTOR\u001b[39m\u001b[39m'\u001b[39m]\n\u001b[0;32m--> 125\u001b[0m mjx_model \u001b[39m=\u001b[39m stac_base\u001b[39m.\u001b[39;49mset_sites_pos(mjx_model, site_index_map, offsets) \n\u001b[1;32m    127\u001b[0m \u001b[39m# forward is used to calculate xpos and stuff, loop necessity tbd\u001b[39;00m\n\u001b[1;32m    128\u001b[0m mjx_data \u001b[39m=\u001b[39m stac_base\u001b[39m.\u001b[39mjit_forward(mjx_model, mjx_data)\n",
      "File \u001b[0;32m~/github/stac-mjx/stac-mjx/stac_base.py:50\u001b[0m, in \u001b[0;36mset_sites_pos\u001b[0;34m(mjx_model, site_index_map, offsets)\u001b[0m\n\u001b[1;32m     40\u001b[0m \u001b[39m\u001b[39m\u001b[39m\"\"\"Sets model.sites_pos to offets and returns\u001b[39;00m\n\u001b[1;32m     41\u001b[0m \n\u001b[1;32m     42\u001b[0m \u001b[39mArgs:\u001b[39;00m\n\u001b[0;32m   (...)\u001b[0m\n\u001b[1;32m     47\u001b[0m \u001b[39m    _type_: _description_\u001b[39;00m\n\u001b[1;32m     48\u001b[0m \u001b[39m\"\"\"\u001b[39;00m\n\u001b[1;32m     49\u001b[0m \u001b[39mfor\u001b[39;00m offset, i \u001b[39min\u001b[39;00m \u001b[39mzip\u001b[39m(offsets, site_index_map\u001b[39m.\u001b[39mvalues()):\n\u001b[0;32m---> 50\u001b[0m     mjx_model\u001b[39m.\u001b[39;49msites_pos[i] \u001b[39m=\u001b[39m offset\n\u001b[1;32m     52\u001b[0m \u001b[39mreturn\u001b[39;00m mjx_model\n",
      "\u001b[0;31mAttributeError\u001b[0m: 'Model' object has no attribute 'sites_pos'"
     ]
    }
   ],
   "source": [
    "# fit\n",
    "fit_data = fit(root, kp_data[:1], params)\n",
    "save(fit_data, offset_path)"
   ]
  },
  {
   "cell_type": "code",
   "execution_count": null,
   "metadata": {},
   "outputs": [],
   "source": []
  }
 ],
 "metadata": {
  "kernelspec": {
   "display_name": "stac-mjx",
   "language": "python",
   "name": "python3"
  },
  "language_info": {
   "codemirror_mode": {
    "name": "ipython",
    "version": 3
   },
   "file_extension": ".py",
   "mimetype": "text/x-python",
   "name": "python",
   "nbconvert_exporter": "python",
   "pygments_lexer": "ipython3",
   "version": "3.12.0"
  }
 },
 "nbformat": 4,
 "nbformat_minor": 2
}
