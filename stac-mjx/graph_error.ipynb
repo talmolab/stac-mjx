{
 "cells": [
  {
   "cell_type": "code",
   "execution_count": 11,
   "metadata": {},
   "outputs": [
    {
     "name": "stdout",
     "output_type": "stream",
     "text": [
      "The autoreload extension is already loaded. To reload it, use:\n",
      "  %reload_ext autoreload\n"
     ]
    }
   ],
   "source": [
    "%load_ext autoreload\n",
    "%autoreload 2\n",
    "from matplotlib import pyplot as plt\n",
    "import mujoco\n",
    "from mujoco import mjx\n",
    "import jax\n",
    "import pickle\n",
    "import numpy as np\n",
    "from dm_control import mjcf\n",
    "from dm_control.locomotion.walkers import rescale\n",
    "import utils\n",
    "import controller as ctrl\n",
    "import operations as op\n",
    "from jax import numpy as jnp\n",
    "model_xml = \"../models/rodent_stac_optimized.xml\"\n",
    "params_path = \"../params/params.yaml\"\n",
    "utils.init_params(params_path)\n",
    "\n",
    "data_path = \"../transform_every_1k_12_21_1.p\""
   ]
  },
  {
   "cell_type": "markdown",
   "metadata": {},
   "source": [
    "### set up mj model -- stepping in mujoco and not mjx so it's easier to update mjcf--the physics should be similar"
   ]
  },
  {
   "cell_type": "code",
   "execution_count": 12,
   "metadata": {},
   "outputs": [],
   "source": [
    "# Load mjx_model and mjx_data and set marker sites\n",
    "root = mjcf.from_path(model_xml)\n",
    "physics, mj_model = ctrl.create_body_sites(root)\n",
    "# physics, mj_model, keypoint_sites = ctrl.create_keypoint_sites(root)\n",
    "\n",
    "rescale.rescale_subtree(\n",
    "    root,\n",
    "    utils.params[\"SCALE_FACTOR\"],\n",
    "    utils.params[\"SCALE_FACTOR\"],\n",
    ")\n",
    "# Starting xpos and xquat for mjdata\n",
    "_UPRIGHT_POS = (0.0, 0.0, 0.94)\n",
    "_UPRIGHT_QUAT = (0.859, 1.0, 1.0, 0.859)\n",
    "\n",
    "# Load data\n",
    "with open(data_path, \"rb\") as file:\n",
    "    d = pickle.load(file)\n",
    "    qposes = np.array(d[\"qpos\"])\n",
    "    kp_data = np.array(d[\"kp_data\"])\n",
    "    offsets = np.array(d['offsets'])\n",
    "\n",
    "# slice kp_data to match qposes length\n",
    "kp_data = kp_data[:qposes.shape[0]]"
   ]
  },
  {
   "cell_type": "code",
   "execution_count": 13,
   "metadata": {},
   "outputs": [],
   "source": [
    "def resid(mjx_model, mjx_data, qpos, kps):\n",
    "    mjx_data = mjx_data.replace(qpos=qpos)\n",
    "    # Forward kinematics\n",
    "    mjx_data = op.kinematics(mjx_model, mjx_data)\n",
    "    mjx_data = op.com_pos(mjx_model, mjx_data)\n",
    "    # get marker positions\n",
    "    markers = op.get_site_xpos(mjx_data).flatten()\n",
    "    # Return the summed squared error\n",
    "    return jnp.sum(jnp.square((kps - markers)))"
   ]
  },
  {
   "cell_type": "code",
   "execution_count": null,
   "metadata": {},
   "outputs": [],
   "source": [
    "@jax.vmap\n",
    "def batch_init(batch_qposes):\n",
    "    mjx_model = mjx.put_model(mj_model)\n",
    "    mjx_model = op.set_site_pos(mjx_model, jnp.reshape(offsets, (-1, 3))) \n",
    "    mjx_data = mjx.make_data(mjx_model)\n",
    "    return mjx_model, mjx_data"
   ]
  },
  {
   "cell_type": "code",
   "execution_count": 14,
   "metadata": {},
   "outputs": [
    {
     "name": "stdout",
     "output_type": "stream",
     "text": [
      "0\n",
      "10000\n",
      "20000\n",
      "30000\n",
      "40000\n",
      "50000\n",
      "60000\n",
      "70000\n",
      "80000\n",
      "90000\n",
      "100000\n",
      "110000\n",
      "120000\n",
      "130000\n",
      "140000\n",
      "150000\n",
      "160000\n",
      "170000\n",
      "180000\n",
      "190000\n",
      "200000\n",
      "210000\n",
      "220000\n",
      "230000\n",
      "240000\n",
      "250000\n",
      "260000\n",
      "270000\n",
      "280000\n",
      "290000\n",
      "300000\n",
      "310000\n",
      "320000\n",
      "330000\n",
      "340000\n",
      "350000\n"
     ]
    }
   ],
   "source": [
    "# reshape qposes and kp_data such that it is shape: (n, b, x)\n",
    "# n = iterations, b = batchsize, x = dims of the data\n",
    "\n",
    "# could make this more jax friendly by having a batch dimension \n",
    "# and vmapping the whole thing\n",
    "jit_vmap_resid = jax.jit(jax.vmap(resid))\n",
    "\n",
    "errors = []\n",
    "# render while stepping using mujoco\n",
    "for i, (qpos, kps) in enumerate(zip(qposes, kp_data)):\n",
    "    if i%10000 == 0:\n",
    "        print(f\"{i}\")\n",
    "    # Calculate squared error btwn offsets and keypoints\n",
    "    errors.append(jit_vmap_resid(mjx_model, mjx_data, qpos, kps))"
   ]
  },
  {
   "cell_type": "code",
   "execution_count": 2,
   "metadata": {},
   "outputs": [
    {
     "ename": "NameError",
     "evalue": "name 'plt' is not defined",
     "output_type": "error",
     "traceback": [
      "\u001b[0;31m---------------------------------------------------------------------------\u001b[0m",
      "\u001b[0;31mNameError\u001b[0m                                 Traceback (most recent call last)",
      "Cell \u001b[0;32mIn[2], line 1\u001b[0m\n\u001b[0;32m----> 1\u001b[0m \u001b[43mplt\u001b[49m\u001b[38;5;241m.\u001b[39mylim(\u001b[38;5;241m0\u001b[39m, \u001b[38;5;241m0.15\u001b[39m)\n\u001b[1;32m      2\u001b[0m plt\u001b[38;5;241m.\u001b[39mtitle(\u001b[38;5;124m\"\u001b[39m\u001b[38;5;124mSummed squared error of frame marker offset\u001b[39m\u001b[38;5;124m\"\u001b[39m)\n\u001b[1;32m      3\u001b[0m plt\u001b[38;5;241m.\u001b[39mxlabel(\u001b[38;5;124m\"\u001b[39m\u001b[38;5;124mFrame #\u001b[39m\u001b[38;5;124m\"\u001b[39m)\n",
      "\u001b[0;31mNameError\u001b[0m: name 'plt' is not defined"
     ]
    }
   ],
   "source": [
    "plt.ylim(0, 0.15)\n",
    "plt.title(\"Summed squared error of frame marker offset\")\n",
    "plt.xlabel(\"Frame #\")\n",
    "plt.ylabel(\"Summed squared error\")\n",
    "x = 10000\n",
    "plt.scatter(np.arange(x), errors[:x], s=1)"
   ]
  },
  {
   "cell_type": "code",
   "execution_count": null,
   "metadata": {},
   "outputs": [],
   "source": []
  }
 ],
 "metadata": {
  "kernelspec": {
   "display_name": "stac-mjx",
   "language": "python",
   "name": "python3"
  },
  "language_info": {
   "codemirror_mode": {
    "name": "ipython",
    "version": 3
   },
   "file_extension": ".py",
   "mimetype": "text/x-python",
   "name": "python",
   "nbconvert_exporter": "python",
   "pygments_lexer": "ipython3",
   "version": "3.12.0"
  }
 },
 "nbformat": 4,
 "nbformat_minor": 2
}
