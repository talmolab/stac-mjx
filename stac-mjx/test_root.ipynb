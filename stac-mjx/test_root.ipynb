{
 "cells": [
  {
   "cell_type": "code",
   "execution_count": 1,
   "id": "cecab060-6927-43a3-a53f-8d4135ce785f",
   "metadata": {},
   "outputs": [
    {
     "data": {
      "text/plain": [
       "<contextlib._GeneratorContextManager at 0x140d46240>"
      ]
     },
     "execution_count": 1,
     "metadata": {},
     "output_type": "execute_result"
    }
   ],
   "source": [
    "import utils\n",
    "import mujoco\n",
    "import os\n",
    "import pickle\n",
    "from scipy.io import savemat \n",
    "from dm_control import mjcf\n",
    "import numpy as np\n",
    "import jax\n",
    "from jax import numpy as jnp\n",
    "import time\n",
    "from controller import *\n",
    "import stac_base\n",
    "\n",
    "# jax.disable_jit(disable=True)"
   ]
  },
  {
   "cell_type": "code",
   "execution_count": 2,
   "id": "3e77766e-95f4-4314-9591-79156b468180",
   "metadata": {},
   "outputs": [],
   "source": [
    "# If your machine is low on ram:\n",
    "# os.environ['XLA_PYTHON_CLIENT_MEM_FRACTION'] = '.6'\n",
    "# os.environ['XLA_PYTHON_CLIENT_PREALLOCATE'] = \"false\"\n",
    "\n",
    "def get_clip(kp_data, n_frames):\n",
    "    import random\n",
    "    max_index = kp_data.shape[0] - n_frames + 1\n",
    "    rand_start = random.randint(0, max_index)\n",
    "    return kp_data[rand_start:rand_start+n_frames,:]"
   ]
  },
  {
   "cell_type": "code",
   "execution_count": 3,
   "id": "8c1ed54a-0997-42ad-85d4-76ff25bb5995",
   "metadata": {},
   "outputs": [],
   "source": [
    "param_path = \"../params/params.yaml\"\n",
    "utils.init_params(param_path)"
   ]
  },
  {
   "cell_type": "code",
   "execution_count": 4,
   "id": "5d669c9b-ba62-4e3a-9cb2-da265fdc52eb",
   "metadata": {},
   "outputs": [],
   "source": [
    "rat_xml = \"../models/rodent_stac.xml\"\n",
    "rat23 = \"../models/rat23.mat\"\n",
    "data_path = \"../save_data_AVG.mat\"\n",
    "# data_path = \"/n/holylabs/LABS/olveczky_lab/holylfs02/Everyone/dannce_rig/dannce_ephys/art/2020_12_22_1/DANNCE/predict03/save_data_AVG.mat\" \n",
    "\n",
    "fit_path = \"floating_fit.p\"\n",
    "transform_path = \"floating_transform.p\"\n",
    "utils.params['FTOL'] = 1e-05\n",
    "utils.params['n_fit_frames'] = 500\n",
    "utils.params['N_ITERS'] = 1\n",
    "skip_transform = True"
   ]
  },
  {
   "cell_type": "code",
   "execution_count": 5,
   "id": "ef929f2c-9767-44b0-aa7f-ae410c5866c0",
   "metadata": {},
   "outputs": [],
   "source": [
    "model = mujoco.MjModel.from_xml_path(rat_xml)\n",
    "model.opt.solver = mujoco.mjtSolver.mjSOL_NEWTON\n",
    "model.opt.disableflags = mujoco.mjtDisableBit.mjDSBL_EULERDAMP\n",
    "model.opt.iterations = 1\n",
    "model.opt.ls_iterations = 4"
   ]
  },
  {
   "cell_type": "code",
   "execution_count": 6,
   "id": "2796fb84-81a3-4199-bd5b-e2b304d7cf08",
   "metadata": {},
   "outputs": [
    {
     "name": "stdout",
     "output_type": "stream",
     "text": [
      "Root Optimization:\n"
     ]
    },
    {
     "ename": "TracerBoolConversionError",
     "evalue": "Attempted boolean conversion of traced array with shape bool[]..\nSee https://jax.readthedocs.io/en/latest/errors.html#jax.errors.TracerBoolConversionError",
     "output_type": "error",
     "traceback": [
      "\u001b[0;31m---------------------------------------------------------------------------\u001b[0m",
      "\u001b[0;31mTracerBoolConversionError\u001b[0m                 Traceback (most recent call last)",
      "Cell \u001b[0;32mIn[6], line 35\u001b[0m\n\u001b[1;32m     33\u001b[0m mjx_data \u001b[38;5;241m=\u001b[39m mjx\u001b[38;5;241m.\u001b[39mkinematics(mjx_model, mjx_data)\n\u001b[1;32m     34\u001b[0m mjx_data \u001b[38;5;241m=\u001b[39m mjx\u001b[38;5;241m.\u001b[39mcom_pos(mjx_model, mjx_data)\n\u001b[0;32m---> 35\u001b[0m mjx_data \u001b[38;5;241m=\u001b[39m \u001b[43mroot_optimization\u001b[49m\u001b[43m(\u001b[49m\u001b[43mmjx_model\u001b[49m\u001b[43m,\u001b[49m\u001b[43m \u001b[49m\u001b[43mmjx_data\u001b[49m\u001b[43m,\u001b[49m\u001b[43m \u001b[49m\u001b[43mkp_data\u001b[49m\u001b[43m)\u001b[49m\n",
      "File \u001b[0;32m~/GitHub/stac-mjx/stac-mjx/compute_stac.py:63\u001b[0m, in \u001b[0;36mroot_optimization\u001b[0;34m(mjx_model, mjx_data, kp_data, frame)\u001b[0m\n\u001b[1;32m     61\u001b[0m \u001b[38;5;66;03m# print(qs_to_opt)\u001b[39;00m\n\u001b[1;32m     62\u001b[0m j \u001b[38;5;241m=\u001b[39m time\u001b[38;5;241m.\u001b[39mtime()\n\u001b[0;32m---> 63\u001b[0m q_opt_param \u001b[38;5;241m=\u001b[39m \u001b[43mstac_base\u001b[49m\u001b[38;5;241;43m.\u001b[39;49m\u001b[43mroot_q_opt\u001b[49m\u001b[43m(\u001b[49m\n\u001b[1;32m     64\u001b[0m \u001b[43m    \u001b[49m\u001b[43mmjx_model\u001b[49m\u001b[43m,\u001b[49m\u001b[43m \u001b[49m\n\u001b[1;32m     65\u001b[0m \u001b[43m    \u001b[49m\u001b[43mmjx_data\u001b[49m\u001b[43m,\u001b[49m\n\u001b[1;32m     66\u001b[0m \u001b[43m    \u001b[49m\u001b[43mbounds\u001b[49m\u001b[43m,\u001b[49m\u001b[43m \u001b[49m\n\u001b[1;32m     67\u001b[0m \u001b[43m    \u001b[49m\u001b[43mkp_data\u001b[49m\u001b[43m[\u001b[49m\u001b[43mframe\u001b[49m\u001b[43m,\u001b[49m\u001b[43m \u001b[49m\u001b[43m:\u001b[49m\u001b[43m]\u001b[49m\u001b[43m,\u001b[49m\n\u001b[1;32m     68\u001b[0m \u001b[43m    \u001b[49m\u001b[43mkps_to_opt\u001b[49m\u001b[43m,\u001b[49m\n\u001b[1;32m     69\u001b[0m \u001b[43m    \u001b[49m\u001b[43mutils\u001b[49m\u001b[38;5;241;43m.\u001b[39;49m\u001b[43mparams\u001b[49m\u001b[43m[\u001b[49m\u001b[38;5;124;43m\"\u001b[39;49m\u001b[38;5;124;43mROOT_MAXITER\u001b[39;49m\u001b[38;5;124;43m\"\u001b[39;49m\u001b[43m]\u001b[49m\u001b[43m,\u001b[49m\n\u001b[1;32m     70\u001b[0m \u001b[43m    \u001b[49m\u001b[43mroot_q0\u001b[49m\u001b[43m,\u001b[49m\n\u001b[1;32m     71\u001b[0m \u001b[43m\u001b[49m\u001b[43m)\u001b[49m\n\u001b[1;32m     72\u001b[0m \u001b[38;5;28mprint\u001b[39m(\u001b[38;5;124mf\u001b[39m\u001b[38;5;124m\"\u001b[39m\u001b[38;5;124mq_opt 1 finished in \u001b[39m\u001b[38;5;132;01m{\u001b[39;00mtime\u001b[38;5;241m.\u001b[39mtime()\u001b[38;5;241m-\u001b[39mj\u001b[38;5;132;01m}\u001b[39;00m\u001b[38;5;124m\"\u001b[39m)\n\u001b[1;32m     73\u001b[0m \u001b[38;5;66;03m# print(f\"resulting qs: {q_opt_param}\")\u001b[39;00m\n",
      "    \u001b[0;31m[... skipping hidden 12 frame]\u001b[0m\n",
      "File \u001b[0;32m~/GitHub/stac-mjx/stac-mjx/stac_base.py:251\u001b[0m, in \u001b[0;36mroot_q_opt\u001b[0;34m(mjx_model, mjx_data, bounds, marker_ref_arr, kps_to_opt, maxiter, q0)\u001b[0m\n\u001b[1;32m    248\u001b[0m \u001b[38;5;250m\u001b[39m\u001b[38;5;124;03m\"\"\"Update q_pose using estimated marker parameters.\u001b[39;00m\n\u001b[1;32m    249\u001b[0m \u001b[38;5;124;03m\"\"\"\u001b[39;00m\n\u001b[1;32m    250\u001b[0m \u001b[38;5;28;01mtry\u001b[39;00m:\n\u001b[0;32m--> 251\u001b[0m     q_opt_param \u001b[38;5;241m=\u001b[39m \u001b[43mlbfgsb_solve\u001b[49m\u001b[43m(\u001b[49m\u001b[43mq0\u001b[49m\u001b[43m,\u001b[49m\u001b[43m \u001b[49m\u001b[43mbounds\u001b[49m\u001b[43m,\u001b[49m\u001b[43m \u001b[49m\u001b[43mmjx_model\u001b[49m\u001b[43m,\u001b[49m\u001b[43m \u001b[49m\n\u001b[1;32m    252\u001b[0m \u001b[43m                \u001b[49m\u001b[43mmjx_data\u001b[49m\u001b[43m,\u001b[49m\u001b[43m \u001b[49m\n\u001b[1;32m    253\u001b[0m \u001b[43m                \u001b[49m\u001b[43mmarker_ref_arr\u001b[49m\u001b[38;5;241;43m.\u001b[39;49m\u001b[43mT\u001b[49m\u001b[43m,\u001b[49m\n\u001b[1;32m    254\u001b[0m \u001b[43m                \u001b[49m\u001b[38;5;66;43;03m# qs_to_opt,\u001b[39;49;00m\n\u001b[1;32m    255\u001b[0m \u001b[43m                \u001b[49m\u001b[43mkps_to_opt\u001b[49m\u001b[43m,\u001b[49m\n\u001b[1;32m    256\u001b[0m \u001b[43m                \u001b[49m\u001b[43mmaxiter\u001b[49m\n\u001b[1;32m    257\u001b[0m \u001b[43m                \u001b[49m\u001b[43m)\u001b[49m\n\u001b[1;32m    259\u001b[0m     \u001b[38;5;28;01mreturn\u001b[39;00m q_opt_param\n\u001b[1;32m    261\u001b[0m \u001b[38;5;28;01mexcept\u001b[39;00m \u001b[38;5;167;01mValueError\u001b[39;00m \u001b[38;5;28;01mas\u001b[39;00m ex:\n",
      "File \u001b[0;32m~/GitHub/stac-mjx/stac-mjx/stac_base.py:182\u001b[0m, in \u001b[0;36mlbfgsb_solve\u001b[0;34m(q0, bounds, mjx_model, mjx_data, kp_data, kps_to_opt, maxiter)\u001b[0m\n\u001b[1;32m    175\u001b[0m solver \u001b[38;5;241m=\u001b[39m LBFGSB(fun\u001b[38;5;241m=\u001b[39mtest_q_loss, \n\u001b[1;32m    176\u001b[0m                     tol\u001b[38;5;241m=\u001b[39mutils\u001b[38;5;241m.\u001b[39mparams[\u001b[38;5;124m\"\u001b[39m\u001b[38;5;124mQ_TOL\u001b[39m\u001b[38;5;124m\"\u001b[39m],\n\u001b[1;32m    177\u001b[0m                     maxiter\u001b[38;5;241m=\u001b[39mmaxiter,\n\u001b[1;32m    178\u001b[0m                     jit\u001b[38;5;241m=\u001b[39m\u001b[38;5;28;01mFalse\u001b[39;00m,\n\u001b[1;32m    179\u001b[0m                     verbose\u001b[38;5;241m=\u001b[39m\u001b[38;5;241m0\u001b[39m\n\u001b[1;32m    180\u001b[0m                     )\n\u001b[1;32m    181\u001b[0m \u001b[38;5;66;03m# print(q0.shape)\u001b[39;00m\n\u001b[0;32m--> 182\u001b[0m \u001b[38;5;28;01mreturn\u001b[39;00m \u001b[43msolver\u001b[49m\u001b[38;5;241;43m.\u001b[39;49m\u001b[43mrun\u001b[49m\u001b[43m(\u001b[49m\u001b[43mq0\u001b[49m\u001b[43m,\u001b[49m\u001b[43m \u001b[49m\u001b[43mbounds\u001b[49m\u001b[43m,\u001b[49m\u001b[43m \u001b[49m\u001b[43mmjx_model\u001b[49m\u001b[38;5;241;43m=\u001b[39;49m\u001b[43mmjx_model\u001b[49m\u001b[43m,\u001b[49m\u001b[43m \u001b[49m\n\u001b[1;32m    183\u001b[0m \u001b[43m                                \u001b[49m\u001b[43mmjx_data\u001b[49m\u001b[38;5;241;43m=\u001b[39;49m\u001b[43mmjx_data\u001b[49m\u001b[43m,\u001b[49m\u001b[43m \u001b[49m\n\u001b[1;32m    184\u001b[0m \u001b[43m                                \u001b[49m\u001b[43mkp_data\u001b[49m\u001b[38;5;241;43m=\u001b[39;49m\u001b[43mkp_data\u001b[49m\u001b[43m,\u001b[49m\n\u001b[1;32m    185\u001b[0m \u001b[43m                                \u001b[49m\u001b[38;5;66;43;03m# qs_to_opt=qs_to_opt,\u001b[39;49;00m\n\u001b[1;32m    186\u001b[0m \u001b[43m                                \u001b[49m\u001b[43mkps_to_opt\u001b[49m\u001b[38;5;241;43m=\u001b[39;49m\u001b[43mkps_to_opt\u001b[49m\u001b[43m,\u001b[49m\n\u001b[1;32m    187\u001b[0m \u001b[43m                                \u001b[49m\u001b[38;5;66;43;03m# initial_q=q0\u001b[39;49;00m\n\u001b[1;32m    188\u001b[0m \u001b[43m                                \u001b[49m\u001b[43m)\u001b[49m\u001b[38;5;241m.\u001b[39mparams\n",
      "File \u001b[0;32m~/miniforge3/envs/stac-mjx/lib/python3.12/site-packages/jaxopt/_src/base.py:359\u001b[0m, in \u001b[0;36mIterativeSolver.run\u001b[0;34m(self, init_params, *args, **kwargs)\u001b[0m\n\u001b[1;32m    352\u001b[0m   decorator \u001b[38;5;241m=\u001b[39m idf\u001b[38;5;241m.\u001b[39mcustom_root(\n\u001b[1;32m    353\u001b[0m       \u001b[38;5;28mself\u001b[39m\u001b[38;5;241m.\u001b[39moptimality_fun,\n\u001b[1;32m    354\u001b[0m       has_aux\u001b[38;5;241m=\u001b[39m\u001b[38;5;28;01mTrue\u001b[39;00m,\n\u001b[1;32m    355\u001b[0m       solve\u001b[38;5;241m=\u001b[39m\u001b[38;5;28mself\u001b[39m\u001b[38;5;241m.\u001b[39mimplicit_diff_solve,\n\u001b[1;32m    356\u001b[0m       reference_signature\u001b[38;5;241m=\u001b[39mreference_signature)\n\u001b[1;32m    357\u001b[0m   run \u001b[38;5;241m=\u001b[39m decorator(run)\n\u001b[0;32m--> 359\u001b[0m \u001b[38;5;28;01mreturn\u001b[39;00m \u001b[43mrun\u001b[49m\u001b[43m(\u001b[49m\u001b[43minit_params\u001b[49m\u001b[43m,\u001b[49m\u001b[43m \u001b[49m\u001b[38;5;241;43m*\u001b[39;49m\u001b[43margs\u001b[49m\u001b[43m,\u001b[49m\u001b[43m \u001b[49m\u001b[38;5;241;43m*\u001b[39;49m\u001b[38;5;241;43m*\u001b[39;49m\u001b[43mkwargs\u001b[49m\u001b[43m)\u001b[49m\n",
      "File \u001b[0;32m~/miniforge3/envs/stac-mjx/lib/python3.12/site-packages/jaxopt/_src/implicit_diff.py:251\u001b[0m, in \u001b[0;36m_custom_root.<locals>.wrapped_solver_fun\u001b[0;34m(*args, **kwargs)\u001b[0m\n\u001b[1;32m    249\u001b[0m args, kwargs \u001b[38;5;241m=\u001b[39m _signature_bind(solver_fun_signature, \u001b[38;5;241m*\u001b[39margs, \u001b[38;5;241m*\u001b[39m\u001b[38;5;241m*\u001b[39mkwargs)\n\u001b[1;32m    250\u001b[0m keys, vals \u001b[38;5;241m=\u001b[39m \u001b[38;5;28mlist\u001b[39m(kwargs\u001b[38;5;241m.\u001b[39mkeys()), \u001b[38;5;28mlist\u001b[39m(kwargs\u001b[38;5;241m.\u001b[39mvalues())\n\u001b[0;32m--> 251\u001b[0m \u001b[38;5;28;01mreturn\u001b[39;00m \u001b[43mmake_custom_vjp_solver_fun\u001b[49m\u001b[43m(\u001b[49m\u001b[43msolver_fun\u001b[49m\u001b[43m,\u001b[49m\u001b[43m \u001b[49m\u001b[43mkeys\u001b[49m\u001b[43m)\u001b[49m\u001b[43m(\u001b[49m\u001b[38;5;241;43m*\u001b[39;49m\u001b[43margs\u001b[49m\u001b[43m,\u001b[49m\u001b[43m \u001b[49m\u001b[38;5;241;43m*\u001b[39;49m\u001b[43mvals\u001b[49m\u001b[43m)\u001b[49m\n",
      "    \u001b[0;31m[... skipping hidden 6 frame]\u001b[0m\n",
      "File \u001b[0;32m~/miniforge3/envs/stac-mjx/lib/python3.12/site-packages/jaxopt/_src/implicit_diff.py:207\u001b[0m, in \u001b[0;36m_custom_root.<locals>.make_custom_vjp_solver_fun.<locals>.solver_fun_flat\u001b[0;34m(*flat_args)\u001b[0m\n\u001b[1;32m    204\u001b[0m \u001b[38;5;129m@jax\u001b[39m\u001b[38;5;241m.\u001b[39mcustom_vjp\n\u001b[1;32m    205\u001b[0m \u001b[38;5;28;01mdef\u001b[39;00m \u001b[38;5;21msolver_fun_flat\u001b[39m(\u001b[38;5;241m*\u001b[39mflat_args):\n\u001b[1;32m    206\u001b[0m   args, kwargs \u001b[38;5;241m=\u001b[39m _extract_kwargs(kwarg_keys, flat_args)\n\u001b[0;32m--> 207\u001b[0m   \u001b[38;5;28;01mreturn\u001b[39;00m \u001b[43msolver_fun\u001b[49m\u001b[43m(\u001b[49m\u001b[38;5;241;43m*\u001b[39;49m\u001b[43margs\u001b[49m\u001b[43m,\u001b[49m\u001b[43m \u001b[49m\u001b[38;5;241;43m*\u001b[39;49m\u001b[38;5;241;43m*\u001b[39;49m\u001b[43mkwargs\u001b[49m\u001b[43m)\u001b[49m\n",
      "File \u001b[0;32m~/miniforge3/envs/stac-mjx/lib/python3.12/site-packages/jaxopt/_src/base.py:321\u001b[0m, in \u001b[0;36mIterativeSolver._run\u001b[0;34m(self, init_params, *args, **kwargs)\u001b[0m\n\u001b[1;32m    303\u001b[0m \u001b[38;5;66;03m# We unroll the very first iteration. This allows `init_val` and `body_fun`\u001b[39;00m\n\u001b[1;32m    304\u001b[0m \u001b[38;5;66;03m# below to have the same output type, which is a requirement of\u001b[39;00m\n\u001b[1;32m    305\u001b[0m \u001b[38;5;66;03m# lax.while_loop and lax.scan.\u001b[39;00m\n\u001b[0;32m   (...)\u001b[0m\n\u001b[1;32m    316\u001b[0m \u001b[38;5;66;03m# of a `lax.cond` for now in order to avoid staging the initial\u001b[39;00m\n\u001b[1;32m    317\u001b[0m \u001b[38;5;66;03m# update and the run loop. They might not be staging compatible.\u001b[39;00m\n\u001b[1;32m    319\u001b[0m zero_step \u001b[38;5;241m=\u001b[39m \u001b[38;5;28mself\u001b[39m\u001b[38;5;241m.\u001b[39m_make_zero_step(init_params, state)\n\u001b[0;32m--> 321\u001b[0m opt_step \u001b[38;5;241m=\u001b[39m \u001b[38;5;28;43mself\u001b[39;49m\u001b[38;5;241;43m.\u001b[39;49m\u001b[43mupdate\u001b[49m\u001b[43m(\u001b[49m\u001b[43minit_params\u001b[49m\u001b[43m,\u001b[49m\u001b[43m \u001b[49m\u001b[43mstate\u001b[49m\u001b[43m,\u001b[49m\u001b[43m \u001b[49m\u001b[38;5;241;43m*\u001b[39;49m\u001b[43margs\u001b[49m\u001b[43m,\u001b[49m\u001b[43m \u001b[49m\u001b[38;5;241;43m*\u001b[39;49m\u001b[38;5;241;43m*\u001b[39;49m\u001b[43mkwargs\u001b[49m\u001b[43m)\u001b[49m\n\u001b[1;32m    322\u001b[0m init_val \u001b[38;5;241m=\u001b[39m (opt_step, (args, kwargs))\n\u001b[1;32m    324\u001b[0m unroll \u001b[38;5;241m=\u001b[39m \u001b[38;5;28mself\u001b[39m\u001b[38;5;241m.\u001b[39m_get_unroll_option()\n",
      "File \u001b[0;32m~/miniforge3/envs/stac-mjx/lib/python3.12/site-packages/jaxopt/_src/lbfgsb.py:477\u001b[0m, in \u001b[0;36mLBFGSB.update\u001b[0;34m(self, params, state, bounds, *args, **kwargs)\u001b[0m\n\u001b[1;32m    469\u001b[0m \u001b[38;5;28;01mif\u001b[39;00m use_linesearch:\n\u001b[1;32m    470\u001b[0m   init_stepsize \u001b[38;5;241m=\u001b[39m _init_stepsize(\n\u001b[1;32m    471\u001b[0m       \u001b[38;5;28mself\u001b[39m\u001b[38;5;241m.\u001b[39mlinesearch_init,\n\u001b[1;32m    472\u001b[0m       \u001b[38;5;28mself\u001b[39m\u001b[38;5;241m.\u001b[39mmax_stepsize,\n\u001b[0;32m   (...)\u001b[0m\n\u001b[1;32m    475\u001b[0m       state\u001b[38;5;241m.\u001b[39mstepsize,\n\u001b[1;32m    476\u001b[0m   )\n\u001b[0;32m--> 477\u001b[0m   new_stepsize, ls_state \u001b[38;5;241m=\u001b[39m \u001b[38;5;28;43mself\u001b[39;49m\u001b[38;5;241;43m.\u001b[39;49m\u001b[43mrun_ls\u001b[49m\u001b[43m(\u001b[49m\n\u001b[1;32m    478\u001b[0m \u001b[43m      \u001b[49m\u001b[43minit_stepsize\u001b[49m\u001b[43m,\u001b[49m\n\u001b[1;32m    479\u001b[0m \u001b[43m      \u001b[49m\u001b[43mparams\u001b[49m\u001b[43m,\u001b[49m\n\u001b[1;32m    480\u001b[0m \u001b[43m      \u001b[49m\u001b[43mvalue\u001b[49m\u001b[38;5;241;43m=\u001b[39;49m\u001b[43mstate\u001b[49m\u001b[38;5;241;43m.\u001b[39;49m\u001b[43mvalue\u001b[49m\u001b[43m,\u001b[49m\n\u001b[1;32m    481\u001b[0m \u001b[43m      \u001b[49m\u001b[43mgrad\u001b[49m\u001b[38;5;241;43m=\u001b[39;49m\u001b[43mstate\u001b[49m\u001b[38;5;241;43m.\u001b[39;49m\u001b[43mgrad\u001b[49m\u001b[43m,\u001b[49m\n\u001b[1;32m    482\u001b[0m \u001b[43m      \u001b[49m\u001b[43mdescent_direction\u001b[49m\u001b[38;5;241;43m=\u001b[39;49m\u001b[43mdescent_direction\u001b[49m\u001b[43m,\u001b[49m\n\u001b[1;32m    483\u001b[0m \u001b[43m      \u001b[49m\u001b[43mfun_args\u001b[49m\u001b[38;5;241;43m=\u001b[39;49m\u001b[43margs\u001b[49m\u001b[43m,\u001b[49m\n\u001b[1;32m    484\u001b[0m \u001b[43m      \u001b[49m\u001b[43mfun_kwargs\u001b[49m\u001b[38;5;241;43m=\u001b[39;49m\u001b[43mkwargs\u001b[49m\u001b[43m,\u001b[49m\n\u001b[1;32m    485\u001b[0m \u001b[43m  \u001b[49m\u001b[43m)\u001b[49m\n\u001b[1;32m    486\u001b[0m   new_params \u001b[38;5;241m=\u001b[39m ls_state\u001b[38;5;241m.\u001b[39mparams\n\u001b[1;32m    487\u001b[0m   new_value \u001b[38;5;241m=\u001b[39m ls_state\u001b[38;5;241m.\u001b[39mvalue\n",
      "File \u001b[0;32m~/miniforge3/envs/stac-mjx/lib/python3.12/site-packages/jaxopt/_src/base.py:492\u001b[0m, in \u001b[0;36mIterativeLineSearch.run\u001b[0;34m(self, init_stepsize, params, value, grad, descent_direction, fun_args, fun_kwargs)\u001b[0m\n\u001b[1;32m    483\u001b[0m \u001b[38;5;28;01mdef\u001b[39;00m \u001b[38;5;21mrun\u001b[39m(\u001b[38;5;28mself\u001b[39m,\n\u001b[1;32m    484\u001b[0m         init_stepsize: \u001b[38;5;28mfloat\u001b[39m,\n\u001b[1;32m    485\u001b[0m         params: Any,\n\u001b[0;32m   (...)\u001b[0m\n\u001b[1;32m    489\u001b[0m         fun_args: \u001b[38;5;28mlist\u001b[39m \u001b[38;5;241m=\u001b[39m [],\n\u001b[1;32m    490\u001b[0m         fun_kwargs: \u001b[38;5;28mdict\u001b[39m \u001b[38;5;241m=\u001b[39m {}) \u001b[38;5;241m-\u001b[39m\u001b[38;5;241m>\u001b[39m LineSearchStep:\n\u001b[0;32m--> 492\u001b[0m   \u001b[38;5;28;01mreturn\u001b[39;00m \u001b[38;5;28;43msuper\u001b[39;49m\u001b[43m(\u001b[49m\u001b[43m)\u001b[49m\u001b[38;5;241;43m.\u001b[39;49m\u001b[43m_run\u001b[49m\u001b[43m(\u001b[49m\u001b[43minit_stepsize\u001b[49m\u001b[43m,\u001b[49m\u001b[43m \u001b[49m\u001b[43mparams\u001b[49m\u001b[43m,\u001b[49m\u001b[43m \u001b[49m\u001b[43mvalue\u001b[49m\u001b[43m,\u001b[49m\u001b[43m \u001b[49m\u001b[43mgrad\u001b[49m\u001b[43m,\u001b[49m\u001b[43m \u001b[49m\u001b[43mdescent_direction\u001b[49m\u001b[43m,\u001b[49m\n\u001b[1;32m    493\u001b[0m \u001b[43m                      \u001b[49m\u001b[43mfun_args\u001b[49m\u001b[43m,\u001b[49m\u001b[43m \u001b[49m\u001b[43mfun_kwargs\u001b[49m\u001b[43m)\u001b[49m\n",
      "File \u001b[0;32m~/miniforge3/envs/stac-mjx/lib/python3.12/site-packages/jaxopt/_src/base.py:326\u001b[0m, in \u001b[0;36mIterativeSolver._run\u001b[0;34m(self, init_params, *args, **kwargs)\u001b[0m\n\u001b[1;32m    322\u001b[0m init_val \u001b[38;5;241m=\u001b[39m (opt_step, (args, kwargs))\n\u001b[1;32m    324\u001b[0m unroll \u001b[38;5;241m=\u001b[39m \u001b[38;5;28mself\u001b[39m\u001b[38;5;241m.\u001b[39m_get_unroll_option()\n\u001b[0;32m--> 326\u001b[0m many_step \u001b[38;5;241m=\u001b[39m \u001b[43mloop\u001b[49m\u001b[38;5;241;43m.\u001b[39;49m\u001b[43mwhile_loop\u001b[49m\u001b[43m(\u001b[49m\n\u001b[1;32m    327\u001b[0m \u001b[43m    \u001b[49m\u001b[43mcond_fun\u001b[49m\u001b[38;5;241;43m=\u001b[39;49m\u001b[38;5;28;43mself\u001b[39;49m\u001b[38;5;241;43m.\u001b[39;49m\u001b[43m_cond_fun\u001b[49m\u001b[43m,\u001b[49m\u001b[43m \u001b[49m\u001b[43mbody_fun\u001b[49m\u001b[38;5;241;43m=\u001b[39;49m\u001b[38;5;28;43mself\u001b[39;49m\u001b[38;5;241;43m.\u001b[39;49m\u001b[43m_body_fun\u001b[49m\u001b[43m,\u001b[49m\n\u001b[1;32m    328\u001b[0m \u001b[43m    \u001b[49m\u001b[43minit_val\u001b[49m\u001b[38;5;241;43m=\u001b[39;49m\u001b[43minit_val\u001b[49m\u001b[43m,\u001b[49m\u001b[43m \u001b[49m\u001b[43mmaxiter\u001b[49m\u001b[38;5;241;43m=\u001b[39;49m\u001b[38;5;28;43mself\u001b[39;49m\u001b[38;5;241;43m.\u001b[39;49m\u001b[43mmaxiter\u001b[49m\u001b[43m \u001b[49m\u001b[38;5;241;43m-\u001b[39;49m\u001b[43m \u001b[49m\u001b[38;5;241;43m1\u001b[39;49m\u001b[43m,\u001b[49m\u001b[43m \u001b[49m\u001b[43mjit\u001b[49m\u001b[38;5;241;43m=\u001b[39;49m\u001b[38;5;28;43mself\u001b[39;49m\u001b[38;5;241;43m.\u001b[39;49m\u001b[43mjit\u001b[49m\u001b[43m,\u001b[49m\n\u001b[1;32m    329\u001b[0m \u001b[43m    \u001b[49m\u001b[43munroll\u001b[49m\u001b[38;5;241;43m=\u001b[39;49m\u001b[43munroll\u001b[49m\u001b[43m)\u001b[49m[\u001b[38;5;241m0\u001b[39m]\n\u001b[1;32m    331\u001b[0m \u001b[38;5;28;01mreturn\u001b[39;00m tree_util\u001b[38;5;241m.\u001b[39mtree_map(\n\u001b[1;32m    332\u001b[0m     functools\u001b[38;5;241m.\u001b[39mpartial(_where, \u001b[38;5;28mself\u001b[39m\u001b[38;5;241m.\u001b[39mmaxiter \u001b[38;5;241m==\u001b[39m \u001b[38;5;241m0\u001b[39m), zero_step, many_step,\n\u001b[1;32m    333\u001b[0m     is_leaf\u001b[38;5;241m=\u001b[39m\u001b[38;5;28;01mlambda\u001b[39;00m x: x \u001b[38;5;129;01mis\u001b[39;00m \u001b[38;5;28;01mNone\u001b[39;00m)\n",
      "File \u001b[0;32m~/miniforge3/envs/stac-mjx/lib/python3.12/site-packages/jaxopt/_src/loop.py:82\u001b[0m, in \u001b[0;36mwhile_loop\u001b[0;34m(cond_fun, body_fun, init_val, maxiter, unroll, jit)\u001b[0m\n\u001b[1;32m     77\u001b[0m \u001b[38;5;28;01mif\u001b[39;00m jit \u001b[38;5;129;01mand\u001b[39;00m fun \u001b[38;5;129;01mis\u001b[39;00m \u001b[38;5;129;01mnot\u001b[39;00m _while_loop_lax:\n\u001b[1;32m     78\u001b[0m   \u001b[38;5;66;03m# jit of a lax while_loop is redundant, and this jit would only\u001b[39;00m\n\u001b[1;32m     79\u001b[0m   \u001b[38;5;66;03m# constrain maxiter to be static where it is not required.\u001b[39;00m\n\u001b[1;32m     80\u001b[0m   fun \u001b[38;5;241m=\u001b[39m jax\u001b[38;5;241m.\u001b[39mjit(fun, static_argnums\u001b[38;5;241m=\u001b[39m(\u001b[38;5;241m0\u001b[39m, \u001b[38;5;241m1\u001b[39m, \u001b[38;5;241m3\u001b[39m))\n\u001b[0;32m---> 82\u001b[0m \u001b[38;5;28;01mreturn\u001b[39;00m \u001b[43mfun\u001b[49m\u001b[43m(\u001b[49m\u001b[43mcond_fun\u001b[49m\u001b[43m,\u001b[49m\u001b[43m \u001b[49m\u001b[43mbody_fun\u001b[49m\u001b[43m,\u001b[49m\u001b[43m \u001b[49m\u001b[43minit_val\u001b[49m\u001b[43m,\u001b[49m\u001b[43m \u001b[49m\u001b[43mmaxiter\u001b[49m\u001b[43m)\u001b[49m\n",
      "File \u001b[0;32m~/miniforge3/envs/stac-mjx/lib/python3.12/site-packages/jaxopt/_src/loop.py:42\u001b[0m, in \u001b[0;36m_while_loop_python\u001b[0;34m(cond_fun, body_fun, init_val, maxiter)\u001b[0m\n\u001b[1;32m     40\u001b[0m \u001b[38;5;28;01mfor\u001b[39;00m _ \u001b[38;5;129;01min\u001b[39;00m \u001b[38;5;28mrange\u001b[39m(maxiter):\n\u001b[1;32m     41\u001b[0m   cond \u001b[38;5;241m=\u001b[39m cond_fun(val)\n\u001b[0;32m---> 42\u001b[0m   \u001b[38;5;28;01mif\u001b[39;00m \u001b[38;5;129;01mnot\u001b[39;00m cond:\n\u001b[1;32m     43\u001b[0m     \u001b[38;5;66;03m# When condition is met, break (not jittable).\u001b[39;00m\n\u001b[1;32m     44\u001b[0m     \u001b[38;5;28;01mbreak\u001b[39;00m\n\u001b[1;32m     45\u001b[0m   val \u001b[38;5;241m=\u001b[39m body_fun(val)\n",
      "    \u001b[0;31m[... skipping hidden 1 frame]\u001b[0m\n",
      "File \u001b[0;32m~/miniforge3/envs/stac-mjx/lib/python3.12/site-packages/jax/_src/core.py:1443\u001b[0m, in \u001b[0;36mconcretization_function_error.<locals>.error\u001b[0;34m(self, arg)\u001b[0m\n\u001b[1;32m   1442\u001b[0m \u001b[38;5;28;01mdef\u001b[39;00m \u001b[38;5;21merror\u001b[39m(\u001b[38;5;28mself\u001b[39m, arg):\n\u001b[0;32m-> 1443\u001b[0m   \u001b[38;5;28;01mraise\u001b[39;00m TracerBoolConversionError(arg)\n",
      "\u001b[0;31mTracerBoolConversionError\u001b[0m: Attempted boolean conversion of traced array with shape bool[]..\nSee https://jax.readthedocs.io/en/latest/errors.html#jax.errors.TracerBoolConversionError"
     ]
    }
   ],
   "source": [
    "start_time = time.time()\n",
    "\n",
    "root = mjcf.from_path(rat_xml)\n",
    "\n",
    "# Default ordering of mj sites is alphabetical, so we reorder to match\n",
    "kp_names = utils.loadmat(rat23)[\"joint_names\"]\n",
    "utils.params[\"kp_names\"] = kp_names\n",
    "\n",
    "# argsort returns the indices that would sort the array\n",
    "stac_keypoint_order = np.argsort(kp_names)\n",
    "# Load kp_data, /1000 to scale data (from mm to meters i think?)\n",
    "kp_data = utils.loadmat(data_path)[\"pred\"][:] / 1000\n",
    "\n",
    "kp_data = prep_kp_data(kp_data, stac_keypoint_order)\n",
    "\n",
    "# setup for fit\n",
    "physics, mj_model = set_body_sites(root)\n",
    "part_opt_setup(physics)\n",
    "\n",
    "# Run root optimization\n",
    "# Create mjx model and data\n",
    "mjx_model = mjx.put_model(mj_model)\n",
    "mjx_data = mjx.make_data(mjx_model)\n",
    "\n",
    "# Get and set the offsets of the markers\n",
    "offsets = jnp.copy(stac_base.get_site_pos(mjx_model))\n",
    "offsets *= utils.params['SCALE_FACTOR']\n",
    "\n",
    "# print(mjx_model.site_pos, mjx_model.site_pos.shape)\n",
    "mjx_model = stac_base.set_site_pos(mjx_model, offsets)\n",
    "\n",
    "# forward is used to calculate xpos and such\n",
    "mjx_data = mjx.kinematics(mjx_model, mjx_data)\n",
    "mjx_data = mjx.com_pos(mjx_model, mjx_data)\n",
    "mjx_data = root_optimization(mjx_model, mjx_data, kp_data)"
   ]
  },
  {
   "cell_type": "markdown",
   "id": "44353b8c",
   "metadata": {},
   "source": [
    "save in the same format and use viz.py"
   ]
  },
  {
   "cell_type": "code",
   "execution_count": null,
   "id": "51fb1fff",
   "metadata": {},
   "outputs": [
    {
     "data": {
      "text/plain": [
       "(360000, 69)"
      ]
     },
     "execution_count": 7,
     "metadata": {},
     "output_type": "execute_result"
    }
   ],
   "source": [
    "kp_data.shape"
   ]
  },
  {
   "cell_type": "code",
   "execution_count": null,
   "id": "b9306ee3",
   "metadata": {},
   "outputs": [],
   "source": [
    "offset_path = \"root.p\"\n",
    "data = {\n",
    "        \"kp_data\": kp_data,\n",
    "        \"qpos\": [mjx_data.qpos[:]],\n",
    "        \"offsets\": offsets,\n",
    "        # \"walker_body_sites\": [stac_base.get_site_xpos(mjx_data)],\n",
    "        \"xpos\": [mjx_data.xpos[:]],\n",
    "        \"names_qpos\": initialize_part_names(physics) # utils.params[\"part_names\"],\n",
    "        # \"names_xpos\": physics.named.data.xpos.axes.row.names,\n",
    "    }\n",
    "if os.path.dirname(offset_path) != \"\":\n",
    "    os.makedirs(os.path.dirname(offset_path), exist_ok=True)\n",
    "with open(offset_path, \"wb\") as output_file:\n",
    "    pickle.dump(data, output_file, protocol=2)"
   ]
  },
  {
   "cell_type": "code",
   "execution_count": null,
   "id": "4c7e8a45",
   "metadata": {},
   "outputs": [
    {
     "name": "stdout",
     "output_type": "stream",
     "text": [
      "(1, 74)\n",
      "walker: <walkers.Rat object at 0x17ea7f230>\n",
      "arena: <arenas.DannceArena object at 0x3b46a12b0>\n",
      "<dm_control.composer.environment.Environment object at 0x3ac21e750>\n"
     ]
    },
    {
     "name": "stderr",
     "output_type": "stream",
     "text": [
      "/Users/charleszhang/miniforge3/envs/stac-mjx/lib/python3.12/site-packages/imageio_ffmpeg/_utils.py:7: DeprecationWarning: pkg_resources is deprecated as an API. See https://setuptools.pypa.io/en/latest/pkg_resources.html\n",
      "  from pkg_resources import resource_filename\n"
     ]
    },
    {
     "data": {
      "text/html": [
       "<video src=\"../videos/root.mp4\" controls  >\n",
       "      Your browser does not support the <code>video</code> element.\n",
       "    </video>"
      ],
      "text/plain": [
       "<IPython.core.display.Video object>"
      ]
     },
     "execution_count": 9,
     "metadata": {},
     "output_type": "execute_result"
    }
   ],
   "source": [
    "import viz\n",
    "from IPython.display import Video\n",
    "\n",
    "save_path = \"../videos/root.mp4\"\n",
    "viz.render_mujoco(\n",
    "    \"../params/params.yaml\",\n",
    "    offset_path,\n",
    "    save_path,\n",
    "    frames = np.arange(1),\n",
    ")\n",
    "Video(save_path)"
   ]
  },
  {
   "cell_type": "code",
   "execution_count": null,
   "id": "9d2b9ac6-5acb-4aa0-84ce-ff7858d17ea2",
   "metadata": {},
   "outputs": [
    {
     "ename": "NameError",
     "evalue": "name 'enums' is not defined",
     "output_type": "error",
     "traceback": [
      "\u001b[0;31m---------------------------------------------------------------------------\u001b[0m",
      "\u001b[0;31mNameError\u001b[0m                                 Traceback (most recent call last)",
      "Cell \u001b[0;32mIn[10], line 5\u001b[0m\n\u001b[1;32m      3\u001b[0m scene_option\u001b[38;5;241m.\u001b[39msitegroup[\u001b[38;5;241m2\u001b[39m] \u001b[38;5;241m=\u001b[39m \u001b[38;5;241m1\u001b[39m\n\u001b[1;32m      4\u001b[0m scene_option\u001b[38;5;241m.\u001b[39msitegroup[\u001b[38;5;241m3\u001b[39m] \u001b[38;5;241m=\u001b[39m \u001b[38;5;241m1\u001b[39m\n\u001b[0;32m----> 5\u001b[0m scene_option\u001b[38;5;241m.\u001b[39mflags[\u001b[43menums\u001b[49m\u001b[38;5;241m.\u001b[39mmjtVisFlag\u001b[38;5;241m.\u001b[39mmjVIS_TRANSPARENT] \u001b[38;5;241m=\u001b[39m \u001b[38;5;28;01mTrue\u001b[39;00m\n\u001b[1;32m      6\u001b[0m scene_option\u001b[38;5;241m.\u001b[39mflags[enums\u001b[38;5;241m.\u001b[39mmjtVisFlag\u001b[38;5;241m.\u001b[39mmjVIS_LIGHT] \u001b[38;5;241m=\u001b[39m \u001b[38;5;28;01mFalse\u001b[39;00m\n\u001b[1;32m      7\u001b[0m scene_option\u001b[38;5;241m.\u001b[39mflags[enums\u001b[38;5;241m.\u001b[39mmjtVisFlag\u001b[38;5;241m.\u001b[39mmjVIS_CONVEXHULL] \u001b[38;5;241m=\u001b[39m \u001b[38;5;28;01mTrue\u001b[39;00m\n",
      "\u001b[0;31mNameError\u001b[0m: name 'enums' is not defined"
     ]
    }
   ],
   "source": [
    "\n",
    "scene_option = mujoco.MjvOption()\n",
    "scene_option.geomgroup[2] = 1\n",
    "scene_option.sitegroup[2] = 1\n",
    "scene_option.sitegroup[3] = 1\n",
    "scene_option.flags[enums.mjtVisFlag.mjVIS_TRANSPARENT] = True\n",
    "scene_option.flags[enums.mjtVisFlag.mjVIS_LIGHT] = False\n",
    "scene_option.flags[enums.mjtVisFlag.mjVIS_CONVEXHULL] = True\n",
    "# render the frame (frame 0)\n",
    "renderer = mujoco.Renderer(model)\n",
    "mj_data = mjx.get_data(mj_model, mjx_data)\n",
    "renderer.update_scene(mj_data, scene_option=scene_option)\n",
    "pixels = renderer.render()"
   ]
  },
  {
   "cell_type": "code",
   "execution_count": null,
   "id": "d7a2ab2e-73f7-4815-843b-bd15e2535cc6",
   "metadata": {},
   "outputs": [],
   "source": []
  }
 ],
 "metadata": {
  "kernelspec": {
   "display_name": "stac-mjx",
   "language": "python",
   "name": "python3"
  },
  "language_info": {
   "codemirror_mode": {
    "name": "ipython",
    "version": 3
   },
   "file_extension": ".py",
   "mimetype": "text/x-python",
   "name": "python",
   "nbconvert_exporter": "python",
   "pygments_lexer": "ipython3",
   "version": "3.12.0"
  }
 },
 "nbformat": 4,
 "nbformat_minor": 5
}
