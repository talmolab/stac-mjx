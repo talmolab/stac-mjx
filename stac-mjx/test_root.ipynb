{
 "cells": [
  {
   "cell_type": "code",
   "execution_count": 1,
   "id": "cecab060-6927-43a3-a53f-8d4135ce785f",
   "metadata": {},
   "outputs": [],
   "source": [
    "import utils\n",
    "import mujoco\n",
    "import os\n",
    "import pickle\n",
    "from scipy.io import savemat \n",
    "from dm_control import mjcf\n",
    "import numpy as np\n",
    "import jax\n",
    "from jax import numpy as jnp\n",
    "import time\n",
    "from controller import *\n",
    "import stac_base\n",
    "\n",
    "# jax.disable_jit(disable=True)"
   ]
  },
  {
   "cell_type": "code",
   "execution_count": 2,
   "id": "3e77766e-95f4-4314-9591-79156b468180",
   "metadata": {},
   "outputs": [],
   "source": [
    "# If your machine is low on ram:\n",
    "# os.environ['XLA_PYTHON_CLIENT_MEM_FRACTION'] = '.6'\n",
    "# os.environ['XLA_PYTHON_CLIENT_PREALLOCATE'] = \"false\"\n",
    "\n",
    "def get_clip(kp_data, n_frames):\n",
    "    import random\n",
    "    max_index = kp_data.shape[0] - n_frames + 1\n",
    "    rand_start = random.randint(0, max_index)\n",
    "    return kp_data[rand_start:rand_start+n_frames,:]"
   ]
  },
  {
   "cell_type": "code",
   "execution_count": 3,
   "id": "8c1ed54a-0997-42ad-85d4-76ff25bb5995",
   "metadata": {},
   "outputs": [],
   "source": [
    "param_path = \"../params/params.yaml\"\n",
    "utils.init_params(param_path)"
   ]
  },
  {
   "cell_type": "code",
   "execution_count": 4,
   "id": "5d669c9b-ba62-4e3a-9cb2-da265fdc52eb",
   "metadata": {},
   "outputs": [],
   "source": [
    "rat_xml = \"../models/rodent_stac.xml\"\n",
    "rat23 = \"../models/rat23.mat\"\n",
    "data_path = \"../save_data_AVG.mat\"\n",
    "# data_path = \"/n/holylabs/LABS/olveczky_lab/holylfs02/Everyone/dannce_rig/dannce_ephys/art/2020_12_22_1/DANNCE/predict03/save_data_AVG.mat\" \n",
    "\n",
    "fit_path = \"floating_fit.p\"\n",
    "transform_path = \"floating_transform.p\"\n",
    "utils.params['Q_TOL'] = 1e-8\n",
    "utils.params['n_fit_frames'] = 500\n",
    "utils.params['N_ITERS'] = 1\n",
    "skip_transform = True"
   ]
  },
  {
   "cell_type": "code",
   "execution_count": 5,
   "id": "ef929f2c-9767-44b0-aa7f-ae410c5866c0",
   "metadata": {},
   "outputs": [],
   "source": [
    "model = mujoco.MjModel.from_xml_path(rat_xml)\n",
    "model.opt.solver = mujoco.mjtSolver.mjSOL_NEWTON\n",
    "model.opt.disableflags = mujoco.mjtDisableBit.mjDSBL_EULERDAMP\n",
    "model.opt.iterations = 1\n",
    "model.opt.ls_iterations = 4"
   ]
  },
  {
   "cell_type": "code",
   "execution_count": 6,
   "id": "2796fb84-81a3-4199-bd5b-e2b304d7cf08",
   "metadata": {},
   "outputs": [
    {
     "name": "stdout",
     "output_type": "stream",
     "text": [
      "Root Optimization:\n",
      "lb: (74,)\n",
      " ub: (74,)\n"
     ]
    },
    {
     "name": "stderr",
     "output_type": "stream",
     "text": [
      "2024-02-20 14:12:56.147790: E external/xla/xla/service/slow_operation_alarm.cc:65] \n",
      "********************************\n",
      "[Compiling module jit_q_opt] Very slow compile? If you want to file a bug, run with envvar XLA_FLAGS=--xla_dump_to=/tmp/foo and attach the results.\n",
      "********************************\n",
      "2024-02-20 14:15:48.041300: E external/xla/xla/service/slow_operation_alarm.cc:133] The operation took 4m51.89963s\n",
      "\n",
      "********************************\n",
      "[Compiling module jit_q_opt] Very slow compile? If you want to file a bug, run with envvar XLA_FLAGS=--xla_dump_to=/tmp/foo and attach the results.\n",
      "********************************\n"
     ]
    },
    {
     "name": "stdout",
     "output_type": "stream",
     "text": [
      "q_opt 1 finished in 390.6724708080292 with an error of 1.9894706992928946e-09\n",
      "Replace 1 finished in 317.7037088871002\n",
      "starting q_opt 2\n",
      "starting qs: [ 0.34545239  0.0708037   0.03804783  0.84471372  0.06146757 -0.06952961\n",
      "  0.5271111   0.          0.          0.          0.          0.\n",
      "  0.          0.          0.          0.          0.          0.\n",
      "  0.          0.          0.          0.          0.          0.\n",
      "  0.          0.          0.          0.          0.          0.\n",
      "  0.          0.          0.          0.          0.          0.\n",
      "  0.          0.          0.          0.          0.          0.\n",
      "  0.          0.          0.          0.          0.          0.\n",
      "  0.          0.          0.          0.          0.          0.\n",
      "  0.          0.          0.          0.          0.          0.\n",
      "  0.          0.          0.          0.          0.          0.\n",
      "  0.          0.          0.          0.          0.          0.\n",
      "  0.          0.        ]\n",
      "q_opt 1 finished in 0.007364988327026367 with an error of 9.696738745290645e-09\n",
      "resulting qs: [ 0.36066774  0.03979538  0.06770799  0.8460984   0.08534637 -0.12028784\n",
      "  0.51230215  0.          0.          0.          0.          0.\n",
      "  0.          0.          0.          0.          0.          0.\n",
      "  0.          0.          0.          0.          0.          0.\n",
      "  0.          0.          0.          0.          0.          0.\n",
      "  0.          0.          0.          0.          0.          0.\n",
      "  0.          0.          0.          0.          0.          0.\n",
      "  0.          0.          0.          0.          0.          0.\n",
      "  0.          0.          0.          0.          0.          0.\n",
      "  0.          0.          0.          0.          0.          0.\n",
      "  0.          0.          0.          0.          0.          0.\n",
      "  0.          0.          0.          0.          0.          0.\n",
      "  0.          0.        ]\n",
      "Replace 2 finished in 0.0018918514251708984\n",
      "qs after replace: [ 0.36066774  0.03979538  0.06770799  0.84606068  0.08534257 -0.12028248\n",
      "  0.51227931  0.          0.          0.          0.          0.\n",
      "  0.          0.          0.          0.          0.          0.\n",
      "  0.          0.          0.          0.          0.          0.\n",
      "  0.          0.          0.          0.          0.          0.\n",
      "  0.          0.          0.          0.          0.          0.\n",
      "  0.          0.          0.          0.          0.          0.\n",
      "  0.          0.          0.          0.          0.          0.\n",
      "  0.          0.          0.          0.          0.          0.\n",
      "  0.          0.          0.          0.          0.          0.\n",
      "  0.          0.          0.          0.          0.          0.\n",
      "  0.          0.          0.          0.          0.          0.\n",
      "  0.          0.        ]\n",
      "Root optimization finished in 708.5224361419678\n"
     ]
    },
    {
     "name": "stderr",
     "output_type": "stream",
     "text": [
      "2024-02-20 14:21:05.912950: E external/xla/xla/service/slow_operation_alarm.cc:133] The operation took 5m2.867534s\n",
      "\n",
      "********************************\n",
      "[Compiling module jit_kinematics] Very slow compile? If you want to file a bug, run with envvar XLA_FLAGS=--xla_dump_to=/tmp/foo and attach the results.\n",
      "********************************\n"
     ]
    }
   ],
   "source": [
    "start_time = time.time()\n",
    "\n",
    "utils.params[\"ROOT_MAXITER\"] = 1000\n",
    "root = mjcf.from_path(rat_xml)\n",
    "\n",
    "# Default ordering of mj sites is alphabetical, so we reorder to match\n",
    "kp_names = utils.loadmat(rat23)[\"joint_names\"]\n",
    "utils.params[\"kp_names\"] = kp_names\n",
    "\n",
    "# argsort returns the indices that would sort the array\n",
    "stac_keypoint_order = np.argsort(kp_names)\n",
    "# Load kp_data, /1000 to scale data (from mm to meters i think?)\n",
    "kp_data = utils.loadmat(data_path)[\"pred\"][:] / 1000\n",
    "\n",
    "kp_data = prep_kp_data(kp_data, stac_keypoint_order)\n",
    "\n",
    "# setup for fit\n",
    "physics, mj_model = set_body_sites(root)\n",
    "part_opt_setup(physics)\n",
    "\n",
    "# Run root optimization\n",
    "# Create mjx model and data\n",
    "mjx_model = mjx.put_model(mj_model)\n",
    "mjx_data = mjx.make_data(mjx_model)\n",
    "# Get and set the offsets of the markers\n",
    "offsets = jnp.copy(stac_base.get_site_pos(mjx_model))\n",
    "offsets *= utils.params['SCALE_FACTOR']\n",
    "\n",
    "# print(mjx_model.site_pos, mjx_model.site_pos.shape)\n",
    "mjx_model = stac_base.set_site_pos(mjx_model, offsets)\n",
    "\n",
    "# forward is used to calculate xpos and such\n",
    "mjx_data = mjx.kinematics(mjx_model, mjx_data)\n",
    "mjx_data = mjx.com_pos(mjx_model, mjx_data)\n",
    "print(f\"tol = {utils.params[\"Q_TOL\"]}\")\n",
    "mjx_data = root_optimization(mjx_model, mjx_data, kp_data)"
   ]
  },
  {
   "cell_type": "markdown",
   "id": "44353b8c",
   "metadata": {},
   "source": [
    "save in the same format and use viz.py"
   ]
  },
  {
   "cell_type": "code",
   "execution_count": 7,
   "id": "b9306ee3",
   "metadata": {},
   "outputs": [],
   "source": [
    "offset_path = \"root.p\"\n",
    "data = {\n",
    "        \"kp_data\": kp_data,\n",
    "        \"qpos\": [mjx_data.qpos[:]],\n",
    "        \"offsets\": offsets,\n",
    "        # \"walker_body_sites\": [stac_base.get_site_xpos(mjx_data)],\n",
    "        \"xpos\": [mjx_data.xpos[:]],\n",
    "        \"names_qpos\": initialize_part_names(physics) # utils.params[\"part_names\"],\n",
    "        # \"names_xpos\": physics.named.data.xpos.axes.row.names,\n",
    "    }\n",
    "if os.path.dirname(offset_path) != \"\":\n",
    "    os.makedirs(os.path.dirname(offset_path), exist_ok=True)\n",
    "with open(offset_path, \"wb\") as output_file:\n",
    "    pickle.dump(data, output_file, protocol=2)"
   ]
  }
 ],
 "metadata": {
  "kernelspec": {
   "display_name": "stac-mjx",
   "language": "python",
   "name": "python3"
  },
  "language_info": {
   "codemirror_mode": {
    "name": "ipython",
    "version": 3
   },
   "file_extension": ".py",
   "mimetype": "text/x-python",
   "name": "python",
   "nbconvert_exporter": "python",
   "pygments_lexer": "ipython3",
   "version": "3.12.0"
  }
 },
 "nbformat": 4,
 "nbformat_minor": 5
}
