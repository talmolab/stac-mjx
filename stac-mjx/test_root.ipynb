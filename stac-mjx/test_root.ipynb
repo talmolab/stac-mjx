{
 "cells": [
  {
   "cell_type": "code",
   "execution_count": 1,
   "id": "cecab060-6927-43a3-a53f-8d4135ce785f",
   "metadata": {},
   "outputs": [
    {
     "name": "stderr",
     "output_type": "stream",
     "text": [
      "/n/home05/charleszhang/.conda/envs/stac-mjx/lib/python3.12/site-packages/jaxfit/minpack.py:8: DeprecationWarning: Accessing jax.config via the jax.config submodule is deprecated.\n",
      "  from jax.config import config\n",
      "/n/home05/charleszhang/.conda/envs/stac-mjx/lib/python3.12/site-packages/jaxfit/least_squares.py:7: DeprecationWarning: Accessing jax.config via the jax.config submodule is deprecated.\n",
      "  from jax.config import config\n",
      "/n/home05/charleszhang/.conda/envs/stac-mjx/lib/python3.12/site-packages/jaxfit/trf.py:93: DeprecationWarning: Accessing jax.config via the jax.config submodule is deprecated.\n",
      "  from jax.config import config\n",
      "/n/home05/charleszhang/.conda/envs/stac-mjx/lib/python3.12/site-packages/jaxfit/common_jax.py:7: DeprecationWarning: Accessing jax.config via the jax.config submodule is deprecated.\n",
      "  from jax.config import config\n",
      "/n/home05/charleszhang/.conda/envs/stac-mjx/lib/python3.12/site-packages/jaxfit/loss_functions.py:1: DeprecationWarning: Accessing jax.config via the jax.config submodule is deprecated.\n",
      "  from jax.config import config\n"
     ]
    }
   ],
   "source": [
    "import utils\n",
    "import mujoco\n",
    "import os\n",
    "import pickle\n",
    "from scipy.io import savemat \n",
    "from dm_control import mjcf\n",
    "import numpy as np\n",
    "import jax\n",
    "from jax import numpy as jnp\n",
    "import time\n",
    "from controller import *\n",
    "import stac_base\n",
    "\n",
    "# jax.disable_jit(disable=True)"
   ]
  },
  {
   "cell_type": "code",
   "execution_count": 2,
   "id": "3e77766e-95f4-4314-9591-79156b468180",
   "metadata": {},
   "outputs": [],
   "source": [
    "\n",
    "# If your machine is low on ram:\n",
    "# os.environ['XLA_PYTHON_CLIENT_MEM_FRACTION'] = '.6'\n",
    "# os.environ['XLA_PYTHON_CLIENT_PREALLOCATE'] = \"false\"\n",
    "\n",
    "def get_clip(kp_data, n_frames):\n",
    "    import random\n",
    "    max_index = kp_data.shape[0] - n_frames + 1\n",
    "    rand_start = random.randint(0, max_index)\n",
    "    return kp_data[rand_start:rand_start+n_frames,:]\n",
    "\n"
   ]
  },
  {
   "cell_type": "code",
   "execution_count": 3,
   "id": "8c1ed54a-0997-42ad-85d4-76ff25bb5995",
   "metadata": {},
   "outputs": [],
   "source": [
    "utils.init_params(\"../params/params.yaml\")"
   ]
  },
  {
   "cell_type": "code",
   "execution_count": 4,
   "id": "5d669c9b-ba62-4e3a-9cb2-da265fdc52eb",
   "metadata": {},
   "outputs": [],
   "source": [
    "rat_xml = \"../models/rodent_stac.xml\"\n",
    "rat23 = \"../models/rat23.mat\"\n",
    "# data_path = \"save_data_AVG.mat\"\n",
    "data_path = \"/n/holylabs/LABS/olveczky_lab/holylfs02/Everyone/dannce_rig/dannce_ephys/art/2020_12_22_1/DANNCE/predict03/save_data_AVG.mat\" \n",
    "\n",
    "fit_path = \"floating_fit.p\"\n",
    "transform_path = \"floating_transform.p\"\n",
    "utils.params['FTOL'] = 1e-05\n",
    "utils.params['n_fit_frames'] = 500\n",
    "utils.params['N_ITERS'] = 1\n",
    "skip_transform = True"
   ]
  },
  {
   "cell_type": "code",
   "execution_count": 5,
   "id": "ef929f2c-9767-44b0-aa7f-ae410c5866c0",
   "metadata": {},
   "outputs": [],
   "source": [
    "model = mujoco.MjModel.from_xml_path(rat_xml)\n",
    "model.opt.solver = mujoco.mjtSolver.mjSOL_NEWTON\n",
    "model.opt.disableflags = mujoco.mjtDisableBit.mjDSBL_EULERDAMP\n",
    "model.opt.iterations = 1\n",
    "model.opt.ls_iterations = 4"
   ]
  },
  {
   "cell_type": "code",
   "execution_count": null,
   "id": "2796fb84-81a3-4199-bd5b-e2b304d7cf08",
   "metadata": {},
   "outputs": [
    {
     "name": "stdout",
     "output_type": "stream",
     "text": [
      "start\n",
      "Root Optimization:\n",
      "data.qpos: [2.78957345e-02 1.85267244e-07 6.12806154e-02 1.00000000e+00\n",
      " 0.00000000e+00 0.00000000e+00 0.00000000e+00 0.00000000e+00\n",
      " 0.00000000e+00 0.00000000e+00 0.00000000e+00 0.00000000e+00\n",
      " 0.00000000e+00 0.00000000e+00 0.00000000e+00 0.00000000e+00\n",
      " 0.00000000e+00 0.00000000e+00 0.00000000e+00 0.00000000e+00\n",
      " 0.00000000e+00 0.00000000e+00 0.00000000e+00 0.00000000e+00\n",
      " 0.00000000e+00 0.00000000e+00 0.00000000e+00 0.00000000e+00\n",
      " 0.00000000e+00 0.00000000e+00 0.00000000e+00 0.00000000e+00\n",
      " 0.00000000e+00 0.00000000e+00 0.00000000e+00 0.00000000e+00\n",
      " 0.00000000e+00 0.00000000e+00 0.00000000e+00 0.00000000e+00\n",
      " 0.00000000e+00 0.00000000e+00 0.00000000e+00 0.00000000e+00\n",
      " 0.00000000e+00 0.00000000e+00 0.00000000e+00 0.00000000e+00\n",
      " 0.00000000e+00 0.00000000e+00 0.00000000e+00 0.00000000e+00\n",
      " 0.00000000e+00 0.00000000e+00 0.00000000e+00 0.00000000e+00\n",
      " 0.00000000e+00 0.00000000e+00 0.00000000e+00 0.00000000e+00\n",
      " 0.00000000e+00 0.00000000e+00 0.00000000e+00 0.00000000e+00\n",
      " 0.00000000e+00 0.00000000e+00 0.00000000e+00 0.00000000e+00\n",
      " 0.00000000e+00 0.00000000e+00 0.00000000e+00 0.00000000e+00\n",
      " 0.00000000e+00 0.00000000e+00]\n",
      "starting qs: [0.34545239 0.0708037  0.03804783 1.         0.         0.\n",
      " 0.         0.         0.         0.         0.         0.\n",
      " 0.         0.         0.         0.         0.         0.\n",
      " 0.         0.         0.         0.         0.         0.\n",
      " 0.         0.         0.         0.         0.         0.\n",
      " 0.         0.         0.         0.         0.         0.\n",
      " 0.         0.         0.         0.         0.         0.\n",
      " 0.         0.         0.         0.         0.         0.\n",
      " 0.         0.         0.         0.         0.         0.\n",
      " 0.         0.         0.         0.         0.         0.\n",
      " 0.         0.         0.         0.         0.         0.\n",
      " 0.         0.         0.         0.         0.         0.\n",
      " 0.         0.        ]\n",
      "[ True  True  True  True  True  True  True False False False False False\n",
      " False False False False False False False False False False False False\n",
      " False False False False False False False False False False False False\n",
      " False False False False False False False False False False False False\n",
      " False False False False False False False False False False False False\n",
      " False False False False False False False False False False False False\n",
      " False False]\n"
     ]
    },
    {
     "name": "stderr",
     "output_type": "stream",
     "text": [
      "Exception ignored in: <bound method IPythonKernel._clean_thread_parent_frames of <ipykernel.ipkernel.IPythonKernel object at 0x145b35451970>>\n",
      "Traceback (most recent call last):\n",
      "  File \"/n/home05/charleszhang/.conda/envs/stac-mjx/lib/python3.12/site-packages/ipykernel/ipkernel.py\", line 770, in _clean_thread_parent_frames\n",
      "    def _clean_thread_parent_frames(\n",
      "\n",
      "KeyboardInterrupt: \n"
     ]
    }
   ],
   "source": [
    "start_time = time.time()\n",
    "\n",
    "root = mjcf.from_path(rat_xml)\n",
    "\n",
    "# Default ordering of mj sites is alphabetical, so we reorder to match\n",
    "kp_names = utils.loadmat(rat23)[\"joint_names\"]\n",
    "utils.params[\"kp_names\"] = kp_names\n",
    "\n",
    "# argsort returns the indices that would sort the array\n",
    "stac_keypoint_order = np.argsort(kp_names)\n",
    "# Load kp_data, /1000 to scale data (from mm to meters i think?)\n",
    "kp_data = utils.loadmat(data_path)[\"pred\"][:] / 1000\n",
    "\n",
    "kp_data = prep_kp_data(kp_data, stac_keypoint_order)\n",
    "\n",
    "# setup for fit\n",
    "physics, mj_model = set_body_sites(root)\n",
    "part_opt_setup(physics)\n",
    "\n",
    "# Run root optimization\n",
    "# Create mjx model and data\n",
    "mjx_model = mjx.put_model(mj_model)\n",
    "mjx_data = mjx.make_data(mjx_model)\n",
    "\n",
    "# Get and set the offsets of the markers\n",
    "offsets = jnp.copy(stac_base.get_site_pos(mjx_model))\n",
    "offsets *= utils.params['SCALE_FACTOR']\n",
    "\n",
    "# print(mjx_model.site_pos, mjx_model.site_pos.shape)\n",
    "mjx_model = stac_base.set_site_pos(mjx_model, offsets)\n",
    "\n",
    "# forward is used to calculate xpos and such\n",
    "mjx_data = mjx.kinematics(mjx_model, mjx_data)\n",
    "mjx_data = mjx.com_pos(mjx_model, mjx_data)\n",
    "\n",
    "print(\"start\")\n",
    "\n",
    "mjx_data = root_optimization(mjx_model, mjx_data, kp_data)"
   ]
  },
  {
   "cell_type": "code",
   "execution_count": null,
   "id": "9d2b9ac6-5acb-4aa0-84ce-ff7858d17ea2",
   "metadata": {},
   "outputs": [],
   "source": [
    "scene_option = mujoco.MjvOption()\n",
    "scene_option.geomgroup[2] = 1\n",
    "scene_option.sitegroup[2] = 1\n",
    "scene_option.sitegroup[3] = 1\n",
    "scene_option.flags[enums.mjtVisFlag.mjVIS_TRANSPARENT] = True\n",
    "scene_option.flags[enums.mjtVisFlag.mjVIS_LIGHT] = False\n",
    "scene_option.flags[enums.mjtVisFlag.mjVIS_CONVEXHULL] = True\n",
    "# render the frame (frame 0)\n",
    "renderer = mujoco.Renderer(model)\n",
    "mj_data = mjx.get_data(mj_model, mjx_data)\n",
    "renderer.update_scene(mj_data, scene_option=scene_option)\n",
    "pixels = renderer.render()"
   ]
  },
  {
   "cell_type": "code",
   "execution_count": null,
   "id": "d7a2ab2e-73f7-4815-843b-bd15e2535cc6",
   "metadata": {},
   "outputs": [],
   "source": []
  }
 ],
 "metadata": {
  "kernelspec": {
   "display_name": "Python [conda env:.conda-stac-mjx]",
   "language": "python",
   "name": "conda-env-.conda-stac-mjx-py"
  },
  "language_info": {
   "codemirror_mode": {
    "name": "ipython",
    "version": 3
   },
   "file_extension": ".py",
   "mimetype": "text/x-python",
   "name": "python",
   "nbconvert_exporter": "python",
   "pygments_lexer": "ipython3",
   "version": "3.12.0"
  }
 },
 "nbformat": 4,
 "nbformat_minor": 5
}
