{
 "cells": [
  {
   "cell_type": "markdown",
   "metadata": {},
   "source": [
    "### Render stac outputs with mujoco"
   ]
  },
  {
   "cell_type": "code",
   "execution_count": null,
   "metadata": {
    "tags": []
   },
   "outputs": [],
   "source": [
    "# Necassary for headless rendering\n",
    "%env MUJOCO_GL=osmesa \n",
    "%env PYOPENGL_PLATFORM=osmesa\n",
    "\n",
    "# Change to core directory to run code\n",
    "import os\n",
    "base_dir = os.path.basename(os.getcwd())\n",
    "core_dir = \"core\"\n",
    "if base_dir != core_dir:\n",
    "    %cd $core_dir\n",
    "\n",
    "#!pip install mediapy\n",
    "import mediapy as media\n",
    "\n",
    "from viz import mujoco_viz, mujoco_pair_viz, overlay_viz\n",
    "import utils\n",
    "from omegaconf import OmegaConf\n",
    "import hydra\n",
    "\n",
    "os.environ['XLA_PYTHON_CLIENT_PREALLOCATE'] = \"false\" \n",
    "\n",
    "cfg = OmegaConf.load(\"../configs/rodent.yaml\")\n",
    "utils.init_params(cfg)"
   ]
  },
  {
   "cell_type": "code",
   "execution_count": null,
   "metadata": {
    "tags": []
   },
   "outputs": [],
   "source": [
    "# set args and initialize params\n",
    "import numpy\n",
    "rat_xml = \"../models/rodent.xml\"\n",
    "# \n",
    "data_path = \"../fit_sq.p\"\n",
    "n_frames=1000\n",
    "save_path=\"../videos/direct_render.mp4\"\n",
    "\n",
    "# Call mujoco_viz\n",
    "frames = mujoco_viz(data_path, rat_xml, n_frames, save_path, start_frame=0)\n",
    "\n",
    "# Show the video in the notebook (it is also saved to the save_path)\n",
    "media.show_video(frames, fps=utils.params[\"RENDER_FPS\"])"
   ]
  },
  {
   "cell_type": "markdown",
   "metadata": {},
   "source": [
    "#### Render two rats together with `mujoco_pair_viz`!\n"
   ]
  },
  {
   "cell_type": "markdown",
   "metadata": {},
   "source": [
    "#### Render two rats together with `mujoco_pair_viz`!\n"
   ]
  },
  {
   "cell_type": "code",
   "execution_count": null,
   "metadata": {},
   "outputs": [],
   "source": []
  },
  {
   "cell_type": "code",
   "execution_count": null,
   "metadata": {},
   "outputs": [],
   "source": [
    "rat1_path = \"../sdannce_rat1_25500.p\"\n",
    "rat2_path = \"../sdannce_rat2_25500.p\"\n",
    "n_frames = 1000\n",
    "frames = mujoco_pair_viz(rat1_path ,\n",
    "                         rat2_path, \n",
    "                         n_frames, \n",
    "                         save_path, \n",
    "                         start_frame1=0, \n",
    "                         start_frame2=0)"
   ]
  },
  {
   "cell_type": "markdown",
   "metadata": {},
   "source": [
    "#### Overlay the real life recording on top of the rendering:\n",
    "Note: this requires a calibration .mat file set up in the same way as ours. modify the logic in `viz.py` accordingly!"
   ]
  },
  {
   "cell_type": "code",
   "execution_count": null,
   "metadata": {},
   "outputs": [],
   "source": [
    "# set args and initialize params\n",
    "rat_xml = \"../models/rodent_overlay.xml\"\n",
    "data_path = \"../transform_12_21_1.p\"\n",
    "calibration_path = \"../temp_dannce.mat\"\n",
    "video_path = \"../Camera2/12_21_1.mp4\"\n",
    "n_frames=1000\n",
    "\n",
    "save_path=\"../videos/overlay_render.mp4\"\n",
    "\n",
    "# call viz and show video\n",
    "frames = overlay_viz(data_path,\n",
    "                        calibration_path,\n",
    "                        video_path,\n",
    "                        rat_xml,\n",
    "                        n_frames,\n",
    "                        save_path,\n",
    "                        camera = \"Camera2\")\n",
    "media.show_video(frames, fps=utils.params[\"RENDER_FPS\"])"
   ]
  },
  {
   "cell_type": "code",
   "execution_count": null,
   "metadata": {},
   "outputs": [],
   "source": []
  }
 ],
 "metadata": {
  "kernelspec": {
   "display_name": "Python (vnl-test)",
   "language": "python",
   "name": "vnl-test"
  },
  "language_info": {
   "codemirror_mode": {
    "name": "ipython",
    "version": 3
   },
   "file_extension": ".py",
   "mimetype": "text/x-python",
   "name": "python",
   "nbconvert_exporter": "python",
   "pygments_lexer": "ipython3",
   "version": "3.11.9"
  }
 },
 "nbformat": 4,
 "nbformat_minor": 4
}
