{
 "cells": [
  {
   "cell_type": "code",
   "execution_count": 1,
   "metadata": {},
   "outputs": [],
   "source": [
    "import h5py\n",
    "import numpy as np\n",
    "\n",
    "def print_h5_structure(name, obj):\n",
    "    \"\"\"Helper function to print the structure of the HDF5 file.\"\"\"\n",
    "    print(name)\n",
    "    if isinstance(obj, h5py.Dataset):\n",
    "        print(f\"  Shape: {obj.shape}\")\n",
    "        print(f\"  Data type: {obj.dtype}\")\n",
    "    elif isinstance(obj, h5py.Group):\n",
    "        print(\"  Group\")\n",
    "\n",
    "def view_h5_file(file_path):\n",
    "    \"\"\"Open and print the structure and datasets of an HDF5 file.\"\"\"\n",
    "    try:\n",
    "        with h5py.File(file_path, 'r') as h5_file:\n",
    "            print(\"HDF5 file structure:\")\n",
    "            h5_file.visititems(print_h5_structure)\n",
    "\n",
    "            print(\"\\nData Preview:\")\n",
    "            for dataset_name in h5_file:\n",
    "                dataset = np.array(h5_file[dataset_name])\n",
    "                return dataset\n",
    "                if isinstance(dataset, h5py.Dataset):\n",
    "                    #print(f\"\\nDataset: {dataset_name}\")\n",
    "                    #print(f\"Data: {dataset[()]}\")  # Print the data in the dataset\n",
    "                    return dataset\n",
    "        \n",
    "    except OSError as e:\n",
    "        print(f\"Error opening file: {e}\")\n"
   ]
  },
  {
   "cell_type": "code",
   "execution_count": 2,
   "metadata": {},
   "outputs": [
    {
     "name": "stdout",
     "output_type": "stream",
     "text": [
      "HDF5 file structure:\n",
      "tracks\n",
      "  Shape: (3600, 1, 34, 3)\n",
      "  Data type: float64\n",
      "\n",
      "Data Preview:\n"
     ]
    },
    {
     "data": {
      "text/plain": [
       "(3600, 1, 34, 3)"
      ]
     },
     "execution_count": 2,
     "metadata": {},
     "output_type": "execute_result"
    }
   ],
   "source": [
    "file_path = \"tests/data/points3d_00_scaleSmooth_1_rpt_15.h5\"\n",
    "\n",
    "ds = view_h5_file(file_path)\n",
    "ds.shape"
   ]
  },
  {
   "cell_type": "code",
   "execution_count": 3,
   "metadata": {},
   "outputs": [
    {
     "name": "stdout",
     "output_type": "stream",
     "text": [
      "[ 96.28849975 -16.45799169 355.33680412]\n"
     ]
    }
   ],
   "source": [
    "print(ds[0,0,2,:])"
   ]
  },
  {
   "cell_type": "code",
   "execution_count": 4,
   "metadata": {},
   "outputs": [
    {
     "name": "stdout",
     "output_type": "stream",
     "text": [
      "Average distance from origin: 415.018233031573\n",
      "Maximum distance from origin: 502.8210618038484\n",
      "Minimum distance from origin: 342.7795372625993\n",
      "Average x value: 66.29081850115504, Max x value: 109.43903513878126, Min x value: -8.882964995785025\n",
      "Average y value: 8.363423364825332, Max y value: 54.00871933102245, Min y value: -16.45799169087733\n",
      "Average z value: 408.09397494824174, Max z value: 499.8331435215716, Min z value: 333.7250241581419\n"
     ]
    }
   ],
   "source": [
    "# Assume `array` is your numpy array with shape (3600, 1, 34, 3)\n",
    "\n",
    "# Given index for the first dimension\n",
    "index = 0  # Replace with the desired index, e.g., 0, 1, 2, ...\n",
    "\n",
    "# Extract the points at the given index\n",
    "points = ds[index, 0, :, :]  # Shape will be (34, 3)\n",
    "\n",
    "# Calculate the Euclidean distance from the origin (0, 0, 0)\n",
    "distances = np.linalg.norm(points, axis=1)\n",
    "\n",
    "# Calculate average, max, and min distances\n",
    "average_distance = np.mean(distances)\n",
    "max_distance = np.max(distances)\n",
    "min_distance = np.min(distances)\n",
    "\n",
    "# Print the results\n",
    "print(f\"Average distance from origin: {average_distance}\")\n",
    "print(f\"Maximum distance from origin: {max_distance}\")\n",
    "print(f\"Minimum distance from origin: {min_distance}\")\n",
    "\n",
    "\n",
    "# Calculate the average values for x, y, and z\n",
    "average_x = np.mean(points[:, 0])\n",
    "average_y = np.mean(points[:, 1])\n",
    "average_z = np.mean(points[:, 2])\n",
    "\n",
    "# Calculate the maximum and minimum values for x, y, and z\n",
    "max_x = np.max(points[:, 0])\n",
    "min_x = np.min(points[:, 0])\n",
    "\n",
    "max_y = np.max(points[:, 1])\n",
    "min_y = np.min(points[:, 1])\n",
    "\n",
    "max_z = np.max(points[:, 2])\n",
    "min_z = np.min(points[:, 2])\n",
    "\n",
    "# Print the results\n",
    "print(f\"Average x value: {average_x}, Max x value: {max_x}, Min x value: {min_x}\")\n",
    "print(f\"Average y value: {average_y}, Max y value: {max_y}, Min y value: {min_y}\")\n",
    "print(f\"Average z value: {average_z}, Max z value: {max_z}, Min z value: {min_z}\")"
   ]
  },
  {
   "cell_type": "code",
   "execution_count": 6,
   "metadata": {},
   "outputs": [
    {
     "name": "stdout",
     "output_type": "stream",
     "text": [
      "(3600, 3)\n",
      "Average Centroid: [0.04677893 0.01199929 0.36305498]\n"
     ]
    }
   ],
   "source": [
    "import numpy as np\n",
    "\n",
    "# Flatten the array\n",
    "data = ds.reshape(3600, 34, 3)\n",
    "\n",
    "# Compute the centroid for each frame\n",
    "centroids = np.mean(data, axis=1)\n",
    "print(centroids.shape)\n",
    "\n",
    "# Compute the average centroid over all frames\n",
    "average_centroid = np.mean(centroids, axis=0)/1000\n",
    "\n",
    "print(\"Average Centroid:\", average_centroid)\n"
   ]
  },
  {
   "cell_type": "code",
   "execution_count": 19,
   "metadata": {},
   "outputs": [
    {
     "name": "stdout",
     "output_type": "stream",
     "text": [
      "y:  -0.09260627310991514\n",
      "z:  0.6419077024816695\n",
      "c:  [ 0.         -0.93969234 -0.34202091]\n"
     ]
    }
   ],
   "source": [
    "\n",
    "d = .3\n",
    "theta = -20 *(3.1416/180)\n",
    "y = .01 + d * np.sin(theta)\n",
    "z = .36 + d * np.cos(theta)\n",
    "print(\"y: \", y)\n",
    "print(\"z: \", z)\n",
    "\n",
    "c = np.array((0, -np.cos(theta), np.sin(theta)))\n",
    "print(\"c: \", c)"
   ]
  }
 ],
 "metadata": {
  "kernelspec": {
   "display_name": "stac-mjx-env",
   "language": "python",
   "name": "python3"
  },
  "language_info": {
   "codemirror_mode": {
    "name": "ipython",
    "version": 3
   },
   "file_extension": ".py",
   "mimetype": "text/x-python",
   "name": "python",
   "nbconvert_exporter": "python",
   "pygments_lexer": "ipython3",
   "version": "3.11.9"
  }
 },
 "nbformat": 4,
 "nbformat_minor": 2
}
