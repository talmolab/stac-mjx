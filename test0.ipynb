{
 "cells": [
  {
   "cell_type": "code",
   "execution_count": 23,
   "metadata": {},
   "outputs": [],
   "source": [
    "import h5py\n",
    "import matplotlib.pyplot as plt"
   ]
  },
  {
   "cell_type": "code",
   "execution_count": null,
   "metadata": {},
   "outputs": [],
   "source": [
    "print(\"hello world\")"
   ]
  },
  {
   "cell_type": "markdown",
   "metadata": {},
   "source": [
    "### Read the provided h5 file from Eric and shorten it to have 1000 data points from index 7000 - 8000 of the original data file"
   ]
  },
  {
   "cell_type": "code",
   "execution_count": 33,
   "metadata": {},
   "outputs": [
    {
     "name": "stdout",
     "output_type": "stream",
     "text": [
      "shape of original file (123548, 1, 3, 3)\n"
     ]
    }
   ],
   "source": [
    "\n",
    "with h5py.File(\"./tests/data/points3d_transformed.h5\", 'r') as f:\n",
    "    # print(f.keys())\n",
    "    dset = f[\"tracks\"]\n",
    "    print(f'shape of original file {dset.shape}')\n",
    "\n",
    "    shorten_file = h5py.File('./tests/data/points3d_transformed_shorten.h5', 'w')\n",
    "    shorten_file.create_dataset('tracks', data=dset[7000:8000,])\n",
    "    shorten_file.close()"
   ]
  },
  {
   "cell_type": "code",
   "execution_count": 39,
   "metadata": {},
   "outputs": [
    {
     "name": "stdout",
     "output_type": "stream",
     "text": [
      "shape of shortened file (1000, 1, 3, 3)\n"
     ]
    }
   ],
   "source": [
    "# sanity check for the new data file\n",
    "\n",
    "with h5py.File(\"./tests/data/points3d_transformed_shorten.h5\", 'r') as f:\n",
    "    print(f'shape of shortened file {f[\"tracks\"].shape}')"
   ]
  },
  {
   "cell_type": "markdown",
   "metadata": {},
   "source": [
    "### Run Stac MJX"
   ]
  },
  {
   "cell_type": "code",
   "execution_count": 1,
   "metadata": {},
   "outputs": [
    {
     "name": "stderr",
     "output_type": "stream",
     "text": [
      "/root/vast/joshua/stac-mjx/stac_mjx/op_utils.py:16: DeprecationWarning: jax.lib.xla_bridge.get_backend is deprecated; use jax.extend.backend.get_backend.\n",
      "  if xla_bridge.get_backend().platform == \"gpu\":\n"
     ]
    },
    {
     "name": "stdout",
     "output_type": "stream",
     "text": [
      "Calibration iteration: 1/6\n",
      "Pose Optimization:\n",
      "Pose Optimization done in 29.057384490966797\n",
      "Frame 1 done in 29.012714385986328 with a final error of 0.0\n",
      "Mean: 0.0\n",
      "Standard deviation: 0.0\n",
      "starting offset optimization\n",
      "Begining offset optimization:\n"
     ]
    },
    {
     "name": "stderr",
     "output_type": "stream",
     "text": [
      "/root/miniforge3/envs/stac-mjx-env/lib/python3.11/site-packages/jaxopt/_src/optax_wrapper.py:120: DeprecationWarning: jax.tree_map is deprecated: use jax.tree.map (jax v0.4.25 or newer) or jax.tree_util.tree_map (any JAX version).\n",
      "  return jax.tree_map(update_fun, params, updates)\n"
     ]
    },
    {
     "name": "stdout",
     "output_type": "stream",
     "text": [
      "Final error of 0.000995560665614903\n",
      "offset optimization finished in 9.746098279953003\n",
      "Calibration iteration: 2/6\n",
      "Pose Optimization:\n",
      "Pose Optimization done in 0.45139145851135254\n",
      "Frame 1 done in 0.44734621047973633 with a final error of 6.729706202024399e-12\n",
      "Mean: 6.729706202024399e-12\n",
      "Standard deviation: 0.0\n",
      "starting offset optimization\n",
      "Begining offset optimization:\n",
      "Final error of 0.0009844849118962884\n",
      "offset optimization finished in 7.126520395278931\n",
      "Calibration iteration: 3/6\n",
      "Pose Optimization:\n",
      "Pose Optimization done in 0.024038076400756836\n",
      "Frame 1 done in 0.019692182540893555 with a final error of 1.7186247217026995e-11\n",
      "Mean: 1.7186247217026995e-11\n",
      "Standard deviation: 0.0\n",
      "starting offset optimization\n",
      "Begining offset optimization:\n",
      "Final error of 0.0009835025994107127\n",
      "offset optimization finished in 0.06156659126281738\n",
      "Calibration iteration: 4/6\n",
      "Pose Optimization:\n",
      "Pose Optimization done in 0.0176239013671875\n",
      "Frame 1 done in 0.01408076286315918 with a final error of 1.5830088975765655e-11\n",
      "Mean: 1.5830088975765655e-11\n",
      "Standard deviation: 0.0\n",
      "starting offset optimization\n",
      "Begining offset optimization:\n",
      "Final error of 0.000982519006356597\n",
      "offset optimization finished in 0.05808615684509277\n",
      "Calibration iteration: 5/6\n",
      "Pose Optimization:\n",
      "Pose Optimization done in 0.017617464065551758\n",
      "Frame 1 done in 0.014113664627075195 with a final error of 4.81347817507527e-12\n",
      "Mean: 4.81347817507527e-12\n",
      "Standard deviation: 0.0\n",
      "starting offset optimization\n",
      "Begining offset optimization:\n",
      "Final error of 0.0009815350640565157\n",
      "offset optimization finished in 0.0581057071685791\n",
      "Calibration iteration: 6/6\n",
      "Pose Optimization:\n",
      "Pose Optimization done in 0.01749706268310547\n",
      "Frame 1 done in 0.014013051986694336 with a final error of 7.434167864639463e-12\n",
      "Mean: 7.434167864639463e-12\n",
      "Standard deviation: 0.0\n",
      "starting offset optimization\n",
      "Begining offset optimization:\n",
      "Final error of 0.0009805503068491817\n",
      "offset optimization finished in 0.05786919593811035\n",
      "Final pose optimization\n",
      "Pose Optimization:\n",
      "Pose Optimization done in 0.017422199249267578\n",
      "Frame 1 done in 0.013937711715698242 with a final error of 1.2700327768622177e-11\n",
      "Mean: 1.2700327768622177e-11\n",
      "Standard deviation: 0.0\n"
     ]
    }
   ],
   "source": [
    "import stac_mjx \n",
    "from pathlib import Path\n",
    "\n",
    "# Enable XLA flags if on GPU\n",
    "stac_mjx.enable_xla_flags()\n",
    "\n",
    "# Choose parent directory as base path for data files\n",
    "base_path = Path(\"/root/vast/joshua/stac-mjx\")\n",
    "\n",
    "# Load configs\n",
    "cfg = stac_mjx.load_configs(base_path / \"configs\")\n",
    "# cfg = stac_mjx.load_configs(base_path + \"/configs\")\n",
    "\n",
    "# Load data\n",
    "kp_data, sorted_kp_names = stac_mjx.load_data(cfg, base_path)\n",
    "\n",
    "# Run stac\n",
    "fit_path, ik_only_path = stac_mjx.run_stac(\n",
    " cfg,\n",
    " kp_data, \n",
    " sorted_kp_names, \n",
    " base_path=base_path\n",
    ")"
   ]
  },
  {
   "cell_type": "code",
   "execution_count": 3,
   "metadata": {},
   "outputs": [],
   "source": [
    "import mujoco"
   ]
  },
  {
   "cell_type": "code",
   "execution_count": 4,
   "metadata": {},
   "outputs": [
    {
     "data": {
      "text/plain": [
       "'3.2.2'"
      ]
     },
     "execution_count": 4,
     "metadata": {},
     "output_type": "execute_result"
    }
   ],
   "source": [
    "mujoco.__version__"
   ]
  }
 ],
 "metadata": {
  "kernelspec": {
   "display_name": "stac-mjx-env",
   "language": "python",
   "name": "python3"
  },
  "language_info": {
   "codemirror_mode": {
    "name": "ipython",
    "version": 3
   },
   "file_extension": ".py",
   "mimetype": "text/x-python",
   "name": "python",
   "nbconvert_exporter": "python",
   "pygments_lexer": "ipython3",
   "version": "3.11.11"
  }
 },
 "nbformat": 4,
 "nbformat_minor": 2
}
