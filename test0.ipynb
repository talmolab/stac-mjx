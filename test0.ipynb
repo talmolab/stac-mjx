{
 "cells": [
  {
   "cell_type": "code",
   "execution_count": 2,
   "metadata": {},
   "outputs": [],
   "source": [
    "import h5py\n",
    "import matplotlib.pyplot as plt"
   ]
  },
  {
   "cell_type": "code",
   "execution_count": null,
   "metadata": {},
   "outputs": [],
   "source": [
    "print(\"hello world\")"
   ]
  },
  {
   "cell_type": "markdown",
   "metadata": {},
   "source": [
    "### Read the provided h5 file from Eric and shorten it to have 1000 data points from index 7000 - 8000 of the original data file"
   ]
  },
  {
   "cell_type": "code",
   "execution_count": 33,
   "metadata": {},
   "outputs": [
    {
     "name": "stdout",
     "output_type": "stream",
     "text": [
      "shape of original file (123548, 1, 3, 3)\n"
     ]
    }
   ],
   "source": [
    "\n",
    "with h5py.File(\"./tests/data/points3d_transformed.h5\", 'r') as f:\n",
    "    # print(f.keys())\n",
    "    dset = f[\"tracks\"]\n",
    "    print(f'shape of original file {dset.shape}')\n",
    "\n",
    "    shorten_file = h5py.File('./tests/data/points3d_transformed_shorten.h5', 'w')\n",
    "    shorten_file.create_dataset('tracks', data=dset[7000:8000,])\n",
    "    shorten_file.close()"
   ]
  },
  {
   "cell_type": "code",
   "execution_count": 2,
   "metadata": {},
   "outputs": [
    {
     "name": "stdout",
     "output_type": "stream",
     "text": [
      "shape of shortened file (1000, 1, 3, 3)\n"
     ]
    }
   ],
   "source": [
    "# sanity check for the new data file\n",
    "\n",
    "with h5py.File(\"./tests/data/points3d_transformed_shorten.h5\", 'r') as f:\n",
    "    print(f'shape of shortened file {f[\"tracks\"].shape}')"
   ]
  },
  {
   "cell_type": "markdown",
   "metadata": {},
   "source": [
    "### Run Stac MJX"
   ]
  },
  {
   "cell_type": "code",
   "execution_count": 1,
   "metadata": {},
   "outputs": [
    {
     "name": "stderr",
     "output_type": "stream",
     "text": [
      "/root/vast/joshua/stac-mjx/stac_mjx/utils.py:16: DeprecationWarning: jax.lib.xla_bridge.get_backend is deprecated; use jax.extend.backend.get_backend.\n",
      "  if xla_bridge.get_backend().platform == \"gpu\":\n"
     ]
    },
    {
     "name": "stdout",
     "output_type": "stream",
     "text": [
      "Config loaded and validated.\n",
      "Running fit. Mocap data shape: (1, 9)\n"
     ]
    },
    {
     "ename": "NotImplementedError",
     "evalue": "(mjtGeom.mjGEOM_ELLIPSOID, mjtGeom.mjGEOM_MESH) collisions not implemented.",
     "output_type": "error",
     "traceback": [
      "\u001b[0;31m---------------------------------------------------------------------------\u001b[0m",
      "\u001b[0;31mNotImplementedError\u001b[0m                       Traceback (most recent call last)",
      "Cell \u001b[0;32mIn[1], line 18\u001b[0m\n\u001b[1;32m     15\u001b[0m kp_data, sorted_kp_names \u001b[38;5;241m=\u001b[39m stac_mjx\u001b[38;5;241m.\u001b[39mload_mocap(cfg, base_path)\n\u001b[1;32m     17\u001b[0m \u001b[38;5;66;03m# Run stac\u001b[39;00m\n\u001b[0;32m---> 18\u001b[0m fit_path, ik_only_path \u001b[38;5;241m=\u001b[39m \u001b[43mstac_mjx\u001b[49m\u001b[38;5;241;43m.\u001b[39;49m\u001b[43mrun_stac\u001b[49m\u001b[43m(\u001b[49m\n\u001b[1;32m     19\u001b[0m \u001b[43m \u001b[49m\u001b[43mcfg\u001b[49m\u001b[43m,\u001b[49m\n\u001b[1;32m     20\u001b[0m \u001b[43m \u001b[49m\u001b[43mkp_data\u001b[49m\u001b[43m,\u001b[49m\u001b[43m \u001b[49m\n\u001b[1;32m     21\u001b[0m \u001b[43m \u001b[49m\u001b[43msorted_kp_names\u001b[49m\u001b[43m,\u001b[49m\u001b[43m \u001b[49m\n\u001b[1;32m     22\u001b[0m \u001b[43m \u001b[49m\u001b[43mbase_path\u001b[49m\u001b[38;5;241;43m=\u001b[39;49m\u001b[43mbase_path\u001b[49m\n\u001b[1;32m     23\u001b[0m \u001b[43m)\u001b[49m\n",
      "File \u001b[0;32m~/vast/joshua/stac-mjx/stac_mjx/main.py:84\u001b[0m, in \u001b[0;36mrun_stac\u001b[0;34m(cfg, kp_data, kp_names, base_path)\u001b[0m\n\u001b[1;32m     82\u001b[0m kps \u001b[38;5;241m=\u001b[39m kp_data[: cfg\u001b[38;5;241m.\u001b[39mstac\u001b[38;5;241m.\u001b[39mn_fit_frames]\n\u001b[1;32m     83\u001b[0m \u001b[38;5;28mprint\u001b[39m(\u001b[38;5;124mf\u001b[39m\u001b[38;5;124m\"\u001b[39m\u001b[38;5;124mRunning fit. Mocap data shape: \u001b[39m\u001b[38;5;132;01m{\u001b[39;00mkps\u001b[38;5;241m.\u001b[39mshape\u001b[38;5;132;01m}\u001b[39;00m\u001b[38;5;124m\"\u001b[39m)\n\u001b[0;32m---> 84\u001b[0m fit_offsets_data \u001b[38;5;241m=\u001b[39m \u001b[43mstac\u001b[49m\u001b[38;5;241;43m.\u001b[39;49m\u001b[43mfit_offsets\u001b[49m\u001b[43m(\u001b[49m\u001b[43mkps\u001b[49m\u001b[43m)\u001b[49m\n\u001b[1;32m     85\u001b[0m \u001b[38;5;28mprint\u001b[39m(\u001b[38;5;124mf\u001b[39m\u001b[38;5;124m\"\u001b[39m\u001b[38;5;124msaving data to \u001b[39m\u001b[38;5;132;01m{\u001b[39;00mfit_offsets_path\u001b[38;5;132;01m}\u001b[39;00m\u001b[38;5;124m\"\u001b[39m)\n\u001b[1;32m     86\u001b[0m io\u001b[38;5;241m.\u001b[39msave_data_to_h5(\n\u001b[1;32m     87\u001b[0m     config\u001b[38;5;241m=\u001b[39mcfg, file_path\u001b[38;5;241m=\u001b[39mfit_offsets_path, \u001b[38;5;241m*\u001b[39m\u001b[38;5;241m*\u001b[39mfit_offsets_data\u001b[38;5;241m.\u001b[39mas_dict()\n\u001b[1;32m     88\u001b[0m )\n",
      "File \u001b[0;32m~/vast/joshua/stac-mjx/stac_mjx/stac.py:220\u001b[0m, in \u001b[0;36mStac.fit_offsets\u001b[0;34m(self, kp_data)\u001b[0m\n\u001b[1;32m    211\u001b[0m \u001b[38;5;250m\u001b[39m\u001b[38;5;124;03m\"\"\"Alternate between pose and offset optimization for a set number of iterations.\u001b[39;00m\n\u001b[1;32m    212\u001b[0m \n\u001b[1;32m    213\u001b[0m \u001b[38;5;124;03mArgs:\u001b[39;00m\n\u001b[0;32m   (...)\u001b[0m\n\u001b[1;32m    217\u001b[0m \u001b[38;5;124;03m    Dict: Output data packaged in a dictionary.\u001b[39;00m\n\u001b[1;32m    218\u001b[0m \u001b[38;5;124;03m\"\"\"\u001b[39;00m\n\u001b[1;32m    219\u001b[0m \u001b[38;5;66;03m# Create mjx model and data\u001b[39;00m\n\u001b[0;32m--> 220\u001b[0m mjx_model, mjx_data \u001b[38;5;241m=\u001b[39m \u001b[43mutils\u001b[49m\u001b[38;5;241;43m.\u001b[39;49m\u001b[43mmjx_load\u001b[49m\u001b[43m(\u001b[49m\u001b[38;5;28;43mself\u001b[39;49m\u001b[38;5;241;43m.\u001b[39;49m\u001b[43m_mj_model\u001b[49m\u001b[43m)\u001b[49m\n\u001b[1;32m    222\u001b[0m \u001b[38;5;66;03m# Get and set the offsets of the markers\u001b[39;00m\n\u001b[1;32m    223\u001b[0m \u001b[38;5;28mself\u001b[39m\u001b[38;5;241m.\u001b[39m_offsets \u001b[38;5;241m=\u001b[39m jp\u001b[38;5;241m.\u001b[39mcopy(utils\u001b[38;5;241m.\u001b[39mget_site_pos(mjx_model, \u001b[38;5;28mself\u001b[39m\u001b[38;5;241m.\u001b[39m_body_site_idxs))\n",
      "File \u001b[0;32m~/vast/joshua/stac-mjx/stac_mjx/utils.py:26\u001b[0m, in \u001b[0;36mmjx_load\u001b[0;34m(mj_model)\u001b[0m\n\u001b[1;32m     24\u001b[0m \u001b[38;5;250m\u001b[39m\u001b[38;5;124;03m\"\"\"Load mujoco model into mjx.\"\"\"\u001b[39;00m\n\u001b[1;32m     25\u001b[0m \u001b[38;5;66;03m# Create mjx model and data\u001b[39;00m\n\u001b[0;32m---> 26\u001b[0m mjx_model \u001b[38;5;241m=\u001b[39m \u001b[43mmjx\u001b[49m\u001b[38;5;241;43m.\u001b[39;49m\u001b[43mput_model\u001b[49m\u001b[43m(\u001b[49m\u001b[43mmj_model\u001b[49m\u001b[43m)\u001b[49m\n\u001b[1;32m     27\u001b[0m mjx_data \u001b[38;5;241m=\u001b[39m mjx\u001b[38;5;241m.\u001b[39mmake_data(mjx_model)\n\u001b[1;32m     29\u001b[0m \u001b[38;5;28;01mreturn\u001b[39;00m mjx_model, mjx_data\n",
      "File \u001b[0;32m~/miniforge3/envs/stac-mjx-env/lib/python3.11/site-packages/mujoco/mjx/_src/io.py:83\u001b[0m, in \u001b[0;36mput_model\u001b[0;34m(m, device, _check_unsupported)\u001b[0m\n\u001b[1;32m     81\u001b[0m \u001b[38;5;28;01mif\u001b[39;00m _check_unsupported \u001b[38;5;129;01mand\u001b[39;00m \u001b[38;5;129;01mnot\u001b[39;00m collision_driver\u001b[38;5;241m.\u001b[39mhas_collision_fn(t1, t2):\n\u001b[1;32m     82\u001b[0m   t1, t2 \u001b[38;5;241m=\u001b[39m mujoco\u001b[38;5;241m.\u001b[39mmjtGeom(t1), mujoco\u001b[38;5;241m.\u001b[39mmjtGeom(t2)\n\u001b[0;32m---> 83\u001b[0m   \u001b[38;5;28;01mraise\u001b[39;00m \u001b[38;5;167;01mNotImplementedError\u001b[39;00m(\u001b[38;5;124mf\u001b[39m\u001b[38;5;124m'\u001b[39m\u001b[38;5;124m(\u001b[39m\u001b[38;5;132;01m{\u001b[39;00mt1\u001b[38;5;132;01m}\u001b[39;00m\u001b[38;5;124m, \u001b[39m\u001b[38;5;132;01m{\u001b[39;00mt2\u001b[38;5;132;01m}\u001b[39;00m\u001b[38;5;124m) collisions not implemented.\u001b[39m\u001b[38;5;124m'\u001b[39m)\n\u001b[1;32m     84\u001b[0m \u001b[38;5;66;03m# margin/gap not supported for meshes and height fields\u001b[39;00m\n\u001b[1;32m     85\u001b[0m no_margin \u001b[38;5;241m=\u001b[39m {mujoco\u001b[38;5;241m.\u001b[39mmjtGeom\u001b[38;5;241m.\u001b[39mmjGEOM_MESH, mujoco\u001b[38;5;241m.\u001b[39mmjtGeom\u001b[38;5;241m.\u001b[39mmjGEOM_HFIELD}\n",
      "\u001b[0;31mNotImplementedError\u001b[0m: (mjtGeom.mjGEOM_ELLIPSOID, mjtGeom.mjGEOM_MESH) collisions not implemented."
     ]
    }
   ],
   "source": [
    "import stac_mjx \n",
    "from pathlib import Path\n",
    "\n",
    "# Enable XLA flags if on GPU\n",
    "stac_mjx.enable_xla_flags()\n",
    "\n",
    "# Choose parent directory as base path for data files\n",
    "base_path = Path(\"/root/vast/joshua/stac-mjx\")\n",
    "\n",
    "# Load configs\n",
    "cfg = stac_mjx.load_configs(base_path / \"configs\")\n",
    "# cfg = stac_mjx.load_configs(base_path + \"/configs\")\n",
    "\n",
    "# Load data\n",
    "kp_data, sorted_kp_names = stac_mjx.load_mocap(cfg, base_path)\n",
    "\n",
    "# Run stac\n",
    "fit_path, ik_only_path = stac_mjx.run_stac(\n",
    " cfg,\n",
    " kp_data, \n",
    " sorted_kp_names, \n",
    " base_path=base_path\n",
    ")"
   ]
  },
  {
   "cell_type": "code",
   "execution_count": 10,
   "metadata": {},
   "outputs": [
    {
     "data": {
      "text/plain": [
       "(PosixPath('/root/vast/joshua/stac-mjx/mouse_arm_fit.p'), None)"
      ]
     },
     "execution_count": 10,
     "metadata": {},
     "output_type": "execute_result"
    }
   ],
   "source": [
    "fit_path, ik_only_path"
   ]
  },
  {
   "cell_type": "code",
   "execution_count": 6,
   "metadata": {},
   "outputs": [
    {
     "name": "stdout",
     "output_type": "stream",
     "text": [
      "<KeysViewHDF5 ['config', 'kp_data', 'kp_names', 'marker_sites', 'names_qpos', 'names_xpos', 'offsets', 'qpos', 'qvel', 'xpos', 'xquat']>\n",
      "<HDF5 dataset \"config\": shape (), type \"|S952\">\n",
      "<HDF5 dataset \"kp_data\": shape (1, 9), type \"<f4\">\n",
      "<HDF5 dataset \"kp_names\": shape (3,), type \"|S8\">\n",
      "<HDF5 dataset \"marker_sites\": shape (1, 3, 3), type \"<f4\">\n",
      "<HDF5 dataset \"names_qpos\": shape (4,), type \"|S12\">\n",
      "<HDF5 dataset \"names_xpos\": shape (8,), type \"|S8\">\n",
      "<HDF5 dataset \"offsets\": shape (3, 3), type \"<f4\">\n",
      "<HDF5 dataset \"qpos\": shape (1, 4), type \"<f4\">\n",
      "<HDF5 dataset \"qvel\": shape (0,), type \"<f8\">\n",
      "<HDF5 dataset \"xpos\": shape (1, 8, 3), type \"<f4\">\n",
      "<HDF5 dataset \"xquat\": shape (1, 8, 4), type \"<f4\">\n"
     ]
    }
   ],
   "source": [
    "with h5py.File(\"mouse_arm_fit.h5\", 'r') as f:\n",
    "    print(f.keys())\n",
    "    for i in f.keys():\n",
    "        print(f[i])\n",
    "    # print(f'shape of shortened file {f[\"kp_data\"].shape}')\n",
    "    # print(f[\"kp_data\"])\n",
    "    # print()\n",
    "    # print('kp_names')\n",
    "    # print(list(f['kp_names']))\n",
    "\n",
    "    # print('\\nqpos')\n",
    "    # print(list(f['qpos']))\n",
    "\n",
    "    # print('\\nxpos')\n",
    "    # print(list(f['xpos']))"
   ]
  },
  {
   "cell_type": "code",
   "execution_count": 7,
   "metadata": {},
   "outputs": [
    {
     "name": "stdout",
     "output_type": "stream",
     "text": [
      "<KeysViewHDF5 ['config', 'kp_data', 'kp_names', 'marker_sites', 'names_qpos', 'names_xpos', 'offsets', 'qpos', 'qvel', 'xpos', 'xquat']>\n",
      "<HDF5 dataset \"config\": shape (), type \"|S952\">\n",
      "<HDF5 dataset \"kp_data\": shape (1000, 9), type \"<f4\">\n",
      "<HDF5 dataset \"kp_names\": shape (3,), type \"|S8\">\n",
      "<HDF5 dataset \"marker_sites\": shape (1000, 3, 3), type \"<f4\">\n",
      "<HDF5 dataset \"names_qpos\": shape (4,), type \"|S12\">\n",
      "<HDF5 dataset \"names_xpos\": shape (8,), type \"|S8\">\n",
      "<HDF5 dataset \"offsets\": shape (3, 3), type \"<f4\">\n",
      "<HDF5 dataset \"qpos\": shape (1000, 4), type \"<f4\">\n",
      "<HDF5 dataset \"qvel\": shape (0,), type \"<f8\">\n",
      "<HDF5 dataset \"xpos\": shape (1000, 8, 3), type \"<f4\">\n",
      "<HDF5 dataset \"xquat\": shape (1000, 8, 4), type \"<f4\">\n"
     ]
    }
   ],
   "source": [
    "with h5py.File(\"mouse_arm_ik_only.h5\", 'r') as f:\n",
    "    print(f.keys())\n",
    "    for i in f.keys():\n",
    "        print(f[i])\n",
    "    # print(f'shape of shortened file {f[\"kp_data\"].shape}')\n",
    "    # print(f[\"kp_data\"])\n",
    "    # print()\n",
    "    # print('kp_names')\n",
    "    # print(list(f['kp_names']))\n",
    "\n",
    "    # print('\\nqpos')\n",
    "    # print(list(f['qpos']))\n",
    "\n",
    "    # print('\\nxpos')\n",
    "    # print(list(f['xpos']))"
   ]
  }
 ],
 "metadata": {
  "kernelspec": {
   "display_name": "stac-mjx-env",
   "language": "python",
   "name": "python3"
  },
  "language_info": {
   "codemirror_mode": {
    "name": "ipython",
    "version": 3
   },
   "file_extension": ".py",
   "mimetype": "text/x-python",
   "name": "python",
   "nbconvert_exporter": "python",
   "pygments_lexer": "ipython3",
   "version": "3.11.11"
  }
 },
 "nbformat": 4,
 "nbformat_minor": 2
}
