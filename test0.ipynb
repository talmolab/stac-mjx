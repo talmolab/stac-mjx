{
 "cells": [
  {
   "cell_type": "code",
   "execution_count": 18,
   "metadata": {},
   "outputs": [],
   "source": [
    "import h5py\n",
    "import matplotlib.pyplot as plt\n",
    "import mujoco\n",
    "import dm_control\n",
    "import numpy as np\n",
    "from dm_control import mjcf\n",
    "from copy import deepcopy\n",
    "from dm_control.mujoco.wrapper.mjbindings import enums\n",
    "import imageio"
   ]
  },
  {
   "cell_type": "markdown",
   "metadata": {},
   "source": [
    "### Read the provided h5 file from Eric and shorten it to have 1000 data points from index 7000 - 8000 of the original data file"
   ]
  },
  {
   "cell_type": "code",
   "execution_count": 19,
   "metadata": {},
   "outputs": [
    {
     "name": "stdout",
     "output_type": "stream",
     "text": [
      "shape of original file (123548, 1, 3, 3)\n"
     ]
    }
   ],
   "source": [
    "\n",
    "with h5py.File(\"./tests/data/points3d_transformed.h5\", 'r') as f:\n",
    "    # print(f.keys())\n",
    "    dset = f[\"tracks\"]\n",
    "    print(f'shape of original file {dset.shape}')\n",
    "\n",
    "    shorten_file = h5py.File('./tests/data/points3d_transformed_shorten.h5', 'w')\n",
    "    shorten_file.create_dataset('tracks', data=dset[7000:8000,])\n",
    "    shorten_file.close()"
   ]
  },
  {
   "cell_type": "code",
   "execution_count": 20,
   "metadata": {},
   "outputs": [
    {
     "name": "stdout",
     "output_type": "stream",
     "text": [
      "shape of shortened file (1000, 1, 3, 3)\n"
     ]
    }
   ],
   "source": [
    "# sanity check for the new data file\n",
    "\n",
    "with h5py.File(\"./tests/data/points3d_transformed_shorten.h5\", 'r') as f:\n",
    "    print(f'shape of shortened file {f[\"tracks\"].shape}')"
   ]
  },
  {
   "cell_type": "markdown",
   "metadata": {},
   "source": [
    "### Run Stac MJX"
   ]
  },
  {
   "cell_type": "code",
   "execution_count": 21,
   "metadata": {},
   "outputs": [
    {
     "name": "stdout",
     "output_type": "stream",
     "text": [
      "Config loaded and validated.\n"
     ]
    },
    {
     "name": "stderr",
     "output_type": "stream",
     "text": [
      "/root/vast/joshua/stac-mjx/stac_mjx/utils.py:16: DeprecationWarning: jax.lib.xla_bridge.get_backend is deprecated; use jax.extend.backend.get_backend.\n",
      "  if xla_bridge.get_backend().platform == \"gpu\":\n"
     ]
    },
    {
     "name": "stdout",
     "output_type": "stream",
     "text": [
      "Running fit. Mocap data shape: (1, 9)\n"
     ]
    },
    {
     "ename": "KeyboardInterrupt",
     "evalue": "",
     "output_type": "error",
     "traceback": [
      "\u001b[0;31m---------------------------------------------------------------------------\u001b[0m",
      "\u001b[0;31mKeyboardInterrupt\u001b[0m                         Traceback (most recent call last)",
      "Cell \u001b[0;32mIn[21], line 18\u001b[0m\n\u001b[1;32m     15\u001b[0m kp_data, sorted_kp_names \u001b[38;5;241m=\u001b[39m stac_mjx\u001b[38;5;241m.\u001b[39mload_mocap(cfg, base_path)\n\u001b[1;32m     17\u001b[0m \u001b[38;5;66;03m# Run stac\u001b[39;00m\n\u001b[0;32m---> 18\u001b[0m fit_path, ik_only_path \u001b[38;5;241m=\u001b[39m \u001b[43mstac_mjx\u001b[49m\u001b[38;5;241;43m.\u001b[39;49m\u001b[43mrun_stac\u001b[49m\u001b[43m(\u001b[49m\n\u001b[1;32m     19\u001b[0m \u001b[43m \u001b[49m\u001b[43mcfg\u001b[49m\u001b[43m,\u001b[49m\n\u001b[1;32m     20\u001b[0m \u001b[43m \u001b[49m\u001b[43mkp_data\u001b[49m\u001b[43m,\u001b[49m\u001b[43m \u001b[49m\n\u001b[1;32m     21\u001b[0m \u001b[43m \u001b[49m\u001b[43msorted_kp_names\u001b[49m\u001b[43m,\u001b[49m\u001b[43m \u001b[49m\n\u001b[1;32m     22\u001b[0m \u001b[43m \u001b[49m\u001b[43mbase_path\u001b[49m\u001b[38;5;241;43m=\u001b[39;49m\u001b[43mbase_path\u001b[49m\n\u001b[1;32m     23\u001b[0m \u001b[43m)\u001b[49m\n",
      "File \u001b[0;32m~/vast/joshua/stac-mjx/stac_mjx/main.py:84\u001b[0m, in \u001b[0;36mrun_stac\u001b[0;34m(cfg, kp_data, kp_names, base_path)\u001b[0m\n\u001b[1;32m     82\u001b[0m kps \u001b[38;5;241m=\u001b[39m kp_data[: cfg\u001b[38;5;241m.\u001b[39mstac\u001b[38;5;241m.\u001b[39mn_fit_frames]\n\u001b[1;32m     83\u001b[0m \u001b[38;5;28mprint\u001b[39m(\u001b[38;5;124mf\u001b[39m\u001b[38;5;124m\"\u001b[39m\u001b[38;5;124mRunning fit. Mocap data shape: \u001b[39m\u001b[38;5;132;01m{\u001b[39;00mkps\u001b[38;5;241m.\u001b[39mshape\u001b[38;5;132;01m}\u001b[39;00m\u001b[38;5;124m\"\u001b[39m)\n\u001b[0;32m---> 84\u001b[0m fit_offsets_data \u001b[38;5;241m=\u001b[39m \u001b[43mstac\u001b[49m\u001b[38;5;241;43m.\u001b[39;49m\u001b[43mfit_offsets\u001b[49m\u001b[43m(\u001b[49m\u001b[43mkps\u001b[49m\u001b[43m)\u001b[49m\n\u001b[1;32m     85\u001b[0m \u001b[38;5;28mprint\u001b[39m(\u001b[38;5;124mf\u001b[39m\u001b[38;5;124m\"\u001b[39m\u001b[38;5;124msaving data to \u001b[39m\u001b[38;5;132;01m{\u001b[39;00mfit_offsets_path\u001b[38;5;132;01m}\u001b[39;00m\u001b[38;5;124m\"\u001b[39m)\n\u001b[1;32m     86\u001b[0m io\u001b[38;5;241m.\u001b[39msave_data_to_h5(\n\u001b[1;32m     87\u001b[0m     config\u001b[38;5;241m=\u001b[39mcfg, file_path\u001b[38;5;241m=\u001b[39mfit_offsets_path, \u001b[38;5;241m*\u001b[39m\u001b[38;5;241m*\u001b[39mfit_offsets_data\u001b[38;5;241m.\u001b[39mas_dict()\n\u001b[1;32m     88\u001b[0m )\n",
      "File \u001b[0;32m~/vast/joshua/stac-mjx/stac_mjx/stac.py:220\u001b[0m, in \u001b[0;36mStac.fit_offsets\u001b[0;34m(self, kp_data)\u001b[0m\n\u001b[1;32m    211\u001b[0m \u001b[38;5;250m\u001b[39m\u001b[38;5;124;03m\"\"\"Alternate between pose and offset optimization for a set number of iterations.\u001b[39;00m\n\u001b[1;32m    212\u001b[0m \n\u001b[1;32m    213\u001b[0m \u001b[38;5;124;03mArgs:\u001b[39;00m\n\u001b[0;32m   (...)\u001b[0m\n\u001b[1;32m    217\u001b[0m \u001b[38;5;124;03m    Dict: Output data packaged in a dictionary.\u001b[39;00m\n\u001b[1;32m    218\u001b[0m \u001b[38;5;124;03m\"\"\"\u001b[39;00m\n\u001b[1;32m    219\u001b[0m \u001b[38;5;66;03m# Create mjx model and data\u001b[39;00m\n\u001b[0;32m--> 220\u001b[0m mjx_model, mjx_data \u001b[38;5;241m=\u001b[39m \u001b[43mutils\u001b[49m\u001b[38;5;241;43m.\u001b[39;49m\u001b[43mmjx_load\u001b[49m\u001b[43m(\u001b[49m\u001b[38;5;28;43mself\u001b[39;49m\u001b[38;5;241;43m.\u001b[39;49m\u001b[43m_mj_model\u001b[49m\u001b[43m)\u001b[49m\n\u001b[1;32m    222\u001b[0m \u001b[38;5;66;03m# Get and set the offsets of the markers\u001b[39;00m\n\u001b[1;32m    223\u001b[0m \u001b[38;5;28mself\u001b[39m\u001b[38;5;241m.\u001b[39m_offsets \u001b[38;5;241m=\u001b[39m jp\u001b[38;5;241m.\u001b[39mcopy(utils\u001b[38;5;241m.\u001b[39mget_site_pos(mjx_model, \u001b[38;5;28mself\u001b[39m\u001b[38;5;241m.\u001b[39m_body_site_idxs))\n",
      "File \u001b[0;32m~/vast/joshua/stac-mjx/stac_mjx/utils.py:27\u001b[0m, in \u001b[0;36mmjx_load\u001b[0;34m(mj_model)\u001b[0m\n\u001b[1;32m     25\u001b[0m \u001b[38;5;66;03m# Create mjx model and data\u001b[39;00m\n\u001b[1;32m     26\u001b[0m mjx_model \u001b[38;5;241m=\u001b[39m mjx\u001b[38;5;241m.\u001b[39mput_model(mj_model)\n\u001b[0;32m---> 27\u001b[0m mjx_data \u001b[38;5;241m=\u001b[39m \u001b[43mmjx\u001b[49m\u001b[38;5;241;43m.\u001b[39;49m\u001b[43mmake_data\u001b[49m\u001b[43m(\u001b[49m\u001b[43mmjx_model\u001b[49m\u001b[43m)\u001b[49m\n\u001b[1;32m     29\u001b[0m \u001b[38;5;28;01mreturn\u001b[39;00m mjx_model, mjx_data\n",
      "File \u001b[0;32m~/miniforge3/envs/stac-mjx-env/lib/python3.11/site-packages/mujoco/mjx/_src/io.py:201\u001b[0m, in \u001b[0;36mmake_data\u001b[0;34m(m)\u001b[0m\n\u001b[1;32m    142\u001b[0m ncon, nefc \u001b[38;5;241m=\u001b[39m dim\u001b[38;5;241m.\u001b[39msize, ne \u001b[38;5;241m+\u001b[39m nf \u001b[38;5;241m+\u001b[39m nl \u001b[38;5;241m+\u001b[39m nc\n\u001b[1;32m    144\u001b[0m contact \u001b[38;5;241m=\u001b[39m types\u001b[38;5;241m.\u001b[39mContact(\n\u001b[1;32m    145\u001b[0m     dist\u001b[38;5;241m=\u001b[39mjp\u001b[38;5;241m.\u001b[39mzeros((ncon,), dtype\u001b[38;5;241m=\u001b[39m\u001b[38;5;28mfloat\u001b[39m),\n\u001b[1;32m    146\u001b[0m     pos\u001b[38;5;241m=\u001b[39mjp\u001b[38;5;241m.\u001b[39mzeros((ncon, \u001b[38;5;241m3\u001b[39m), dtype\u001b[38;5;241m=\u001b[39m\u001b[38;5;28mfloat\u001b[39m),\n\u001b[0;32m   (...)\u001b[0m\n\u001b[1;32m    157\u001b[0m     efc_address\u001b[38;5;241m=\u001b[39mefc_address,\n\u001b[1;32m    158\u001b[0m )\n\u001b[1;32m    160\u001b[0m d \u001b[38;5;241m=\u001b[39m types\u001b[38;5;241m.\u001b[39mData(\n\u001b[1;32m    161\u001b[0m     ne\u001b[38;5;241m=\u001b[39mne,\n\u001b[1;32m    162\u001b[0m     nf\u001b[38;5;241m=\u001b[39mnf,\n\u001b[1;32m    163\u001b[0m     nl\u001b[38;5;241m=\u001b[39mnl,\n\u001b[1;32m    164\u001b[0m     nefc\u001b[38;5;241m=\u001b[39mnefc,\n\u001b[1;32m    165\u001b[0m     ncon\u001b[38;5;241m=\u001b[39mncon,\n\u001b[1;32m    166\u001b[0m     solver_niter\u001b[38;5;241m=\u001b[39mjp\u001b[38;5;241m.\u001b[39mzeros((), dtype\u001b[38;5;241m=\u001b[39m\u001b[38;5;28mint\u001b[39m),\n\u001b[1;32m    167\u001b[0m     time\u001b[38;5;241m=\u001b[39mjp\u001b[38;5;241m.\u001b[39mzeros((), dtype\u001b[38;5;241m=\u001b[39m\u001b[38;5;28mfloat\u001b[39m),\n\u001b[1;32m    168\u001b[0m     qpos\u001b[38;5;241m=\u001b[39mjp\u001b[38;5;241m.\u001b[39marray(m\u001b[38;5;241m.\u001b[39mqpos0),\n\u001b[1;32m    169\u001b[0m     qvel\u001b[38;5;241m=\u001b[39mjp\u001b[38;5;241m.\u001b[39mzeros((m\u001b[38;5;241m.\u001b[39mnv,), dtype\u001b[38;5;241m=\u001b[39m\u001b[38;5;28mfloat\u001b[39m),\n\u001b[1;32m    170\u001b[0m     act\u001b[38;5;241m=\u001b[39mjp\u001b[38;5;241m.\u001b[39mzeros((m\u001b[38;5;241m.\u001b[39mna,), dtype\u001b[38;5;241m=\u001b[39m\u001b[38;5;28mfloat\u001b[39m),\n\u001b[1;32m    171\u001b[0m     qacc_warmstart\u001b[38;5;241m=\u001b[39mjp\u001b[38;5;241m.\u001b[39mzeros((m\u001b[38;5;241m.\u001b[39mnv,), dtype\u001b[38;5;241m=\u001b[39m\u001b[38;5;28mfloat\u001b[39m),\n\u001b[1;32m    172\u001b[0m     ctrl\u001b[38;5;241m=\u001b[39mjp\u001b[38;5;241m.\u001b[39mzeros((m\u001b[38;5;241m.\u001b[39mnu,), dtype\u001b[38;5;241m=\u001b[39m\u001b[38;5;28mfloat\u001b[39m),\n\u001b[1;32m    173\u001b[0m     qfrc_applied\u001b[38;5;241m=\u001b[39mjp\u001b[38;5;241m.\u001b[39mzeros((m\u001b[38;5;241m.\u001b[39mnv,), dtype\u001b[38;5;241m=\u001b[39m\u001b[38;5;28mfloat\u001b[39m),\n\u001b[1;32m    174\u001b[0m     xfrc_applied\u001b[38;5;241m=\u001b[39mjp\u001b[38;5;241m.\u001b[39mzeros((m\u001b[38;5;241m.\u001b[39mnbody, \u001b[38;5;241m6\u001b[39m), dtype\u001b[38;5;241m=\u001b[39m\u001b[38;5;28mfloat\u001b[39m),\n\u001b[1;32m    175\u001b[0m     eq_active\u001b[38;5;241m=\u001b[39mjp\u001b[38;5;241m.\u001b[39mzeros((m\u001b[38;5;241m.\u001b[39mneq,), dtype\u001b[38;5;241m=\u001b[39mjp\u001b[38;5;241m.\u001b[39muint8),\n\u001b[1;32m    176\u001b[0m     mocap_pos\u001b[38;5;241m=\u001b[39mjp\u001b[38;5;241m.\u001b[39mzeros((m\u001b[38;5;241m.\u001b[39mnmocap, \u001b[38;5;241m3\u001b[39m), dtype\u001b[38;5;241m=\u001b[39m\u001b[38;5;28mfloat\u001b[39m),\n\u001b[1;32m    177\u001b[0m     mocap_quat\u001b[38;5;241m=\u001b[39mjp\u001b[38;5;241m.\u001b[39mzeros((m\u001b[38;5;241m.\u001b[39mnmocap, \u001b[38;5;241m4\u001b[39m), dtype\u001b[38;5;241m=\u001b[39m\u001b[38;5;28mfloat\u001b[39m),\n\u001b[1;32m    178\u001b[0m     qacc\u001b[38;5;241m=\u001b[39mjp\u001b[38;5;241m.\u001b[39mzeros((m\u001b[38;5;241m.\u001b[39mnv,), dtype\u001b[38;5;241m=\u001b[39m\u001b[38;5;28mfloat\u001b[39m),\n\u001b[1;32m    179\u001b[0m     act_dot\u001b[38;5;241m=\u001b[39mjp\u001b[38;5;241m.\u001b[39mzeros((m\u001b[38;5;241m.\u001b[39mna,), dtype\u001b[38;5;241m=\u001b[39m\u001b[38;5;28mfloat\u001b[39m),\n\u001b[1;32m    180\u001b[0m     userdata\u001b[38;5;241m=\u001b[39mjp\u001b[38;5;241m.\u001b[39mzeros((m\u001b[38;5;241m.\u001b[39mnuserdata,), dtype\u001b[38;5;241m=\u001b[39m\u001b[38;5;28mfloat\u001b[39m),\n\u001b[1;32m    181\u001b[0m     sensordata\u001b[38;5;241m=\u001b[39mjp\u001b[38;5;241m.\u001b[39mzeros((m\u001b[38;5;241m.\u001b[39mnsensordata,), dtype\u001b[38;5;241m=\u001b[39m\u001b[38;5;28mfloat\u001b[39m),\n\u001b[1;32m    182\u001b[0m     xpos\u001b[38;5;241m=\u001b[39mjp\u001b[38;5;241m.\u001b[39mzeros((m\u001b[38;5;241m.\u001b[39mnbody, \u001b[38;5;241m3\u001b[39m), dtype\u001b[38;5;241m=\u001b[39m\u001b[38;5;28mfloat\u001b[39m),\n\u001b[1;32m    183\u001b[0m     xquat\u001b[38;5;241m=\u001b[39mjp\u001b[38;5;241m.\u001b[39mzeros((m\u001b[38;5;241m.\u001b[39mnbody, \u001b[38;5;241m4\u001b[39m), dtype\u001b[38;5;241m=\u001b[39m\u001b[38;5;28mfloat\u001b[39m),\n\u001b[1;32m    184\u001b[0m     xmat\u001b[38;5;241m=\u001b[39mjp\u001b[38;5;241m.\u001b[39mzeros((m\u001b[38;5;241m.\u001b[39mnbody, \u001b[38;5;241m3\u001b[39m, \u001b[38;5;241m3\u001b[39m), dtype\u001b[38;5;241m=\u001b[39m\u001b[38;5;28mfloat\u001b[39m),\n\u001b[1;32m    185\u001b[0m     xipos\u001b[38;5;241m=\u001b[39mjp\u001b[38;5;241m.\u001b[39mzeros((m\u001b[38;5;241m.\u001b[39mnbody, \u001b[38;5;241m3\u001b[39m), dtype\u001b[38;5;241m=\u001b[39m\u001b[38;5;28mfloat\u001b[39m),\n\u001b[1;32m    186\u001b[0m     ximat\u001b[38;5;241m=\u001b[39mjp\u001b[38;5;241m.\u001b[39mzeros((m\u001b[38;5;241m.\u001b[39mnbody, \u001b[38;5;241m3\u001b[39m, \u001b[38;5;241m3\u001b[39m), dtype\u001b[38;5;241m=\u001b[39m\u001b[38;5;28mfloat\u001b[39m),\n\u001b[1;32m    187\u001b[0m     xanchor\u001b[38;5;241m=\u001b[39mjp\u001b[38;5;241m.\u001b[39mzeros((m\u001b[38;5;241m.\u001b[39mnjnt, \u001b[38;5;241m3\u001b[39m), dtype\u001b[38;5;241m=\u001b[39m\u001b[38;5;28mfloat\u001b[39m),\n\u001b[1;32m    188\u001b[0m     xaxis\u001b[38;5;241m=\u001b[39mjp\u001b[38;5;241m.\u001b[39mzeros((m\u001b[38;5;241m.\u001b[39mnjnt, \u001b[38;5;241m3\u001b[39m), dtype\u001b[38;5;241m=\u001b[39m\u001b[38;5;28mfloat\u001b[39m),\n\u001b[1;32m    189\u001b[0m     geom_xpos\u001b[38;5;241m=\u001b[39mjp\u001b[38;5;241m.\u001b[39mzeros((m\u001b[38;5;241m.\u001b[39mngeom, \u001b[38;5;241m3\u001b[39m), dtype\u001b[38;5;241m=\u001b[39m\u001b[38;5;28mfloat\u001b[39m),\n\u001b[1;32m    190\u001b[0m     geom_xmat\u001b[38;5;241m=\u001b[39mjp\u001b[38;5;241m.\u001b[39mzeros((m\u001b[38;5;241m.\u001b[39mngeom, \u001b[38;5;241m3\u001b[39m, \u001b[38;5;241m3\u001b[39m), dtype\u001b[38;5;241m=\u001b[39m\u001b[38;5;28mfloat\u001b[39m),\n\u001b[1;32m    191\u001b[0m     site_xpos\u001b[38;5;241m=\u001b[39mjp\u001b[38;5;241m.\u001b[39mzeros((m\u001b[38;5;241m.\u001b[39mnsite, \u001b[38;5;241m3\u001b[39m), dtype\u001b[38;5;241m=\u001b[39m\u001b[38;5;28mfloat\u001b[39m),\n\u001b[1;32m    192\u001b[0m     site_xmat\u001b[38;5;241m=\u001b[39mjp\u001b[38;5;241m.\u001b[39mzeros((m\u001b[38;5;241m.\u001b[39mnsite, \u001b[38;5;241m3\u001b[39m, \u001b[38;5;241m3\u001b[39m), dtype\u001b[38;5;241m=\u001b[39m\u001b[38;5;28mfloat\u001b[39m),\n\u001b[1;32m    193\u001b[0m     cam_xpos\u001b[38;5;241m=\u001b[39mjp\u001b[38;5;241m.\u001b[39mzeros((m\u001b[38;5;241m.\u001b[39mncam, \u001b[38;5;241m3\u001b[39m), dtype\u001b[38;5;241m=\u001b[39m\u001b[38;5;28mfloat\u001b[39m),\n\u001b[1;32m    194\u001b[0m     cam_xmat\u001b[38;5;241m=\u001b[39mjp\u001b[38;5;241m.\u001b[39mzeros((m\u001b[38;5;241m.\u001b[39mncam, \u001b[38;5;241m3\u001b[39m, \u001b[38;5;241m3\u001b[39m), dtype\u001b[38;5;241m=\u001b[39m\u001b[38;5;28mfloat\u001b[39m),\n\u001b[1;32m    195\u001b[0m     light_xpos\u001b[38;5;241m=\u001b[39mjp\u001b[38;5;241m.\u001b[39mzeros((m\u001b[38;5;241m.\u001b[39mnlight, \u001b[38;5;241m3\u001b[39m), dtype\u001b[38;5;241m=\u001b[39m\u001b[38;5;28mfloat\u001b[39m),\n\u001b[1;32m    196\u001b[0m     light_xdir\u001b[38;5;241m=\u001b[39mjp\u001b[38;5;241m.\u001b[39mzeros((m\u001b[38;5;241m.\u001b[39mnlight, \u001b[38;5;241m3\u001b[39m), dtype\u001b[38;5;241m=\u001b[39m\u001b[38;5;28mfloat\u001b[39m),\n\u001b[1;32m    197\u001b[0m     subtree_com\u001b[38;5;241m=\u001b[39mjp\u001b[38;5;241m.\u001b[39mzeros((m\u001b[38;5;241m.\u001b[39mnbody, \u001b[38;5;241m3\u001b[39m), dtype\u001b[38;5;241m=\u001b[39m\u001b[38;5;28mfloat\u001b[39m),\n\u001b[1;32m    198\u001b[0m     cdof\u001b[38;5;241m=\u001b[39mjp\u001b[38;5;241m.\u001b[39mzeros((m\u001b[38;5;241m.\u001b[39mnv, \u001b[38;5;241m6\u001b[39m), dtype\u001b[38;5;241m=\u001b[39m\u001b[38;5;28mfloat\u001b[39m),\n\u001b[1;32m    199\u001b[0m     cinert\u001b[38;5;241m=\u001b[39mjp\u001b[38;5;241m.\u001b[39mzeros((m\u001b[38;5;241m.\u001b[39mnbody, \u001b[38;5;241m10\u001b[39m), dtype\u001b[38;5;241m=\u001b[39m\u001b[38;5;28mfloat\u001b[39m),\n\u001b[1;32m    200\u001b[0m     flexvert_xpos\u001b[38;5;241m=\u001b[39mjp\u001b[38;5;241m.\u001b[39mzeros((m\u001b[38;5;241m.\u001b[39mnflexvert, \u001b[38;5;241m3\u001b[39m), dtype\u001b[38;5;241m=\u001b[39m\u001b[38;5;28mfloat\u001b[39m),\n\u001b[0;32m--> 201\u001b[0m     flexelem_aabb\u001b[38;5;241m=\u001b[39m\u001b[43mjp\u001b[49m\u001b[38;5;241;43m.\u001b[39;49m\u001b[43mzeros\u001b[49m\u001b[43m(\u001b[49m\u001b[43m(\u001b[49m\u001b[43mm\u001b[49m\u001b[38;5;241;43m.\u001b[39;49m\u001b[43mnflexelem\u001b[49m\u001b[43m,\u001b[49m\u001b[43m \u001b[49m\u001b[38;5;241;43m6\u001b[39;49m\u001b[43m)\u001b[49m\u001b[43m,\u001b[49m\u001b[43m \u001b[49m\u001b[43mdtype\u001b[49m\u001b[38;5;241;43m=\u001b[39;49m\u001b[38;5;28;43mfloat\u001b[39;49m\u001b[43m)\u001b[49m,\n\u001b[1;32m    202\u001b[0m     flexedge_J_rownnz\u001b[38;5;241m=\u001b[39mjp\u001b[38;5;241m.\u001b[39mzeros((m\u001b[38;5;241m.\u001b[39mnflexedge,), dtype\u001b[38;5;241m=\u001b[39mjp\u001b[38;5;241m.\u001b[39mint32),\n\u001b[1;32m    203\u001b[0m     flexedge_J_rowadr\u001b[38;5;241m=\u001b[39mjp\u001b[38;5;241m.\u001b[39mzeros((m\u001b[38;5;241m.\u001b[39mnflexedge,), dtype\u001b[38;5;241m=\u001b[39mjp\u001b[38;5;241m.\u001b[39mint32),\n\u001b[1;32m    204\u001b[0m     flexedge_J_colind\u001b[38;5;241m=\u001b[39mjp\u001b[38;5;241m.\u001b[39mzeros((m\u001b[38;5;241m.\u001b[39mnflexedge, m\u001b[38;5;241m.\u001b[39mnv), dtype\u001b[38;5;241m=\u001b[39mjp\u001b[38;5;241m.\u001b[39mint32),\n\u001b[1;32m    205\u001b[0m     flexedge_J\u001b[38;5;241m=\u001b[39mjp\u001b[38;5;241m.\u001b[39mzeros((m\u001b[38;5;241m.\u001b[39mnflexedge, m\u001b[38;5;241m.\u001b[39mnv), dtype\u001b[38;5;241m=\u001b[39m\u001b[38;5;28mfloat\u001b[39m),\n\u001b[1;32m    206\u001b[0m     flexedge_length\u001b[38;5;241m=\u001b[39mjp\u001b[38;5;241m.\u001b[39mzeros((m\u001b[38;5;241m.\u001b[39mnflexedge,), dtype\u001b[38;5;241m=\u001b[39m\u001b[38;5;28mfloat\u001b[39m),\n\u001b[1;32m    207\u001b[0m     ten_wrapadr\u001b[38;5;241m=\u001b[39mjp\u001b[38;5;241m.\u001b[39mzeros((m\u001b[38;5;241m.\u001b[39mntendon,), dtype\u001b[38;5;241m=\u001b[39mjp\u001b[38;5;241m.\u001b[39mint32),\n\u001b[1;32m    208\u001b[0m     ten_wrapnum\u001b[38;5;241m=\u001b[39mjp\u001b[38;5;241m.\u001b[39mzeros((m\u001b[38;5;241m.\u001b[39mntendon,), dtype\u001b[38;5;241m=\u001b[39mjp\u001b[38;5;241m.\u001b[39mint32),\n\u001b[1;32m    209\u001b[0m     ten_J_rownnz\u001b[38;5;241m=\u001b[39mjp\u001b[38;5;241m.\u001b[39mzeros((m\u001b[38;5;241m.\u001b[39mntendon,), dtype\u001b[38;5;241m=\u001b[39mjp\u001b[38;5;241m.\u001b[39mint32),\n\u001b[1;32m    210\u001b[0m     ten_J_rowadr\u001b[38;5;241m=\u001b[39mjp\u001b[38;5;241m.\u001b[39mzeros((m\u001b[38;5;241m.\u001b[39mntendon,), dtype\u001b[38;5;241m=\u001b[39mjp\u001b[38;5;241m.\u001b[39mint32),\n\u001b[1;32m    211\u001b[0m     ten_J_colind\u001b[38;5;241m=\u001b[39mjp\u001b[38;5;241m.\u001b[39mzeros((m\u001b[38;5;241m.\u001b[39mntendon, m\u001b[38;5;241m.\u001b[39mnv), dtype\u001b[38;5;241m=\u001b[39mjp\u001b[38;5;241m.\u001b[39mint32),\n\u001b[1;32m    212\u001b[0m     ten_J\u001b[38;5;241m=\u001b[39mjp\u001b[38;5;241m.\u001b[39mzeros((m\u001b[38;5;241m.\u001b[39mntendon, m\u001b[38;5;241m.\u001b[39mnv), dtype\u001b[38;5;241m=\u001b[39m\u001b[38;5;28mfloat\u001b[39m),\n\u001b[1;32m    213\u001b[0m     ten_length\u001b[38;5;241m=\u001b[39mjp\u001b[38;5;241m.\u001b[39mzeros((m\u001b[38;5;241m.\u001b[39mntendon,), dtype\u001b[38;5;241m=\u001b[39m\u001b[38;5;28mfloat\u001b[39m),\n\u001b[1;32m    214\u001b[0m     wrap_obj\u001b[38;5;241m=\u001b[39mjp\u001b[38;5;241m.\u001b[39mzeros((m\u001b[38;5;241m.\u001b[39mnwrap, \u001b[38;5;241m2\u001b[39m), dtype\u001b[38;5;241m=\u001b[39mjp\u001b[38;5;241m.\u001b[39mint32),\n\u001b[1;32m    215\u001b[0m     wrap_xpos\u001b[38;5;241m=\u001b[39mjp\u001b[38;5;241m.\u001b[39mzeros((m\u001b[38;5;241m.\u001b[39mnwrap, \u001b[38;5;241m6\u001b[39m), dtype\u001b[38;5;241m=\u001b[39m\u001b[38;5;28mfloat\u001b[39m),\n\u001b[1;32m    216\u001b[0m     actuator_length\u001b[38;5;241m=\u001b[39mjp\u001b[38;5;241m.\u001b[39mzeros((m\u001b[38;5;241m.\u001b[39mnu,), dtype\u001b[38;5;241m=\u001b[39m\u001b[38;5;28mfloat\u001b[39m),\n\u001b[1;32m    217\u001b[0m     actuator_moment\u001b[38;5;241m=\u001b[39mjp\u001b[38;5;241m.\u001b[39mzeros((m\u001b[38;5;241m.\u001b[39mnu, m\u001b[38;5;241m.\u001b[39mnv), dtype\u001b[38;5;241m=\u001b[39m\u001b[38;5;28mfloat\u001b[39m),\n\u001b[1;32m    218\u001b[0m     crb\u001b[38;5;241m=\u001b[39mjp\u001b[38;5;241m.\u001b[39mzeros((m\u001b[38;5;241m.\u001b[39mnbody, \u001b[38;5;241m10\u001b[39m), dtype\u001b[38;5;241m=\u001b[39m\u001b[38;5;28mfloat\u001b[39m),\n\u001b[1;32m    219\u001b[0m     qM\u001b[38;5;241m=\u001b[39m(\n\u001b[1;32m    220\u001b[0m         jp\u001b[38;5;241m.\u001b[39mzeros((m\u001b[38;5;241m.\u001b[39mnM,), dtype\u001b[38;5;241m=\u001b[39m\u001b[38;5;28mfloat\u001b[39m)\n\u001b[1;32m    221\u001b[0m         \u001b[38;5;28;01mif\u001b[39;00m support\u001b[38;5;241m.\u001b[39mis_sparse(m)\n\u001b[1;32m    222\u001b[0m         \u001b[38;5;28;01melse\u001b[39;00m jp\u001b[38;5;241m.\u001b[39mzeros((m\u001b[38;5;241m.\u001b[39mnv, m\u001b[38;5;241m.\u001b[39mnv), dtype\u001b[38;5;241m=\u001b[39m\u001b[38;5;28mfloat\u001b[39m)\n\u001b[1;32m    223\u001b[0m     ),\n\u001b[1;32m    224\u001b[0m     qLD\u001b[38;5;241m=\u001b[39m(\n\u001b[1;32m    225\u001b[0m         jp\u001b[38;5;241m.\u001b[39mzeros((m\u001b[38;5;241m.\u001b[39mnM,), dtype\u001b[38;5;241m=\u001b[39m\u001b[38;5;28mfloat\u001b[39m)\n\u001b[1;32m    226\u001b[0m         \u001b[38;5;28;01mif\u001b[39;00m support\u001b[38;5;241m.\u001b[39mis_sparse(m)\n\u001b[1;32m    227\u001b[0m         \u001b[38;5;28;01melse\u001b[39;00m jp\u001b[38;5;241m.\u001b[39mzeros((m\u001b[38;5;241m.\u001b[39mnv, m\u001b[38;5;241m.\u001b[39mnv), dtype\u001b[38;5;241m=\u001b[39m\u001b[38;5;28mfloat\u001b[39m)\n\u001b[1;32m    228\u001b[0m     ),\n\u001b[1;32m    229\u001b[0m     qLDiagInv\u001b[38;5;241m=\u001b[39m(\n\u001b[1;32m    230\u001b[0m         jp\u001b[38;5;241m.\u001b[39mzeros((m\u001b[38;5;241m.\u001b[39mnv,), dtype\u001b[38;5;241m=\u001b[39m\u001b[38;5;28mfloat\u001b[39m) \u001b[38;5;28;01mif\u001b[39;00m support\u001b[38;5;241m.\u001b[39mis_sparse(m)\n\u001b[1;32m    231\u001b[0m         \u001b[38;5;28;01melse\u001b[39;00m jp\u001b[38;5;241m.\u001b[39mzeros((\u001b[38;5;241m0\u001b[39m,), dtype\u001b[38;5;241m=\u001b[39m\u001b[38;5;28mfloat\u001b[39m)\n\u001b[1;32m    232\u001b[0m     ),\n\u001b[1;32m    233\u001b[0m     qLDiagSqrtInv\u001b[38;5;241m=\u001b[39mjp\u001b[38;5;241m.\u001b[39mzeros((m\u001b[38;5;241m.\u001b[39mnv,), dtype\u001b[38;5;241m=\u001b[39m\u001b[38;5;28mfloat\u001b[39m),\n\u001b[1;32m    234\u001b[0m     bvh_aabb_dyn\u001b[38;5;241m=\u001b[39mjp\u001b[38;5;241m.\u001b[39mzeros((m\u001b[38;5;241m.\u001b[39mnbvhdynamic, \u001b[38;5;241m6\u001b[39m), dtype\u001b[38;5;241m=\u001b[39m\u001b[38;5;28mfloat\u001b[39m),\n\u001b[1;32m    235\u001b[0m     bvh_active\u001b[38;5;241m=\u001b[39mjp\u001b[38;5;241m.\u001b[39mzeros((m\u001b[38;5;241m.\u001b[39mnbvh,), dtype\u001b[38;5;241m=\u001b[39mjp\u001b[38;5;241m.\u001b[39muint8),\n\u001b[1;32m    236\u001b[0m     flexedge_velocity\u001b[38;5;241m=\u001b[39mjp\u001b[38;5;241m.\u001b[39mzeros((m\u001b[38;5;241m.\u001b[39mnflexedge,), dtype\u001b[38;5;241m=\u001b[39m\u001b[38;5;28mfloat\u001b[39m),\n\u001b[1;32m    237\u001b[0m     ten_velocity\u001b[38;5;241m=\u001b[39mjp\u001b[38;5;241m.\u001b[39mzeros((m\u001b[38;5;241m.\u001b[39mntendon,), dtype\u001b[38;5;241m=\u001b[39m\u001b[38;5;28mfloat\u001b[39m),\n\u001b[1;32m    238\u001b[0m     actuator_velocity\u001b[38;5;241m=\u001b[39mjp\u001b[38;5;241m.\u001b[39mzeros((m\u001b[38;5;241m.\u001b[39mnu,), dtype\u001b[38;5;241m=\u001b[39m\u001b[38;5;28mfloat\u001b[39m),\n\u001b[1;32m    239\u001b[0m     cvel\u001b[38;5;241m=\u001b[39mjp\u001b[38;5;241m.\u001b[39mzeros((m\u001b[38;5;241m.\u001b[39mnbody, \u001b[38;5;241m6\u001b[39m), dtype\u001b[38;5;241m=\u001b[39m\u001b[38;5;28mfloat\u001b[39m),\n\u001b[1;32m    240\u001b[0m     cdof_dot\u001b[38;5;241m=\u001b[39mjp\u001b[38;5;241m.\u001b[39mzeros((m\u001b[38;5;241m.\u001b[39mnv, \u001b[38;5;241m6\u001b[39m), dtype\u001b[38;5;241m=\u001b[39m\u001b[38;5;28mfloat\u001b[39m),\n\u001b[1;32m    241\u001b[0m     qfrc_bias\u001b[38;5;241m=\u001b[39mjp\u001b[38;5;241m.\u001b[39mzeros((m\u001b[38;5;241m.\u001b[39mnv,), dtype\u001b[38;5;241m=\u001b[39m\u001b[38;5;28mfloat\u001b[39m),\n\u001b[1;32m    242\u001b[0m     qfrc_spring\u001b[38;5;241m=\u001b[39mjp\u001b[38;5;241m.\u001b[39mzeros((m\u001b[38;5;241m.\u001b[39mnv,), dtype\u001b[38;5;241m=\u001b[39m\u001b[38;5;28mfloat\u001b[39m),\n\u001b[1;32m    243\u001b[0m     qfrc_damper\u001b[38;5;241m=\u001b[39mjp\u001b[38;5;241m.\u001b[39mzeros((m\u001b[38;5;241m.\u001b[39mnv,), dtype\u001b[38;5;241m=\u001b[39m\u001b[38;5;28mfloat\u001b[39m),\n\u001b[1;32m    244\u001b[0m     qfrc_gravcomp\u001b[38;5;241m=\u001b[39mjp\u001b[38;5;241m.\u001b[39mzeros((m\u001b[38;5;241m.\u001b[39mnv,), dtype\u001b[38;5;241m=\u001b[39m\u001b[38;5;28mfloat\u001b[39m),\n\u001b[1;32m    245\u001b[0m     qfrc_fluid\u001b[38;5;241m=\u001b[39mjp\u001b[38;5;241m.\u001b[39mzeros((m\u001b[38;5;241m.\u001b[39mnv,), dtype\u001b[38;5;241m=\u001b[39m\u001b[38;5;28mfloat\u001b[39m),\n\u001b[1;32m    246\u001b[0m     qfrc_passive\u001b[38;5;241m=\u001b[39mjp\u001b[38;5;241m.\u001b[39mzeros((m\u001b[38;5;241m.\u001b[39mnv,), dtype\u001b[38;5;241m=\u001b[39m\u001b[38;5;28mfloat\u001b[39m),\n\u001b[1;32m    247\u001b[0m     subtree_linvel\u001b[38;5;241m=\u001b[39mjp\u001b[38;5;241m.\u001b[39mzeros((m\u001b[38;5;241m.\u001b[39mnbody, \u001b[38;5;241m3\u001b[39m), dtype\u001b[38;5;241m=\u001b[39m\u001b[38;5;28mfloat\u001b[39m),\n\u001b[1;32m    248\u001b[0m     subtree_angmom\u001b[38;5;241m=\u001b[39mjp\u001b[38;5;241m.\u001b[39mzeros((m\u001b[38;5;241m.\u001b[39mnbody, \u001b[38;5;241m3\u001b[39m), dtype\u001b[38;5;241m=\u001b[39m\u001b[38;5;28mfloat\u001b[39m),\n\u001b[1;32m    249\u001b[0m     qH\u001b[38;5;241m=\u001b[39mjp\u001b[38;5;241m.\u001b[39mzeros((m\u001b[38;5;241m.\u001b[39mnM,), dtype\u001b[38;5;241m=\u001b[39m\u001b[38;5;28mfloat\u001b[39m),\n\u001b[1;32m    250\u001b[0m     qHDiagInv\u001b[38;5;241m=\u001b[39mjp\u001b[38;5;241m.\u001b[39mzeros((m\u001b[38;5;241m.\u001b[39mnv,), dtype\u001b[38;5;241m=\u001b[39m\u001b[38;5;28mfloat\u001b[39m),\n\u001b[1;32m    251\u001b[0m     D_rownnz\u001b[38;5;241m=\u001b[39mjp\u001b[38;5;241m.\u001b[39mzeros((m\u001b[38;5;241m.\u001b[39mnv,), dtype\u001b[38;5;241m=\u001b[39mjp\u001b[38;5;241m.\u001b[39mint32),\n\u001b[1;32m    252\u001b[0m     D_rowadr\u001b[38;5;241m=\u001b[39mjp\u001b[38;5;241m.\u001b[39mzeros((m\u001b[38;5;241m.\u001b[39mnv,), dtype\u001b[38;5;241m=\u001b[39mjp\u001b[38;5;241m.\u001b[39mint32),\n\u001b[1;32m    253\u001b[0m     D_colind\u001b[38;5;241m=\u001b[39mjp\u001b[38;5;241m.\u001b[39mzeros((m\u001b[38;5;241m.\u001b[39mnD,), dtype\u001b[38;5;241m=\u001b[39mjp\u001b[38;5;241m.\u001b[39mint32),\n\u001b[1;32m    254\u001b[0m     B_rownnz\u001b[38;5;241m=\u001b[39mjp\u001b[38;5;241m.\u001b[39mzeros((m\u001b[38;5;241m.\u001b[39mnbody,), dtype\u001b[38;5;241m=\u001b[39mjp\u001b[38;5;241m.\u001b[39mint32),\n\u001b[1;32m    255\u001b[0m     B_rowadr\u001b[38;5;241m=\u001b[39mjp\u001b[38;5;241m.\u001b[39mzeros((m\u001b[38;5;241m.\u001b[39mnbody,), dtype\u001b[38;5;241m=\u001b[39mjp\u001b[38;5;241m.\u001b[39mint32),\n\u001b[1;32m    256\u001b[0m     B_colind\u001b[38;5;241m=\u001b[39mjp\u001b[38;5;241m.\u001b[39mzeros((m\u001b[38;5;241m.\u001b[39mnB,), dtype\u001b[38;5;241m=\u001b[39mjp\u001b[38;5;241m.\u001b[39mint32),\n\u001b[1;32m    257\u001b[0m     qDeriv\u001b[38;5;241m=\u001b[39mjp\u001b[38;5;241m.\u001b[39mzeros((m\u001b[38;5;241m.\u001b[39mnD,), dtype\u001b[38;5;241m=\u001b[39m\u001b[38;5;28mfloat\u001b[39m),\n\u001b[1;32m    258\u001b[0m     qLU\u001b[38;5;241m=\u001b[39mjp\u001b[38;5;241m.\u001b[39mzeros((m\u001b[38;5;241m.\u001b[39mnD,), dtype\u001b[38;5;241m=\u001b[39m\u001b[38;5;28mfloat\u001b[39m),\n\u001b[1;32m    259\u001b[0m     actuator_force\u001b[38;5;241m=\u001b[39mjp\u001b[38;5;241m.\u001b[39mzeros((m\u001b[38;5;241m.\u001b[39mnu,), dtype\u001b[38;5;241m=\u001b[39m\u001b[38;5;28mfloat\u001b[39m),\n\u001b[1;32m    260\u001b[0m     qfrc_actuator\u001b[38;5;241m=\u001b[39mjp\u001b[38;5;241m.\u001b[39mzeros((m\u001b[38;5;241m.\u001b[39mnv,), dtype\u001b[38;5;241m=\u001b[39m\u001b[38;5;28mfloat\u001b[39m),\n\u001b[1;32m    261\u001b[0m     qfrc_smooth\u001b[38;5;241m=\u001b[39mjp\u001b[38;5;241m.\u001b[39mzeros((m\u001b[38;5;241m.\u001b[39mnv,), dtype\u001b[38;5;241m=\u001b[39m\u001b[38;5;28mfloat\u001b[39m),\n\u001b[1;32m    262\u001b[0m     qacc_smooth\u001b[38;5;241m=\u001b[39mjp\u001b[38;5;241m.\u001b[39mzeros((m\u001b[38;5;241m.\u001b[39mnv,), dtype\u001b[38;5;241m=\u001b[39m\u001b[38;5;28mfloat\u001b[39m),\n\u001b[1;32m    263\u001b[0m     qfrc_constraint\u001b[38;5;241m=\u001b[39mjp\u001b[38;5;241m.\u001b[39mzeros((m\u001b[38;5;241m.\u001b[39mnv,), dtype\u001b[38;5;241m=\u001b[39m\u001b[38;5;28mfloat\u001b[39m),\n\u001b[1;32m    264\u001b[0m     qfrc_inverse\u001b[38;5;241m=\u001b[39mjp\u001b[38;5;241m.\u001b[39mzeros((m\u001b[38;5;241m.\u001b[39mnv,), dtype\u001b[38;5;241m=\u001b[39m\u001b[38;5;28mfloat\u001b[39m),\n\u001b[1;32m    265\u001b[0m     cacc\u001b[38;5;241m=\u001b[39mjp\u001b[38;5;241m.\u001b[39mzeros((m\u001b[38;5;241m.\u001b[39mnbody, \u001b[38;5;241m6\u001b[39m), dtype\u001b[38;5;241m=\u001b[39m\u001b[38;5;28mfloat\u001b[39m),\n\u001b[1;32m    266\u001b[0m     cfrc_int\u001b[38;5;241m=\u001b[39mjp\u001b[38;5;241m.\u001b[39mzeros((m\u001b[38;5;241m.\u001b[39mnbody, \u001b[38;5;241m6\u001b[39m), dtype\u001b[38;5;241m=\u001b[39m\u001b[38;5;28mfloat\u001b[39m),\n\u001b[1;32m    267\u001b[0m     cfrc_ext\u001b[38;5;241m=\u001b[39mjp\u001b[38;5;241m.\u001b[39mzeros((m\u001b[38;5;241m.\u001b[39mnbody, \u001b[38;5;241m6\u001b[39m), dtype\u001b[38;5;241m=\u001b[39m\u001b[38;5;28mfloat\u001b[39m),\n\u001b[1;32m    268\u001b[0m     contact\u001b[38;5;241m=\u001b[39mcontact,\n\u001b[1;32m    269\u001b[0m     efc_type\u001b[38;5;241m=\u001b[39mefc_type,\n\u001b[1;32m    270\u001b[0m     efc_J\u001b[38;5;241m=\u001b[39mjp\u001b[38;5;241m.\u001b[39mzeros((nefc, m\u001b[38;5;241m.\u001b[39mnv), dtype\u001b[38;5;241m=\u001b[39m\u001b[38;5;28mfloat\u001b[39m),\n\u001b[1;32m    271\u001b[0m     efc_frictionloss\u001b[38;5;241m=\u001b[39mjp\u001b[38;5;241m.\u001b[39mzeros((nefc,), dtype\u001b[38;5;241m=\u001b[39m\u001b[38;5;28mfloat\u001b[39m),\n\u001b[1;32m    272\u001b[0m     efc_D\u001b[38;5;241m=\u001b[39mjp\u001b[38;5;241m.\u001b[39mzeros((nefc,), dtype\u001b[38;5;241m=\u001b[39m\u001b[38;5;28mfloat\u001b[39m),\n\u001b[1;32m    273\u001b[0m     efc_aref\u001b[38;5;241m=\u001b[39mjp\u001b[38;5;241m.\u001b[39mzeros((nefc,), dtype\u001b[38;5;241m=\u001b[39m\u001b[38;5;28mfloat\u001b[39m),\n\u001b[1;32m    274\u001b[0m     efc_force\u001b[38;5;241m=\u001b[39mjp\u001b[38;5;241m.\u001b[39mzeros((nefc,), dtype\u001b[38;5;241m=\u001b[39m\u001b[38;5;28mfloat\u001b[39m),\n\u001b[1;32m    275\u001b[0m     _qM_sparse\u001b[38;5;241m=\u001b[39mjp\u001b[38;5;241m.\u001b[39mzeros((m\u001b[38;5;241m.\u001b[39mnM), dtype\u001b[38;5;241m=\u001b[39m\u001b[38;5;28mfloat\u001b[39m),\n\u001b[1;32m    276\u001b[0m     _qLD_sparse\u001b[38;5;241m=\u001b[39mjp\u001b[38;5;241m.\u001b[39mzeros((m\u001b[38;5;241m.\u001b[39mnM), dtype\u001b[38;5;241m=\u001b[39m\u001b[38;5;28mfloat\u001b[39m),\n\u001b[1;32m    277\u001b[0m     _qLDiagInv_sparse\u001b[38;5;241m=\u001b[39mjp\u001b[38;5;241m.\u001b[39mzeros((m\u001b[38;5;241m.\u001b[39mnv,), dtype\u001b[38;5;241m=\u001b[39m\u001b[38;5;28mfloat\u001b[39m),\n\u001b[1;32m    278\u001b[0m )\n\u001b[1;32m    280\u001b[0m \u001b[38;5;28;01mreturn\u001b[39;00m d\n",
      "File \u001b[0;32m~/miniforge3/envs/stac-mjx-env/lib/python3.11/site-packages/jax/_src/numpy/lax_numpy.py:6148\u001b[0m, in \u001b[0;36mzeros\u001b[0;34m(shape, dtype, device)\u001b[0m\n\u001b[1;32m   6146\u001b[0m dtypes\u001b[38;5;241m.\u001b[39mcheck_user_dtype_supported(dtype, \u001b[38;5;124m\"\u001b[39m\u001b[38;5;124mzeros\u001b[39m\u001b[38;5;124m\"\u001b[39m)\n\u001b[1;32m   6147\u001b[0m shape \u001b[38;5;241m=\u001b[39m canonicalize_shape(shape)\n\u001b[0;32m-> 6148\u001b[0m \u001b[38;5;28;01mreturn\u001b[39;00m \u001b[43mlax\u001b[49m\u001b[38;5;241;43m.\u001b[39;49m\u001b[43mfull\u001b[49m\u001b[43m(\u001b[49m\u001b[43mshape\u001b[49m\u001b[43m,\u001b[49m\u001b[43m \u001b[49m\u001b[38;5;241;43m0\u001b[39;49m\u001b[43m,\u001b[49m\u001b[43m \u001b[49m\u001b[43m_jnp_dtype\u001b[49m\u001b[43m(\u001b[49m\u001b[43mdtype\u001b[49m\u001b[43m)\u001b[49m\u001b[43m,\u001b[49m\u001b[43m \u001b[49m\u001b[43msharding\u001b[49m\u001b[38;5;241;43m=\u001b[39;49m\u001b[43m_normalize_to_sharding\u001b[49m\u001b[43m(\u001b[49m\u001b[43mdevice\u001b[49m\u001b[43m)\u001b[49m\u001b[43m)\u001b[49m\n",
      "File \u001b[0;32m~/miniforge3/envs/stac-mjx-env/lib/python3.11/site-packages/jax/_src/lax/lax.py:1929\u001b[0m, in \u001b[0;36mfull\u001b[0;34m(shape, fill_value, dtype, sharding)\u001b[0m\n\u001b[1;32m   1927\u001b[0m   \u001b[38;5;28;01mreturn\u001b[39;00m broadcast(fill_value, shape, sharding\u001b[38;5;241m=\u001b[39msharding)\n\u001b[1;32m   1928\u001b[0m \u001b[38;5;28;01melse\u001b[39;00m:\n\u001b[0;32m-> 1929\u001b[0m   \u001b[38;5;28;01mreturn\u001b[39;00m \u001b[43mbroadcast\u001b[49m\u001b[43m(\u001b[49m\u001b[43mfill_value\u001b[49m\u001b[43m,\u001b[49m\u001b[43m \u001b[49m\u001b[43mshape\u001b[49m\u001b[43m)\u001b[49m\n",
      "File \u001b[0;32m~/miniforge3/envs/stac-mjx-env/lib/python3.11/site-packages/jax/_src/lax/lax.py:1420\u001b[0m, in \u001b[0;36mbroadcast\u001b[0;34m(operand, sizes, sharding)\u001b[0m\n\u001b[1;32m   1418\u001b[0m   \u001b[38;5;28;01mreturn\u001b[39;00m asarray(operand)\n\u001b[1;32m   1419\u001b[0m dims \u001b[38;5;241m=\u001b[39m \u001b[38;5;28mtuple\u001b[39m(\u001b[38;5;28mrange\u001b[39m(\u001b[38;5;28mlen\u001b[39m(sizes), \u001b[38;5;28mlen\u001b[39m(sizes) \u001b[38;5;241m+\u001b[39m np\u001b[38;5;241m.\u001b[39mndim(operand)))\n\u001b[0;32m-> 1420\u001b[0m \u001b[38;5;28;01mreturn\u001b[39;00m \u001b[43mbroadcast_in_dim\u001b[49m\u001b[43m(\u001b[49m\u001b[43moperand\u001b[49m\u001b[43m,\u001b[49m\u001b[43m \u001b[49m\u001b[38;5;28;43mtuple\u001b[39;49m\u001b[43m(\u001b[49m\u001b[43msizes\u001b[49m\u001b[43m)\u001b[49m\u001b[43m \u001b[49m\u001b[38;5;241;43m+\u001b[39;49m\u001b[43m \u001b[49m\u001b[43mnp\u001b[49m\u001b[38;5;241;43m.\u001b[39;49m\u001b[43mshape\u001b[49m\u001b[43m(\u001b[49m\u001b[43moperand\u001b[49m\u001b[43m)\u001b[49m\u001b[43m,\u001b[49m\u001b[43m \u001b[49m\u001b[43mdims\u001b[49m\u001b[43m,\u001b[49m\n\u001b[1;32m   1421\u001b[0m \u001b[43m                        \u001b[49m\u001b[43msharding\u001b[49m\u001b[38;5;241;43m=\u001b[39;49m\u001b[43msharding\u001b[49m\u001b[43m)\u001b[49m\n",
      "File \u001b[0;32m~/miniforge3/envs/stac-mjx-env/lib/python3.11/site-packages/jax/_src/lax/lax.py:1455\u001b[0m, in \u001b[0;36mbroadcast_in_dim\u001b[0;34m(operand, shape, broadcast_dimensions, sharding)\u001b[0m\n\u001b[1;32m   1453\u001b[0m \u001b[38;5;28;01melse\u001b[39;00m:\n\u001b[1;32m   1454\u001b[0m   dyn_shape, static_shape \u001b[38;5;241m=\u001b[39m [], shape  \u001b[38;5;66;03m# type: ignore\u001b[39;00m\n\u001b[0;32m-> 1455\u001b[0m \u001b[38;5;28;01mreturn\u001b[39;00m \u001b[43mbroadcast_in_dim_p\u001b[49m\u001b[38;5;241;43m.\u001b[39;49m\u001b[43mbind\u001b[49m\u001b[43m(\u001b[49m\n\u001b[1;32m   1456\u001b[0m \u001b[43m    \u001b[49m\u001b[43moperand\u001b[49m\u001b[43m,\u001b[49m\u001b[43m \u001b[49m\u001b[38;5;241;43m*\u001b[39;49m\u001b[43mdyn_shape\u001b[49m\u001b[43m,\u001b[49m\u001b[43m \u001b[49m\u001b[43mshape\u001b[49m\u001b[38;5;241;43m=\u001b[39;49m\u001b[38;5;28;43mtuple\u001b[39;49m\u001b[43m(\u001b[49m\u001b[43mstatic_shape\u001b[49m\u001b[43m)\u001b[49m\u001b[43m,\u001b[49m\n\u001b[1;32m   1457\u001b[0m \u001b[43m    \u001b[49m\u001b[43mbroadcast_dimensions\u001b[49m\u001b[38;5;241;43m=\u001b[39;49m\u001b[38;5;28;43mtuple\u001b[39;49m\u001b[43m(\u001b[49m\u001b[43mbroadcast_dimensions\u001b[49m\u001b[43m)\u001b[49m\u001b[43m,\u001b[49m\n\u001b[1;32m   1458\u001b[0m \u001b[43m    \u001b[49m\u001b[43msharding\u001b[49m\u001b[38;5;241;43m=\u001b[39;49m\u001b[43msharding\u001b[49m\u001b[43m)\u001b[49m\n",
      "File \u001b[0;32m~/miniforge3/envs/stac-mjx-env/lib/python3.11/site-packages/jax/_src/core.py:463\u001b[0m, in \u001b[0;36mPrimitive.bind\u001b[0;34m(self, *args, **params)\u001b[0m\n\u001b[1;32m    461\u001b[0m trace_ctx\u001b[38;5;241m.\u001b[39mset_trace(eval_trace)\n\u001b[1;32m    462\u001b[0m \u001b[38;5;28;01mtry\u001b[39;00m:\n\u001b[0;32m--> 463\u001b[0m   \u001b[38;5;28;01mreturn\u001b[39;00m \u001b[38;5;28;43mself\u001b[39;49m\u001b[38;5;241;43m.\u001b[39;49m\u001b[43mbind_with_trace\u001b[49m\u001b[43m(\u001b[49m\u001b[43mprev_trace\u001b[49m\u001b[43m,\u001b[49m\u001b[43m \u001b[49m\u001b[43margs\u001b[49m\u001b[43m,\u001b[49m\u001b[43m \u001b[49m\u001b[43mparams\u001b[49m\u001b[43m)\u001b[49m\n\u001b[1;32m    464\u001b[0m \u001b[38;5;28;01mfinally\u001b[39;00m:\n\u001b[1;32m    465\u001b[0m   trace_ctx\u001b[38;5;241m.\u001b[39mset_trace(prev_trace)\n",
      "File \u001b[0;32m~/miniforge3/envs/stac-mjx-env/lib/python3.11/site-packages/jax/_src/core.py:468\u001b[0m, in \u001b[0;36mPrimitive.bind_with_trace\u001b[0;34m(self, trace, args, params)\u001b[0m\n\u001b[1;32m    467\u001b[0m \u001b[38;5;28;01mdef\u001b[39;00m\u001b[38;5;250m \u001b[39m\u001b[38;5;21mbind_with_trace\u001b[39m(\u001b[38;5;28mself\u001b[39m, trace, args, params):\n\u001b[0;32m--> 468\u001b[0m   \u001b[38;5;28;01mreturn\u001b[39;00m \u001b[43mtrace\u001b[49m\u001b[38;5;241;43m.\u001b[39;49m\u001b[43mprocess_primitive\u001b[49m\u001b[43m(\u001b[49m\u001b[38;5;28;43mself\u001b[39;49m\u001b[43m,\u001b[49m\u001b[43m \u001b[49m\u001b[43margs\u001b[49m\u001b[43m,\u001b[49m\u001b[43m \u001b[49m\u001b[43mparams\u001b[49m\u001b[43m)\u001b[49m\n",
      "File \u001b[0;32m~/miniforge3/envs/stac-mjx-env/lib/python3.11/site-packages/jax/_src/core.py:954\u001b[0m, in \u001b[0;36mEvalTrace.process_primitive\u001b[0;34m(self, primitive, args, params)\u001b[0m\n\u001b[1;32m    952\u001b[0m       \u001b[38;5;28;01mreturn\u001b[39;00m primitive\u001b[38;5;241m.\u001b[39mbind_with_trace(arg\u001b[38;5;241m.\u001b[39m_trace, args, params)\n\u001b[1;32m    953\u001b[0m check_eval_args(args)\n\u001b[0;32m--> 954\u001b[0m \u001b[38;5;28;01mreturn\u001b[39;00m \u001b[43mprimitive\u001b[49m\u001b[38;5;241;43m.\u001b[39;49m\u001b[43mimpl\u001b[49m\u001b[43m(\u001b[49m\u001b[38;5;241;43m*\u001b[39;49m\u001b[43margs\u001b[49m\u001b[43m,\u001b[49m\u001b[43m \u001b[49m\u001b[38;5;241;43m*\u001b[39;49m\u001b[38;5;241;43m*\u001b[39;49m\u001b[43mparams\u001b[49m\u001b[43m)\u001b[49m\n",
      "File \u001b[0;32m~/miniforge3/envs/stac-mjx-env/lib/python3.11/site-packages/jax/_src/dispatch.py:89\u001b[0m, in \u001b[0;36mapply_primitive\u001b[0;34m(prim, *args, **params)\u001b[0m\n\u001b[1;32m     87\u001b[0m prev \u001b[38;5;241m=\u001b[39m lib\u001b[38;5;241m.\u001b[39mjax_jit\u001b[38;5;241m.\u001b[39mswap_thread_local_state_disable_jit(\u001b[38;5;28;01mFalse\u001b[39;00m)\n\u001b[1;32m     88\u001b[0m \u001b[38;5;28;01mtry\u001b[39;00m:\n\u001b[0;32m---> 89\u001b[0m   outs \u001b[38;5;241m=\u001b[39m \u001b[43mfun\u001b[49m\u001b[43m(\u001b[49m\u001b[38;5;241;43m*\u001b[39;49m\u001b[43margs\u001b[49m\u001b[43m)\u001b[49m\n\u001b[1;32m     90\u001b[0m \u001b[38;5;28;01mfinally\u001b[39;00m:\n\u001b[1;32m     91\u001b[0m   lib\u001b[38;5;241m.\u001b[39mjax_jit\u001b[38;5;241m.\u001b[39mswap_thread_local_state_disable_jit(prev)\n",
      "    \u001b[0;31m[... skipping hidden 1 frame]\u001b[0m\n",
      "File \u001b[0;32m~/miniforge3/envs/stac-mjx-env/lib/python3.11/site-packages/jax/_src/pjit.py:340\u001b[0m, in \u001b[0;36m_cpp_pjit.<locals>.cache_miss\u001b[0;34m(*args, **kwargs)\u001b[0m\n\u001b[1;32m    335\u001b[0m \u001b[38;5;28;01mif\u001b[39;00m config\u001b[38;5;241m.\u001b[39mno_tracing\u001b[38;5;241m.\u001b[39mvalue:\n\u001b[1;32m    336\u001b[0m   \u001b[38;5;28;01mraise\u001b[39;00m \u001b[38;5;167;01mRuntimeError\u001b[39;00m(\u001b[38;5;124mf\u001b[39m\u001b[38;5;124m\"\u001b[39m\u001b[38;5;124mre-tracing function \u001b[39m\u001b[38;5;132;01m{\u001b[39;00mjit_info\u001b[38;5;241m.\u001b[39mfun_sourceinfo\u001b[38;5;132;01m}\u001b[39;00m\u001b[38;5;124m for \u001b[39m\u001b[38;5;124m\"\u001b[39m\n\u001b[1;32m    337\u001b[0m                      \u001b[38;5;124m\"\u001b[39m\u001b[38;5;124m`jit`, but \u001b[39m\u001b[38;5;124m'\u001b[39m\u001b[38;5;124mno_tracing\u001b[39m\u001b[38;5;124m'\u001b[39m\u001b[38;5;124m is set\u001b[39m\u001b[38;5;124m\"\u001b[39m)\n\u001b[1;32m    339\u001b[0m (outs, out_flat, out_tree, args_flat, jaxpr, attrs_tracked, executable,\n\u001b[0;32m--> 340\u001b[0m  pgle_profiler) \u001b[38;5;241m=\u001b[39m \u001b[43m_python_pjit_helper\u001b[49m\u001b[43m(\u001b[49m\u001b[43mfun\u001b[49m\u001b[43m,\u001b[49m\u001b[43m \u001b[49m\u001b[43mjit_info\u001b[49m\u001b[43m,\u001b[49m\u001b[43m \u001b[49m\u001b[38;5;241;43m*\u001b[39;49m\u001b[43margs\u001b[49m\u001b[43m,\u001b[49m\u001b[43m \u001b[49m\u001b[38;5;241;43m*\u001b[39;49m\u001b[38;5;241;43m*\u001b[39;49m\u001b[43mkwargs\u001b[49m\u001b[43m)\u001b[49m\n\u001b[1;32m    342\u001b[0m maybe_fastpath_data \u001b[38;5;241m=\u001b[39m _get_fastpath_data(\n\u001b[1;32m    343\u001b[0m     executable, out_tree, args_flat, out_flat, attrs_tracked, jaxpr\u001b[38;5;241m.\u001b[39meffects,\n\u001b[1;32m    344\u001b[0m     jaxpr\u001b[38;5;241m.\u001b[39mconsts, jit_info\u001b[38;5;241m.\u001b[39mabstracted_axes,\n\u001b[1;32m    345\u001b[0m     pgle_profiler)\n\u001b[1;32m    347\u001b[0m \u001b[38;5;28;01mreturn\u001b[39;00m outs, maybe_fastpath_data, _need_to_rebuild_with_fdo(pgle_profiler)\n",
      "File \u001b[0;32m~/miniforge3/envs/stac-mjx-env/lib/python3.11/site-packages/jax/_src/pjit.py:198\u001b[0m, in \u001b[0;36m_python_pjit_helper\u001b[0;34m(fun, jit_info, *args, **kwargs)\u001b[0m\n\u001b[1;32m    196\u001b[0m   args_flat \u001b[38;5;241m=\u001b[39m \u001b[38;5;28mmap\u001b[39m(core\u001b[38;5;241m.\u001b[39mfull_lower, args_flat)\n\u001b[1;32m    197\u001b[0m   core\u001b[38;5;241m.\u001b[39mcheck_eval_args(args_flat)\n\u001b[0;32m--> 198\u001b[0m   out_flat, compiled, profiler \u001b[38;5;241m=\u001b[39m \u001b[43m_pjit_call_impl_python\u001b[49m\u001b[43m(\u001b[49m\u001b[38;5;241;43m*\u001b[39;49m\u001b[43margs_flat\u001b[49m\u001b[43m,\u001b[49m\u001b[43m \u001b[49m\u001b[38;5;241;43m*\u001b[39;49m\u001b[38;5;241;43m*\u001b[39;49m\u001b[43mp\u001b[49m\u001b[38;5;241;43m.\u001b[39;49m\u001b[43mparams\u001b[49m\u001b[43m)\u001b[49m\n\u001b[1;32m    199\u001b[0m \u001b[38;5;28;01melse\u001b[39;00m:\n\u001b[1;32m    200\u001b[0m   out_flat \u001b[38;5;241m=\u001b[39m pjit_p\u001b[38;5;241m.\u001b[39mbind(\u001b[38;5;241m*\u001b[39margs_flat, \u001b[38;5;241m*\u001b[39m\u001b[38;5;241m*\u001b[39mp\u001b[38;5;241m.\u001b[39mparams)\n",
      "File \u001b[0;32m~/miniforge3/envs/stac-mjx-env/lib/python3.11/site-packages/jax/_src/pjit.py:1669\u001b[0m, in \u001b[0;36m_pjit_call_impl_python\u001b[0;34m(jaxpr, in_shardings, out_shardings, in_layouts, out_layouts, resource_env, donated_invars, name, keep_unused, inline, compiler_options_kvs, *args)\u001b[0m\n\u001b[1;32m   1657\u001b[0m compiler_options_kvs \u001b[38;5;241m=\u001b[39m compiler_options_kvs \u001b[38;5;241m+\u001b[39m \u001b[38;5;28mtuple\u001b[39m(pgle_compile_options\u001b[38;5;241m.\u001b[39mitems())\n\u001b[1;32m   1658\u001b[0m \u001b[38;5;66;03m# Passing mutable PGLE profile here since it should be extracted by JAXPR to\u001b[39;00m\n\u001b[1;32m   1659\u001b[0m \u001b[38;5;66;03m# initialize the fdo_profile compile option.\u001b[39;00m\n\u001b[1;32m   1660\u001b[0m compiled \u001b[38;5;241m=\u001b[39m \u001b[43m_resolve_and_lower\u001b[49m\u001b[43m(\u001b[49m\n\u001b[1;32m   1661\u001b[0m \u001b[43m    \u001b[49m\u001b[43margs\u001b[49m\u001b[43m,\u001b[49m\u001b[43m \u001b[49m\u001b[43mjaxpr\u001b[49m\u001b[38;5;241;43m=\u001b[39;49m\u001b[43mjaxpr\u001b[49m\u001b[43m,\u001b[49m\u001b[43m \u001b[49m\u001b[43min_shardings\u001b[49m\u001b[38;5;241;43m=\u001b[39;49m\u001b[43min_shardings\u001b[49m\u001b[43m,\u001b[49m\n\u001b[1;32m   1662\u001b[0m \u001b[43m    \u001b[49m\u001b[43mout_shardings\u001b[49m\u001b[38;5;241;43m=\u001b[39;49m\u001b[43mout_shardings\u001b[49m\u001b[43m,\u001b[49m\u001b[43m \u001b[49m\u001b[43min_layouts\u001b[49m\u001b[38;5;241;43m=\u001b[39;49m\u001b[43min_layouts\u001b[49m\u001b[43m,\u001b[49m\n\u001b[1;32m   1663\u001b[0m \u001b[43m    \u001b[49m\u001b[43mout_layouts\u001b[49m\u001b[38;5;241;43m=\u001b[39;49m\u001b[43mout_layouts\u001b[49m\u001b[43m,\u001b[49m\u001b[43m \u001b[49m\u001b[43mresource_env\u001b[49m\u001b[38;5;241;43m=\u001b[39;49m\u001b[43mresource_env\u001b[49m\u001b[43m,\u001b[49m\n\u001b[1;32m   1664\u001b[0m \u001b[43m    \u001b[49m\u001b[43mdonated_invars\u001b[49m\u001b[38;5;241;43m=\u001b[39;49m\u001b[43mdonated_invars\u001b[49m\u001b[43m,\u001b[49m\u001b[43m \u001b[49m\u001b[43mname\u001b[49m\u001b[38;5;241;43m=\u001b[39;49m\u001b[43mname\u001b[49m\u001b[43m,\u001b[49m\u001b[43m \u001b[49m\u001b[43mkeep_unused\u001b[49m\u001b[38;5;241;43m=\u001b[39;49m\u001b[43mkeep_unused\u001b[49m\u001b[43m,\u001b[49m\n\u001b[1;32m   1665\u001b[0m \u001b[43m    \u001b[49m\u001b[43minline\u001b[49m\u001b[38;5;241;43m=\u001b[39;49m\u001b[43minline\u001b[49m\u001b[43m,\u001b[49m\u001b[43m \u001b[49m\u001b[43mlowering_platforms\u001b[49m\u001b[38;5;241;43m=\u001b[39;49m\u001b[38;5;28;43;01mNone\u001b[39;49;00m\u001b[43m,\u001b[49m\n\u001b[1;32m   1666\u001b[0m \u001b[43m    \u001b[49m\u001b[43mlowering_parameters\u001b[49m\u001b[38;5;241;43m=\u001b[39;49m\u001b[43mmlir\u001b[49m\u001b[38;5;241;43m.\u001b[39;49m\u001b[43mLoweringParameters\u001b[49m\u001b[43m(\u001b[49m\u001b[43m)\u001b[49m\u001b[43m,\u001b[49m\n\u001b[1;32m   1667\u001b[0m \u001b[43m    \u001b[49m\u001b[43mpgle_profiler\u001b[49m\u001b[38;5;241;43m=\u001b[39;49m\u001b[43mpgle_profiler\u001b[49m\u001b[43m,\u001b[49m\n\u001b[1;32m   1668\u001b[0m \u001b[43m    \u001b[49m\u001b[43mcompiler_options_kvs\u001b[49m\u001b[38;5;241;43m=\u001b[39;49m\u001b[43mcompiler_options_kvs\u001b[49m\u001b[43m,\u001b[49m\n\u001b[0;32m-> 1669\u001b[0m \u001b[43m\u001b[49m\u001b[43m)\u001b[49m\u001b[38;5;241;43m.\u001b[39;49m\u001b[43mcompile\u001b[49m\u001b[43m(\u001b[49m\u001b[43m)\u001b[49m\n\u001b[1;32m   1671\u001b[0m \u001b[38;5;66;03m# This check is expensive so only do it if enable_checks is on.\u001b[39;00m\n\u001b[1;32m   1672\u001b[0m \u001b[38;5;28;01mif\u001b[39;00m compiled\u001b[38;5;241m.\u001b[39m_auto_spmd_lowering \u001b[38;5;129;01mand\u001b[39;00m config\u001b[38;5;241m.\u001b[39menable_checks\u001b[38;5;241m.\u001b[39mvalue:\n",
      "File \u001b[0;32m~/miniforge3/envs/stac-mjx-env/lib/python3.11/site-packages/jax/_src/interpreters/pxla.py:2419\u001b[0m, in \u001b[0;36mMeshComputation.compile\u001b[0;34m(self, compiler_options)\u001b[0m\n\u001b[1;32m   2417\u001b[0m compiler_options_kvs \u001b[38;5;241m=\u001b[39m \u001b[38;5;28mself\u001b[39m\u001b[38;5;241m.\u001b[39m_compiler_options_kvs \u001b[38;5;241m+\u001b[39m t_compiler_options\n\u001b[1;32m   2418\u001b[0m \u001b[38;5;28;01mif\u001b[39;00m \u001b[38;5;28mself\u001b[39m\u001b[38;5;241m.\u001b[39m_executable \u001b[38;5;129;01mis\u001b[39;00m \u001b[38;5;28;01mNone\u001b[39;00m \u001b[38;5;129;01mor\u001b[39;00m compiler_options_kvs:\n\u001b[0;32m-> 2419\u001b[0m   executable \u001b[38;5;241m=\u001b[39m \u001b[43mUnloadedMeshExecutable\u001b[49m\u001b[38;5;241;43m.\u001b[39;49m\u001b[43mfrom_hlo\u001b[49m\u001b[43m(\u001b[49m\n\u001b[1;32m   2420\u001b[0m \u001b[43m      \u001b[49m\u001b[38;5;28;43mself\u001b[39;49m\u001b[38;5;241;43m.\u001b[39;49m\u001b[43m_name\u001b[49m\u001b[43m,\u001b[49m\u001b[43m \u001b[49m\u001b[38;5;28;43mself\u001b[39;49m\u001b[38;5;241;43m.\u001b[39;49m\u001b[43m_hlo\u001b[49m\u001b[43m,\u001b[49m\u001b[43m \u001b[49m\u001b[38;5;241;43m*\u001b[39;49m\u001b[38;5;241;43m*\u001b[39;49m\u001b[38;5;28;43mself\u001b[39;49m\u001b[38;5;241;43m.\u001b[39;49m\u001b[43mcompile_args\u001b[49m\u001b[43m,\u001b[49m\n\u001b[1;32m   2421\u001b[0m \u001b[43m      \u001b[49m\u001b[43mcompiler_options_kvs\u001b[49m\u001b[38;5;241;43m=\u001b[39;49m\u001b[43mcompiler_options_kvs\u001b[49m\u001b[43m)\u001b[49m\n\u001b[1;32m   2422\u001b[0m   \u001b[38;5;28;01mif\u001b[39;00m \u001b[38;5;129;01mnot\u001b[39;00m compiler_options_kvs:\n\u001b[1;32m   2423\u001b[0m     \u001b[38;5;28mself\u001b[39m\u001b[38;5;241m.\u001b[39m_executable \u001b[38;5;241m=\u001b[39m executable\n",
      "File \u001b[0;32m~/miniforge3/envs/stac-mjx-env/lib/python3.11/site-packages/jax/_src/interpreters/pxla.py:2922\u001b[0m, in \u001b[0;36mUnloadedMeshExecutable.from_hlo\u001b[0;34m(***failed resolving arguments***)\u001b[0m\n\u001b[1;32m   2919\u001b[0m       \u001b[38;5;28;01mbreak\u001b[39;00m\n\u001b[1;32m   2921\u001b[0m util\u001b[38;5;241m.\u001b[39mtest_event(\u001b[38;5;124m\"\u001b[39m\u001b[38;5;124mpxla_cached_compilation\u001b[39m\u001b[38;5;124m\"\u001b[39m)\n\u001b[0;32m-> 2922\u001b[0m xla_executable \u001b[38;5;241m=\u001b[39m \u001b[43m_cached_compilation\u001b[49m\u001b[43m(\u001b[49m\n\u001b[1;32m   2923\u001b[0m \u001b[43m    \u001b[49m\u001b[43mhlo\u001b[49m\u001b[43m,\u001b[49m\u001b[43m \u001b[49m\u001b[43mname\u001b[49m\u001b[43m,\u001b[49m\u001b[43m \u001b[49m\u001b[43mmesh\u001b[49m\u001b[43m,\u001b[49m\u001b[43m \u001b[49m\u001b[43mspmd_lowering\u001b[49m\u001b[43m,\u001b[49m\n\u001b[1;32m   2924\u001b[0m \u001b[43m    \u001b[49m\u001b[43mtuple_args\u001b[49m\u001b[43m,\u001b[49m\u001b[43m \u001b[49m\u001b[43mauto_spmd_lowering\u001b[49m\u001b[43m,\u001b[49m\u001b[43m \u001b[49m\u001b[43mallow_prop_to_inputs\u001b[49m\u001b[43m,\u001b[49m\n\u001b[1;32m   2925\u001b[0m \u001b[43m    \u001b[49m\u001b[43mallow_prop_to_outputs\u001b[49m\u001b[43m,\u001b[49m\u001b[43m \u001b[49m\u001b[38;5;28;43mtuple\u001b[39;49m\u001b[43m(\u001b[49m\u001b[43mhost_callbacks\u001b[49m\u001b[43m)\u001b[49m\u001b[43m,\u001b[49m\u001b[43m \u001b[49m\u001b[43mbackend\u001b[49m\u001b[43m,\u001b[49m\u001b[43m \u001b[49m\u001b[43mda\u001b[49m\u001b[43m,\u001b[49m\u001b[43m \u001b[49m\u001b[43mpmap_nreps\u001b[49m\u001b[43m,\u001b[49m\n\u001b[1;32m   2926\u001b[0m \u001b[43m    \u001b[49m\u001b[43mcompiler_options_kvs\u001b[49m\u001b[43m,\u001b[49m\u001b[43m \u001b[49m\u001b[43mpgle_profiler\u001b[49m\u001b[43m)\u001b[49m\n\u001b[1;32m   2928\u001b[0m \u001b[38;5;28;01mif\u001b[39;00m auto_spmd_lowering:\n\u001b[1;32m   2929\u001b[0m   \u001b[38;5;28;01massert\u001b[39;00m mesh \u001b[38;5;129;01mis\u001b[39;00m \u001b[38;5;129;01mnot\u001b[39;00m \u001b[38;5;28;01mNone\u001b[39;00m\n",
      "File \u001b[0;32m~/miniforge3/envs/stac-mjx-env/lib/python3.11/site-packages/jax/_src/interpreters/pxla.py:2723\u001b[0m, in \u001b[0;36m_cached_compilation\u001b[0;34m(computation, name, mesh, spmd_lowering, tuple_args, auto_spmd_lowering, allow_prop_to_inputs, allow_prop_to_outputs, host_callbacks, backend, da, pmap_nreps, compiler_options_kvs, pgle_profiler)\u001b[0m\n\u001b[1;32m   2715\u001b[0m compile_options \u001b[38;5;241m=\u001b[39m create_compile_options(\n\u001b[1;32m   2716\u001b[0m     computation, mesh, spmd_lowering, tuple_args, auto_spmd_lowering,\n\u001b[1;32m   2717\u001b[0m     allow_prop_to_inputs, allow_prop_to_outputs, backend,\n\u001b[1;32m   2718\u001b[0m     dev, pmap_nreps, compiler_options)\n\u001b[1;32m   2720\u001b[0m \u001b[38;5;28;01mwith\u001b[39;00m dispatch\u001b[38;5;241m.\u001b[39mlog_elapsed_time(\n\u001b[1;32m   2721\u001b[0m     \u001b[38;5;124m\"\u001b[39m\u001b[38;5;124mFinished XLA compilation of \u001b[39m\u001b[38;5;132;01m{fun_name}\u001b[39;00m\u001b[38;5;124m in \u001b[39m\u001b[38;5;132;01m{elapsed_time:.9f}\u001b[39;00m\u001b[38;5;124m sec\u001b[39m\u001b[38;5;124m\"\u001b[39m,\n\u001b[1;32m   2722\u001b[0m     fun_name\u001b[38;5;241m=\u001b[39mname, event\u001b[38;5;241m=\u001b[39mdispatch\u001b[38;5;241m.\u001b[39mBACKEND_COMPILE_EVENT):\n\u001b[0;32m-> 2723\u001b[0m   xla_executable \u001b[38;5;241m=\u001b[39m \u001b[43mcompiler\u001b[49m\u001b[38;5;241;43m.\u001b[39;49m\u001b[43mcompile_or_get_cached\u001b[49m\u001b[43m(\u001b[49m\n\u001b[1;32m   2724\u001b[0m \u001b[43m      \u001b[49m\u001b[43mbackend\u001b[49m\u001b[43m,\u001b[49m\u001b[43m \u001b[49m\u001b[43mcomputation\u001b[49m\u001b[43m,\u001b[49m\u001b[43m \u001b[49m\u001b[43mdev\u001b[49m\u001b[43m,\u001b[49m\u001b[43m \u001b[49m\u001b[43mcompile_options\u001b[49m\u001b[43m,\u001b[49m\u001b[43m \u001b[49m\u001b[43mhost_callbacks\u001b[49m\u001b[43m,\u001b[49m\n\u001b[1;32m   2725\u001b[0m \u001b[43m      \u001b[49m\u001b[43mpgle_profiler\u001b[49m\u001b[43m)\u001b[49m\n\u001b[1;32m   2726\u001b[0m \u001b[38;5;28;01mreturn\u001b[39;00m xla_executable\n",
      "File \u001b[0;32m~/miniforge3/envs/stac-mjx-env/lib/python3.11/site-packages/jax/_src/compiler.py:464\u001b[0m, in \u001b[0;36mcompile_or_get_cached\u001b[0;34m(backend, computation, devices, compile_options, host_callbacks, pgle_profiler)\u001b[0m\n\u001b[1;32m    462\u001b[0m \u001b[38;5;28;01melse\u001b[39;00m:\n\u001b[1;32m    463\u001b[0m   log_persistent_cache_miss(module_name, cache_key)\n\u001b[0;32m--> 464\u001b[0m   \u001b[38;5;28;01mreturn\u001b[39;00m \u001b[43m_compile_and_write_cache\u001b[49m\u001b[43m(\u001b[49m\n\u001b[1;32m    465\u001b[0m \u001b[43m      \u001b[49m\u001b[43mbackend\u001b[49m\u001b[43m,\u001b[49m\n\u001b[1;32m    466\u001b[0m \u001b[43m      \u001b[49m\u001b[43mcomputation\u001b[49m\u001b[43m,\u001b[49m\n\u001b[1;32m    467\u001b[0m \u001b[43m      \u001b[49m\u001b[43mcompile_options\u001b[49m\u001b[43m,\u001b[49m\n\u001b[1;32m    468\u001b[0m \u001b[43m      \u001b[49m\u001b[43mhost_callbacks\u001b[49m\u001b[43m,\u001b[49m\n\u001b[1;32m    469\u001b[0m \u001b[43m      \u001b[49m\u001b[43mmodule_name\u001b[49m\u001b[43m,\u001b[49m\n\u001b[1;32m    470\u001b[0m \u001b[43m      \u001b[49m\u001b[43mcache_key\u001b[49m\u001b[43m,\u001b[49m\n\u001b[1;32m    471\u001b[0m \u001b[43m  \u001b[49m\u001b[43m)\u001b[49m\n",
      "File \u001b[0;32m~/miniforge3/envs/stac-mjx-env/lib/python3.11/site-packages/jax/_src/compiler.py:665\u001b[0m, in \u001b[0;36m_compile_and_write_cache\u001b[0;34m(backend, computation, compile_options, host_callbacks, module_name, cache_key)\u001b[0m\n\u001b[1;32m    656\u001b[0m \u001b[38;5;28;01mdef\u001b[39;00m\u001b[38;5;250m \u001b[39m\u001b[38;5;21m_compile_and_write_cache\u001b[39m(\n\u001b[1;32m    657\u001b[0m     backend: xc\u001b[38;5;241m.\u001b[39mClient,\n\u001b[1;32m    658\u001b[0m     computation: ir\u001b[38;5;241m.\u001b[39mModule,\n\u001b[0;32m   (...)\u001b[0m\n\u001b[1;32m    662\u001b[0m     cache_key: \u001b[38;5;28mstr\u001b[39m,\n\u001b[1;32m    663\u001b[0m ) \u001b[38;5;241m-\u001b[39m\u001b[38;5;241m>\u001b[39m xc\u001b[38;5;241m.\u001b[39mLoadedExecutable:\n\u001b[1;32m    664\u001b[0m   start_time \u001b[38;5;241m=\u001b[39m time\u001b[38;5;241m.\u001b[39mmonotonic()\n\u001b[0;32m--> 665\u001b[0m   executable \u001b[38;5;241m=\u001b[39m \u001b[43mbackend_compile\u001b[49m\u001b[43m(\u001b[49m\n\u001b[1;32m    666\u001b[0m \u001b[43m      \u001b[49m\u001b[43mbackend\u001b[49m\u001b[43m,\u001b[49m\u001b[43m \u001b[49m\u001b[43mcomputation\u001b[49m\u001b[43m,\u001b[49m\u001b[43m \u001b[49m\u001b[43mcompile_options\u001b[49m\u001b[43m,\u001b[49m\u001b[43m \u001b[49m\u001b[43mhost_callbacks\u001b[49m\n\u001b[1;32m    667\u001b[0m \u001b[43m  \u001b[49m\u001b[43m)\u001b[49m\n\u001b[1;32m    668\u001b[0m   compile_time \u001b[38;5;241m=\u001b[39m time\u001b[38;5;241m.\u001b[39mmonotonic() \u001b[38;5;241m-\u001b[39m start_time\n\u001b[1;32m    669\u001b[0m   _cache_write(\n\u001b[1;32m    670\u001b[0m       cache_key, compile_time, module_name, backend, executable, host_callbacks\n\u001b[1;32m    671\u001b[0m   )\n",
      "File \u001b[0;32m~/miniforge3/envs/stac-mjx-env/lib/python3.11/site-packages/jax/_src/profiler.py:333\u001b[0m, in \u001b[0;36mannotate_function.<locals>.wrapper\u001b[0;34m(*args, **kwargs)\u001b[0m\n\u001b[1;32m    330\u001b[0m \u001b[38;5;129m@wraps\u001b[39m(func)\n\u001b[1;32m    331\u001b[0m \u001b[38;5;28;01mdef\u001b[39;00m\u001b[38;5;250m \u001b[39m\u001b[38;5;21mwrapper\u001b[39m(\u001b[38;5;241m*\u001b[39margs, \u001b[38;5;241m*\u001b[39m\u001b[38;5;241m*\u001b[39mkwargs):\n\u001b[1;32m    332\u001b[0m   \u001b[38;5;28;01mwith\u001b[39;00m TraceAnnotation(name, \u001b[38;5;241m*\u001b[39m\u001b[38;5;241m*\u001b[39mdecorator_kwargs):\n\u001b[0;32m--> 333\u001b[0m     \u001b[38;5;28;01mreturn\u001b[39;00m \u001b[43mfunc\u001b[49m\u001b[43m(\u001b[49m\u001b[38;5;241;43m*\u001b[39;49m\u001b[43margs\u001b[49m\u001b[43m,\u001b[49m\u001b[43m \u001b[49m\u001b[38;5;241;43m*\u001b[39;49m\u001b[38;5;241;43m*\u001b[39;49m\u001b[43mkwargs\u001b[49m\u001b[43m)\u001b[49m\n\u001b[1;32m    334\u001b[0m   \u001b[38;5;28;01mreturn\u001b[39;00m wrapper\n",
      "File \u001b[0;32m~/miniforge3/envs/stac-mjx-env/lib/python3.11/site-packages/jax/_src/compiler.py:315\u001b[0m, in \u001b[0;36mbackend_compile\u001b[0;34m(backend, module, options, host_callbacks)\u001b[0m\n\u001b[1;32m    309\u001b[0m     \u001b[38;5;28;01mreturn\u001b[39;00m backend\u001b[38;5;241m.\u001b[39mcompile(\n\u001b[1;32m    310\u001b[0m         built_c, compile_options\u001b[38;5;241m=\u001b[39moptions, host_callbacks\u001b[38;5;241m=\u001b[39mhost_callbacks\n\u001b[1;32m    311\u001b[0m     )\n\u001b[1;32m    312\u001b[0m   \u001b[38;5;66;03m# Some backends don't have `host_callbacks` option yet\u001b[39;00m\n\u001b[1;32m    313\u001b[0m   \u001b[38;5;66;03m# TODO(sharadmv): remove this fallback when all backends allow `compile`\u001b[39;00m\n\u001b[1;32m    314\u001b[0m   \u001b[38;5;66;03m# to take in `host_callbacks`\u001b[39;00m\n\u001b[0;32m--> 315\u001b[0m   \u001b[38;5;28;01mreturn\u001b[39;00m \u001b[43mbackend\u001b[49m\u001b[38;5;241;43m.\u001b[39;49m\u001b[43mcompile\u001b[49m\u001b[43m(\u001b[49m\u001b[43mbuilt_c\u001b[49m\u001b[43m,\u001b[49m\u001b[43m \u001b[49m\u001b[43mcompile_options\u001b[49m\u001b[38;5;241;43m=\u001b[39;49m\u001b[43moptions\u001b[49m\u001b[43m)\u001b[49m\n\u001b[1;32m    316\u001b[0m \u001b[38;5;28;01mexcept\u001b[39;00m xc\u001b[38;5;241m.\u001b[39mXlaRuntimeError \u001b[38;5;28;01mas\u001b[39;00m e:\n\u001b[1;32m    317\u001b[0m   \u001b[38;5;28;01mfor\u001b[39;00m error_handler \u001b[38;5;129;01min\u001b[39;00m _XLA_RUNTIME_ERROR_HANDLERS:\n",
      "\u001b[0;31mKeyboardInterrupt\u001b[0m: "
     ]
    }
   ],
   "source": [
    "import stac_mjx \n",
    "from pathlib import Path\n",
    "\n",
    "# Enable XLA flags if on GPU\n",
    "stac_mjx.enable_xla_flags()\n",
    "\n",
    "# Choose parent directory as base path for data files\n",
    "base_path = Path(\"/root/vast/joshua/stac-mjx\")\n",
    "\n",
    "# Load configs\n",
    "cfg = stac_mjx.load_configs(base_path / \"configs\")\n",
    "# cfg = stac_mjx.load_configs(base_path + \"/configs\")\n",
    "\n",
    "# Load data\n",
    "kp_data, sorted_kp_names = stac_mjx.load_mocap(cfg, base_path)\n",
    "\n",
    "# Run stac\n",
    "fit_path, ik_only_path = stac_mjx.run_stac(\n",
    " cfg,\n",
    " kp_data, \n",
    " sorted_kp_names, \n",
    " base_path=base_path\n",
    ")"
   ]
  },
  {
   "cell_type": "code",
   "execution_count": 10,
   "metadata": {},
   "outputs": [
    {
     "data": {
      "text/plain": [
       "(PosixPath('/root/vast/joshua/stac-mjx/mouse_arm_fit.p'), None)"
      ]
     },
     "execution_count": 10,
     "metadata": {},
     "output_type": "execute_result"
    }
   ],
   "source": [
    "fit_path, ik_only_path\n",
    "meshes/stl/Bone_Scapula_right_v3.stl"
   ]
  },
  {
   "cell_type": "code",
   "execution_count": 12,
   "metadata": {},
   "outputs": [
    {
     "data": {
      "text/plain": [
       "False"
      ]
     },
     "execution_count": 12,
     "metadata": {},
     "output_type": "execute_result"
    }
   ],
   "source": [
    "import os\n",
    "# os.path.isfile('/root/vast/joshua-akira-stac/stac-mjx/meshes/stl/Bone_Scapula_right_v3.stl')\n",
    "os.path.isdir('/root/vast/joshua-akira-stac/')\n"
   ]
  },
  {
   "cell_type": "code",
   "execution_count": 6,
   "metadata": {},
   "outputs": [
    {
     "name": "stdout",
     "output_type": "stream",
     "text": [
      "<KeysViewHDF5 ['config', 'kp_data', 'kp_names', 'marker_sites', 'names_qpos', 'names_xpos', 'offsets', 'qpos', 'qvel', 'xpos', 'xquat']>\n",
      "<HDF5 dataset \"config\": shape (), type \"|S952\">\n",
      "<HDF5 dataset \"kp_data\": shape (1, 9), type \"<f4\">\n",
      "<HDF5 dataset \"kp_names\": shape (3,), type \"|S8\">\n",
      "<HDF5 dataset \"marker_sites\": shape (1, 3, 3), type \"<f4\">\n",
      "<HDF5 dataset \"names_qpos\": shape (4,), type \"|S12\">\n",
      "<HDF5 dataset \"names_xpos\": shape (8,), type \"|S8\">\n",
      "<HDF5 dataset \"offsets\": shape (3, 3), type \"<f4\">\n",
      "<HDF5 dataset \"qpos\": shape (1, 4), type \"<f4\">\n",
      "<HDF5 dataset \"qvel\": shape (0,), type \"<f8\">\n",
      "<HDF5 dataset \"xpos\": shape (1, 8, 3), type \"<f4\">\n",
      "<HDF5 dataset \"xquat\": shape (1, 8, 4), type \"<f4\">\n"
     ]
    }
   ],
   "source": [
    "with h5py.File(\"mouse_arm_fit.h5\", 'r') as f:\n",
    "    print(f.keys())\n",
    "    for i in f.keys():\n",
    "        print(f[i])\n",
    "    # print(f'shape of shortened file {f[\"kp_data\"].shape}')\n",
    "    # print(f[\"kp_data\"])\n",
    "    # print()\n",
    "    # print('kp_names')\n",
    "    # print(list(f['kp_names']))\n",
    "\n",
    "    # print('\\nqpos')\n",
    "    # print(list(f['qpos']))\n",
    "\n",
    "    # print('\\nxpos')\n",
    "    # print(list(f['xpos']))"
   ]
  },
  {
   "cell_type": "code",
   "execution_count": 7,
   "metadata": {},
   "outputs": [
    {
     "name": "stdout",
     "output_type": "stream",
     "text": [
      "<KeysViewHDF5 ['config', 'kp_data', 'kp_names', 'marker_sites', 'names_qpos', 'names_xpos', 'offsets', 'qpos', 'qvel', 'xpos', 'xquat']>\n",
      "<HDF5 dataset \"config\": shape (), type \"|S952\">\n",
      "<HDF5 dataset \"kp_data\": shape (1000, 9), type \"<f4\">\n",
      "<HDF5 dataset \"kp_names\": shape (3,), type \"|S8\">\n",
      "<HDF5 dataset \"marker_sites\": shape (1000, 3, 3), type \"<f4\">\n",
      "<HDF5 dataset \"names_qpos\": shape (4,), type \"|S12\">\n",
      "<HDF5 dataset \"names_xpos\": shape (8,), type \"|S8\">\n",
      "<HDF5 dataset \"offsets\": shape (3, 3), type \"<f4\">\n",
      "<HDF5 dataset \"qpos\": shape (1000, 4), type \"<f4\">\n",
      "<HDF5 dataset \"qvel\": shape (0,), type \"<f8\">\n",
      "<HDF5 dataset \"xpos\": shape (1000, 8, 3), type \"<f4\">\n",
      "<HDF5 dataset \"xquat\": shape (1000, 8, 4), type \"<f4\">\n"
     ]
    }
   ],
   "source": [
    "with h5py.File(\"mouse_arm_ik_only.h5\", 'r') as f:\n",
    "    print(f.keys())\n",
    "    for i in f.keys():\n",
    "        print(f[i])\n",
    "    # print(f'shape of shortened file {f[\"kp_data\"].shape}')\n",
    "    # print(f[\"kp_data\"])\n",
    "    # print()\n",
    "    # print('kp_names')\n",
    "    # print(list(f['kp_names']))\n",
    "\n",
    "    # print('\\nqpos')\n",
    "    # print(list(f['qpos']))\n",
    "\n",
    "    # print('\\nxpos')\n",
    "    # print(list(f['xpos']))"
   ]
  },
  {
   "cell_type": "code",
   "execution_count": 4,
   "metadata": {},
   "outputs": [
    {
     "name": "stderr",
     "output_type": "stream",
     "text": [
      "0it [00:00, ?it/s]/root/miniforge3/envs/stac-mjx-env/lib/python3.11/subprocess.py:1885: RuntimeWarning: os.fork() was called. os.fork() is incompatible with multithreaded code, and JAX is multithreaded, so this will likely lead to a deadlock.\n",
      "  self.pid = _fork_exec(\n",
      "1000it [02:58,  5.60it/s]\n"
     ]
    }
   ],
   "source": [
    "config, render = stac_mjx.viz_stac(\n",
    "    data_path=\"mouse_arm_ik_only.h5\",\n",
    "    n_frames=100,\n",
    "    save_path='mouse_arm_ik_only_video.mp4'\n",
    ")"
   ]
  },
  {
   "cell_type": "markdown",
   "metadata": {},
   "source": [
    "### Okay I have no idea what is going on with the video output so now I am trying to go through Charles' code line by line and try to replicate his coding process "
   ]
  },
  {
   "cell_type": "markdown",
   "metadata": {},
   "source": [
    "##### First is to get the stac object and view it in the 3D space"
   ]
  },
  {
   "cell_type": "code",
   "execution_count": 2,
   "metadata": {},
   "outputs": [],
   "source": [
    "from pathlib import Path\n",
    "import stac_mjx"
   ]
  },
  {
   "cell_type": "code",
   "execution_count": 4,
   "metadata": {},
   "outputs": [
    {
     "name": "stdout",
     "output_type": "stream",
     "text": [
      "Config loaded and validated.\n"
     ]
    }
   ],
   "source": [
    "\n",
    "cfg = stac_mjx.load_configs(Path.cwd() / \"configs\")\n",
    "\n",
    "# Load data\n",
    "kp_data, kp_names = stac_mjx.load_mocap(cfg, Path.cwd())\n",
    "stac = stac_mjx.stac.Stac(Path.cwd() / cfg.model.MJCF_PATH, cfg, kp_names)\n",
    "\n",
    "_, d = stac_mjx.io.load_stac_data(\"./mouse_arm_ik_only_torquearm.h5\")\n",
    "qposes = d.qpos"
   ]
  },
  {
   "cell_type": "code",
   "execution_count": 6,
   "metadata": {},
   "outputs": [
    {
     "data": {
      "text/plain": [
       "(1000, 4)"
      ]
     },
     "execution_count": 6,
     "metadata": {},
     "output_type": "execute_result"
    }
   ],
   "source": [
    "qposes.shape"
   ]
  },
  {
   "cell_type": "code",
   "execution_count": 7,
   "metadata": {},
   "outputs": [],
   "source": [
    "mj_model, body_site_idx, kp_site_idx = stac._create_keypoint_sites()"
   ]
  },
  {
   "cell_type": "code",
   "execution_count": null,
   "metadata": {},
   "outputs": [
    {
     "name": "stdout",
     "output_type": "stream",
     "text": [
      "dict_keys(['MJCF_PATH', 'FTOL', 'ROOT_FTOL', 'LIMB_FTOL', 'N_ITERS', 'KP_NAMES', 'KEYPOINT_MODEL_PAIRS', 'KEYPOINT_INITIAL_OFFSETS', 'ROOT_OPTIMIZATION_KEYPOINT', 'TRUNK_OPTIMIZATION_KEYPOINTS', 'KEYPOINT_COLOR_PAIRS', 'SCALE_FACTOR', 'MOCAP_SCALE_FACTOR', 'SITES_TO_REGULARIZE', 'RENDER_FPS', 'N_SAMPLE_FRAMES', 'M_REG_COEF'])\n",
      "body index sites: [10, 27, 35]\n"
     ]
    },
    {
     "data": {
      "text/plain": [
       "FieldIndexer(site_pos):\n",
       "                               x         y         z         \n",
       " 0               Shoulder_kp [-0.000357  0.000128 -0.000263]\n",
       " 1                  Elbow_kp [ 3.83e-05 -0.000423  0.000135]\n",
       " 2                  Wrist_kp [-3.74e-05 -0.000361 -4.13e-06]\n",
       " 3              Pec_C_Origin [-0.002     0         0.0005  ]\n",
       " 4                 AD_Origin [-0         0.0013    0.0007  ]\n",
       " 5                Lat_Origin [-0.0005   -0.004    -0.0035  ]\n",
       " 6                 PD_Origin [ 0.0004   -0.0007    0.0006  ]\n",
       " 7                 MD_Origin [ 0.0007    0.0005    0.0005  ]\n",
       " 8       Triceps_Long_Origin [ 0        -0.0003   -0.0005  ]\n",
       " 9        Biceps_Long_Origin [ 0.0001    0.0003    0.0007  ]\n",
       "10                  Shoulder [ 0         0         0       ]\n",
       "11  shoulder_joint_viz_large [ 0         0         0       ]\n",
       "12   interial_center_humerus [-0.0005    0.0003   -0.004   ]\n",
       "13                  Pec_C_P2 [-0.0005    0.0009   -0.0003  ]\n",
       "14           Pec_C_Insertion [-0         0.001    -0.0005  ]\n",
       "15                    Lat_P2 [-0.001     0        -0.0006  ]\n",
       "16             Lat_Insertion [-0.0004    0.0008   -0.0006  ]\n",
       "17                     AD_P2 [ 0.0003    0.0012   -0.0003  ]\n",
       "18              AD_Insertion [ 0.0003    0.0012   -0.0021  ]\n",
       "19                     PD_P2 [ 0.0003   -0.0003   -0.0006  ]\n",
       "20              PD_Insertion [ 0.0003    0.001    -0.001   ]\n",
       "21                     MD_P2 [ 0.0008    0.0003   -0.0003  ]\n",
       "22              MD_Insertion [ 0.0003    0.001    -0.0016  ]\n",
       "23    Triceps_Lateral_Origin [ 0        -0        -0.0018  ]\n",
       "24         Brachialis_Origin [-0.0005    0.0005   -0.0045  ]\n",
       "25            Biceps_Long_P2 [-0.0002    0.0009    0.0005  ]\n",
       "26            Biceps_Long_P3 [-0.0002    0.0012   -0.0005  ]\n",
       "27                     Elbow [ 0         0         0       ]\n",
       "28     elbow_joint_viz_large [ 0         0         0       ]\n",
       "29      interial_center_ulna [-0.0009    0.004     0.0005  ]\n",
       "30    Triceps_Long_Insertion [ 0.0002   -0.0008    0.0002  ]\n",
       "31 Triceps_Lateral_Insertion [ 0.0002   -0.0008    0.0002  ]\n",
       "32      Brachialis_Insertion [-0.0002    0.001     0.0001  ]\n",
       "33     Biceps_Long_Insertion [-0.0002    0.001     0.0001  ]\n",
       "34      interial_center_hand [-0.0048    0.0019    0.012   ]\n",
       "35                     Wrist [ 0         0         0       ]"
      ]
     },
     "execution_count": 8,
     "metadata": {},
     "output_type": "execute_result"
    }
   ],
   "source": [
    "# take a look through some variables.. i dont know what the last line is\n",
    "# but i assume its a list of the different objects in the mujocuo model\n",
    "# i'm just confused why shoulder_kp, elbow_kp, and wrist_kp are duplicated\n",
    "print(cfg.model.keys())\n",
    "print(f'body index sites: {body_site_idx}')\n",
    "mjcf.Physics.from_mjcf_model(stac._root).named.model.site_pos"
   ]
  },
  {
   "cell_type": "code",
   "execution_count": 9,
   "metadata": {},
   "outputs": [],
   "source": [
    "scene_option = mujoco.MjvOption()\n",
    "scene_option.geomgroup[1] = 0\n",
    "scene_option.geomgroup[2] = 1\n",
    "scene_option.sitegroup[2] = 1\n",
    "scene_option.sitegroup[3] = 0\n",
    "scene_option.flags[enums.mjtVisFlag.mjVIS_TRANSPARENT] = True\n",
    "scene_option.flags[enums.mjtVisFlag.mjVIS_LIGHT] = True\n",
    "scene_option.flags[enums.mjtVisFlag.mjVIS_CONVEXHULL] = True\n",
    "scene_option.flags[enums.mjtRndFlag.mjRND_SHADOW] = True\n",
    "scene_option.flags[enums.mjtRndFlag.mjRND_REFLECTION] = True\n",
    "scene_option.flags[enums.mjtRndFlag.mjRND_SKYBOX] = True\n",
    "scene_option.flags[enums.mjtRndFlag.mjRND_FOG] = True"
   ]
  },
  {
   "cell_type": "code",
   "execution_count": 32,
   "metadata": {},
   "outputs": [],
   "source": [
    "physics = mjcf.Physics.from_mjcf_model(stac._root)\n",
    "render_mj_model = deepcopy(physics.model.ptr)\n",
    "\n",
    "mj_data = mujoco.MjData(render_mj_model)\n",
    "mujoco.mj_kinematics(render_mj_model, mj_data)\n",
    "renderer = mujoco.Renderer(render_mj_model, height=1200, width=1920)\n",
    "# renderer = mujoco.Renderer(render_mj_model)\n",
    "# renderer._height=1200"
   ]
  },
  {
   "cell_type": "code",
   "execution_count": 33,
   "metadata": {},
   "outputs": [
    {
     "data": {
      "text/plain": [
       "(3, 3)"
      ]
     },
     "execution_count": 33,
     "metadata": {},
     "output_type": "execute_result"
    }
   ],
   "source": [
    "render_mj_model.site_pos[kp_site_idx].shape"
   ]
  },
  {
   "cell_type": "code",
   "execution_count": null,
   "metadata": {},
   "outputs": [
    {
     "name": "stderr",
     "output_type": "stream",
     "text": [
      "/root/miniforge3/envs/stac-mjx-env/lib/python3.11/site-packages/imageio/plugins/pillow.py:409: DeprecationWarning: The keyword `fps` is no longer supported. Use `duration`(in ms) instead, e.g. `fps=50` == `duration=20` (1000 * 1/50).\n",
      "  warnings.warn(\n"
     ]
    }
   ],
   "source": [
    "with imageio.get_writer(\"test.png\", fps=20) as video:\n",
    "\n",
    "    # original code from charles' is:\n",
    "    # render_mj_model.site_pos[keypoint_site_idxs] = np.reshape(kps, (-1, 3))\n",
    "    # my code: (just using random numbers)\n",
    "    render_mj_model.site_pos[kp_site_idx] = np.array([0, 0, 1, 0, 0, 50, 0, 0, 0]).reshape((3, 3))\n",
    "    # mj_data.qpos = [0, 1, 0, 0] # random numbers\n",
    "\n",
    "    mujoco.mj_fwdPosition(render_mj_model, mj_data)\n",
    "\n",
    "    renderer.update_scene(mj_data, camera=0, scene_option=scene_option)\n",
    "    video.append_data(renderer.render())"
   ]
  },
  {
   "cell_type": "markdown",
   "metadata": {},
   "source": [
    "##### todo1: get rid of the kp sites from the physics thing and run it through the input h5 data\n",
    "##### todo2: try to find a way to directly change with the joint angles\n",
    "##### todo3: do the Umeyama registration "
   ]
  },
  {
   "cell_type": "markdown",
   "metadata": {},
   "source": [
    "## todo 1"
   ]
  },
  {
   "cell_type": "code",
   "execution_count": 10,
   "metadata": {},
   "outputs": [],
   "source": [
    "stac2 = stac_mjx.stac.Stac(Path.cwd() / cfg.model.MJCF_PATH, cfg, kp_names)\n",
    "physics2 = mjcf.Physics.from_mjcf_model(stac2._root)\n",
    "render_mj_model2 = deepcopy(physics2.model.ptr)"
   ]
  },
  {
   "cell_type": "code",
   "execution_count": null,
   "metadata": {},
   "outputs": [
    {
     "data": {
      "text/plain": [
       "FieldIndexer(site_pos):\n",
       "                               x         y         z         \n",
       " 0              Pec_C_Origin [-0.002     0         0.0005  ]\n",
       " 1                 AD_Origin [-0         0.0013    0.0007  ]\n",
       " 2                Lat_Origin [-0.0005   -0.004    -0.0035  ]\n",
       " 3                 PD_Origin [ 0.0004   -0.0007    0.0006  ]\n",
       " 4                 MD_Origin [ 0.0007    0.0005    0.0005  ]\n",
       " 5       Triceps_Long_Origin [ 0        -0.0003   -0.0005  ]\n",
       " 6        Biceps_Long_Origin [ 0.0001    0.0003    0.0007  ]\n",
       " 7                  Shoulder [ 0         0         0       ]\n",
       " 8  shoulder_joint_viz_large [ 0         0         0       ]\n",
       " 9   interial_center_humerus [-0.0005    0.0003   -0.004   ]\n",
       "10                  Pec_C_P2 [-0.0005    0.0009   -0.0003  ]\n",
       "11           Pec_C_Insertion [-0         0.001    -0.0005  ]\n",
       "12                    Lat_P2 [-0.001     0        -0.0006  ]\n",
       "13             Lat_Insertion [-0.0004    0.0008   -0.0006  ]\n",
       "14                     AD_P2 [ 0.0003    0.0012   -0.0003  ]\n",
       "15              AD_Insertion [ 0.0003    0.0012   -0.0021  ]\n",
       "16                     PD_P2 [ 0.0003   -0.0003   -0.0006  ]\n",
       "17              PD_Insertion [ 0.0003    0.001    -0.001   ]\n",
       "18                     MD_P2 [ 0.0008    0.0003   -0.0003  ]\n",
       "19              MD_Insertion [ 0.0003    0.001    -0.0016  ]\n",
       "20    Triceps_Lateral_Origin [ 0        -0        -0.0018  ]\n",
       "21         Brachialis_Origin [-0.0005    0.0005   -0.0045  ]\n",
       "22            Biceps_Long_P2 [-0.0002    0.0009    0.0005  ]\n",
       "23            Biceps_Long_P3 [-0.0002    0.0012   -0.0005  ]\n",
       "24                     Elbow [ 0         0         0       ]\n",
       "25     elbow_joint_viz_large [ 0         0         0       ]\n",
       "26      interial_center_ulna [-0.0009    0.004     0.0005  ]\n",
       "27    Triceps_Long_Insertion [ 0.0002   -0.0008    0.0002  ]\n",
       "28 Triceps_Lateral_Insertion [ 0.0002   -0.0008    0.0002  ]\n",
       "29      Brachialis_Insertion [-0.0002    0.001     0.0001  ]\n",
       "30     Biceps_Long_Insertion [-0.0002    0.001     0.0001  ]\n",
       "31      interial_center_hand [-0.0048    0.0019    0.012   ]\n",
       "32                     Wrist [ 0         0         0       ]"
      ]
     },
     "execution_count": 11,
     "metadata": {},
     "output_type": "execute_result"
    }
   ],
   "source": [
    "mjcf.Physics.from_mjcf_model(stac2._root).named.model.site_pos"
   ]
  },
  {
   "cell_type": "code",
   "execution_count": 12,
   "metadata": {},
   "outputs": [],
   "source": [
    "mj_data2 = mujoco.MjData(render_mj_model2)\n",
    "mujoco.mj_kinematics(render_mj_model2, mj_data2)\n",
    "renderer2 = mujoco.Renderer(render_mj_model2, height=1200, width=1920)"
   ]
  },
  {
   "cell_type": "code",
   "execution_count": 22,
   "metadata": {},
   "outputs": [],
   "source": [
    "with imageio.get_writer(\"input_data_arm_movement_(attempt2).mp4\", fps=20) as video:\n",
    "    for i in range(1000):\n",
    "        render_mj_model2.site_pos[[7, 24, 32]] = kp_data[i].reshape(-1, 3)\n",
    "        # mj_data2.qpos = [i, i, i, i]\n",
    "        mj_data2.qpos = qposes[i]\n",
    "\n",
    "        mujoco.mj_fwdPosition(render_mj_model2, mj_data2)\n",
    "\n",
    "        renderer2.update_scene(mj_data2, camera=0, scene_option=scene_option)\n",
    "        video.append_data(renderer2.render())"
   ]
  },
  {
   "cell_type": "code",
   "execution_count": 26,
   "metadata": {},
   "outputs": [
    {
     "data": {
      "text/plain": [
       "array([[-0.00723403,  0.00966849,  0.0131236 ],\n",
       "       [-0.01064992,  0.01103032,  0.00484736],\n",
       "       [-0.00338147,  0.00977638,  0.00280233]])"
      ]
     },
     "execution_count": 26,
     "metadata": {},
     "output_type": "execute_result"
    }
   ],
   "source": [
    "render_mj_model2.site_pos[[7, 24, 32]]"
   ]
  },
  {
   "cell_type": "code",
   "execution_count": null,
   "metadata": {},
   "outputs": [
    {
     "data": {
      "text/plain": [
       "FieldIndexer(site_pos):\n",
       "                               x         y         z         \n",
       " 0              Pec_C_Origin [-0.002     0         0.0005  ]\n",
       " 1                 AD_Origin [-0         0.0013    0.0007  ]\n",
       " 2                Lat_Origin [-0.0005   -0.004    -0.0035  ]\n",
       " 3                 PD_Origin [ 0.0004   -0.0007    0.0006  ]\n",
       " 4                 MD_Origin [ 0.0007    0.0005    0.0005  ]\n",
       " 5       Triceps_Long_Origin [ 0        -0.0003   -0.0005  ]\n",
       " 6        Biceps_Long_Origin [ 0.0001    0.0003    0.0007  ]\n",
       " 7                  Shoulder [ 0         0         0       ]\n",
       " 8  shoulder_joint_viz_large [ 0         0         0       ]\n",
       " 9   interial_center_humerus [-0.0005    0.0003   -0.004   ]\n",
       "10                  Pec_C_P2 [-0.0005    0.0009   -0.0003  ]\n",
       "11           Pec_C_Insertion [-0         0.001    -0.0005  ]\n",
       "12                    Lat_P2 [-0.001     0        -0.0006  ]\n",
       "13             Lat_Insertion [-0.0004    0.0008   -0.0006  ]\n",
       "14                     AD_P2 [ 0.0003    0.0012   -0.0003  ]\n",
       "15              AD_Insertion [ 0.0003    0.0012   -0.0021  ]\n",
       "16                     PD_P2 [ 0.0003   -0.0003   -0.0006  ]\n",
       "17              PD_Insertion [ 0.0003    0.001    -0.001   ]\n",
       "18                     MD_P2 [ 0.0008    0.0003   -0.0003  ]\n",
       "19              MD_Insertion [ 0.0003    0.001    -0.0016  ]\n",
       "20    Triceps_Lateral_Origin [ 0        -0        -0.0018  ]\n",
       "21         Brachialis_Origin [-0.0005    0.0005   -0.0045  ]\n",
       "22            Biceps_Long_P2 [-0.0002    0.0009    0.0005  ]\n",
       "23            Biceps_Long_P3 [-0.0002    0.0012   -0.0005  ]\n",
       "24                     Elbow [ 0         0         0       ]\n",
       "25     elbow_joint_viz_large [ 0         0         0       ]\n",
       "26      interial_center_ulna [-0.0009    0.004     0.0005  ]\n",
       "27    Triceps_Long_Insertion [ 0.0002   -0.0008    0.0002  ]\n",
       "28 Triceps_Lateral_Insertion [ 0.0002   -0.0008    0.0002  ]\n",
       "29      Brachialis_Insertion [-0.0002    0.001     0.0001  ]\n",
       "30     Biceps_Long_Insertion [-0.0002    0.001     0.0001  ]\n",
       "31      interial_center_hand [-0.0048    0.0019    0.012   ]\n",
       "32                     Wrist [ 0         0         0       ]"
      ]
     },
     "execution_count": 23,
     "metadata": {},
     "output_type": "execute_result"
    }
   ],
   "source": [
    "mjcf.Physics.from_mjcf_model(stac2._root).named.model.site_pos"
   ]
  },
  {
   "cell_type": "code",
   "execution_count": 37,
   "metadata": {},
   "outputs": [
    {
     "data": {
      "text/plain": [
       "['B_colind',\n",
       " 'B_rowadr',\n",
       " 'B_rownnz',\n",
       " 'D_colind',\n",
       " 'D_rowadr',\n",
       " 'D_rownnz',\n",
       " '__class__',\n",
       " '__copy__',\n",
       " '__deepcopy__',\n",
       " '__delattr__',\n",
       " '__dir__',\n",
       " '__doc__',\n",
       " '__eq__',\n",
       " '__format__',\n",
       " '__ge__',\n",
       " '__getattribute__',\n",
       " '__getstate__',\n",
       " '__gt__',\n",
       " '__hash__',\n",
       " '__init__',\n",
       " '__init_subclass__',\n",
       " '__le__',\n",
       " '__lt__',\n",
       " '__module__',\n",
       " '__ne__',\n",
       " '__new__',\n",
       " '__reduce__',\n",
       " '__reduce_ex__',\n",
       " '__repr__',\n",
       " '__setattr__',\n",
       " '__setstate__',\n",
       " '__sizeof__',\n",
       " '__str__',\n",
       " '__subclasshook__',\n",
       " '_address',\n",
       " 'act',\n",
       " 'act_dot',\n",
       " 'actuator',\n",
       " 'actuator_force',\n",
       " 'actuator_length',\n",
       " 'actuator_moment',\n",
       " 'actuator_velocity',\n",
       " 'body',\n",
       " 'bvh_aabb_dyn',\n",
       " 'bvh_active',\n",
       " 'cacc',\n",
       " 'cam',\n",
       " 'cam_xmat',\n",
       " 'cam_xpos',\n",
       " 'camera',\n",
       " 'cdof',\n",
       " 'cdof_dot',\n",
       " 'cfrc_ext',\n",
       " 'cfrc_int',\n",
       " 'cinert',\n",
       " 'contact',\n",
       " 'crb',\n",
       " 'ctrl',\n",
       " 'cvel',\n",
       " 'dof_island',\n",
       " 'dof_islandind',\n",
       " 'efc_AR',\n",
       " 'efc_AR_colind',\n",
       " 'efc_AR_rowadr',\n",
       " 'efc_AR_rownnz',\n",
       " 'efc_D',\n",
       " 'efc_J',\n",
       " 'efc_JT',\n",
       " 'efc_JT_colind',\n",
       " 'efc_JT_rowadr',\n",
       " 'efc_JT_rownnz',\n",
       " 'efc_JT_rowsuper',\n",
       " 'efc_J_colind',\n",
       " 'efc_J_rowadr',\n",
       " 'efc_J_rownnz',\n",
       " 'efc_J_rowsuper',\n",
       " 'efc_KBIP',\n",
       " 'efc_R',\n",
       " 'efc_aref',\n",
       " 'efc_b',\n",
       " 'efc_diagApprox',\n",
       " 'efc_force',\n",
       " 'efc_frictionloss',\n",
       " 'efc_id',\n",
       " 'efc_island',\n",
       " 'efc_margin',\n",
       " 'efc_pos',\n",
       " 'efc_state',\n",
       " 'efc_type',\n",
       " 'efc_vel',\n",
       " 'energy',\n",
       " 'eq_active',\n",
       " 'flexedge_J',\n",
       " 'flexedge_J_colind',\n",
       " 'flexedge_J_rowadr',\n",
       " 'flexedge_J_rownnz',\n",
       " 'flexedge_length',\n",
       " 'flexedge_velocity',\n",
       " 'flexelem_aabb',\n",
       " 'flexvert_xpos',\n",
       " 'geom',\n",
       " 'geom_xmat',\n",
       " 'geom_xpos',\n",
       " 'island_dofadr',\n",
       " 'island_dofind',\n",
       " 'island_dofnum',\n",
       " 'island_efcadr',\n",
       " 'island_efcind',\n",
       " 'island_efcnum',\n",
       " 'jnt',\n",
       " 'joint',\n",
       " 'light',\n",
       " 'light_xdir',\n",
       " 'light_xpos',\n",
       " 'maxuse_arena',\n",
       " 'maxuse_con',\n",
       " 'maxuse_efc',\n",
       " 'maxuse_stack',\n",
       " 'maxuse_threadstack',\n",
       " 'mocap_pos',\n",
       " 'mocap_quat',\n",
       " 'model',\n",
       " 'narena',\n",
       " 'nbuffer',\n",
       " 'ncon',\n",
       " 'ne',\n",
       " 'nefc',\n",
       " 'nf',\n",
       " 'nisland',\n",
       " 'nl',\n",
       " 'nnzJ',\n",
       " 'nplugin',\n",
       " 'parena',\n",
       " 'pbase',\n",
       " 'plugin',\n",
       " 'plugin_data',\n",
       " 'plugin_state',\n",
       " 'pstack',\n",
       " 'qDeriv',\n",
       " 'qH',\n",
       " 'qHDiagInv',\n",
       " 'qLD',\n",
       " 'qLDiagInv',\n",
       " 'qLDiagSqrtInv',\n",
       " 'qLU',\n",
       " 'qM',\n",
       " 'qacc',\n",
       " 'qacc_smooth',\n",
       " 'qacc_warmstart',\n",
       " 'qfrc_actuator',\n",
       " 'qfrc_applied',\n",
       " 'qfrc_bias',\n",
       " 'qfrc_constraint',\n",
       " 'qfrc_damper',\n",
       " 'qfrc_fluid',\n",
       " 'qfrc_gravcomp',\n",
       " 'qfrc_inverse',\n",
       " 'qfrc_passive',\n",
       " 'qfrc_smooth',\n",
       " 'qfrc_spring',\n",
       " 'qpos',\n",
       " 'qvel',\n",
       " 'sensor',\n",
       " 'sensordata',\n",
       " 'site',\n",
       " 'site_xmat',\n",
       " 'site_xpos',\n",
       " 'solver',\n",
       " 'solver_fwdinv',\n",
       " 'solver_nisland',\n",
       " 'solver_niter',\n",
       " 'solver_nnz',\n",
       " 'subtree_angmom',\n",
       " 'subtree_com',\n",
       " 'subtree_linvel',\n",
       " 'ten',\n",
       " 'ten_J',\n",
       " 'ten_J_colind',\n",
       " 'ten_J_rowadr',\n",
       " 'ten_J_rownnz',\n",
       " 'ten_length',\n",
       " 'ten_velocity',\n",
       " 'ten_wrapadr',\n",
       " 'ten_wrapnum',\n",
       " 'tendon',\n",
       " 'tendon_efcadr',\n",
       " 'threadpool',\n",
       " 'time',\n",
       " 'timer',\n",
       " 'userdata',\n",
       " 'warning',\n",
       " 'wrap_obj',\n",
       " 'wrap_xpos',\n",
       " 'xanchor',\n",
       " 'xaxis',\n",
       " 'xfrc_applied',\n",
       " 'ximat',\n",
       " 'xipos',\n",
       " 'xmat',\n",
       " 'xpos',\n",
       " 'xquat']"
      ]
     },
     "execution_count": 37,
     "metadata": {},
     "output_type": "execute_result"
    }
   ],
   "source": [
    "dir(mj_data)"
   ]
  },
  {
   "cell_type": "code",
   "execution_count": 45,
   "metadata": {},
   "outputs": [
    {
     "data": {
      "text/plain": [
       "array([0., 0., 0., 0.])"
      ]
     },
     "execution_count": 45,
     "metadata": {},
     "output_type": "execute_result"
    }
   ],
   "source": [
    "mj_data2.qpos"
   ]
  }
 ],
 "metadata": {
  "kernelspec": {
   "display_name": "stac-mjx-env",
   "language": "python",
   "name": "python3"
  },
  "language_info": {
   "codemirror_mode": {
    "name": "ipython",
    "version": 3
   },
   "file_extension": ".py",
   "mimetype": "text/x-python",
   "name": "python",
   "nbconvert_exporter": "python",
   "pygments_lexer": "ipython3",
   "version": "3.11.11"
  }
 },
 "nbformat": 4,
 "nbformat_minor": 2
}
